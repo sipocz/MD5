{
  "nbformat": 4,
  "nbformat_minor": 0,
  "metadata": {
    "colab": {
      "name": "md5.ipynb",
      "provenance": [],
      "authorship_tag": "ABX9TyOLqvI9yzf7dKt/DLWz30Ts",
      "include_colab_link": true
    },
    "kernelspec": {
      "name": "python3",
      "display_name": "Python 3"
    },
    "language_info": {
      "name": "python"
    }
  },
  "cells": [
    {
      "cell_type": "markdown",
      "metadata": {
        "id": "view-in-github",
        "colab_type": "text"
      },
      "source": [
        "<a href=\"https://colab.research.google.com/github/sipocz/MD5/blob/main/md5.ipynb\" target=\"_parent\"><img src=\"https://colab.research.google.com/assets/colab-badge.svg\" alt=\"Open In Colab\"/></a>"
      ]
    },
    {
      "cell_type": "code",
      "metadata": {
        "id": "YYxI_h_lIRyU"
      },
      "source": [
        "import os\n",
        "from urllib.parse import urlparse"
      ],
      "execution_count": 14,
      "outputs": []
    },
    {
      "cell_type": "code",
      "metadata": {
        "id": "kLf1_klLMMZd"
      },
      "source": [
        "files=[\n",
        "\"00138_SMVS1_21_R_AL Version 01.stml\",\n",
        "\"00151_SMVS1_21_R_AL Version 01.stml\",\n",
        "\"00153_SMVS1_21_R_AL Version 01.stml\",\n",
        "\"00159_SMV_21_R_AL Version 01.stml\",\n",
        "\"00161_SMV_21_R_AL Version 01.stml\",\n",
        "\"00162_SMVS1_21_R_AL Version 01.stml\",\n",
        "\"00162_SMV_21_R_AL Version 01.stml\",\n",
        "\"00271_SMV_21_R_AL Version 01.stml\",\n",
        "\"00754_SMVS1_21_R_AL Version 01.stml\",\n",
        "\"00798_SMVS1_21_R_AL Version 01.stml\",\n",
        "\"00828_SMVS1_21_R_SY Version 01.stml\",\n",
        "\"01117_SMV_21_R_CL Version 01.stml\",\n",
        "\"81402_SMV_21_R_CL Version 01.stml\",\n",
        "\"81402_SMV_21_R_CL225 Version 01.stml\",\n",
        "\"NK_FD_SMV_21_E_AL Version 01.stml\",\n",
        "\"NK_FK_SMV_21_E_AL Version 01.stml\",\n",
        "\"NK_SMV_21_E_AL Version 03.stml\",\n",
        "\"NK_SMV_21_E_CL Version 01.stml\",\n",
        "]"
      ],
      "execution_count": 25,
      "outputs": []
    },
    {
      "cell_type": "code",
      "metadata": {
        "id": "UsiANJtiMo6J"
      },
      "source": [
        "urlprefix=\"https://raw.githubusercontent.com/sipocz/MD5/main/sops/\"\n",
        "urls=[]\n",
        "for afile in files:\n",
        "    urls.append(urlprefix+afile.replace(\" \",\"%20\"))\n"
      ],
      "execution_count": 28,
      "outputs": []
    },
    {
      "cell_type": "code",
      "metadata": {
        "colab": {
          "base_uri": "https://localhost:8080/"
        },
        "id": "U762zy6rNEh4",
        "outputId": "201591d1-b0ac-4bc0-949f-8e737cc797ae"
      },
      "source": [
        "urls"
      ],
      "execution_count": 29,
      "outputs": [
        {
          "output_type": "execute_result",
          "data": {
            "text/plain": [
              "['https://raw.githubusercontent.com/sipocz/MD5/main/sops/00138_SMVS1_21_R_AL%20Version%2001.stml',\n",
              " 'https://raw.githubusercontent.com/sipocz/MD5/main/sops/00151_SMVS1_21_R_AL%20Version%2001.stml',\n",
              " 'https://raw.githubusercontent.com/sipocz/MD5/main/sops/00153_SMVS1_21_R_AL%20Version%2001.stml',\n",
              " 'https://raw.githubusercontent.com/sipocz/MD5/main/sops/00159_SMV_21_R_AL%20Version%2001.stml',\n",
              " 'https://raw.githubusercontent.com/sipocz/MD5/main/sops/00161_SMV_21_R_AL%20Version%2001.stml',\n",
              " 'https://raw.githubusercontent.com/sipocz/MD5/main/sops/00162_SMVS1_21_R_AL%20Version%2001.stml',\n",
              " 'https://raw.githubusercontent.com/sipocz/MD5/main/sops/00162_SMV_21_R_AL%20Version%2001.stml',\n",
              " 'https://raw.githubusercontent.com/sipocz/MD5/main/sops/00271_SMV_21_R_AL%20Version%2001.stml',\n",
              " 'https://raw.githubusercontent.com/sipocz/MD5/main/sops/00754_SMVS1_21_R_AL%20Version%2001.stml',\n",
              " 'https://raw.githubusercontent.com/sipocz/MD5/main/sops/00798_SMVS1_21_R_AL%20Version%2001.stml',\n",
              " 'https://raw.githubusercontent.com/sipocz/MD5/main/sops/00828_SMVS1_21_R_SY%20Version%2001.stml',\n",
              " 'https://raw.githubusercontent.com/sipocz/MD5/main/sops/01117_SMV_21_R_CL%20Version%2001.stml',\n",
              " 'https://raw.githubusercontent.com/sipocz/MD5/main/sops/81402_SMV_21_R_CL%20Version%2001.stml',\n",
              " 'https://raw.githubusercontent.com/sipocz/MD5/main/sops/81402_SMV_21_R_CL225%20Version%2001.stml',\n",
              " 'https://raw.githubusercontent.com/sipocz/MD5/main/sops/NK_FD_SMV_21_E_AL%20Version%2001.stml',\n",
              " 'https://raw.githubusercontent.com/sipocz/MD5/main/sops/NK_FK_SMV_21_E_AL%20Version%2001.stml',\n",
              " 'https://raw.githubusercontent.com/sipocz/MD5/main/sops/NK_SMV_21_E_AL%20Version%2003.stml',\n",
              " 'https://raw.githubusercontent.com/sipocz/MD5/main/sops/NK_SMV_21_E_CL%20Version%2001.stml']"
            ]
          },
          "metadata": {
            "tags": []
          },
          "execution_count": 29
        }
      ]
    },
    {
      "cell_type": "code",
      "metadata": {
        "id": "eTUe6rNIHjXE"
      },
      "source": [
        ""
      ],
      "execution_count": 26,
      "outputs": []
    },
    {
      "cell_type": "code",
      "metadata": {
        "colab": {
          "base_uri": "https://localhost:8080/"
        },
        "id": "MBsbpNesEzG9",
        "outputId": "5062b7cc-d056-4ce1-8f73-dbdf6e4908f0"
      },
      "source": [
        "# file struktúra kialakítása\n",
        "\n",
        "!cd /content\n",
        "!mkdir DEV\n",
        "!cd DEV\n",
        "for url in urls:\n",
        "    a = urlparse(url)\n",
        "    print(a.path)                    # Output: /kyle/09-09-201315-47-571378756077.jpg\n",
        "    fname=os.path.basename(a.path).replace(\"%20\",\" \")\n",
        "    print(\"fname:\", fname )\n",
        "    !wget $url\n",
        "    !mv \"$fname\" ./DEV/ "
      ],
      "execution_count": 30,
      "outputs": [
        {
          "output_type": "stream",
          "text": [
            "mkdir: cannot create directory ‘DEV’: File exists\n",
            "/sipocz/MD5/main/sops/00138_SMVS1_21_R_AL%20Version%2001.stml\n",
            "fname: 00138_SMVS1_21_R_AL Version 01.stml\n",
            "--2021-07-22 07:53:42--  https://raw.githubusercontent.com/sipocz/MD5/main/sops/00138_SMVS1_21_R_AL%20Version%2001.stml\n",
            "Resolving raw.githubusercontent.com (raw.githubusercontent.com)... 185.199.108.133, 185.199.109.133, 185.199.110.133, ...\n",
            "Connecting to raw.githubusercontent.com (raw.githubusercontent.com)|185.199.108.133|:443... connected.\n",
            "HTTP request sent, awaiting response... 200 OK\n",
            "Length: 6400 (6.2K) [text/plain]\n",
            "Saving to: ‘00138_SMVS1_21_R_AL Version 01.stml’\n",
            "\n",
            "00138_SMVS1_21_R_AL 100%[===================>]   6.25K  --.-KB/s    in 0s      \n",
            "\n",
            "2021-07-22 07:53:42 (72.5 MB/s) - ‘00138_SMVS1_21_R_AL Version 01.stml’ saved [6400/6400]\n",
            "\n",
            "/sipocz/MD5/main/sops/00151_SMVS1_21_R_AL%20Version%2001.stml\n",
            "fname: 00151_SMVS1_21_R_AL Version 01.stml\n",
            "--2021-07-22 07:53:42--  https://raw.githubusercontent.com/sipocz/MD5/main/sops/00151_SMVS1_21_R_AL%20Version%2001.stml\n",
            "Resolving raw.githubusercontent.com (raw.githubusercontent.com)... 185.199.108.133, 185.199.109.133, 185.199.110.133, ...\n",
            "Connecting to raw.githubusercontent.com (raw.githubusercontent.com)|185.199.108.133|:443... connected.\n",
            "HTTP request sent, awaiting response... 200 OK\n",
            "Length: 6414 (6.3K) [text/plain]\n",
            "Saving to: ‘00151_SMVS1_21_R_AL Version 01.stml’\n",
            "\n",
            "00151_SMVS1_21_R_AL 100%[===================>]   6.26K  --.-KB/s    in 0s      \n",
            "\n",
            "2021-07-22 07:53:42 (58.3 MB/s) - ‘00151_SMVS1_21_R_AL Version 01.stml’ saved [6414/6414]\n",
            "\n",
            "/sipocz/MD5/main/sops/00153_SMVS1_21_R_AL%20Version%2001.stml\n",
            "fname: 00153_SMVS1_21_R_AL Version 01.stml\n",
            "--2021-07-22 07:53:43--  https://raw.githubusercontent.com/sipocz/MD5/main/sops/00153_SMVS1_21_R_AL%20Version%2001.stml\n",
            "Resolving raw.githubusercontent.com (raw.githubusercontent.com)... 185.199.108.133, 185.199.109.133, 185.199.110.133, ...\n",
            "Connecting to raw.githubusercontent.com (raw.githubusercontent.com)|185.199.108.133|:443... connected.\n",
            "HTTP request sent, awaiting response... 200 OK\n",
            "Length: 7196 (7.0K) [text/plain]\n",
            "Saving to: ‘00153_SMVS1_21_R_AL Version 01.stml’\n",
            "\n",
            "00153_SMVS1_21_R_AL 100%[===================>]   7.03K  --.-KB/s    in 0s      \n",
            "\n",
            "2021-07-22 07:53:43 (67.3 MB/s) - ‘00153_SMVS1_21_R_AL Version 01.stml’ saved [7196/7196]\n",
            "\n",
            "/sipocz/MD5/main/sops/00159_SMV_21_R_AL%20Version%2001.stml\n",
            "fname: 00159_SMV_21_R_AL Version 01.stml\n",
            "--2021-07-22 07:53:43--  https://raw.githubusercontent.com/sipocz/MD5/main/sops/00159_SMV_21_R_AL%20Version%2001.stml\n",
            "Resolving raw.githubusercontent.com (raw.githubusercontent.com)... 185.199.108.133, 185.199.109.133, 185.199.110.133, ...\n",
            "Connecting to raw.githubusercontent.com (raw.githubusercontent.com)|185.199.108.133|:443... connected.\n",
            "HTTP request sent, awaiting response... 200 OK\n",
            "Length: 7174 (7.0K) [text/plain]\n",
            "Saving to: ‘00159_SMV_21_R_AL Version 01.stml’\n",
            "\n",
            "00159_SMV_21_R_AL V 100%[===================>]   7.01K  --.-KB/s    in 0s      \n",
            "\n",
            "2021-07-22 07:53:43 (83.4 MB/s) - ‘00159_SMV_21_R_AL Version 01.stml’ saved [7174/7174]\n",
            "\n",
            "/sipocz/MD5/main/sops/00161_SMV_21_R_AL%20Version%2001.stml\n",
            "fname: 00161_SMV_21_R_AL Version 01.stml\n",
            "--2021-07-22 07:53:43--  https://raw.githubusercontent.com/sipocz/MD5/main/sops/00161_SMV_21_R_AL%20Version%2001.stml\n",
            "Resolving raw.githubusercontent.com (raw.githubusercontent.com)... 185.199.108.133, 185.199.109.133, 185.199.110.133, ...\n",
            "Connecting to raw.githubusercontent.com (raw.githubusercontent.com)|185.199.108.133|:443... connected.\n",
            "HTTP request sent, awaiting response... 200 OK\n",
            "Length: 7172 (7.0K) [text/plain]\n",
            "Saving to: ‘00161_SMV_21_R_AL Version 01.stml’\n",
            "\n",
            "00161_SMV_21_R_AL V 100%[===================>]   7.00K  --.-KB/s    in 0s      \n",
            "\n",
            "2021-07-22 07:53:43 (60.9 MB/s) - ‘00161_SMV_21_R_AL Version 01.stml’ saved [7172/7172]\n",
            "\n",
            "/sipocz/MD5/main/sops/00162_SMVS1_21_R_AL%20Version%2001.stml\n",
            "fname: 00162_SMVS1_21_R_AL Version 01.stml\n",
            "--2021-07-22 07:53:44--  https://raw.githubusercontent.com/sipocz/MD5/main/sops/00162_SMVS1_21_R_AL%20Version%2001.stml\n",
            "Resolving raw.githubusercontent.com (raw.githubusercontent.com)... 185.199.108.133, 185.199.109.133, 185.199.110.133, ...\n",
            "Connecting to raw.githubusercontent.com (raw.githubusercontent.com)|185.199.108.133|:443... connected.\n",
            "HTTP request sent, awaiting response... 200 OK\n",
            "Length: 6388 (6.2K) [text/plain]\n",
            "Saving to: ‘00162_SMVS1_21_R_AL Version 01.stml’\n",
            "\n",
            "00162_SMVS1_21_R_AL 100%[===================>]   6.24K  --.-KB/s    in 0s      \n",
            "\n",
            "2021-07-22 07:53:44 (63.8 MB/s) - ‘00162_SMVS1_21_R_AL Version 01.stml’ saved [6388/6388]\n",
            "\n",
            "/sipocz/MD5/main/sops/00162_SMV_21_R_AL%20Version%2001.stml\n",
            "fname: 00162_SMV_21_R_AL Version 01.stml\n",
            "--2021-07-22 07:53:44--  https://raw.githubusercontent.com/sipocz/MD5/main/sops/00162_SMV_21_R_AL%20Version%2001.stml\n",
            "Resolving raw.githubusercontent.com (raw.githubusercontent.com)... 185.199.108.133, 185.199.109.133, 185.199.110.133, ...\n",
            "Connecting to raw.githubusercontent.com (raw.githubusercontent.com)|185.199.108.133|:443... connected.\n",
            "HTTP request sent, awaiting response... 200 OK\n",
            "Length: 6390 (6.2K) [text/plain]\n",
            "Saving to: ‘00162_SMV_21_R_AL Version 01.stml’\n",
            "\n",
            "00162_SMV_21_R_AL V 100%[===================>]   6.24K  --.-KB/s    in 0s      \n",
            "\n",
            "2021-07-22 07:53:44 (36.6 MB/s) - ‘00162_SMV_21_R_AL Version 01.stml’ saved [6390/6390]\n",
            "\n",
            "/sipocz/MD5/main/sops/00271_SMV_21_R_AL%20Version%2001.stml\n",
            "fname: 00271_SMV_21_R_AL Version 01.stml\n",
            "--2021-07-22 07:53:44--  https://raw.githubusercontent.com/sipocz/MD5/main/sops/00271_SMV_21_R_AL%20Version%2001.stml\n",
            "Resolving raw.githubusercontent.com (raw.githubusercontent.com)... 185.199.108.133, 185.199.109.133, 185.199.110.133, ...\n",
            "Connecting to raw.githubusercontent.com (raw.githubusercontent.com)|185.199.108.133|:443... connected.\n",
            "HTTP request sent, awaiting response... 200 OK\n",
            "Length: 6390 (6.2K) [text/plain]\n",
            "Saving to: ‘00271_SMV_21_R_AL Version 01.stml’\n",
            "\n",
            "00271_SMV_21_R_AL V 100%[===================>]   6.24K  --.-KB/s    in 0s      \n",
            "\n",
            "2021-07-22 07:53:44 (54.8 MB/s) - ‘00271_SMV_21_R_AL Version 01.stml’ saved [6390/6390]\n",
            "\n",
            "/sipocz/MD5/main/sops/00754_SMVS1_21_R_AL%20Version%2001.stml\n",
            "fname: 00754_SMVS1_21_R_AL Version 01.stml\n",
            "--2021-07-22 07:53:45--  https://raw.githubusercontent.com/sipocz/MD5/main/sops/00754_SMVS1_21_R_AL%20Version%2001.stml\n",
            "Resolving raw.githubusercontent.com (raw.githubusercontent.com)... 185.199.108.133, 185.199.109.133, 185.199.110.133, ...\n",
            "Connecting to raw.githubusercontent.com (raw.githubusercontent.com)|185.199.108.133|:443... connected.\n",
            "HTTP request sent, awaiting response... 200 OK\n",
            "Length: 6397 (6.2K) [text/plain]\n",
            "Saving to: ‘00754_SMVS1_21_R_AL Version 01.stml’\n",
            "\n",
            "00754_SMVS1_21_R_AL 100%[===================>]   6.25K  --.-KB/s    in 0s      \n",
            "\n",
            "2021-07-22 07:53:45 (65.7 MB/s) - ‘00754_SMVS1_21_R_AL Version 01.stml’ saved [6397/6397]\n",
            "\n",
            "/sipocz/MD5/main/sops/00798_SMVS1_21_R_AL%20Version%2001.stml\n",
            "fname: 00798_SMVS1_21_R_AL Version 01.stml\n",
            "--2021-07-22 07:53:45--  https://raw.githubusercontent.com/sipocz/MD5/main/sops/00798_SMVS1_21_R_AL%20Version%2001.stml\n",
            "Resolving raw.githubusercontent.com (raw.githubusercontent.com)... 185.199.108.133, 185.199.109.133, 185.199.110.133, ...\n",
            "Connecting to raw.githubusercontent.com (raw.githubusercontent.com)|185.199.108.133|:443... connected.\n",
            "HTTP request sent, awaiting response... 200 OK\n",
            "Length: 6398 (6.2K) [text/plain]\n",
            "Saving to: ‘00798_SMVS1_21_R_AL Version 01.stml’\n",
            "\n",
            "00798_SMVS1_21_R_AL 100%[===================>]   6.25K  --.-KB/s    in 0s      \n",
            "\n",
            "2021-07-22 07:53:45 (57.7 MB/s) - ‘00798_SMVS1_21_R_AL Version 01.stml’ saved [6398/6398]\n",
            "\n",
            "/sipocz/MD5/main/sops/00828_SMVS1_21_R_SY%20Version%2001.stml\n",
            "fname: 00828_SMVS1_21_R_SY Version 01.stml\n",
            "--2021-07-22 07:53:45--  https://raw.githubusercontent.com/sipocz/MD5/main/sops/00828_SMVS1_21_R_SY%20Version%2001.stml\n",
            "Resolving raw.githubusercontent.com (raw.githubusercontent.com)... 185.199.108.133, 185.199.109.133, 185.199.110.133, ...\n",
            "Connecting to raw.githubusercontent.com (raw.githubusercontent.com)|185.199.108.133|:443... connected.\n",
            "HTTP request sent, awaiting response... 200 OK\n",
            "Length: 7450 (7.3K) [text/plain]\n",
            "Saving to: ‘00828_SMVS1_21_R_SY Version 01.stml’\n",
            "\n",
            "00828_SMVS1_21_R_SY 100%[===================>]   7.28K  --.-KB/s    in 0s      \n",
            "\n",
            "2021-07-22 07:53:45 (71.4 MB/s) - ‘00828_SMVS1_21_R_SY Version 01.stml’ saved [7450/7450]\n",
            "\n",
            "/sipocz/MD5/main/sops/01117_SMV_21_R_CL%20Version%2001.stml\n",
            "fname: 01117_SMV_21_R_CL Version 01.stml\n",
            "--2021-07-22 07:53:46--  https://raw.githubusercontent.com/sipocz/MD5/main/sops/01117_SMV_21_R_CL%20Version%2001.stml\n",
            "Resolving raw.githubusercontent.com (raw.githubusercontent.com)... 185.199.108.133, 185.199.109.133, 185.199.110.133, ...\n",
            "Connecting to raw.githubusercontent.com (raw.githubusercontent.com)|185.199.108.133|:443... connected.\n",
            "HTTP request sent, awaiting response... 200 OK\n",
            "Length: 6765 (6.6K) [text/plain]\n",
            "Saving to: ‘01117_SMV_21_R_CL Version 01.stml’\n",
            "\n",
            "01117_SMV_21_R_CL V 100%[===================>]   6.61K  --.-KB/s    in 0s      \n",
            "\n",
            "2021-07-22 07:53:46 (62.2 MB/s) - ‘01117_SMV_21_R_CL Version 01.stml’ saved [6765/6765]\n",
            "\n",
            "/sipocz/MD5/main/sops/81402_SMV_21_R_CL%20Version%2001.stml\n",
            "fname: 81402_SMV_21_R_CL Version 01.stml\n",
            "--2021-07-22 07:53:46--  https://raw.githubusercontent.com/sipocz/MD5/main/sops/81402_SMV_21_R_CL%20Version%2001.stml\n",
            "Resolving raw.githubusercontent.com (raw.githubusercontent.com)... 185.199.108.133, 185.199.109.133, 185.199.110.133, ...\n",
            "Connecting to raw.githubusercontent.com (raw.githubusercontent.com)|185.199.108.133|:443... connected.\n",
            "HTTP request sent, awaiting response... 200 OK\n",
            "Length: 7270 (7.1K) [text/plain]\n",
            "Saving to: ‘81402_SMV_21_R_CL Version 01.stml’\n",
            "\n",
            "81402_SMV_21_R_CL V 100%[===================>]   7.10K  --.-KB/s    in 0s      \n",
            "\n",
            "2021-07-22 07:53:46 (40.2 MB/s) - ‘81402_SMV_21_R_CL Version 01.stml’ saved [7270/7270]\n",
            "\n",
            "/sipocz/MD5/main/sops/81402_SMV_21_R_CL225%20Version%2001.stml\n",
            "fname: 81402_SMV_21_R_CL225 Version 01.stml\n",
            "--2021-07-22 07:53:46--  https://raw.githubusercontent.com/sipocz/MD5/main/sops/81402_SMV_21_R_CL225%20Version%2001.stml\n",
            "Resolving raw.githubusercontent.com (raw.githubusercontent.com)... 185.199.108.133, 185.199.109.133, 185.199.110.133, ...\n",
            "Connecting to raw.githubusercontent.com (raw.githubusercontent.com)|185.199.108.133|:443... connected.\n",
            "HTTP request sent, awaiting response... 200 OK\n",
            "Length: 7272 (7.1K) [text/plain]\n",
            "Saving to: ‘81402_SMV_21_R_CL225 Version 01.stml’\n",
            "\n",
            "81402_SMV_21_R_CL22 100%[===================>]   7.10K  --.-KB/s    in 0s      \n",
            "\n",
            "2021-07-22 07:53:47 (53.9 MB/s) - ‘81402_SMV_21_R_CL225 Version 01.stml’ saved [7272/7272]\n",
            "\n",
            "/sipocz/MD5/main/sops/NK_FD_SMV_21_E_AL%20Version%2001.stml\n",
            "fname: NK_FD_SMV_21_E_AL Version 01.stml\n",
            "--2021-07-22 07:53:47--  https://raw.githubusercontent.com/sipocz/MD5/main/sops/NK_FD_SMV_21_E_AL%20Version%2001.stml\n",
            "Resolving raw.githubusercontent.com (raw.githubusercontent.com)... 185.199.109.133, 185.199.108.133, 185.199.111.133, ...\n",
            "Connecting to raw.githubusercontent.com (raw.githubusercontent.com)|185.199.109.133|:443... connected.\n",
            "HTTP request sent, awaiting response... 200 OK\n",
            "Length: 4337 (4.2K) [text/plain]\n",
            "Saving to: ‘NK_FD_SMV_21_E_AL Version 01.stml’\n",
            "\n",
            "NK_FD_SMV_21_E_AL V 100%[===================>]   4.24K  --.-KB/s    in 0s      \n",
            "\n",
            "2021-07-22 07:53:47 (62.3 MB/s) - ‘NK_FD_SMV_21_E_AL Version 01.stml’ saved [4337/4337]\n",
            "\n",
            "/sipocz/MD5/main/sops/NK_FK_SMV_21_E_AL%20Version%2001.stml\n",
            "fname: NK_FK_SMV_21_E_AL Version 01.stml\n",
            "--2021-07-22 07:53:47--  https://raw.githubusercontent.com/sipocz/MD5/main/sops/NK_FK_SMV_21_E_AL%20Version%2001.stml\n",
            "Resolving raw.githubusercontent.com (raw.githubusercontent.com)... 185.199.109.133, 185.199.108.133, 185.199.111.133, ...\n",
            "Connecting to raw.githubusercontent.com (raw.githubusercontent.com)|185.199.109.133|:443... connected.\n",
            "HTTP request sent, awaiting response... 200 OK\n",
            "Length: 3973 (3.9K) [text/plain]\n",
            "Saving to: ‘NK_FK_SMV_21_E_AL Version 01.stml’\n",
            "\n",
            "NK_FK_SMV_21_E_AL V 100%[===================>]   3.88K  --.-KB/s    in 0s      \n",
            "\n",
            "2021-07-22 07:53:47 (39.0 MB/s) - ‘NK_FK_SMV_21_E_AL Version 01.stml’ saved [3973/3973]\n",
            "\n",
            "/sipocz/MD5/main/sops/NK_SMV_21_E_AL%20Version%2003.stml\n",
            "fname: NK_SMV_21_E_AL Version 03.stml\n",
            "--2021-07-22 07:53:48--  https://raw.githubusercontent.com/sipocz/MD5/main/sops/NK_SMV_21_E_AL%20Version%2003.stml\n",
            "Resolving raw.githubusercontent.com (raw.githubusercontent.com)... 185.199.109.133, 185.199.108.133, 185.199.111.133, ...\n",
            "Connecting to raw.githubusercontent.com (raw.githubusercontent.com)|185.199.109.133|:443... connected.\n",
            "HTTP request sent, awaiting response... 200 OK\n",
            "Length: 4404 (4.3K) [text/plain]\n",
            "Saving to: ‘NK_SMV_21_E_AL Version 03.stml’\n",
            "\n",
            "NK_SMV_21_E_AL Vers 100%[===================>]   4.30K  --.-KB/s    in 0s      \n",
            "\n",
            "2021-07-22 07:53:48 (40.0 MB/s) - ‘NK_SMV_21_E_AL Version 03.stml’ saved [4404/4404]\n",
            "\n",
            "/sipocz/MD5/main/sops/NK_SMV_21_E_CL%20Version%2001.stml\n",
            "fname: NK_SMV_21_E_CL Version 01.stml\n",
            "--2021-07-22 07:53:48--  https://raw.githubusercontent.com/sipocz/MD5/main/sops/NK_SMV_21_E_CL%20Version%2001.stml\n",
            "Resolving raw.githubusercontent.com (raw.githubusercontent.com)... 185.199.109.133, 185.199.108.133, 185.199.111.133, ...\n",
            "Connecting to raw.githubusercontent.com (raw.githubusercontent.com)|185.199.109.133|:443... connected.\n",
            "HTTP request sent, awaiting response... 200 OK\n",
            "Length: 4198 (4.1K) [text/plain]\n",
            "Saving to: ‘NK_SMV_21_E_CL Version 01.stml’\n",
            "\n",
            "NK_SMV_21_E_CL Vers 100%[===================>]   4.10K  --.-KB/s    in 0s      \n",
            "\n",
            "2021-07-22 07:53:48 (40.3 MB/s) - ‘NK_SMV_21_E_CL Version 01.stml’ saved [4198/4198]\n",
            "\n"
          ],
          "name": "stdout"
        }
      ]
    },
    {
      "cell_type": "code",
      "metadata": {
        "colab": {
          "base_uri": "https://localhost:8080/"
        },
        "id": "3y39daZ4GXG2",
        "outputId": "0adc654a-fbe4-49dc-9936-299292a4bb2d"
      },
      "source": [
        "!wget --help"
      ],
      "execution_count": 6,
      "outputs": [
        {
          "output_type": "stream",
          "text": [
            "GNU Wget 1.19.4, a non-interactive network retriever.\n",
            "Usage: wget [OPTION]... [URL]...\n",
            "\n",
            "Mandatory arguments to long options are mandatory for short options too.\n",
            "\n",
            "Startup:\n",
            "  -V,  --version                   display the version of Wget and exit\n",
            "  -h,  --help                      print this help\n",
            "  -b,  --background                go to background after startup\n",
            "  -e,  --execute=COMMAND           execute a `.wgetrc'-style command\n",
            "\n",
            "Logging and input file:\n",
            "  -o,  --output-file=FILE          log messages to FILE\n",
            "  -a,  --append-output=FILE        append messages to FILE\n",
            "  -d,  --debug                     print lots of debugging information\n",
            "  -q,  --quiet                     quiet (no output)\n",
            "  -v,  --verbose                   be verbose (this is the default)\n",
            "  -nv, --no-verbose                turn off verboseness, without being quiet\n",
            "       --report-speed=TYPE         output bandwidth as TYPE.  TYPE can be bits\n",
            "  -i,  --input-file=FILE           download URLs found in local or external FILE\n",
            "  -F,  --force-html                treat input file as HTML\n",
            "  -B,  --base=URL                  resolves HTML input-file links (-i -F)\n",
            "                                     relative to URL\n",
            "       --config=FILE               specify config file to use\n",
            "       --no-config                 do not read any config file\n",
            "       --rejected-log=FILE         log reasons for URL rejection to FILE\n",
            "\n",
            "Download:\n",
            "  -t,  --tries=NUMBER              set number of retries to NUMBER (0 unlimits)\n",
            "       --retry-connrefused         retry even if connection is refused\n",
            "  -O,  --output-document=FILE      write documents to FILE\n",
            "  -nc, --no-clobber                skip downloads that would download to\n",
            "                                     existing files (overwriting them)\n",
            "       --no-netrc                  don't try to obtain credentials from .netrc\n",
            "  -c,  --continue                  resume getting a partially-downloaded file\n",
            "       --start-pos=OFFSET          start downloading from zero-based position OFFSET\n",
            "       --progress=TYPE             select progress gauge type\n",
            "       --show-progress             display the progress bar in any verbosity mode\n",
            "  -N,  --timestamping              don't re-retrieve files unless newer than\n",
            "                                     local\n",
            "       --no-if-modified-since      don't use conditional if-modified-since get\n",
            "                                     requests in timestamping mode\n",
            "       --no-use-server-timestamps  don't set the local file's timestamp by\n",
            "                                     the one on the server\n",
            "  -S,  --server-response           print server response\n",
            "       --spider                    don't download anything\n",
            "  -T,  --timeout=SECONDS           set all timeout values to SECONDS\n",
            "       --dns-timeout=SECS          set the DNS lookup timeout to SECS\n",
            "       --connect-timeout=SECS      set the connect timeout to SECS\n",
            "       --read-timeout=SECS         set the read timeout to SECS\n",
            "  -w,  --wait=SECONDS              wait SECONDS between retrievals\n",
            "       --waitretry=SECONDS         wait 1..SECONDS between retries of a retrieval\n",
            "       --random-wait               wait from 0.5*WAIT...1.5*WAIT secs between retrievals\n",
            "       --no-proxy                  explicitly turn off proxy\n",
            "  -Q,  --quota=NUMBER              set retrieval quota to NUMBER\n",
            "       --bind-address=ADDRESS      bind to ADDRESS (hostname or IP) on local host\n",
            "       --limit-rate=RATE           limit download rate to RATE\n",
            "       --no-dns-cache              disable caching DNS lookups\n",
            "       --restrict-file-names=OS    restrict chars in file names to ones OS allows\n",
            "       --ignore-case               ignore case when matching files/directories\n",
            "  -4,  --inet4-only                connect only to IPv4 addresses\n",
            "  -6,  --inet6-only                connect only to IPv6 addresses\n",
            "       --prefer-family=FAMILY      connect first to addresses of specified family,\n",
            "                                     one of IPv6, IPv4, or none\n",
            "       --user=USER                 set both ftp and http user to USER\n",
            "       --password=PASS             set both ftp and http password to PASS\n",
            "       --ask-password              prompt for passwords\n",
            "       --use-askpass=COMMAND       specify credential handler for requesting \n",
            "                                     username and password.  If no COMMAND is \n",
            "                                     specified the WGET_ASKPASS or the SSH_ASKPASS \n",
            "                                     environment variable is used.\n",
            "       --no-iri                    turn off IRI support\n",
            "       --local-encoding=ENC        use ENC as the local encoding for IRIs\n",
            "       --remote-encoding=ENC       use ENC as the default remote encoding\n",
            "       --unlink                    remove file before clobber\n",
            "       --xattr                     turn on storage of metadata in extended file attributes\n",
            "\n",
            "Directories:\n",
            "  -nd, --no-directories            don't create directories\n",
            "  -x,  --force-directories         force creation of directories\n",
            "  -nH, --no-host-directories       don't create host directories\n",
            "       --protocol-directories      use protocol name in directories\n",
            "  -P,  --directory-prefix=PREFIX   save files to PREFIX/..\n",
            "       --cut-dirs=NUMBER           ignore NUMBER remote directory components\n",
            "\n",
            "HTTP options:\n",
            "       --http-user=USER            set http user to USER\n",
            "       --http-password=PASS        set http password to PASS\n",
            "       --no-cache                  disallow server-cached data\n",
            "       --default-page=NAME         change the default page name (normally\n",
            "                                     this is 'index.html'.)\n",
            "  -E,  --adjust-extension          save HTML/CSS documents with proper extensions\n",
            "       --ignore-length             ignore 'Content-Length' header field\n",
            "       --header=STRING             insert STRING among the headers\n",
            "       --max-redirect              maximum redirections allowed per page\n",
            "       --proxy-user=USER           set USER as proxy username\n",
            "       --proxy-password=PASS       set PASS as proxy password\n",
            "       --referer=URL               include 'Referer: URL' header in HTTP request\n",
            "       --save-headers              save the HTTP headers to file\n",
            "  -U,  --user-agent=AGENT          identify as AGENT instead of Wget/VERSION\n",
            "       --no-http-keep-alive        disable HTTP keep-alive (persistent connections)\n",
            "       --no-cookies                don't use cookies\n",
            "       --load-cookies=FILE         load cookies from FILE before session\n",
            "       --save-cookies=FILE         save cookies to FILE after session\n",
            "       --keep-session-cookies      load and save session (non-permanent) cookies\n",
            "       --post-data=STRING          use the POST method; send STRING as the data\n",
            "       --post-file=FILE            use the POST method; send contents of FILE\n",
            "       --method=HTTPMethod         use method \"HTTPMethod\" in the request\n",
            "       --body-data=STRING          send STRING as data. --method MUST be set\n",
            "       --body-file=FILE            send contents of FILE. --method MUST be set\n",
            "       --content-disposition       honor the Content-Disposition header when\n",
            "                                     choosing local file names (EXPERIMENTAL)\n",
            "       --content-on-error          output the received content on server errors\n",
            "       --auth-no-challenge         send Basic HTTP authentication information\n",
            "                                     without first waiting for the server's\n",
            "                                     challenge\n",
            "\n",
            "HTTPS (SSL/TLS) options:\n",
            "       --secure-protocol=PR        choose secure protocol, one of auto, SSLv2,\n",
            "                                     SSLv3, TLSv1, TLSv1_1, TLSv1_2 and PFS\n",
            "       --https-only                only follow secure HTTPS links\n",
            "       --no-check-certificate      don't validate the server's certificate\n",
            "       --certificate=FILE          client certificate file\n",
            "       --certificate-type=TYPE     client certificate type, PEM or DER\n",
            "       --private-key=FILE          private key file\n",
            "       --private-key-type=TYPE     private key type, PEM or DER\n",
            "       --ca-certificate=FILE       file with the bundle of CAs\n",
            "       --ca-directory=DIR          directory where hash list of CAs is stored\n",
            "       --crl-file=FILE             file with bundle of CRLs\n",
            "       --pinnedpubkey=FILE/HASHES  Public key (PEM/DER) file, or any number\n",
            "                                   of base64 encoded sha256 hashes preceded by\n",
            "                                   'sha256//' and separated by ';', to verify\n",
            "                                   peer against\n",
            "       --random-file=FILE          file with random data for seeding the SSL PRNG\n",
            "\n",
            "HSTS options:\n",
            "       --no-hsts                   disable HSTS\n",
            "       --hsts-file                 path of HSTS database (will override default)\n",
            "\n",
            "FTP options:\n",
            "       --ftp-user=USER             set ftp user to USER\n",
            "       --ftp-password=PASS         set ftp password to PASS\n",
            "       --no-remove-listing         don't remove '.listing' files\n",
            "       --no-glob                   turn off FTP file name globbing\n",
            "       --no-passive-ftp            disable the \"passive\" transfer mode\n",
            "       --preserve-permissions      preserve remote file permissions\n",
            "       --retr-symlinks             when recursing, get linked-to files (not dir)\n",
            "\n",
            "FTPS options:\n",
            "       --ftps-implicit                 use implicit FTPS (default port is 990)\n",
            "       --ftps-resume-ssl               resume the SSL/TLS session started in the control connection when\n",
            "                                         opening a data connection\n",
            "       --ftps-clear-data-connection    cipher the control channel only; all the data will be in plaintext\n",
            "       --ftps-fallback-to-ftp          fall back to FTP if FTPS is not supported in the target server\n",
            "WARC options:\n",
            "       --warc-file=FILENAME        save request/response data to a .warc.gz file\n",
            "       --warc-header=STRING        insert STRING into the warcinfo record\n",
            "       --warc-max-size=NUMBER      set maximum size of WARC files to NUMBER\n",
            "       --warc-cdx                  write CDX index files\n",
            "       --warc-dedup=FILENAME       do not store records listed in this CDX file\n",
            "       --no-warc-digests           do not calculate SHA1 digests\n",
            "       --no-warc-keep-log          do not store the log file in a WARC record\n",
            "       --warc-tempdir=DIRECTORY    location for temporary files created by the\n",
            "                                     WARC writer\n",
            "\n",
            "Recursive download:\n",
            "  -r,  --recursive                 specify recursive download\n",
            "  -l,  --level=NUMBER              maximum recursion depth (inf or 0 for infinite)\n",
            "       --delete-after              delete files locally after downloading them\n",
            "  -k,  --convert-links             make links in downloaded HTML or CSS point to\n",
            "                                     local files\n",
            "       --convert-file-only         convert the file part of the URLs only (usually known as the basename)\n",
            "       --backups=N                 before writing file X, rotate up to N backup files\n",
            "  -K,  --backup-converted          before converting file X, back up as X.orig\n",
            "  -m,  --mirror                    shortcut for -N -r -l inf --no-remove-listing\n",
            "  -p,  --page-requisites           get all images, etc. needed to display HTML page\n",
            "       --strict-comments           turn on strict (SGML) handling of HTML comments\n",
            "\n",
            "Recursive accept/reject:\n",
            "  -A,  --accept=LIST               comma-separated list of accepted extensions\n",
            "  -R,  --reject=LIST               comma-separated list of rejected extensions\n",
            "       --accept-regex=REGEX        regex matching accepted URLs\n",
            "       --reject-regex=REGEX        regex matching rejected URLs\n",
            "       --regex-type=TYPE           regex type (posix|pcre)\n",
            "  -D,  --domains=LIST              comma-separated list of accepted domains\n",
            "       --exclude-domains=LIST      comma-separated list of rejected domains\n",
            "       --follow-ftp                follow FTP links from HTML documents\n",
            "       --follow-tags=LIST          comma-separated list of followed HTML tags\n",
            "       --ignore-tags=LIST          comma-separated list of ignored HTML tags\n",
            "  -H,  --span-hosts                go to foreign hosts when recursive\n",
            "  -L,  --relative                  follow relative links only\n",
            "  -I,  --include-directories=LIST  list of allowed directories\n",
            "       --trust-server-names        use the name specified by the redirection\n",
            "                                     URL's last component\n",
            "  -X,  --exclude-directories=LIST  list of excluded directories\n",
            "  -np, --no-parent                 don't ascend to the parent directory\n",
            "\n",
            "Mail bug reports and suggestions to <bug-wget@gnu.org>\n"
          ],
          "name": "stdout"
        }
      ]
    },
    {
      "cell_type": "code",
      "metadata": {
        "colab": {
          "base_uri": "https://localhost:8080/"
        },
        "id": "g6mfNiW3A78N",
        "outputId": "b4014300-0f5c-457c-f732-bbbb6c7919d7"
      },
      "source": [
        "# Python 3 code to demonstrate the \n",
        "# working of MD5 (byte - byte)\n",
        "  \n",
        "import hashlib\n",
        "  \n",
        "# encoding GeeksforGeeks using md5 hash\n",
        "# function \n",
        "result = hashlib.md5('steritást'.encode())\n",
        "  \n",
        "# printing the equivalent byte value.\n",
        "print(\"The byte equivalent of hash is : \", end =\"\")\n",
        "print(result.digest())\n",
        "print(result.hexdigest())"
      ],
      "execution_count": null,
      "outputs": [
        {
          "output_type": "stream",
          "text": [
            "The byte equivalent of hash is : b'SW\\xbb\\xfcZov\\x03\\x8a\\xe8\\xb9\\xd0d\\xc2F\\x0c'\n",
            "5357bbfc5a6f76038ae8b9d064c2460c\n"
          ],
          "name": "stdout"
        }
      ]
    },
    {
      "cell_type": "code",
      "metadata": {
        "colab": {
          "base_uri": "https://localhost:8080/"
        },
        "id": "r1E_Y88tEYiY",
        "outputId": "a6f18955-cef1-4c0e-f283-923b18334f8f"
      },
      "source": [
        "# working of MD5 (byte - byte)\n",
        "  \n",
        "import hashlib\n",
        "  \n",
        "# encoding GeeksforGeeks using md5 hash\n",
        "# function\n",
        "pwd=\"steritest\"\n",
        "print( pwd.encode()) \n",
        "result = hashlib.md5(pwd.encode())\n",
        "  \n",
        "# printing the equivalent byte value.\n",
        "print(\"The byte equivalent of hash is : \", end =\"\")\n",
        "print(result.digest())\n",
        "print(result.hexdigest())"
      ],
      "execution_count": null,
      "outputs": [
        {
          "output_type": "stream",
          "text": [
            "b'steritest'\n",
            "The byte equivalent of hash is : b'\\xc3e\\x85\\x94d\\xad\\xfb\\xdf\\x00\\xbb\\n\\x1e\\x97\\x9e\\x9fk'\n",
            "c365859464adfbdf00bb0a1e979e9f6b\n"
          ],
          "name": "stdout"
        }
      ]
    },
    {
      "cell_type": "code",
      "metadata": {
        "id": "SctG5X1b-nof"
      },
      "source": [
        "code=\"7e8af2b643f04e9021428b8fa840cd8f\""
      ],
      "execution_count": null,
      "outputs": []
    },
    {
      "cell_type": "code",
      "metadata": {
        "colab": {
          "base_uri": "https://localhost:8080/"
        },
        "id": "4iHIUtHfQpvx",
        "outputId": "243825ab-5978-41d3-e7a8-f3cb0b0d67d3"
      },
      "source": [
        "print(hashlib.md5(\"c365859464adfbdf00bb0a1e979e9f6b\".encode()).hexdigest())"
      ],
      "execution_count": null,
      "outputs": [
        {
          "output_type": "stream",
          "text": [
            "bfa6e9ab4630bc1c6546d435b56bf42a\n"
          ],
          "name": "stdout"
        }
      ]
    },
    {
      "cell_type": "code",
      "metadata": {
        "colab": {
          "base_uri": "https://localhost:8080/"
        },
        "id": "GOXsxRXBfxLw",
        "outputId": "3eccd946-2bee-48ed-fe9d-a754414a4df7"
      },
      "source": [
        "!pip install blowfish"
      ],
      "execution_count": null,
      "outputs": [
        {
          "output_type": "stream",
          "text": [
            "Requirement already satisfied: blowfish in /usr/local/lib/python3.7/dist-packages (0.6.1)\n"
          ],
          "name": "stdout"
        }
      ]
    },
    {
      "cell_type": "code",
      "metadata": {
        "id": "xFsFNOZufvxH"
      },
      "source": [
        ""
      ],
      "execution_count": null,
      "outputs": []
    },
    {
      "cell_type": "code",
      "metadata": {
        "id": "NBtFs_xff34R"
      },
      "source": [
        "fname=\"sop2.stml\""
      ],
      "execution_count": null,
      "outputs": []
    },
    {
      "cell_type": "code",
      "metadata": {
        "id": "FqNdpAO4ug4Z"
      },
      "source": [
        "import xml.etree.ElementTree as ET"
      ],
      "execution_count": null,
      "outputs": []
    },
    {
      "cell_type": "code",
      "metadata": {
        "id": "cdSpU4c7wkYu"
      },
      "source": [
        "with open(fname, 'r') as f:\n",
        "    data = f.read() "
      ],
      "execution_count": null,
      "outputs": []
    },
    {
      "cell_type": "code",
      "metadata": {
        "colab": {
          "base_uri": "https://localhost:8080/"
        },
        "id": "IlVNKjfMwr8c",
        "outputId": "66fe9780-9ded-4ab8-fe88-d74038ffc461"
      },
      "source": [
        "print(data)"
      ],
      "execution_count": null,
      "outputs": [
        {
          "output_type": "stream",
          "text": [
            "﻿<?xml version=\"1.0\" encoding=\"utf-8\"?>\n",
            "<STERILITY_LIB>\n",
            "<FILENAME>\n",
            "</FILENAME>\n",
            "<HASH>082D7227B4EFAB8D88841EF8A1E425A2</HASH>\n",
            "<SOPS>\n",
            "<MDATE>2021:Jul:18</MDATE>\n",
            "<SOP>\n",
            "<UUID>4f011561-8260-40ce-86d2-8c9574f3b771</UUID>\n",
            "<NUMBER>a1</NUMBER>\n",
            "<NAME>a1</NAME>\n",
            "<FULLNAME>\n",
            "</FULLNAME>\n",
            "<STERITEST>N/A</STERITEST>\n",
            "<STERITEST_ACCESSORY>N/A</STERITEST_ACCESSORY>\n",
            "<COMMENT>\n",
            "</COMMENT>\n",
            "<REVISION>0</REVISION>\n",
            "<STATUS>Pending</STATUS>\n",
            "<SEQUENCE>\n",
            "<STEP>\n",
            "<TYPE>Dilution</TYPE>\n",
            "<SPEED>1</SPEED>\n",
            "<TIMER>0</TIMER>\n",
            "<COMMENT>\n",
            "</COMMENT>\n",
            "<REGULATION>False</REGULATION>\n",
            "<SYRINGE>False</SYRINGE>\n",
            "<SYRINGEDELAY>0</SYRINGEDELAY>\n",
            "</STEP>\n",
            "</SEQUENCE>\n",
            "</SOP>\n",
            "<SOP>\n",
            "<UUID>7f6e3ba2-9eb7-4e3d-829a-2d3eab4d3225</UUID>\n",
            "<NUMBER>a2</NUMBER>\n",
            "<NAME>aa</NAME>\n",
            "<FULLNAME>\n",
            "</FULLNAME>\n",
            "<STERITEST>N/A</STERITEST>\n",
            "<STERITEST_ACCESSORY>N/A</STERITEST_ACCESSORY>\n",
            "<COMMENT>\n",
            "</COMMENT>\n",
            "<REVISION>0</REVISION>\n",
            "<STATUS>Pending</STATUS>\n",
            "<SEQUENCE>\n",
            "<STEP>\n",
            "<TYPE>Dilution</TYPE>\n",
            "<SPEED>1</SPEED>\n",
            "<TIMER>0</TIMER>\n",
            "<COMMENT>\n",
            "</COMMENT>\n",
            "<REGULATION>False</REGULATION>\n",
            "<SYRINGE>False</SYRINGE>\n",
            "<SYRINGEDELAY>0</SYRINGEDELAY>\n",
            "</STEP>\n",
            "</SEQUENCE>\n",
            "</SOP>\n",
            "</SOPS>\n",
            "</STERILITY_LIB>\n"
          ],
          "name": "stdout"
        }
      ]
    },
    {
      "cell_type": "code",
      "metadata": {
        "colab": {
          "base_uri": "https://localhost:8080/"
        },
        "id": "vV2bnP3qv71T",
        "outputId": "c2509a2d-f0ab-4f3a-fc48-7b6b0a4dcb4b"
      },
      "source": [
        "from xml.dom import minidom\n",
        "\n",
        "# parse an xml file by name\n",
        "file = minidom.parse(fname)\n",
        "\n",
        "#use getElementsByTagName() to get tag\n",
        "models = file.getElementsByTagName('SOPS')\n",
        "\n",
        "# one specific item attribute\n",
        "print('model #2 attribute:')\n",
        "print(models[0])\n",
        "\n"
      ],
      "execution_count": null,
      "outputs": [
        {
          "output_type": "stream",
          "text": [
            "model #2 attribute:\n",
            "<DOM Element: SOPS at 0x7f82588d9cd0>\n"
          ],
          "name": "stdout"
        }
      ]
    },
    {
      "cell_type": "code",
      "metadata": {
        "colab": {
          "base_uri": "https://localhost:8080/"
        },
        "id": "u8u92ZObLjIa",
        "outputId": "9afdce5f-55ab-49da-b376-f912c400a363"
      },
      "source": [
        "for node in models[0].childNodes:\n",
        "    print(node)"
      ],
      "execution_count": null,
      "outputs": [
        {
          "output_type": "stream",
          "text": [
            "<DOM Text node \"'\\n'\">\n",
            "<DOM Element: MDATE at 0x7f82588d9690>\n",
            "<DOM Text node \"'\\n'\">\n",
            "<DOM Element: SOP at 0x7f82588d9a50>\n",
            "<DOM Text node \"'\\n'\">\n",
            "<DOM Element: SOP at 0x7f82588e34b0>\n",
            "<DOM Text node \"'\\n'\">\n"
          ],
          "name": "stdout"
        }
      ]
    },
    {
      "cell_type": "code",
      "metadata": {
        "colab": {
          "base_uri": "https://localhost:8080/"
        },
        "id": "RXGQ1-fsujLN",
        "outputId": "b6fdd1bb-7826-464c-e29f-d2881e41902e"
      },
      "source": [
        "for node in models:  # visit every node <bar />\n",
        "    print (node.toxml())\n",
        "    "
      ],
      "execution_count": null,
      "outputs": [
        {
          "output_type": "stream",
          "text": [
            "<SOPS>\n",
            "<MDATE>2021:Jul:18</MDATE>\n",
            "<SOP>\n",
            "<UUID>4f011561-8260-40ce-86d2-8c9574f3b771</UUID>\n",
            "<NUMBER>a1</NUMBER>\n",
            "<NAME>a1</NAME>\n",
            "<FULLNAME>\n",
            "</FULLNAME>\n",
            "<STERITEST>N/A</STERITEST>\n",
            "<STERITEST_ACCESSORY>N/A</STERITEST_ACCESSORY>\n",
            "<COMMENT>\n",
            "</COMMENT>\n",
            "<REVISION>0</REVISION>\n",
            "<STATUS>Pending</STATUS>\n",
            "<SEQUENCE>\n",
            "<STEP>\n",
            "<TYPE>Dilution</TYPE>\n",
            "<SPEED>1</SPEED>\n",
            "<TIMER>0</TIMER>\n",
            "<COMMENT>\n",
            "</COMMENT>\n",
            "<REGULATION>False</REGULATION>\n",
            "<SYRINGE>False</SYRINGE>\n",
            "<SYRINGEDELAY>0</SYRINGEDELAY>\n",
            "</STEP>\n",
            "</SEQUENCE>\n",
            "</SOP>\n",
            "<SOP>\n",
            "<UUID>7f6e3ba2-9eb7-4e3d-829a-2d3eab4d3225</UUID>\n",
            "<NUMBER>a2</NUMBER>\n",
            "<NAME>aa</NAME>\n",
            "<FULLNAME>\n",
            "</FULLNAME>\n",
            "<STERITEST>N/A</STERITEST>\n",
            "<STERITEST_ACCESSORY>N/A</STERITEST_ACCESSORY>\n",
            "<COMMENT>\n",
            "</COMMENT>\n",
            "<REVISION>0</REVISION>\n",
            "<STATUS>Pending</STATUS>\n",
            "<SEQUENCE>\n",
            "<STEP>\n",
            "<TYPE>Dilution</TYPE>\n",
            "<SPEED>1</SPEED>\n",
            "<TIMER>0</TIMER>\n",
            "<COMMENT>\n",
            "</COMMENT>\n",
            "<REGULATION>False</REGULATION>\n",
            "<SYRINGE>False</SYRINGE>\n",
            "<SYRINGEDELAY>0</SYRINGEDELAY>\n",
            "</STEP>\n",
            "</SEQUENCE>\n",
            "</SOP>\n",
            "</SOPS>\n"
          ],
          "name": "stdout"
        }
      ]
    },
    {
      "cell_type": "code",
      "metadata": {
        "id": "N-MeHNCB0drh"
      },
      "source": [
        "nodesops=file.getElementsByTagName('SOPS')"
      ],
      "execution_count": null,
      "outputs": []
    },
    {
      "cell_type": "code",
      "metadata": {
        "id": "nemNZ6o5Vpvx"
      },
      "source": [
        "asop=file.getElementsByTagName('SOP')[0]"
      ],
      "execution_count": null,
      "outputs": []
    },
    {
      "cell_type": "code",
      "metadata": {
        "id": "FV8J_hQ7UVSr"
      },
      "source": [
        "def getChildXML(elem):\n",
        "    '''\n",
        "    description: az adott element összes child elemének szöveges reprezentációját adja rekurzívan\n",
        "    elem: XML element \n",
        "\n",
        "    '''\n",
        "    out = \"\"\n",
        "    for c in elem.childNodes:\n",
        "        if c.nodeType == minidom.Node.TEXT_NODE:\n",
        "            if c.nodeValue!=\"\\n\":\n",
        "                out += c.nodeValue\n",
        "        else:\n",
        "            if c.nodeType == minidom.Node.ELEMENT_NODE:\n",
        "                if c.childNodes.length == 0:\n",
        "                    pass\n",
        "                    #out += \"<\" + c.nodeName + \"/>\"\n",
        "                else:\n",
        "                    #out += \"<\" + c.nodeName + \">\"\n",
        "                    cs = \"\"\n",
        "                    cs = getChildXML(c)\n",
        "                   \n",
        "                    out += cs\n",
        "                    #out += \"</\" + c.nodeName + \">\"\n",
        "    return out"
      ],
      "execution_count": null,
      "outputs": []
    },
    {
      "cell_type": "code",
      "metadata": {
        "id": "YINjdTiu6Aww"
      },
      "source": [
        ""
      ],
      "execution_count": null,
      "outputs": []
    },
    {
      "cell_type": "code",
      "metadata": {
        "id": "MUfKISw_UWgb"
      },
      "source": [
        "a=\"\"\n",
        "for nodesop in nodesops:\n",
        "    a=a+getChildXML(nodesop)"
      ],
      "execution_count": null,
      "outputs": []
    },
    {
      "cell_type": "code",
      "metadata": {
        "id": "KuEcXDFYWZId"
      },
      "source": [
        "astr=a.split(\"\\n\")"
      ],
      "execution_count": null,
      "outputs": []
    },
    {
      "cell_type": "code",
      "metadata": {
        "id": "KQ9aTxB8WvZV"
      },
      "source": [
        "o=\"\"\n",
        "for s in astr:\n",
        "    o=o+s\n"
      ],
      "execution_count": null,
      "outputs": []
    },
    {
      "cell_type": "code",
      "metadata": {
        "colab": {
          "base_uri": "https://localhost:8080/",
          "height": 52
        },
        "id": "8QgRKD3_Wp_V",
        "outputId": "d3f7046f-71c2-48e1-9afa-373e4c6a26f7"
      },
      "source": [
        "o"
      ],
      "execution_count": null,
      "outputs": [
        {
          "output_type": "execute_result",
          "data": {
            "application/vnd.google.colaboratory.intrinsic+json": {
              "type": "string"
            },
            "text/plain": [
              "'2021:Jul:184f011561-8260-40ce-86d2-8c9574f3b771a1a1N/AN/A0PendingDilution10FalseFalse07f6e3ba2-9eb7-4e3d-829a-2d3eab4d3225a2aaN/AN/A0PendingDilution10FalseFalse0'"
            ]
          },
          "metadata": {
            "tags": []
          },
          "execution_count": 396
        }
      ]
    },
    {
      "cell_type": "code",
      "metadata": {
        "id": "0c56Q4X1MNG8"
      },
      "source": [
        "o=getChildXML(nodesops[0]) # ez a megoldás  !!!!!!!!!!!!!!!!!!!!!!!"
      ],
      "execution_count": null,
      "outputs": []
    },
    {
      "cell_type": "code",
      "metadata": {
        "colab": {
          "base_uri": "https://localhost:8080/"
        },
        "id": "73x3Nvfe6JYE",
        "outputId": "a6edb736-c8c1-40f9-8ba4-bd11e3554d14"
      },
      "source": [
        "import uuid\n",
        "\n",
        "myuuid = uuid.uuid4()\n",
        "\n",
        "print('Your UUID is: ' + str(myuuid))"
      ],
      "execution_count": null,
      "outputs": [
        {
          "output_type": "stream",
          "text": [
            "Your UUID is: 42d27a84-e67b-499b-819f-90accf2dc6ea\n"
          ],
          "name": "stdout"
        }
      ]
    },
    {
      "cell_type": "code",
      "metadata": {
        "id": "NKj0Jwsc__y0"
      },
      "source": [
        "st=\"2021:Jul:184f011561-8260-40ce-86d2-8c9574f3b771a1a1N/AN/A0PendingDilution10FalseFalse0\"\n"
      ],
      "execution_count": null,
      "outputs": []
    },
    {
      "cell_type": "code",
      "metadata": {
        "colab": {
          "base_uri": "https://localhost:8080/"
        },
        "id": "A1o0HXEtAH9L",
        "outputId": "242c3217-1aad-4ed9-83d3-bb84e13f99b2"
      },
      "source": [
        "import hashlib\n",
        "  \n",
        "# encoding GeeksforGeeks using md5 hash\n",
        "# function\n",
        "pwd=o\n",
        "print( pwd.encode()) \n",
        "result = hashlib.md5(pwd.encode())"
      ],
      "execution_count": null,
      "outputs": [
        {
          "output_type": "stream",
          "text": [
            "b'2021:Jul:184f011561-8260-40ce-86d2-8c9574f3b771a1a1N/AN/A0PendingDilution10FalseFalse07f6e3ba2-9eb7-4e3d-829a-2d3eab4d3225a2aaN/AN/A0PendingDilution10FalseFalse0'\n"
          ],
          "name": "stdout"
        }
      ]
    },
    {
      "cell_type": "code",
      "metadata": {
        "colab": {
          "base_uri": "https://localhost:8080/"
        },
        "id": "NcXLBzjnARxO",
        "outputId": "4d6b4d8f-92d1-455b-8e28-2e38003eeb13"
      },
      "source": [
        "print(result.digest())\n",
        "md5_code=result.hexdigest().upper()\n",
        "print(md5_code)"
      ],
      "execution_count": null,
      "outputs": [
        {
          "output_type": "stream",
          "text": [
            "b\"\\x08-r'\\xb4\\xef\\xab\\x8d\\x88\\x84\\x1e\\xf8\\xa1\\xe4%\\xa2\"\n",
            "082D7227B4EFAB8D88841EF8A1E425A2\n"
          ],
          "name": "stdout"
        }
      ]
    },
    {
      "cell_type": "code",
      "metadata": {
        "id": "XjLMuFMAG-6S"
      },
      "source": [
        "models = file.getElementsByTagName('HASH')"
      ],
      "execution_count": null,
      "outputs": []
    },
    {
      "cell_type": "code",
      "metadata": {
        "colab": {
          "base_uri": "https://localhost:8080/"
        },
        "id": "aQ-tXPO3HLWj",
        "outputId": "7bb03f16-8ddd-43a9-8c1e-7a742cc067ec"
      },
      "source": [
        "print(models[0].childNodes[0].nodeValue)"
      ],
      "execution_count": null,
      "outputs": [
        {
          "output_type": "stream",
          "text": [
            "082D7227B4EFAB8D88841EF8A1E425A2\n"
          ],
          "name": "stdout"
        }
      ]
    },
    {
      "cell_type": "code",
      "metadata": {
        "id": "D_z_TuMZIyrR"
      },
      "source": [
        "models[0].childNodes[0].nodeValue=\"blabla\"   # felülírjuk"
      ],
      "execution_count": null,
      "outputs": []
    },
    {
      "cell_type": "code",
      "metadata": {
        "colab": {
          "base_uri": "https://localhost:8080/"
        },
        "id": "xtFuTQsgI6uT",
        "outputId": "57096d40-4260-498d-f2b2-2a7433230b50"
      },
      "source": [
        "models = file.getElementsByTagName('HASH')\n",
        "print(models[0].childNodes[0].nodeValue)      #és vissazolvassuk"
      ],
      "execution_count": null,
      "outputs": [
        {
          "output_type": "stream",
          "text": [
            "blabla\n"
          ],
          "name": "stdout"
        }
      ]
    },
    {
      "cell_type": "code",
      "metadata": {
        "id": "9hZg3GxgJH7t"
      },
      "source": [
        "skeleton='''<?xml version=\"1.0\" encoding=\"utf-8\"?>\n",
        "<STERILITY_LIB>\n",
        "<FILENAME>\n",
        "</FILENAME>\n",
        "<HASH>082D7227B4EFAB8D88841EF8A1E425A2</HASH>\n",
        "<SOPS>\n",
        "<MDATE>2021:Jul:18</MDATE>\n",
        "</SOPS>\n",
        "</STERILITY_LIB>'''"
      ],
      "execution_count": null,
      "outputs": []
    },
    {
      "cell_type": "code",
      "metadata": {
        "colab": {
          "base_uri": "https://localhost:8080/"
        },
        "id": "LWMydoBdDI9R",
        "outputId": "784f9524-5470-4f4a-f451-ed74d3116b56"
      },
      "source": [
        "print(skeleton)"
      ],
      "execution_count": null,
      "outputs": [
        {
          "output_type": "stream",
          "text": [
            "<?xml version=\"1.0\" encoding=\"utf-8\"?>\n",
            "<STERILITY_LIB>\n",
            "<FILENAME>\n",
            "</FILENAME>\n",
            "<HASH>082D7227B4EFAB8D88841EF8A1E425A2</HASH>\n",
            "<SOPS>\n",
            "<MDATE>2021:Jul:18</MDATE>\n",
            "</SOPS>\n",
            "</STERILITY_LIB>\n"
          ],
          "name": "stdout"
        }
      ]
    },
    {
      "cell_type": "code",
      "metadata": {
        "colab": {
          "base_uri": "https://localhost:8080/"
        },
        "id": "cS9JVkvwANx8",
        "outputId": "fd07065e-bde1-4559-a2b6-f9c859f09872"
      },
      "source": [
        "newSOPS = minidom.parseString(skeleton)\n",
        "print(newSOPS.toxml())"
      ],
      "execution_count": null,
      "outputs": [
        {
          "output_type": "stream",
          "text": [
            "<?xml version=\"1.0\" ?><STERILITY_LIB>\n",
            "<FILENAME>\n",
            "</FILENAME>\n",
            "<HASH>082D7227B4EFAB8D88841EF8A1E425A2</HASH>\n",
            "<SOPS>\n",
            "<MDATE>2021:Jul:18</MDATE>\n",
            "</SOPS>\n",
            "</STERILITY_LIB>\n"
          ],
          "name": "stdout"
        }
      ]
    },
    {
      "cell_type": "code",
      "metadata": {
        "id": "pKvhDodvBJPD"
      },
      "source": [
        "def getnode(xml,tag):\n",
        "    model=xml.getElementsByTagName(tag)\n",
        "    return (model[0].childNodes[0].nodeValue)"
      ],
      "execution_count": null,
      "outputs": []
    },
    {
      "cell_type": "code",
      "metadata": {
        "id": "J_EYsxqhCn5C"
      },
      "source": [
        "def setnode(xml,tag,value):\n",
        "    model=xml.getElementsByTagName(tag)\n",
        "    model[0].childNodes[0].nodeValue=value\n",
        "    return (model[0].childNodes[0].nodeValue)"
      ],
      "execution_count": null,
      "outputs": []
    },
    {
      "cell_type": "code",
      "metadata": {
        "colab": {
          "base_uri": "https://localhost:8080/",
          "height": 35
        },
        "id": "WbZgxR7cByVG",
        "outputId": "d628231c-1c3f-4bd7-a485-635e7881765f"
      },
      "source": [
        "getnode(newSOPS,\"HASH\")"
      ],
      "execution_count": null,
      "outputs": [
        {
          "output_type": "execute_result",
          "data": {
            "application/vnd.google.colaboratory.intrinsic+json": {
              "type": "string"
            },
            "text/plain": [
              "'082D7227B4EFAB8D88841EF8A1E425A2'"
            ]
          },
          "metadata": {
            "tags": []
          },
          "execution_count": 429
        }
      ]
    },
    {
      "cell_type": "code",
      "metadata": {
        "colab": {
          "base_uri": "https://localhost:8080/",
          "height": 35
        },
        "id": "Tdoj8SZPCzaS",
        "outputId": "acf86d13-b68e-42e8-bb40-8b8800e29d50"
      },
      "source": [
        "setnode(newSOPS,\"HASH\",\"valami\")"
      ],
      "execution_count": null,
      "outputs": [
        {
          "output_type": "execute_result",
          "data": {
            "application/vnd.google.colaboratory.intrinsic+json": {
              "type": "string"
            },
            "text/plain": [
              "'valami'"
            ]
          },
          "metadata": {
            "tags": []
          },
          "execution_count": 430
        }
      ]
    },
    {
      "cell_type": "code",
      "metadata": {
        "colab": {
          "base_uri": "https://localhost:8080/"
        },
        "id": "zmpgBjX-C7vq",
        "outputId": "f93a3878-ee67-4f9c-b500-aa3dc86628c8"
      },
      "source": [
        "print(newSOPS.toprettyxml())"
      ],
      "execution_count": null,
      "outputs": [
        {
          "output_type": "stream",
          "text": [
            "<?xml version=\"1.0\" ?>\n",
            "<STERILITY_LIB>\n",
            "\t\n",
            "\n",
            "\t<FILENAME>\n",
            "</FILENAME>\n",
            "\t\n",
            "\n",
            "\t<HASH>valami</HASH>\n",
            "\t\n",
            "\n",
            "\t<SOPS>\n",
            "\t\t\n",
            "\n",
            "\t\t<MDATE>2021:Jul:18</MDATE>\n",
            "\t\t\n",
            "\n",
            "\t</SOPS>\n",
            "\t\n",
            "\n",
            "</STERILITY_LIB>\n",
            "\n"
          ],
          "name": "stdout"
        }
      ]
    },
    {
      "cell_type": "code",
      "metadata": {
        "id": "VNThnkMBDnDy"
      },
      "source": [
        "sops=newSOPS.getElementsByTagName(\"SOPS\")"
      ],
      "execution_count": null,
      "outputs": []
    },
    {
      "cell_type": "code",
      "metadata": {
        "colab": {
          "base_uri": "https://localhost:8080/",
          "height": 162
        },
        "id": "nxRemXF0DzoD",
        "outputId": "ca80b18e-c310-4313-f4cf-e32604fd04a8"
      },
      "source": [
        "print(sops[0].childNodes[0].childNodes[0].nodeValue)"
      ],
      "execution_count": null,
      "outputs": [
        {
          "output_type": "error",
          "ename": "IndexError",
          "evalue": "ignored",
          "traceback": [
            "\u001b[0;31m---------------------------------------------------------------------------\u001b[0m",
            "\u001b[0;31mIndexError\u001b[0m                                Traceback (most recent call last)",
            "\u001b[0;32m<ipython-input-438-8769a41e8bf6>\u001b[0m in \u001b[0;36m<module>\u001b[0;34m()\u001b[0m\n\u001b[0;32m----> 1\u001b[0;31m \u001b[0mprint\u001b[0m\u001b[0;34m(\u001b[0m\u001b[0msops\u001b[0m\u001b[0;34m[\u001b[0m\u001b[0;36m0\u001b[0m\u001b[0;34m]\u001b[0m\u001b[0;34m.\u001b[0m\u001b[0mchildNodes\u001b[0m\u001b[0;34m[\u001b[0m\u001b[0;36m0\u001b[0m\u001b[0;34m]\u001b[0m\u001b[0;34m.\u001b[0m\u001b[0mchildNodes\u001b[0m\u001b[0;34m[\u001b[0m\u001b[0;36m0\u001b[0m\u001b[0;34m]\u001b[0m\u001b[0;34m.\u001b[0m\u001b[0mnodeValue\u001b[0m\u001b[0;34m)\u001b[0m\u001b[0;34m\u001b[0m\u001b[0;34m\u001b[0m\u001b[0m\n\u001b[0m",
            "\u001b[0;31mIndexError\u001b[0m: tuple index out of range"
          ]
        }
      ]
    },
    {
      "cell_type": "code",
      "metadata": {
        "colab": {
          "base_uri": "https://localhost:8080/",
          "height": 35
        },
        "id": "iOZyjIsRL-3C",
        "outputId": "1548f5ac-10e5-498c-b918-5f3dd4256632"
      },
      "source": [
        "sops[0].nodeName"
      ],
      "execution_count": null,
      "outputs": [
        {
          "output_type": "execute_result",
          "data": {
            "application/vnd.google.colaboratory.intrinsic+json": {
              "type": "string"
            },
            "text/plain": [
              "'SOPS'"
            ]
          },
          "metadata": {
            "tags": []
          },
          "execution_count": 434
        }
      ]
    },
    {
      "cell_type": "code",
      "metadata": {
        "id": "g5rvA_VPQF-i"
      },
      "source": [
        "sopTag=minidom.Document.createElement(\"TAG\",\"SOP\")\n",
        "lma=minidom.Document.createTextNode(\"alma\",\"POS\")\n",
        "newSOPS.encoding=\"UTF-8\""
      ],
      "execution_count": null,
      "outputs": []
    },
    {
      "cell_type": "code",
      "metadata": {
        "colab": {
          "base_uri": "https://localhost:8080/"
        },
        "id": "GqFi4PjNOo43",
        "outputId": "d741408d-9afb-4e59-f65c-afe9d25ec858"
      },
      "source": [
        "sops[0].appendChild(asop)\n",
        "\n"
      ],
      "execution_count": null,
      "outputs": [
        {
          "output_type": "execute_result",
          "data": {
            "text/plain": [
              "<DOM Element: SOP at 0x7f82588d9a50>"
            ]
          },
          "metadata": {
            "tags": []
          },
          "execution_count": 440
        }
      ]
    },
    {
      "cell_type": "code",
      "metadata": {
        "colab": {
          "base_uri": "https://localhost:8080/"
        },
        "id": "gjSa_qljXJ4t",
        "outputId": "6f5d104c-4aa8-4eac-9c77-09964624e559"
      },
      "source": [
        "print(newSOPS.toxml())"
      ],
      "execution_count": null,
      "outputs": [
        {
          "output_type": "stream",
          "text": [
            "<?xml version=\"1.0\" ?><STERILITY_LIB>\n",
            "<FILENAME>\n",
            "</FILENAME>\n",
            "<HASH>valami</HASH>\n",
            "<SOPS>\n",
            "<MDATE>2021:Jul:18</MDATE>\n",
            "<SOP>\n",
            "<UUID>4f011561-8260-40ce-86d2-8c9574f3b771</UUID>\n",
            "<NUMBER>a1</NUMBER>\n",
            "<NAME>a1</NAME>\n",
            "<FULLNAME>\n",
            "</FULLNAME>\n",
            "<STERITEST>N/A</STERITEST>\n",
            "<STERITEST_ACCESSORY>N/A</STERITEST_ACCESSORY>\n",
            "<COMMENT>\n",
            "</COMMENT>\n",
            "<REVISION>0</REVISION>\n",
            "<STATUS>Pending</STATUS>\n",
            "<SEQUENCE>\n",
            "<STEP>\n",
            "<TYPE>Dilution</TYPE>\n",
            "<SPEED>1</SPEED>\n",
            "<TIMER>0</TIMER>\n",
            "<COMMENT>\n",
            "</COMMENT>\n",
            "<REGULATION>False</REGULATION>\n",
            "<SYRINGE>False</SYRINGE>\n",
            "<SYRINGEDELAY>0</SYRINGEDELAY>\n",
            "</STEP>\n",
            "</SEQUENCE>\n",
            "</SOP></SOPS>\n",
            "</STERILITY_LIB>\n"
          ],
          "name": "stdout"
        }
      ]
    }
  ]
}
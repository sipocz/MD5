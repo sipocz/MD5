{
  "nbformat": 4,
  "nbformat_minor": 0,
  "metadata": {
    "colab": {
      "name": "md5.ipynb",
      "provenance": [],
      "authorship_tag": "ABX9TyOsF+vBunY4VvvqjvvDgpgv",
      "include_colab_link": true
    },
    "kernelspec": {
      "name": "python3",
      "display_name": "Python 3"
    },
    "language_info": {
      "name": "python"
    }
  },
  "cells": [
    {
      "cell_type": "markdown",
      "metadata": {
        "id": "view-in-github",
        "colab_type": "text"
      },
      "source": [
        "<a href=\"https://colab.research.google.com/github/sipocz/MD5/blob/main/md5.ipynb\" target=\"_parent\"><img src=\"https://colab.research.google.com/assets/colab-badge.svg\" alt=\"Open In Colab\"/></a>"
      ]
    },
    {
      "cell_type": "code",
      "metadata": {
        "colab": {
          "base_uri": "https://localhost:8080/"
        },
        "id": "g6mfNiW3A78N",
        "outputId": "8809f398-944e-496b-d2dd-c7585a2bbc71"
      },
      "source": [
        "# Python 3 code to demonstrate the \n",
        "# working of MD5 (byte - byte)\n",
        "  \n",
        "import hashlib\n",
        "  \n",
        "# encoding GeeksforGeeks using md5 hash\n",
        "# function \n",
        "result = hashlib.md5('steritást'.encode())\n",
        "  \n",
        "# printing the equivalent byte value.\n",
        "print(\"The byte equivalent of hash is : \", end =\"\")\n",
        "print(result.digest())\n",
        "print(result.hexdigest())"
      ],
      "execution_count": 1,
      "outputs": [
        {
          "output_type": "stream",
          "text": [
            "The byte equivalent of hash is : b'SW\\xbb\\xfcZov\\x03\\x8a\\xe8\\xb9\\xd0d\\xc2F\\x0c'\n",
            "5357bbfc5a6f76038ae8b9d064c2460c\n"
          ],
          "name": "stdout"
        }
      ]
    },
    {
      "cell_type": "code",
      "metadata": {
        "colab": {
          "base_uri": "https://localhost:8080/"
        },
        "id": "r1E_Y88tEYiY",
        "outputId": "971255a5-e457-4ad6-8804-32e0d928e84c"
      },
      "source": [
        "# working of MD5 (byte - byte)\n",
        "  \n",
        "import hashlib\n",
        "  \n",
        "# encoding GeeksforGeeks using md5 hash\n",
        "# function\n",
        "pwd=\"steritest\"\n",
        "print( pwd.encode()) \n",
        "result = hashlib.md5(pwd.encode())\n",
        "  \n",
        "# printing the equivalent byte value.\n",
        "print(\"The byte equivalent of hash is : \", end =\"\")\n",
        "print(result.digest())\n",
        "print(result.hexdigest())"
      ],
      "execution_count": 2,
      "outputs": [
        {
          "output_type": "stream",
          "text": [
            "b'steritest'\n",
            "The byte equivalent of hash is : b'\\xc3e\\x85\\x94d\\xad\\xfb\\xdf\\x00\\xbb\\n\\x1e\\x97\\x9e\\x9fk'\n",
            "c365859464adfbdf00bb0a1e979e9f6b\n"
          ],
          "name": "stdout"
        }
      ]
    },
    {
      "cell_type": "code",
      "metadata": {
        "id": "SctG5X1b-nof"
      },
      "source": [
        "code=\"7e8af2b643f04e9021428b8fa840cd8f\""
      ],
      "execution_count": 3,
      "outputs": []
    },
    {
      "cell_type": "code",
      "metadata": {
        "colab": {
          "base_uri": "https://localhost:8080/"
        },
        "id": "4iHIUtHfQpvx",
        "outputId": "666f7f2a-76df-4970-d90c-07022e1a7dc1"
      },
      "source": [
        "print(hashlib.md5(\"c365859464adfbdf00bb0a1e979e9f6b\".encode()).hexdigest())"
      ],
      "execution_count": 4,
      "outputs": [
        {
          "output_type": "stream",
          "text": [
            "bfa6e9ab4630bc1c6546d435b56bf42a\n"
          ],
          "name": "stdout"
        }
      ]
    },
    {
      "cell_type": "code",
      "metadata": {
        "colab": {
          "base_uri": "https://localhost:8080/"
        },
        "id": "GOXsxRXBfxLw",
        "outputId": "e1e0ab73-2398-4e7c-89f8-1c8599371899"
      },
      "source": [
        "!pip install blowfish"
      ],
      "execution_count": 5,
      "outputs": [
        {
          "output_type": "stream",
          "text": [
            "Collecting blowfish\n",
            "  Downloading https://files.pythonhosted.org/packages/ca/06/6008f79f3df714da4eeb6d7daf5e417e072c69923d22ede09171e74d69f8/blowfish-0.6.1.tar.bz2\n",
            "Building wheels for collected packages: blowfish\n",
            "  Building wheel for blowfish (setup.py) ... \u001b[?25l\u001b[?25hdone\n",
            "  Created wheel for blowfish: filename=blowfish-0.6.1-cp37-none-any.whl size=28170 sha256=061c97d4afc40016727cef1979e14621128ff97d179d98f00d0f5b2cea36fc37\n",
            "  Stored in directory: /root/.cache/pip/wheels/cb/21/4c/058b8cd6d3ece07df6dcf724cdeaff56a062f2641ef15db41e\n",
            "Successfully built blowfish\n",
            "Installing collected packages: blowfish\n",
            "Successfully installed blowfish-0.6.1\n"
          ],
          "name": "stdout"
        }
      ]
    },
    {
      "cell_type": "code",
      "metadata": {
        "id": "xFsFNOZufvxH"
      },
      "source": [
        ""
      ],
      "execution_count": 5,
      "outputs": []
    },
    {
      "cell_type": "code",
      "metadata": {
        "id": "NBtFs_xff34R"
      },
      "source": [
        ""
      ],
      "execution_count": 5,
      "outputs": []
    },
    {
      "cell_type": "code",
      "metadata": {
        "id": "FqNdpAO4ug4Z"
      },
      "source": [
        "import xml.etree.ElementTree as ET"
      ],
      "execution_count": 6,
      "outputs": []
    },
    {
      "cell_type": "code",
      "metadata": {
        "id": "cdSpU4c7wkYu"
      },
      "source": [
        "with open('a.stml', 'r') as f:\n",
        "    data = f.read() "
      ],
      "execution_count": 7,
      "outputs": []
    },
    {
      "cell_type": "code",
      "metadata": {
        "colab": {
          "base_uri": "https://localhost:8080/"
        },
        "id": "IlVNKjfMwr8c",
        "outputId": "8011c627-1b7e-49f1-d2f9-da2e8ad68d1c"
      },
      "source": [
        "print(data)"
      ],
      "execution_count": 8,
      "outputs": [
        {
          "output_type": "stream",
          "text": [
            "﻿<?xml version=\"1.0\" encoding=\"utf-8\"?>\n",
            "<STERILITY_LIB>\n",
            "<FILENAME>Transfer File 5</FILENAME>\n",
            "<HASH>9CC510E107F13F315E1B021FA2E11B48</HASH>\n",
            "<SOPS>\n",
            "<MDATE>2021:Jul:15</MDATE>\n",
            "<SOP>\n",
            "<UUID>b592be5d-5640-40b3-9c2e-47c7fa1741f6</UUID>\n",
            "<NUMBER>TM11</NUMBER>\n",
            "<NAME>TEST STEPS</NAME>\n",
            "<FULLNAME>\n",
            "</FULLNAME>\n",
            "<STERITEST>N/A</STERITEST>\n",
            "<STERITEST_ACCESSORY>N/A</STERITEST_ACCESSORY>\n",
            "<COMMENT>\n",
            "</COMMENT>\n",
            "<REVISION>1</REVISION>\n",
            "<STATUS>Pending</STATUS>\n",
            "<SEQUENCE>\n",
            "<STEP>\n",
            "<TYPE>Dilution</TYPE>\n",
            "<SPEED>50</SPEED>\n",
            "<TIMER>20</TIMER>\n",
            "<COMMENT>\n",
            "</COMMENT>\n",
            "<REGULATION>False</REGULATION>\n",
            "<SYRINGE>False</SYRINGE>\n",
            "<SYRINGEDELAY>0</SYRINGEDELAY>\n",
            "</STEP>\n",
            "<STEP>\n",
            "<TYPE>Dissolution</TYPE>\n",
            "<SPEED>60</SPEED>\n",
            "<TIMER>20</TIMER>\n",
            "<COMMENT>\n",
            "</COMMENT>\n",
            "<REGULATION>False</REGULATION>\n",
            "<SYRINGE>False</SYRINGE>\n",
            "<SYRINGEDELAY>0</SYRINGEDELAY>\n",
            "</STEP>\n",
            "<STEP>\n",
            "<TYPE>PreWetting</TYPE>\n",
            "<SPEED>100</SPEED>\n",
            "<TIMER>10</TIMER>\n",
            "<COMMENT>Fluid A</COMMENT>\n",
            "<REGULATION>False</REGULATION>\n",
            "<SYRINGE>False</SYRINGE>\n",
            "<SYRINGEDELAY>0</SYRINGEDELAY>\n",
            "</STEP>\n",
            "<STEP>\n",
            "<TYPE>Filtration</TYPE>\n",
            "<SPEED>75</SPEED>\n",
            "<TIMER>0</TIMER>\n",
            "<COMMENT>\n",
            "</COMMENT>\n",
            "<REGULATION>True</REGULATION>\n",
            "<SYRINGE>False</SYRINGE>\n",
            "<SYRINGEDELAY>0</SYRINGEDELAY>\n",
            "</STEP>\n",
            "<STEP>\n",
            "<TYPE>Rinsing</TYPE>\n",
            "<SPEED>75</SPEED>\n",
            "<TIMER>15</TIMER>\n",
            "<COMMENT>\n",
            "</COMMENT>\n",
            "<REGULATION>False</REGULATION>\n",
            "<SYRINGE>False</SYRINGE>\n",
            "<SYRINGEDELAY>0</SYRINGEDELAY>\n",
            "</STEP>\n",
            "<STEP>\n",
            "<TYPE>MediaTransfer</TYPE>\n",
            "<SPEED>75</SPEED>\n",
            "<TIMER>0</TIMER>\n",
            "<COMMENT>TSB</COMMENT>\n",
            "<REGULATION>False</REGULATION>\n",
            "<SYRINGE>False</SYRINGE>\n",
            "<SYRINGEDELAY>0</SYRINGEDELAY>\n",
            "</STEP>\n",
            "<STEP>\n",
            "<TYPE>Other</TYPE>\n",
            "<SPEED>25</SPEED>\n",
            "<TIMER>0</TIMER>\n",
            "<COMMENT>FTM</COMMENT>\n",
            "<REGULATION>False</REGULATION>\n",
            "<SYRINGE>False</SYRINGE>\n",
            "<SYRINGEDELAY>0</SYRINGEDELAY>\n",
            "</STEP>\n",
            "<STEP>\n",
            "<TYPE>Information</TYPE>\n",
            "<SPEED>0</SPEED>\n",
            "<TIMER>0</TIMER>\n",
            "<COMMENT>\n",
            "</COMMENT>\n",
            "<REGULATION>False</REGULATION>\n",
            "<SYRINGE>False</SYRINGE>\n",
            "<SYRINGEDELAY>0</SYRINGEDELAY>\n",
            "</STEP>\n",
            "<STEP>\n",
            "<TYPE>CanisterClosing</TYPE>\n",
            "<SPEED>0</SPEED>\n",
            "<TIMER>0</TIMER>\n",
            "<COMMENT>Open pump head before clamping and cutting tubing</COMMENT>\n",
            "<REGULATION>False</REGULATION>\n",
            "<SYRINGE>False</SYRINGE>\n",
            "<SYRINGEDELAY>0</SYRINGEDELAY>\n",
            "</STEP>\n",
            "</SEQUENCE>\n",
            "</SOP>\n",
            "<SOP>\n",
            "<UUID>5c8d97cc-33d7-475c-bdfc-e3f13253d807</UUID>\n",
            "<NUMBER>TM4</NUMBER>\n",
            "<NAME>TM4</NAME>\n",
            "<FULLNAME>Test Method Number 4</FULLNAME>\n",
            "<STERITEST>TZHADA</STERITEST>\n",
            "<STERITEST_ACCESSORY>N/A</STERITEST_ACCESSORY>\n",
            "<COMMENT>N/A</COMMENT>\n",
            "<REVISION>1</REVISION>\n",
            "<STATUS>Approved</STATUS>\n",
            "<SEQUENCE>\n",
            "<STEP>\n",
            "<TYPE>Dissolution</TYPE>\n",
            "<SPEED>75</SPEED>\n",
            "<TIMER>0</TIMER>\n",
            "<COMMENT>\n",
            "</COMMENT>\n",
            "<REGULATION>False</REGULATION>\n",
            "<SYRINGE>False</SYRINGE>\n",
            "<SYRINGEDELAY>0</SYRINGEDELAY>\n",
            "</STEP>\n",
            "</SEQUENCE>\n",
            "</SOP>\n",
            "<SOP>\n",
            "<UUID>2cadc13c-12ba-4f4d-8cd0-1fbd03aa5ef5</UUID>\n",
            "<NUMBER>TM5</NUMBER>\n",
            "<NAME>TM5</NAME>\n",
            "<FULLNAME>Test Method Number 5</FULLNAME>\n",
            "<STERITEST>TZHASY</STERITEST>\n",
            "<STERITEST_ACCESSORY>N/A</STERITEST_ACCESSORY>\n",
            "<COMMENT>N/A</COMMENT>\n",
            "<REVISION>1</REVISION>\n",
            "<STATUS>Pending</STATUS>\n",
            "<SEQUENCE>\n",
            "<STEP>\n",
            "<TYPE>Filtration</TYPE>\n",
            "<SPEED>25</SPEED>\n",
            "<TIMER>15</TIMER>\n",
            "<COMMENT>\n",
            "</COMMENT>\n",
            "<REGULATION>False</REGULATION>\n",
            "<SYRINGE>True</SYRINGE>\n",
            "<SYRINGEDELAY>3</SYRINGEDELAY>\n",
            "</STEP>\n",
            "</SEQUENCE>\n",
            "</SOP>\n",
            "</SOPS>\n",
            "</STERILITY_LIB>\n"
          ],
          "name": "stdout"
        }
      ]
    },
    {
      "cell_type": "code",
      "metadata": {
        "colab": {
          "base_uri": "https://localhost:8080/"
        },
        "id": "vV2bnP3qv71T",
        "outputId": "66742b7c-6efc-478e-c5f0-893c39be1309"
      },
      "source": [
        "from xml.dom import minidom\n",
        "\n",
        "# parse an xml file by name\n",
        "file = minidom.parse('a.stml')\n",
        "\n",
        "#use getElementsByTagName() to get tag\n",
        "models = file.getElementsByTagName('SOPS')\n",
        "\n",
        "# one specific item attribute\n",
        "print('model #2 attribute:')\n",
        "print(models[0])\n",
        "\n"
      ],
      "execution_count": 9,
      "outputs": [
        {
          "output_type": "stream",
          "text": [
            "model #2 attribute:\n",
            "<DOM Element: SOPS at 0x7f28ddbf8910>\n"
          ],
          "name": "stdout"
        }
      ]
    },
    {
      "cell_type": "code",
      "metadata": {
        "colab": {
          "base_uri": "https://localhost:8080/"
        },
        "id": "u8u92ZObLjIa",
        "outputId": "c7a82b38-bd73-4e00-ee6d-b445206ca957"
      },
      "source": [
        "for node in models[0].childNodes:\n",
        "    print(node)"
      ],
      "execution_count": 10,
      "outputs": [
        {
          "output_type": "stream",
          "text": [
            "<DOM Text node \"'\\n'\">\n",
            "<DOM Element: MDATE at 0x7f28ddbf89b0>\n",
            "<DOM Text node \"'\\n'\">\n",
            "<DOM Element: SOP at 0x7f28ddbf8a50>\n",
            "<DOM Text node \"'\\n'\">\n",
            "<DOM Element: SOP at 0x7f28ddb4bf50>\n",
            "<DOM Text node \"'\\n'\">\n",
            "<DOM Element: SOP at 0x7f28ddb4eb90>\n",
            "<DOM Text node \"'\\n'\">\n"
          ],
          "name": "stdout"
        }
      ]
    },
    {
      "cell_type": "code",
      "metadata": {
        "colab": {
          "base_uri": "https://localhost:8080/"
        },
        "id": "RXGQ1-fsujLN",
        "outputId": "e8adda19-2573-414d-ba37-8ec54eb3b95f"
      },
      "source": [
        "for node in models:  # visit every node <bar />\n",
        "    print (node.toxml())\n",
        "    "
      ],
      "execution_count": 11,
      "outputs": [
        {
          "output_type": "stream",
          "text": [
            "<SOPS>\n",
            "<MDATE>2021:Jul:15</MDATE>\n",
            "<SOP>\n",
            "<UUID>b592be5d-5640-40b3-9c2e-47c7fa1741f6</UUID>\n",
            "<NUMBER>TM11</NUMBER>\n",
            "<NAME>TEST STEPS</NAME>\n",
            "<FULLNAME>\n",
            "</FULLNAME>\n",
            "<STERITEST>N/A</STERITEST>\n",
            "<STERITEST_ACCESSORY>N/A</STERITEST_ACCESSORY>\n",
            "<COMMENT>\n",
            "</COMMENT>\n",
            "<REVISION>1</REVISION>\n",
            "<STATUS>Pending</STATUS>\n",
            "<SEQUENCE>\n",
            "<STEP>\n",
            "<TYPE>Dilution</TYPE>\n",
            "<SPEED>50</SPEED>\n",
            "<TIMER>20</TIMER>\n",
            "<COMMENT>\n",
            "</COMMENT>\n",
            "<REGULATION>False</REGULATION>\n",
            "<SYRINGE>False</SYRINGE>\n",
            "<SYRINGEDELAY>0</SYRINGEDELAY>\n",
            "</STEP>\n",
            "<STEP>\n",
            "<TYPE>Dissolution</TYPE>\n",
            "<SPEED>60</SPEED>\n",
            "<TIMER>20</TIMER>\n",
            "<COMMENT>\n",
            "</COMMENT>\n",
            "<REGULATION>False</REGULATION>\n",
            "<SYRINGE>False</SYRINGE>\n",
            "<SYRINGEDELAY>0</SYRINGEDELAY>\n",
            "</STEP>\n",
            "<STEP>\n",
            "<TYPE>PreWetting</TYPE>\n",
            "<SPEED>100</SPEED>\n",
            "<TIMER>10</TIMER>\n",
            "<COMMENT>Fluid A</COMMENT>\n",
            "<REGULATION>False</REGULATION>\n",
            "<SYRINGE>False</SYRINGE>\n",
            "<SYRINGEDELAY>0</SYRINGEDELAY>\n",
            "</STEP>\n",
            "<STEP>\n",
            "<TYPE>Filtration</TYPE>\n",
            "<SPEED>75</SPEED>\n",
            "<TIMER>0</TIMER>\n",
            "<COMMENT>\n",
            "</COMMENT>\n",
            "<REGULATION>True</REGULATION>\n",
            "<SYRINGE>False</SYRINGE>\n",
            "<SYRINGEDELAY>0</SYRINGEDELAY>\n",
            "</STEP>\n",
            "<STEP>\n",
            "<TYPE>Rinsing</TYPE>\n",
            "<SPEED>75</SPEED>\n",
            "<TIMER>15</TIMER>\n",
            "<COMMENT>\n",
            "</COMMENT>\n",
            "<REGULATION>False</REGULATION>\n",
            "<SYRINGE>False</SYRINGE>\n",
            "<SYRINGEDELAY>0</SYRINGEDELAY>\n",
            "</STEP>\n",
            "<STEP>\n",
            "<TYPE>MediaTransfer</TYPE>\n",
            "<SPEED>75</SPEED>\n",
            "<TIMER>0</TIMER>\n",
            "<COMMENT>TSB</COMMENT>\n",
            "<REGULATION>False</REGULATION>\n",
            "<SYRINGE>False</SYRINGE>\n",
            "<SYRINGEDELAY>0</SYRINGEDELAY>\n",
            "</STEP>\n",
            "<STEP>\n",
            "<TYPE>Other</TYPE>\n",
            "<SPEED>25</SPEED>\n",
            "<TIMER>0</TIMER>\n",
            "<COMMENT>FTM</COMMENT>\n",
            "<REGULATION>False</REGULATION>\n",
            "<SYRINGE>False</SYRINGE>\n",
            "<SYRINGEDELAY>0</SYRINGEDELAY>\n",
            "</STEP>\n",
            "<STEP>\n",
            "<TYPE>Information</TYPE>\n",
            "<SPEED>0</SPEED>\n",
            "<TIMER>0</TIMER>\n",
            "<COMMENT>\n",
            "</COMMENT>\n",
            "<REGULATION>False</REGULATION>\n",
            "<SYRINGE>False</SYRINGE>\n",
            "<SYRINGEDELAY>0</SYRINGEDELAY>\n",
            "</STEP>\n",
            "<STEP>\n",
            "<TYPE>CanisterClosing</TYPE>\n",
            "<SPEED>0</SPEED>\n",
            "<TIMER>0</TIMER>\n",
            "<COMMENT>Open pump head before clamping and cutting tubing</COMMENT>\n",
            "<REGULATION>False</REGULATION>\n",
            "<SYRINGE>False</SYRINGE>\n",
            "<SYRINGEDELAY>0</SYRINGEDELAY>\n",
            "</STEP>\n",
            "</SEQUENCE>\n",
            "</SOP>\n",
            "<SOP>\n",
            "<UUID>5c8d97cc-33d7-475c-bdfc-e3f13253d807</UUID>\n",
            "<NUMBER>TM4</NUMBER>\n",
            "<NAME>TM4</NAME>\n",
            "<FULLNAME>Test Method Number 4</FULLNAME>\n",
            "<STERITEST>TZHADA</STERITEST>\n",
            "<STERITEST_ACCESSORY>N/A</STERITEST_ACCESSORY>\n",
            "<COMMENT>N/A</COMMENT>\n",
            "<REVISION>1</REVISION>\n",
            "<STATUS>Approved</STATUS>\n",
            "<SEQUENCE>\n",
            "<STEP>\n",
            "<TYPE>Dissolution</TYPE>\n",
            "<SPEED>75</SPEED>\n",
            "<TIMER>0</TIMER>\n",
            "<COMMENT>\n",
            "</COMMENT>\n",
            "<REGULATION>False</REGULATION>\n",
            "<SYRINGE>False</SYRINGE>\n",
            "<SYRINGEDELAY>0</SYRINGEDELAY>\n",
            "</STEP>\n",
            "</SEQUENCE>\n",
            "</SOP>\n",
            "<SOP>\n",
            "<UUID>2cadc13c-12ba-4f4d-8cd0-1fbd03aa5ef5</UUID>\n",
            "<NUMBER>TM5</NUMBER>\n",
            "<NAME>TM5</NAME>\n",
            "<FULLNAME>Test Method Number 5</FULLNAME>\n",
            "<STERITEST>TZHASY</STERITEST>\n",
            "<STERITEST_ACCESSORY>N/A</STERITEST_ACCESSORY>\n",
            "<COMMENT>N/A</COMMENT>\n",
            "<REVISION>1</REVISION>\n",
            "<STATUS>Pending</STATUS>\n",
            "<SEQUENCE>\n",
            "<STEP>\n",
            "<TYPE>Filtration</TYPE>\n",
            "<SPEED>25</SPEED>\n",
            "<TIMER>15</TIMER>\n",
            "<COMMENT>\n",
            "</COMMENT>\n",
            "<REGULATION>False</REGULATION>\n",
            "<SYRINGE>True</SYRINGE>\n",
            "<SYRINGEDELAY>3</SYRINGEDELAY>\n",
            "</STEP>\n",
            "</SEQUENCE>\n",
            "</SOP>\n",
            "</SOPS>\n"
          ],
          "name": "stdout"
        }
      ]
    },
    {
      "cell_type": "code",
      "metadata": {
        "id": "N-MeHNCB0drh"
      },
      "source": [
        "nodesops=file.getElementsByTagName('SOPS')"
      ],
      "execution_count": 12,
      "outputs": []
    },
    {
      "cell_type": "code",
      "metadata": {
        "id": "nemNZ6o5Vpvx"
      },
      "source": [
        ""
      ],
      "execution_count": 12,
      "outputs": []
    },
    {
      "cell_type": "code",
      "metadata": {
        "id": "FV8J_hQ7UVSr"
      },
      "source": [
        "def getChildXML(elem):\n",
        "    out = \"\"\n",
        "    for c in elem.childNodes:\n",
        "        if c.nodeType == minidom.Node.TEXT_NODE:\n",
        "            out += c.nodeValue\n",
        "        else:\n",
        "            if c.nodeType == minidom.Node.ELEMENT_NODE:\n",
        "                if c.childNodes.length == 0:\n",
        "                    pass\n",
        "                    #out += \"<\" + c.nodeName + \"/>\"\n",
        "                else:\n",
        "                    #out += \"<\" + c.nodeName + \">\"\n",
        "                    cs = \"\"\n",
        "                    cs = getChildXML(c)\n",
        "                    out += cs\n",
        "                    #out += \"</\" + c.nodeName + \">\"\n",
        "    return out"
      ],
      "execution_count": 13,
      "outputs": []
    },
    {
      "cell_type": "code",
      "metadata": {
        "id": "MUfKISw_UWgb"
      },
      "source": [
        "a=\"\"\n",
        "for nodesop in nodesops:\n",
        "    a=a+getChildXML(nodesop)"
      ],
      "execution_count": 14,
      "outputs": []
    },
    {
      "cell_type": "code",
      "metadata": {
        "id": "KuEcXDFYWZId"
      },
      "source": [
        "astr=a.split(\"\\n\")"
      ],
      "execution_count": 15,
      "outputs": []
    },
    {
      "cell_type": "code",
      "metadata": {
        "id": "KQ9aTxB8WvZV"
      },
      "source": [
        "o=\"\"\n",
        "for s in astr:\n",
        "    o=o+s\n"
      ],
      "execution_count": 16,
      "outputs": []
    },
    {
      "cell_type": "code",
      "metadata": {
        "colab": {
          "base_uri": "https://localhost:8080/",
          "height": 69
        },
        "id": "8QgRKD3_Wp_V",
        "outputId": "bda2f5fb-7d76-4687-a765-c1dc2c3d3083"
      },
      "source": [
        "o"
      ],
      "execution_count": 17,
      "outputs": [
        {
          "output_type": "execute_result",
          "data": {
            "application/vnd.google.colaboratory.intrinsic+json": {
              "type": "string"
            },
            "text/plain": [
              "'2021:Jul:15b592be5d-5640-40b3-9c2e-47c7fa1741f6TM11TEST STEPSN/AN/A1PendingDilution5020FalseFalse0Dissolution6020FalseFalse0PreWetting10010Fluid AFalseFalse0Filtration750TrueFalse0Rinsing7515FalseFalse0MediaTransfer750TSBFalseFalse0Other250FTMFalseFalse0Information00FalseFalse0CanisterClosing00Open pump head before clamping and cutting tubingFalseFalse05c8d97cc-33d7-475c-bdfc-e3f13253d807TM4TM4Test Method Number 4TZHADAN/AN/A1ApprovedDissolution750FalseFalse02cadc13c-12ba-4f4d-8cd0-1fbd03aa5ef5TM5TM5Test Method Number 5TZHASYN/AN/A1PendingFiltration2515FalseTrue3'"
            ]
          },
          "metadata": {
            "tags": []
          },
          "execution_count": 17
        }
      ]
    },
    {
      "cell_type": "code",
      "metadata": {
        "id": "0c56Q4X1MNG8"
      },
      "source": [
        ""
      ],
      "execution_count": 17,
      "outputs": []
    },
    {
      "cell_type": "code",
      "metadata": {
        "id": "VVcr0KXqKim7"
      },
      "source": [
        ""
      ],
      "execution_count": 17,
      "outputs": []
    },
    {
      "cell_type": "code",
      "metadata": {
        "id": "KXuOG2Bg2bwp"
      },
      "source": [
        ""
      ],
      "execution_count": 17,
      "outputs": []
    },
    {
      "cell_type": "code",
      "metadata": {
        "id": "G_ewmculLCMe"
      },
      "source": [
        ""
      ],
      "execution_count": 17,
      "outputs": []
    },
    {
      "cell_type": "code",
      "metadata": {
        "id": "Yv_JF1Ca0n4D"
      },
      "source": [
        ""
      ],
      "execution_count": 17,
      "outputs": []
    },
    {
      "cell_type": "code",
      "metadata": {
        "colab": {
          "base_uri": "https://localhost:8080/"
        },
        "id": "73x3Nvfe6JYE",
        "outputId": "ec48f4e6-b97b-4e7f-d611-1bcad0bad18f"
      },
      "source": [
        "import uuid\n",
        "\n",
        "myuuid = uuid.uuid4()\n",
        "\n",
        "print('Your UUID is: ' + str(myuuid))"
      ],
      "execution_count": 18,
      "outputs": [
        {
          "output_type": "stream",
          "text": [
            "Your UUID is: 799eaf12-44ce-4335-b0ee-ebf69b92876f\n"
          ],
          "name": "stdout"
        }
      ]
    },
    {
      "cell_type": "code",
      "metadata": {
        "id": "NKj0Jwsc__y0"
      },
      "source": [
        "st=\"2021:Jul:184f011561-8260-40ce-86d2-8c9574f3b771a1a1N/AN/A0PendingDilution10FalseFalse0\"\n"
      ],
      "execution_count": 19,
      "outputs": []
    },
    {
      "cell_type": "code",
      "metadata": {
        "colab": {
          "base_uri": "https://localhost:8080/"
        },
        "id": "A1o0HXEtAH9L",
        "outputId": "932251e4-709a-49f2-ce9e-f518779be05d"
      },
      "source": [
        "import hashlib\n",
        "  \n",
        "# encoding GeeksforGeeks using md5 hash\n",
        "# function\n",
        "pwd=o\n",
        "print( pwd.encode()) \n",
        "result = hashlib.md5(pwd.encode())"
      ],
      "execution_count": 20,
      "outputs": [
        {
          "output_type": "stream",
          "text": [
            "b'2021:Jul:15b592be5d-5640-40b3-9c2e-47c7fa1741f6TM11TEST STEPSN/AN/A1PendingDilution5020FalseFalse0Dissolution6020FalseFalse0PreWetting10010Fluid AFalseFalse0Filtration750TrueFalse0Rinsing7515FalseFalse0MediaTransfer750TSBFalseFalse0Other250FTMFalseFalse0Information00FalseFalse0CanisterClosing00Open pump head before clamping and cutting tubingFalseFalse05c8d97cc-33d7-475c-bdfc-e3f13253d807TM4TM4Test Method Number 4TZHADAN/AN/A1ApprovedDissolution750FalseFalse02cadc13c-12ba-4f4d-8cd0-1fbd03aa5ef5TM5TM5Test Method Number 5TZHASYN/AN/A1PendingFiltration2515FalseTrue3'\n"
          ],
          "name": "stdout"
        }
      ]
    },
    {
      "cell_type": "code",
      "metadata": {
        "colab": {
          "base_uri": "https://localhost:8080/"
        },
        "id": "NcXLBzjnARxO",
        "outputId": "b818bff0-eaed-4894-fee7-7d702e0b8b38"
      },
      "source": [
        "print(result.digest())\n",
        "print(result.hexdigest())"
      ],
      "execution_count": 21,
      "outputs": [
        {
          "output_type": "stream",
          "text": [
            "b'\\x9c\\xc5\\x10\\xe1\\x07\\xf1?1^\\x1b\\x02\\x1f\\xa2\\xe1\\x1bH'\n",
            "9cc510e107f13f315e1b021fa2e11b48\n"
          ],
          "name": "stdout"
        }
      ]
    }
  ]
}
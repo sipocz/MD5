{
  "nbformat": 4,
  "nbformat_minor": 0,
  "metadata": {
    "colab": {
      "name": "md5.ipynb",
      "provenance": [],
      "authorship_tag": "ABX9TyOcOD3H6NQu/OKJnoQ9PWlc",
      "include_colab_link": true
    },
    "kernelspec": {
      "name": "python3",
      "display_name": "Python 3"
    },
    "language_info": {
      "name": "python"
    }
  },
  "cells": [
    {
      "cell_type": "markdown",
      "metadata": {
        "id": "view-in-github",
        "colab_type": "text"
      },
      "source": [
        "<a href=\"https://colab.research.google.com/github/sipocz/MD5/blob/main/md5.ipynb\" target=\"_parent\"><img src=\"https://colab.research.google.com/assets/colab-badge.svg\" alt=\"Open In Colab\"/></a>"
      ]
    },
    {
      "cell_type": "code",
      "metadata": {
        "colab": {
          "base_uri": "https://localhost:8080/"
        },
        "id": "g6mfNiW3A78N",
        "outputId": "b4014300-0f5c-457c-f732-bbbb6c7919d7"
      },
      "source": [
        "# Python 3 code to demonstrate the \n",
        "# working of MD5 (byte - byte)\n",
        "  \n",
        "import hashlib\n",
        "  \n",
        "# encoding GeeksforGeeks using md5 hash\n",
        "# function \n",
        "result = hashlib.md5('steritást'.encode())\n",
        "  \n",
        "# printing the equivalent byte value.\n",
        "print(\"The byte equivalent of hash is : \", end =\"\")\n",
        "print(result.digest())\n",
        "print(result.hexdigest())"
      ],
      "execution_count": 378,
      "outputs": [
        {
          "output_type": "stream",
          "text": [
            "The byte equivalent of hash is : b'SW\\xbb\\xfcZov\\x03\\x8a\\xe8\\xb9\\xd0d\\xc2F\\x0c'\n",
            "5357bbfc5a6f76038ae8b9d064c2460c\n"
          ],
          "name": "stdout"
        }
      ]
    },
    {
      "cell_type": "code",
      "metadata": {
        "colab": {
          "base_uri": "https://localhost:8080/"
        },
        "id": "r1E_Y88tEYiY",
        "outputId": "a6f18955-cef1-4c0e-f283-923b18334f8f"
      },
      "source": [
        "# working of MD5 (byte - byte)\n",
        "  \n",
        "import hashlib\n",
        "  \n",
        "# encoding GeeksforGeeks using md5 hash\n",
        "# function\n",
        "pwd=\"steritest\"\n",
        "print( pwd.encode()) \n",
        "result = hashlib.md5(pwd.encode())\n",
        "  \n",
        "# printing the equivalent byte value.\n",
        "print(\"The byte equivalent of hash is : \", end =\"\")\n",
        "print(result.digest())\n",
        "print(result.hexdigest())"
      ],
      "execution_count": 379,
      "outputs": [
        {
          "output_type": "stream",
          "text": [
            "b'steritest'\n",
            "The byte equivalent of hash is : b'\\xc3e\\x85\\x94d\\xad\\xfb\\xdf\\x00\\xbb\\n\\x1e\\x97\\x9e\\x9fk'\n",
            "c365859464adfbdf00bb0a1e979e9f6b\n"
          ],
          "name": "stdout"
        }
      ]
    },
    {
      "cell_type": "code",
      "metadata": {
        "id": "SctG5X1b-nof"
      },
      "source": [
        "code=\"7e8af2b643f04e9021428b8fa840cd8f\""
      ],
      "execution_count": 380,
      "outputs": []
    },
    {
      "cell_type": "code",
      "metadata": {
        "colab": {
          "base_uri": "https://localhost:8080/"
        },
        "id": "4iHIUtHfQpvx",
        "outputId": "243825ab-5978-41d3-e7a8-f3cb0b0d67d3"
      },
      "source": [
        "print(hashlib.md5(\"c365859464adfbdf00bb0a1e979e9f6b\".encode()).hexdigest())"
      ],
      "execution_count": 381,
      "outputs": [
        {
          "output_type": "stream",
          "text": [
            "bfa6e9ab4630bc1c6546d435b56bf42a\n"
          ],
          "name": "stdout"
        }
      ]
    },
    {
      "cell_type": "code",
      "metadata": {
        "colab": {
          "base_uri": "https://localhost:8080/"
        },
        "id": "GOXsxRXBfxLw",
        "outputId": "3eccd946-2bee-48ed-fe9d-a754414a4df7"
      },
      "source": [
        "!pip install blowfish"
      ],
      "execution_count": 382,
      "outputs": [
        {
          "output_type": "stream",
          "text": [
            "Requirement already satisfied: blowfish in /usr/local/lib/python3.7/dist-packages (0.6.1)\n"
          ],
          "name": "stdout"
        }
      ]
    },
    {
      "cell_type": "code",
      "metadata": {
        "id": "xFsFNOZufvxH"
      },
      "source": [
        ""
      ],
      "execution_count": 382,
      "outputs": []
    },
    {
      "cell_type": "code",
      "metadata": {
        "id": "NBtFs_xff34R"
      },
      "source": [
        "fname=\"sop2.stml\""
      ],
      "execution_count": 383,
      "outputs": []
    },
    {
      "cell_type": "code",
      "metadata": {
        "id": "FqNdpAO4ug4Z"
      },
      "source": [
        "import xml.etree.ElementTree as ET"
      ],
      "execution_count": 384,
      "outputs": []
    },
    {
      "cell_type": "code",
      "metadata": {
        "id": "cdSpU4c7wkYu"
      },
      "source": [
        "with open(fname, 'r') as f:\n",
        "    data = f.read() "
      ],
      "execution_count": 385,
      "outputs": []
    },
    {
      "cell_type": "code",
      "metadata": {
        "colab": {
          "base_uri": "https://localhost:8080/"
        },
        "id": "IlVNKjfMwr8c",
        "outputId": "66fe9780-9ded-4ab8-fe88-d74038ffc461"
      },
      "source": [
        "print(data)"
      ],
      "execution_count": 386,
      "outputs": [
        {
          "output_type": "stream",
          "text": [
            "﻿<?xml version=\"1.0\" encoding=\"utf-8\"?>\n",
            "<STERILITY_LIB>\n",
            "<FILENAME>\n",
            "</FILENAME>\n",
            "<HASH>082D7227B4EFAB8D88841EF8A1E425A2</HASH>\n",
            "<SOPS>\n",
            "<MDATE>2021:Jul:18</MDATE>\n",
            "<SOP>\n",
            "<UUID>4f011561-8260-40ce-86d2-8c9574f3b771</UUID>\n",
            "<NUMBER>a1</NUMBER>\n",
            "<NAME>a1</NAME>\n",
            "<FULLNAME>\n",
            "</FULLNAME>\n",
            "<STERITEST>N/A</STERITEST>\n",
            "<STERITEST_ACCESSORY>N/A</STERITEST_ACCESSORY>\n",
            "<COMMENT>\n",
            "</COMMENT>\n",
            "<REVISION>0</REVISION>\n",
            "<STATUS>Pending</STATUS>\n",
            "<SEQUENCE>\n",
            "<STEP>\n",
            "<TYPE>Dilution</TYPE>\n",
            "<SPEED>1</SPEED>\n",
            "<TIMER>0</TIMER>\n",
            "<COMMENT>\n",
            "</COMMENT>\n",
            "<REGULATION>False</REGULATION>\n",
            "<SYRINGE>False</SYRINGE>\n",
            "<SYRINGEDELAY>0</SYRINGEDELAY>\n",
            "</STEP>\n",
            "</SEQUENCE>\n",
            "</SOP>\n",
            "<SOP>\n",
            "<UUID>7f6e3ba2-9eb7-4e3d-829a-2d3eab4d3225</UUID>\n",
            "<NUMBER>a2</NUMBER>\n",
            "<NAME>aa</NAME>\n",
            "<FULLNAME>\n",
            "</FULLNAME>\n",
            "<STERITEST>N/A</STERITEST>\n",
            "<STERITEST_ACCESSORY>N/A</STERITEST_ACCESSORY>\n",
            "<COMMENT>\n",
            "</COMMENT>\n",
            "<REVISION>0</REVISION>\n",
            "<STATUS>Pending</STATUS>\n",
            "<SEQUENCE>\n",
            "<STEP>\n",
            "<TYPE>Dilution</TYPE>\n",
            "<SPEED>1</SPEED>\n",
            "<TIMER>0</TIMER>\n",
            "<COMMENT>\n",
            "</COMMENT>\n",
            "<REGULATION>False</REGULATION>\n",
            "<SYRINGE>False</SYRINGE>\n",
            "<SYRINGEDELAY>0</SYRINGEDELAY>\n",
            "</STEP>\n",
            "</SEQUENCE>\n",
            "</SOP>\n",
            "</SOPS>\n",
            "</STERILITY_LIB>\n"
          ],
          "name": "stdout"
        }
      ]
    },
    {
      "cell_type": "code",
      "metadata": {
        "colab": {
          "base_uri": "https://localhost:8080/"
        },
        "id": "vV2bnP3qv71T",
        "outputId": "c2509a2d-f0ab-4f3a-fc48-7b6b0a4dcb4b"
      },
      "source": [
        "from xml.dom import minidom\n",
        "\n",
        "# parse an xml file by name\n",
        "file = minidom.parse(fname)\n",
        "\n",
        "#use getElementsByTagName() to get tag\n",
        "models = file.getElementsByTagName('SOPS')\n",
        "\n",
        "# one specific item attribute\n",
        "print('model #2 attribute:')\n",
        "print(models[0])\n",
        "\n"
      ],
      "execution_count": 387,
      "outputs": [
        {
          "output_type": "stream",
          "text": [
            "model #2 attribute:\n",
            "<DOM Element: SOPS at 0x7f82588d9cd0>\n"
          ],
          "name": "stdout"
        }
      ]
    },
    {
      "cell_type": "code",
      "metadata": {
        "colab": {
          "base_uri": "https://localhost:8080/"
        },
        "id": "u8u92ZObLjIa",
        "outputId": "9afdce5f-55ab-49da-b376-f912c400a363"
      },
      "source": [
        "for node in models[0].childNodes:\n",
        "    print(node)"
      ],
      "execution_count": 388,
      "outputs": [
        {
          "output_type": "stream",
          "text": [
            "<DOM Text node \"'\\n'\">\n",
            "<DOM Element: MDATE at 0x7f82588d9690>\n",
            "<DOM Text node \"'\\n'\">\n",
            "<DOM Element: SOP at 0x7f82588d9a50>\n",
            "<DOM Text node \"'\\n'\">\n",
            "<DOM Element: SOP at 0x7f82588e34b0>\n",
            "<DOM Text node \"'\\n'\">\n"
          ],
          "name": "stdout"
        }
      ]
    },
    {
      "cell_type": "code",
      "metadata": {
        "colab": {
          "base_uri": "https://localhost:8080/"
        },
        "id": "RXGQ1-fsujLN",
        "outputId": "b6fdd1bb-7826-464c-e29f-d2881e41902e"
      },
      "source": [
        "for node in models:  # visit every node <bar />\n",
        "    print (node.toxml())\n",
        "    "
      ],
      "execution_count": 389,
      "outputs": [
        {
          "output_type": "stream",
          "text": [
            "<SOPS>\n",
            "<MDATE>2021:Jul:18</MDATE>\n",
            "<SOP>\n",
            "<UUID>4f011561-8260-40ce-86d2-8c9574f3b771</UUID>\n",
            "<NUMBER>a1</NUMBER>\n",
            "<NAME>a1</NAME>\n",
            "<FULLNAME>\n",
            "</FULLNAME>\n",
            "<STERITEST>N/A</STERITEST>\n",
            "<STERITEST_ACCESSORY>N/A</STERITEST_ACCESSORY>\n",
            "<COMMENT>\n",
            "</COMMENT>\n",
            "<REVISION>0</REVISION>\n",
            "<STATUS>Pending</STATUS>\n",
            "<SEQUENCE>\n",
            "<STEP>\n",
            "<TYPE>Dilution</TYPE>\n",
            "<SPEED>1</SPEED>\n",
            "<TIMER>0</TIMER>\n",
            "<COMMENT>\n",
            "</COMMENT>\n",
            "<REGULATION>False</REGULATION>\n",
            "<SYRINGE>False</SYRINGE>\n",
            "<SYRINGEDELAY>0</SYRINGEDELAY>\n",
            "</STEP>\n",
            "</SEQUENCE>\n",
            "</SOP>\n",
            "<SOP>\n",
            "<UUID>7f6e3ba2-9eb7-4e3d-829a-2d3eab4d3225</UUID>\n",
            "<NUMBER>a2</NUMBER>\n",
            "<NAME>aa</NAME>\n",
            "<FULLNAME>\n",
            "</FULLNAME>\n",
            "<STERITEST>N/A</STERITEST>\n",
            "<STERITEST_ACCESSORY>N/A</STERITEST_ACCESSORY>\n",
            "<COMMENT>\n",
            "</COMMENT>\n",
            "<REVISION>0</REVISION>\n",
            "<STATUS>Pending</STATUS>\n",
            "<SEQUENCE>\n",
            "<STEP>\n",
            "<TYPE>Dilution</TYPE>\n",
            "<SPEED>1</SPEED>\n",
            "<TIMER>0</TIMER>\n",
            "<COMMENT>\n",
            "</COMMENT>\n",
            "<REGULATION>False</REGULATION>\n",
            "<SYRINGE>False</SYRINGE>\n",
            "<SYRINGEDELAY>0</SYRINGEDELAY>\n",
            "</STEP>\n",
            "</SEQUENCE>\n",
            "</SOP>\n",
            "</SOPS>\n"
          ],
          "name": "stdout"
        }
      ]
    },
    {
      "cell_type": "code",
      "metadata": {
        "id": "N-MeHNCB0drh"
      },
      "source": [
        "nodesops=file.getElementsByTagName('SOPS')"
      ],
      "execution_count": 390,
      "outputs": []
    },
    {
      "cell_type": "code",
      "metadata": {
        "id": "nemNZ6o5Vpvx"
      },
      "source": [
        "asop=file.getElementsByTagName('SOP')[0]"
      ],
      "execution_count": 391,
      "outputs": []
    },
    {
      "cell_type": "code",
      "metadata": {
        "id": "FV8J_hQ7UVSr"
      },
      "source": [
        "def getChildXML(elem):\n",
        "    '''\n",
        "    description: az adott element összes child elemének szöveges reprezentációját adja rekurzívan\n",
        "    elem: XML element \n",
        "\n",
        "    '''\n",
        "    out = \"\"\n",
        "    for c in elem.childNodes:\n",
        "        if c.nodeType == minidom.Node.TEXT_NODE:\n",
        "            if c.nodeValue!=\"\\n\":\n",
        "                out += c.nodeValue\n",
        "        else:\n",
        "            if c.nodeType == minidom.Node.ELEMENT_NODE:\n",
        "                if c.childNodes.length == 0:\n",
        "                    pass\n",
        "                    #out += \"<\" + c.nodeName + \"/>\"\n",
        "                else:\n",
        "                    #out += \"<\" + c.nodeName + \">\"\n",
        "                    cs = \"\"\n",
        "                    cs = getChildXML(c)\n",
        "                   \n",
        "                    out += cs\n",
        "                    #out += \"</\" + c.nodeName + \">\"\n",
        "    return out"
      ],
      "execution_count": 392,
      "outputs": []
    },
    {
      "cell_type": "code",
      "metadata": {
        "id": "YINjdTiu6Aww"
      },
      "source": [
        ""
      ],
      "execution_count": 392,
      "outputs": []
    },
    {
      "cell_type": "code",
      "metadata": {
        "id": "MUfKISw_UWgb"
      },
      "source": [
        "a=\"\"\n",
        "for nodesop in nodesops:\n",
        "    a=a+getChildXML(nodesop)"
      ],
      "execution_count": 393,
      "outputs": []
    },
    {
      "cell_type": "code",
      "metadata": {
        "id": "KuEcXDFYWZId"
      },
      "source": [
        "astr=a.split(\"\\n\")"
      ],
      "execution_count": 394,
      "outputs": []
    },
    {
      "cell_type": "code",
      "metadata": {
        "id": "KQ9aTxB8WvZV"
      },
      "source": [
        "o=\"\"\n",
        "for s in astr:\n",
        "    o=o+s\n"
      ],
      "execution_count": 395,
      "outputs": []
    },
    {
      "cell_type": "code",
      "metadata": {
        "colab": {
          "base_uri": "https://localhost:8080/",
          "height": 52
        },
        "id": "8QgRKD3_Wp_V",
        "outputId": "d3f7046f-71c2-48e1-9afa-373e4c6a26f7"
      },
      "source": [
        "o"
      ],
      "execution_count": 396,
      "outputs": [
        {
          "output_type": "execute_result",
          "data": {
            "application/vnd.google.colaboratory.intrinsic+json": {
              "type": "string"
            },
            "text/plain": [
              "'2021:Jul:184f011561-8260-40ce-86d2-8c9574f3b771a1a1N/AN/A0PendingDilution10FalseFalse07f6e3ba2-9eb7-4e3d-829a-2d3eab4d3225a2aaN/AN/A0PendingDilution10FalseFalse0'"
            ]
          },
          "metadata": {
            "tags": []
          },
          "execution_count": 396
        }
      ]
    },
    {
      "cell_type": "code",
      "metadata": {
        "id": "0c56Q4X1MNG8"
      },
      "source": [
        "o=getChildXML(nodesops[0]) # ez a megoldás  !!!!!!!!!!!!!!!!!!!!!!!"
      ],
      "execution_count": 397,
      "outputs": []
    },
    {
      "cell_type": "code",
      "metadata": {
        "colab": {
          "base_uri": "https://localhost:8080/"
        },
        "id": "73x3Nvfe6JYE",
        "outputId": "a6edb736-c8c1-40f9-8ba4-bd11e3554d14"
      },
      "source": [
        "import uuid\n",
        "\n",
        "myuuid = uuid.uuid4()\n",
        "\n",
        "print('Your UUID is: ' + str(myuuid))"
      ],
      "execution_count": 398,
      "outputs": [
        {
          "output_type": "stream",
          "text": [
            "Your UUID is: 42d27a84-e67b-499b-819f-90accf2dc6ea\n"
          ],
          "name": "stdout"
        }
      ]
    },
    {
      "cell_type": "code",
      "metadata": {
        "id": "NKj0Jwsc__y0"
      },
      "source": [
        "st=\"2021:Jul:184f011561-8260-40ce-86d2-8c9574f3b771a1a1N/AN/A0PendingDilution10FalseFalse0\"\n"
      ],
      "execution_count": 399,
      "outputs": []
    },
    {
      "cell_type": "code",
      "metadata": {
        "colab": {
          "base_uri": "https://localhost:8080/"
        },
        "id": "A1o0HXEtAH9L",
        "outputId": "242c3217-1aad-4ed9-83d3-bb84e13f99b2"
      },
      "source": [
        "import hashlib\n",
        "  \n",
        "# encoding GeeksforGeeks using md5 hash\n",
        "# function\n",
        "pwd=o\n",
        "print( pwd.encode()) \n",
        "result = hashlib.md5(pwd.encode())"
      ],
      "execution_count": 400,
      "outputs": [
        {
          "output_type": "stream",
          "text": [
            "b'2021:Jul:184f011561-8260-40ce-86d2-8c9574f3b771a1a1N/AN/A0PendingDilution10FalseFalse07f6e3ba2-9eb7-4e3d-829a-2d3eab4d3225a2aaN/AN/A0PendingDilution10FalseFalse0'\n"
          ],
          "name": "stdout"
        }
      ]
    },
    {
      "cell_type": "code",
      "metadata": {
        "colab": {
          "base_uri": "https://localhost:8080/"
        },
        "id": "NcXLBzjnARxO",
        "outputId": "4d6b4d8f-92d1-455b-8e28-2e38003eeb13"
      },
      "source": [
        "print(result.digest())\n",
        "md5_code=result.hexdigest().upper()\n",
        "print(md5_code)"
      ],
      "execution_count": 401,
      "outputs": [
        {
          "output_type": "stream",
          "text": [
            "b\"\\x08-r'\\xb4\\xef\\xab\\x8d\\x88\\x84\\x1e\\xf8\\xa1\\xe4%\\xa2\"\n",
            "082D7227B4EFAB8D88841EF8A1E425A2\n"
          ],
          "name": "stdout"
        }
      ]
    },
    {
      "cell_type": "code",
      "metadata": {
        "id": "XjLMuFMAG-6S"
      },
      "source": [
        "models = file.getElementsByTagName('HASH')"
      ],
      "execution_count": 402,
      "outputs": []
    },
    {
      "cell_type": "code",
      "metadata": {
        "colab": {
          "base_uri": "https://localhost:8080/"
        },
        "id": "aQ-tXPO3HLWj",
        "outputId": "7bb03f16-8ddd-43a9-8c1e-7a742cc067ec"
      },
      "source": [
        "print(models[0].childNodes[0].nodeValue)"
      ],
      "execution_count": 403,
      "outputs": [
        {
          "output_type": "stream",
          "text": [
            "082D7227B4EFAB8D88841EF8A1E425A2\n"
          ],
          "name": "stdout"
        }
      ]
    },
    {
      "cell_type": "code",
      "metadata": {
        "id": "D_z_TuMZIyrR"
      },
      "source": [
        "models[0].childNodes[0].nodeValue=\"blabla\"   # felülírjuk"
      ],
      "execution_count": 404,
      "outputs": []
    },
    {
      "cell_type": "code",
      "metadata": {
        "colab": {
          "base_uri": "https://localhost:8080/"
        },
        "id": "xtFuTQsgI6uT",
        "outputId": "57096d40-4260-498d-f2b2-2a7433230b50"
      },
      "source": [
        "models = file.getElementsByTagName('HASH')\n",
        "print(models[0].childNodes[0].nodeValue)      #és vissazolvassuk"
      ],
      "execution_count": 405,
      "outputs": [
        {
          "output_type": "stream",
          "text": [
            "blabla\n"
          ],
          "name": "stdout"
        }
      ]
    },
    {
      "cell_type": "code",
      "metadata": {
        "id": "9hZg3GxgJH7t"
      },
      "source": [
        "skeleton='''<?xml version=\"1.0\" encoding=\"utf-8\"?>\n",
        "<STERILITY_LIB>\n",
        "<FILENAME>\n",
        "</FILENAME>\n",
        "<HASH>082D7227B4EFAB8D88841EF8A1E425A2</HASH>\n",
        "<SOPS>\n",
        "<MDATE>2021:Jul:18</MDATE>\n",
        "</SOPS>\n",
        "</STERILITY_LIB>'''"
      ],
      "execution_count": 423,
      "outputs": []
    },
    {
      "cell_type": "code",
      "metadata": {
        "colab": {
          "base_uri": "https://localhost:8080/"
        },
        "id": "LWMydoBdDI9R",
        "outputId": "784f9524-5470-4f4a-f451-ed74d3116b56"
      },
      "source": [
        "print(skeleton)"
      ],
      "execution_count": 424,
      "outputs": [
        {
          "output_type": "stream",
          "text": [
            "<?xml version=\"1.0\" encoding=\"utf-8\"?>\n",
            "<STERILITY_LIB>\n",
            "<FILENAME>\n",
            "</FILENAME>\n",
            "<HASH>082D7227B4EFAB8D88841EF8A1E425A2</HASH>\n",
            "<SOPS>\n",
            "<MDATE>2021:Jul:18</MDATE>\n",
            "</SOPS>\n",
            "</STERILITY_LIB>\n"
          ],
          "name": "stdout"
        }
      ]
    },
    {
      "cell_type": "code",
      "metadata": {
        "colab": {
          "base_uri": "https://localhost:8080/"
        },
        "id": "cS9JVkvwANx8",
        "outputId": "fd07065e-bde1-4559-a2b6-f9c859f09872"
      },
      "source": [
        "newSOPS = minidom.parseString(skeleton)\n",
        "print(newSOPS.toxml())"
      ],
      "execution_count": 426,
      "outputs": [
        {
          "output_type": "stream",
          "text": [
            "<?xml version=\"1.0\" ?><STERILITY_LIB>\n",
            "<FILENAME>\n",
            "</FILENAME>\n",
            "<HASH>082D7227B4EFAB8D88841EF8A1E425A2</HASH>\n",
            "<SOPS>\n",
            "<MDATE>2021:Jul:18</MDATE>\n",
            "</SOPS>\n",
            "</STERILITY_LIB>\n"
          ],
          "name": "stdout"
        }
      ]
    },
    {
      "cell_type": "code",
      "metadata": {
        "id": "pKvhDodvBJPD"
      },
      "source": [
        "def getnode(xml,tag):\n",
        "    model=xml.getElementsByTagName(tag)\n",
        "    return (model[0].childNodes[0].nodeValue)"
      ],
      "execution_count": 427,
      "outputs": []
    },
    {
      "cell_type": "code",
      "metadata": {
        "id": "J_EYsxqhCn5C"
      },
      "source": [
        "def setnode(xml,tag,value):\n",
        "    model=xml.getElementsByTagName(tag)\n",
        "    model[0].childNodes[0].nodeValue=value\n",
        "    return (model[0].childNodes[0].nodeValue)"
      ],
      "execution_count": 428,
      "outputs": []
    },
    {
      "cell_type": "code",
      "metadata": {
        "colab": {
          "base_uri": "https://localhost:8080/",
          "height": 35
        },
        "id": "WbZgxR7cByVG",
        "outputId": "d628231c-1c3f-4bd7-a485-635e7881765f"
      },
      "source": [
        "getnode(newSOPS,\"HASH\")"
      ],
      "execution_count": 429,
      "outputs": [
        {
          "output_type": "execute_result",
          "data": {
            "application/vnd.google.colaboratory.intrinsic+json": {
              "type": "string"
            },
            "text/plain": [
              "'082D7227B4EFAB8D88841EF8A1E425A2'"
            ]
          },
          "metadata": {
            "tags": []
          },
          "execution_count": 429
        }
      ]
    },
    {
      "cell_type": "code",
      "metadata": {
        "colab": {
          "base_uri": "https://localhost:8080/",
          "height": 35
        },
        "id": "Tdoj8SZPCzaS",
        "outputId": "acf86d13-b68e-42e8-bb40-8b8800e29d50"
      },
      "source": [
        "setnode(newSOPS,\"HASH\",\"valami\")"
      ],
      "execution_count": 430,
      "outputs": [
        {
          "output_type": "execute_result",
          "data": {
            "application/vnd.google.colaboratory.intrinsic+json": {
              "type": "string"
            },
            "text/plain": [
              "'valami'"
            ]
          },
          "metadata": {
            "tags": []
          },
          "execution_count": 430
        }
      ]
    },
    {
      "cell_type": "code",
      "metadata": {
        "colab": {
          "base_uri": "https://localhost:8080/"
        },
        "id": "zmpgBjX-C7vq",
        "outputId": "f93a3878-ee67-4f9c-b500-aa3dc86628c8"
      },
      "source": [
        "print(newSOPS.toprettyxml())"
      ],
      "execution_count": 431,
      "outputs": [
        {
          "output_type": "stream",
          "text": [
            "<?xml version=\"1.0\" ?>\n",
            "<STERILITY_LIB>\n",
            "\t\n",
            "\n",
            "\t<FILENAME>\n",
            "</FILENAME>\n",
            "\t\n",
            "\n",
            "\t<HASH>valami</HASH>\n",
            "\t\n",
            "\n",
            "\t<SOPS>\n",
            "\t\t\n",
            "\n",
            "\t\t<MDATE>2021:Jul:18</MDATE>\n",
            "\t\t\n",
            "\n",
            "\t</SOPS>\n",
            "\t\n",
            "\n",
            "</STERILITY_LIB>\n",
            "\n"
          ],
          "name": "stdout"
        }
      ]
    },
    {
      "cell_type": "code",
      "metadata": {
        "id": "VNThnkMBDnDy"
      },
      "source": [
        "sops=newSOPS.getElementsByTagName(\"SOPS\")"
      ],
      "execution_count": 432,
      "outputs": []
    },
    {
      "cell_type": "code",
      "metadata": {
        "colab": {
          "base_uri": "https://localhost:8080/",
          "height": 162
        },
        "id": "nxRemXF0DzoD",
        "outputId": "ca80b18e-c310-4313-f4cf-e32604fd04a8"
      },
      "source": [
        "print(sops[0].childNodes[0].childNodes[0].nodeValue)"
      ],
      "execution_count": 438,
      "outputs": [
        {
          "output_type": "error",
          "ename": "IndexError",
          "evalue": "ignored",
          "traceback": [
            "\u001b[0;31m---------------------------------------------------------------------------\u001b[0m",
            "\u001b[0;31mIndexError\u001b[0m                                Traceback (most recent call last)",
            "\u001b[0;32m<ipython-input-438-8769a41e8bf6>\u001b[0m in \u001b[0;36m<module>\u001b[0;34m()\u001b[0m\n\u001b[0;32m----> 1\u001b[0;31m \u001b[0mprint\u001b[0m\u001b[0;34m(\u001b[0m\u001b[0msops\u001b[0m\u001b[0;34m[\u001b[0m\u001b[0;36m0\u001b[0m\u001b[0;34m]\u001b[0m\u001b[0;34m.\u001b[0m\u001b[0mchildNodes\u001b[0m\u001b[0;34m[\u001b[0m\u001b[0;36m0\u001b[0m\u001b[0;34m]\u001b[0m\u001b[0;34m.\u001b[0m\u001b[0mchildNodes\u001b[0m\u001b[0;34m[\u001b[0m\u001b[0;36m0\u001b[0m\u001b[0;34m]\u001b[0m\u001b[0;34m.\u001b[0m\u001b[0mnodeValue\u001b[0m\u001b[0;34m)\u001b[0m\u001b[0;34m\u001b[0m\u001b[0;34m\u001b[0m\u001b[0m\n\u001b[0m",
            "\u001b[0;31mIndexError\u001b[0m: tuple index out of range"
          ]
        }
      ]
    },
    {
      "cell_type": "code",
      "metadata": {
        "colab": {
          "base_uri": "https://localhost:8080/",
          "height": 35
        },
        "id": "iOZyjIsRL-3C",
        "outputId": "1548f5ac-10e5-498c-b918-5f3dd4256632"
      },
      "source": [
        "sops[0].nodeName"
      ],
      "execution_count": 434,
      "outputs": [
        {
          "output_type": "execute_result",
          "data": {
            "application/vnd.google.colaboratory.intrinsic+json": {
              "type": "string"
            },
            "text/plain": [
              "'SOPS'"
            ]
          },
          "metadata": {
            "tags": []
          },
          "execution_count": 434
        }
      ]
    },
    {
      "cell_type": "code",
      "metadata": {
        "id": "g5rvA_VPQF-i"
      },
      "source": [
        "sopTag=minidom.Document.createElement(\"TAG\",\"SOP\")\n",
        "lma=minidom.Document.createTextNode(\"alma\",\"POS\")\n",
        "newSOPS.encoding=\"UTF-8\""
      ],
      "execution_count": 435,
      "outputs": []
    },
    {
      "cell_type": "code",
      "metadata": {
        "colab": {
          "base_uri": "https://localhost:8080/"
        },
        "id": "GqFi4PjNOo43",
        "outputId": "d741408d-9afb-4e59-f65c-afe9d25ec858"
      },
      "source": [
        "sops[0].appendChild(asop)\n",
        "\n"
      ],
      "execution_count": 440,
      "outputs": [
        {
          "output_type": "execute_result",
          "data": {
            "text/plain": [
              "<DOM Element: SOP at 0x7f82588d9a50>"
            ]
          },
          "metadata": {
            "tags": []
          },
          "execution_count": 440
        }
      ]
    },
    {
      "cell_type": "code",
      "metadata": {
        "colab": {
          "base_uri": "https://localhost:8080/"
        },
        "id": "gjSa_qljXJ4t",
        "outputId": "6f5d104c-4aa8-4eac-9c77-09964624e559"
      },
      "source": [
        "print(newSOPS.toxml())"
      ],
      "execution_count": 441,
      "outputs": [
        {
          "output_type": "stream",
          "text": [
            "<?xml version=\"1.0\" ?><STERILITY_LIB>\n",
            "<FILENAME>\n",
            "</FILENAME>\n",
            "<HASH>valami</HASH>\n",
            "<SOPS>\n",
            "<MDATE>2021:Jul:18</MDATE>\n",
            "<SOP>\n",
            "<UUID>4f011561-8260-40ce-86d2-8c9574f3b771</UUID>\n",
            "<NUMBER>a1</NUMBER>\n",
            "<NAME>a1</NAME>\n",
            "<FULLNAME>\n",
            "</FULLNAME>\n",
            "<STERITEST>N/A</STERITEST>\n",
            "<STERITEST_ACCESSORY>N/A</STERITEST_ACCESSORY>\n",
            "<COMMENT>\n",
            "</COMMENT>\n",
            "<REVISION>0</REVISION>\n",
            "<STATUS>Pending</STATUS>\n",
            "<SEQUENCE>\n",
            "<STEP>\n",
            "<TYPE>Dilution</TYPE>\n",
            "<SPEED>1</SPEED>\n",
            "<TIMER>0</TIMER>\n",
            "<COMMENT>\n",
            "</COMMENT>\n",
            "<REGULATION>False</REGULATION>\n",
            "<SYRINGE>False</SYRINGE>\n",
            "<SYRINGEDELAY>0</SYRINGEDELAY>\n",
            "</STEP>\n",
            "</SEQUENCE>\n",
            "</SOP></SOPS>\n",
            "</STERILITY_LIB>\n"
          ],
          "name": "stdout"
        }
      ]
    }
  ]
}
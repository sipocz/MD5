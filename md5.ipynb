{
  "nbformat": 4,
  "nbformat_minor": 0,
  "metadata": {
    "colab": {
      "name": "md5.ipynb",
      "provenance": [],
      "authorship_tag": "ABX9TyNABSRN4inBIuOLCuIJVX+O",
      "include_colab_link": true
    },
    "kernelspec": {
      "name": "python3",
      "display_name": "Python 3"
    },
    "language_info": {
      "name": "python"
    }
  },
  "cells": [
    {
      "cell_type": "markdown",
      "metadata": {
        "id": "view-in-github",
        "colab_type": "text"
      },
      "source": [
        "<a href=\"https://colab.research.google.com/github/sipocz/MD5/blob/main/md5.ipynb\" target=\"_parent\"><img src=\"https://colab.research.google.com/assets/colab-badge.svg\" alt=\"Open In Colab\"/></a>"
      ]
    },
    {
      "cell_type": "code",
      "metadata": {
        "id": "YYxI_h_lIRyU"
      },
      "source": [
        "import os\n",
        "from urllib.parse import urlparse"
      ],
      "execution_count": 77,
      "outputs": []
    },
    {
      "cell_type": "code",
      "metadata": {
        "id": "kLf1_klLMMZd"
      },
      "source": [
        "files=[\n",
        "\"00138_SMVS1_21_R_AL Version 01.stml\",\n",
        "\"00151_SMVS1_21_R_AL Version 01.stml\",\n",
        "\"00153_SMVS1_21_R_AL Version 01.stml\",\n",
        "\"00159_SMV_21_R_AL Version 01.stml\",\n",
        "\"00161_SMV_21_R_AL Version 01.stml\",\n",
        "\"00162_SMVS1_21_R_AL Version 01.stml\",\n",
        "\"00162_SMV_21_R_AL Version 01.stml\",\n",
        "\"00271_SMV_21_R_AL Version 01.stml\",\n",
        "\"00754_SMVS1_21_R_AL Version 01.stml\",\n",
        "\"00798_SMVS1_21_R_AL Version 01.stml\",\n",
        "\"00828_SMVS1_21_R_SY Version 01.stml\",\n",
        "\"01117_SMV_21_R_CL Version 01.stml\",\n",
        "\"81402_SMV_21_R_CL Version 01.stml\",\n",
        "\"81402_SMV_21_R_CL225 Version 01.stml\",\n",
        "\"NK_FD_SMV_21_E_AL Version 01.stml\",\n",
        "\"NK_FK_SMV_21_E_AL Version 01.stml\",\n",
        "\"NK_SMV_21_E_AL Version 03.stml\",\n",
        "\"NK_SMV_21_E_CL Version 01.stml\"\n",
        "]"
      ],
      "execution_count": 78,
      "outputs": []
    },
    {
      "cell_type": "code",
      "metadata": {
        "id": "UsiANJtiMo6J"
      },
      "source": [
        "urlprefix=\"https://raw.githubusercontent.com/sipocz/MD5/main/sops/\"\n",
        "urls=[]\n",
        "for afile in files:\n",
        "    urls.append(urlprefix+afile.replace(\" \",\"%20\"))\n"
      ],
      "execution_count": 79,
      "outputs": []
    },
    {
      "cell_type": "code",
      "metadata": {
        "colab": {
          "base_uri": "https://localhost:8080/"
        },
        "id": "U762zy6rNEh4",
        "outputId": "3913768d-e4ee-4b2d-8c1e-48bb442f3826"
      },
      "source": [
        "urls"
      ],
      "execution_count": 80,
      "outputs": [
        {
          "output_type": "execute_result",
          "data": {
            "text/plain": [
              "['https://raw.githubusercontent.com/sipocz/MD5/main/sops/00138_SMVS1_21_R_AL%20Version%2001.stml',\n",
              " 'https://raw.githubusercontent.com/sipocz/MD5/main/sops/00151_SMVS1_21_R_AL%20Version%2001.stml',\n",
              " 'https://raw.githubusercontent.com/sipocz/MD5/main/sops/00153_SMVS1_21_R_AL%20Version%2001.stml',\n",
              " 'https://raw.githubusercontent.com/sipocz/MD5/main/sops/00159_SMV_21_R_AL%20Version%2001.stml',\n",
              " 'https://raw.githubusercontent.com/sipocz/MD5/main/sops/00161_SMV_21_R_AL%20Version%2001.stml',\n",
              " 'https://raw.githubusercontent.com/sipocz/MD5/main/sops/00162_SMVS1_21_R_AL%20Version%2001.stml',\n",
              " 'https://raw.githubusercontent.com/sipocz/MD5/main/sops/00162_SMV_21_R_AL%20Version%2001.stml',\n",
              " 'https://raw.githubusercontent.com/sipocz/MD5/main/sops/00271_SMV_21_R_AL%20Version%2001.stml',\n",
              " 'https://raw.githubusercontent.com/sipocz/MD5/main/sops/00754_SMVS1_21_R_AL%20Version%2001.stml',\n",
              " 'https://raw.githubusercontent.com/sipocz/MD5/main/sops/00798_SMVS1_21_R_AL%20Version%2001.stml',\n",
              " 'https://raw.githubusercontent.com/sipocz/MD5/main/sops/00828_SMVS1_21_R_SY%20Version%2001.stml',\n",
              " 'https://raw.githubusercontent.com/sipocz/MD5/main/sops/01117_SMV_21_R_CL%20Version%2001.stml',\n",
              " 'https://raw.githubusercontent.com/sipocz/MD5/main/sops/81402_SMV_21_R_CL%20Version%2001.stml',\n",
              " 'https://raw.githubusercontent.com/sipocz/MD5/main/sops/81402_SMV_21_R_CL225%20Version%2001.stml',\n",
              " 'https://raw.githubusercontent.com/sipocz/MD5/main/sops/NK_FD_SMV_21_E_AL%20Version%2001.stml',\n",
              " 'https://raw.githubusercontent.com/sipocz/MD5/main/sops/NK_FK_SMV_21_E_AL%20Version%2001.stml',\n",
              " 'https://raw.githubusercontent.com/sipocz/MD5/main/sops/NK_SMV_21_E_AL%20Version%2003.stml',\n",
              " 'https://raw.githubusercontent.com/sipocz/MD5/main/sops/NK_SMV_21_E_CL%20Version%2001.stml']"
            ]
          },
          "metadata": {
            "tags": []
          },
          "execution_count": 80
        }
      ]
    },
    {
      "cell_type": "code",
      "metadata": {
        "id": "eTUe6rNIHjXE"
      },
      "source": [
        "_DEV_directory=\"./DEV/\""
      ],
      "execution_count": 81,
      "outputs": []
    },
    {
      "cell_type": "code",
      "metadata": {
        "colab": {
          "base_uri": "https://localhost:8080/"
        },
        "id": "MBsbpNesEzG9",
        "outputId": "df684bdd-69ec-4cb2-8918-8eb3744f44bb"
      },
      "source": [
        "# file struktúra kialakítása\n",
        "\n",
        "!cd /content\n",
        "!mkdir DEV\n",
        "!cd DEV\n",
        "for url in urls:\n",
        "    a = urlparse(url)\n",
        "    print(a.path)                    # Output: /kyle/09-09-201315-47-571378756077.jpg\n",
        "    fname=os.path.basename(a.path).replace(\"%20\",\" \")\n",
        "    print(\"fname:\", fname )\n",
        "    !wget $url\n",
        "    !mv \"$fname\" ./DEV/ "
      ],
      "execution_count": 82,
      "outputs": [
        {
          "output_type": "stream",
          "text": [
            "mkdir: cannot create directory ‘DEV’: File exists\n",
            "/sipocz/MD5/main/sops/00138_SMVS1_21_R_AL%20Version%2001.stml\n",
            "fname: 00138_SMVS1_21_R_AL Version 01.stml\n",
            "--2021-07-24 20:04:20--  https://raw.githubusercontent.com/sipocz/MD5/main/sops/00138_SMVS1_21_R_AL%20Version%2001.stml\n",
            "Resolving raw.githubusercontent.com (raw.githubusercontent.com)... 185.199.110.133, 185.199.111.133, 185.199.109.133, ...\n",
            "Connecting to raw.githubusercontent.com (raw.githubusercontent.com)|185.199.110.133|:443... connected.\n",
            "HTTP request sent, awaiting response... 200 OK\n",
            "Length: 6400 (6.2K) [text/plain]\n",
            "Saving to: ‘00138_SMVS1_21_R_AL Version 01.stml’\n",
            "\n",
            "00138_SMVS1_21_R_AL 100%[===================>]   6.25K  --.-KB/s    in 0s      \n",
            "\n",
            "2021-07-24 20:04:20 (75.5 MB/s) - ‘00138_SMVS1_21_R_AL Version 01.stml’ saved [6400/6400]\n",
            "\n",
            "/sipocz/MD5/main/sops/00151_SMVS1_21_R_AL%20Version%2001.stml\n",
            "fname: 00151_SMVS1_21_R_AL Version 01.stml\n",
            "--2021-07-24 20:04:20--  https://raw.githubusercontent.com/sipocz/MD5/main/sops/00151_SMVS1_21_R_AL%20Version%2001.stml\n",
            "Resolving raw.githubusercontent.com (raw.githubusercontent.com)... 185.199.108.133, 185.199.109.133, 185.199.110.133, ...\n",
            "Connecting to raw.githubusercontent.com (raw.githubusercontent.com)|185.199.108.133|:443... connected.\n",
            "HTTP request sent, awaiting response... 200 OK\n",
            "Length: 6414 (6.3K) [text/plain]\n",
            "Saving to: ‘00151_SMVS1_21_R_AL Version 01.stml’\n",
            "\n",
            "00151_SMVS1_21_R_AL 100%[===================>]   6.26K  --.-KB/s    in 0s      \n",
            "\n",
            "2021-07-24 20:04:20 (58.5 MB/s) - ‘00151_SMVS1_21_R_AL Version 01.stml’ saved [6414/6414]\n",
            "\n",
            "/sipocz/MD5/main/sops/00153_SMVS1_21_R_AL%20Version%2001.stml\n",
            "fname: 00153_SMVS1_21_R_AL Version 01.stml\n",
            "--2021-07-24 20:04:21--  https://raw.githubusercontent.com/sipocz/MD5/main/sops/00153_SMVS1_21_R_AL%20Version%2001.stml\n",
            "Resolving raw.githubusercontent.com (raw.githubusercontent.com)... 185.199.110.133, 185.199.109.133, 185.199.108.133, ...\n",
            "Connecting to raw.githubusercontent.com (raw.githubusercontent.com)|185.199.110.133|:443... connected.\n",
            "HTTP request sent, awaiting response... 200 OK\n",
            "Length: 7196 (7.0K) [text/plain]\n",
            "Saving to: ‘00153_SMVS1_21_R_AL Version 01.stml’\n",
            "\n",
            "00153_SMVS1_21_R_AL 100%[===================>]   7.03K  --.-KB/s    in 0s      \n",
            "\n",
            "2021-07-24 20:04:21 (48.6 MB/s) - ‘00153_SMVS1_21_R_AL Version 01.stml’ saved [7196/7196]\n",
            "\n",
            "/sipocz/MD5/main/sops/00159_SMV_21_R_AL%20Version%2001.stml\n",
            "fname: 00159_SMV_21_R_AL Version 01.stml\n",
            "--2021-07-24 20:04:21--  https://raw.githubusercontent.com/sipocz/MD5/main/sops/00159_SMV_21_R_AL%20Version%2001.stml\n",
            "Resolving raw.githubusercontent.com (raw.githubusercontent.com)... 185.199.110.133, 185.199.109.133, 185.199.108.133, ...\n",
            "Connecting to raw.githubusercontent.com (raw.githubusercontent.com)|185.199.110.133|:443... connected.\n",
            "HTTP request sent, awaiting response... 200 OK\n",
            "Length: 7174 (7.0K) [text/plain]\n",
            "Saving to: ‘00159_SMV_21_R_AL Version 01.stml’\n",
            "\n",
            "00159_SMV_21_R_AL V 100%[===================>]   7.01K  --.-KB/s    in 0s      \n",
            "\n",
            "2021-07-24 20:04:21 (64.6 MB/s) - ‘00159_SMV_21_R_AL Version 01.stml’ saved [7174/7174]\n",
            "\n",
            "/sipocz/MD5/main/sops/00161_SMV_21_R_AL%20Version%2001.stml\n",
            "fname: 00161_SMV_21_R_AL Version 01.stml\n",
            "--2021-07-24 20:04:21--  https://raw.githubusercontent.com/sipocz/MD5/main/sops/00161_SMV_21_R_AL%20Version%2001.stml\n",
            "Resolving raw.githubusercontent.com (raw.githubusercontent.com)... 185.199.110.133, 185.199.109.133, 185.199.108.133, ...\n",
            "Connecting to raw.githubusercontent.com (raw.githubusercontent.com)|185.199.110.133|:443... connected.\n",
            "HTTP request sent, awaiting response... 200 OK\n",
            "Length: 7172 (7.0K) [text/plain]\n",
            "Saving to: ‘00161_SMV_21_R_AL Version 01.stml’\n",
            "\n",
            "00161_SMV_21_R_AL V 100%[===================>]   7.00K  --.-KB/s    in 0s      \n",
            "\n",
            "2021-07-24 20:04:21 (47.3 MB/s) - ‘00161_SMV_21_R_AL Version 01.stml’ saved [7172/7172]\n",
            "\n",
            "/sipocz/MD5/main/sops/00162_SMVS1_21_R_AL%20Version%2001.stml\n",
            "fname: 00162_SMVS1_21_R_AL Version 01.stml\n",
            "--2021-07-24 20:04:22--  https://raw.githubusercontent.com/sipocz/MD5/main/sops/00162_SMVS1_21_R_AL%20Version%2001.stml\n",
            "Resolving raw.githubusercontent.com (raw.githubusercontent.com)... 185.199.110.133, 185.199.109.133, 185.199.108.133, ...\n",
            "Connecting to raw.githubusercontent.com (raw.githubusercontent.com)|185.199.110.133|:443... connected.\n",
            "HTTP request sent, awaiting response... 200 OK\n",
            "Length: 6388 (6.2K) [text/plain]\n",
            "Saving to: ‘00162_SMVS1_21_R_AL Version 01.stml’\n",
            "\n",
            "00162_SMVS1_21_R_AL 100%[===================>]   6.24K  --.-KB/s    in 0s      \n",
            "\n",
            "2021-07-24 20:04:22 (61.1 MB/s) - ‘00162_SMVS1_21_R_AL Version 01.stml’ saved [6388/6388]\n",
            "\n",
            "/sipocz/MD5/main/sops/00162_SMV_21_R_AL%20Version%2001.stml\n",
            "fname: 00162_SMV_21_R_AL Version 01.stml\n",
            "--2021-07-24 20:04:22--  https://raw.githubusercontent.com/sipocz/MD5/main/sops/00162_SMV_21_R_AL%20Version%2001.stml\n",
            "Resolving raw.githubusercontent.com (raw.githubusercontent.com)... 185.199.110.133, 185.199.109.133, 185.199.108.133, ...\n",
            "Connecting to raw.githubusercontent.com (raw.githubusercontent.com)|185.199.110.133|:443... connected.\n",
            "HTTP request sent, awaiting response... 200 OK\n",
            "Length: 6390 (6.2K) [text/plain]\n",
            "Saving to: ‘00162_SMV_21_R_AL Version 01.stml’\n",
            "\n",
            "00162_SMV_21_R_AL V 100%[===================>]   6.24K  --.-KB/s    in 0s      \n",
            "\n",
            "2021-07-24 20:04:22 (44.6 MB/s) - ‘00162_SMV_21_R_AL Version 01.stml’ saved [6390/6390]\n",
            "\n",
            "/sipocz/MD5/main/sops/00271_SMV_21_R_AL%20Version%2001.stml\n",
            "fname: 00271_SMV_21_R_AL Version 01.stml\n",
            "--2021-07-24 20:04:22--  https://raw.githubusercontent.com/sipocz/MD5/main/sops/00271_SMV_21_R_AL%20Version%2001.stml\n",
            "Resolving raw.githubusercontent.com (raw.githubusercontent.com)... 185.199.110.133, 185.199.109.133, 185.199.108.133, ...\n",
            "Connecting to raw.githubusercontent.com (raw.githubusercontent.com)|185.199.110.133|:443... connected.\n",
            "HTTP request sent, awaiting response... 200 OK\n",
            "Length: 6390 (6.2K) [text/plain]\n",
            "Saving to: ‘00271_SMV_21_R_AL Version 01.stml’\n",
            "\n",
            "00271_SMV_21_R_AL V 100%[===================>]   6.24K  --.-KB/s    in 0s      \n",
            "\n",
            "2021-07-24 20:04:22 (52.9 MB/s) - ‘00271_SMV_21_R_AL Version 01.stml’ saved [6390/6390]\n",
            "\n",
            "/sipocz/MD5/main/sops/00754_SMVS1_21_R_AL%20Version%2001.stml\n",
            "fname: 00754_SMVS1_21_R_AL Version 01.stml\n",
            "--2021-07-24 20:04:23--  https://raw.githubusercontent.com/sipocz/MD5/main/sops/00754_SMVS1_21_R_AL%20Version%2001.stml\n",
            "Resolving raw.githubusercontent.com (raw.githubusercontent.com)... 185.199.110.133, 185.199.109.133, 185.199.108.133, ...\n",
            "Connecting to raw.githubusercontent.com (raw.githubusercontent.com)|185.199.110.133|:443... connected.\n",
            "HTTP request sent, awaiting response... 200 OK\n",
            "Length: 6397 (6.2K) [text/plain]\n",
            "Saving to: ‘00754_SMVS1_21_R_AL Version 01.stml’\n",
            "\n",
            "00754_SMVS1_21_R_AL 100%[===================>]   6.25K  --.-KB/s    in 0s      \n",
            "\n",
            "2021-07-24 20:04:23 (55.7 MB/s) - ‘00754_SMVS1_21_R_AL Version 01.stml’ saved [6397/6397]\n",
            "\n",
            "/sipocz/MD5/main/sops/00798_SMVS1_21_R_AL%20Version%2001.stml\n",
            "fname: 00798_SMVS1_21_R_AL Version 01.stml\n",
            "--2021-07-24 20:04:23--  https://raw.githubusercontent.com/sipocz/MD5/main/sops/00798_SMVS1_21_R_AL%20Version%2001.stml\n",
            "Resolving raw.githubusercontent.com (raw.githubusercontent.com)... 185.199.110.133, 185.199.109.133, 185.199.108.133, ...\n",
            "Connecting to raw.githubusercontent.com (raw.githubusercontent.com)|185.199.110.133|:443... connected.\n",
            "HTTP request sent, awaiting response... 200 OK\n",
            "Length: 6398 (6.2K) [text/plain]\n",
            "Saving to: ‘00798_SMVS1_21_R_AL Version 01.stml’\n",
            "\n",
            "00798_SMVS1_21_R_AL 100%[===================>]   6.25K  --.-KB/s    in 0s      \n",
            "\n",
            "2021-07-24 20:04:23 (68.1 MB/s) - ‘00798_SMVS1_21_R_AL Version 01.stml’ saved [6398/6398]\n",
            "\n",
            "/sipocz/MD5/main/sops/00828_SMVS1_21_R_SY%20Version%2001.stml\n",
            "fname: 00828_SMVS1_21_R_SY Version 01.stml\n",
            "--2021-07-24 20:04:23--  https://raw.githubusercontent.com/sipocz/MD5/main/sops/00828_SMVS1_21_R_SY%20Version%2001.stml\n",
            "Resolving raw.githubusercontent.com (raw.githubusercontent.com)... 185.199.110.133, 185.199.109.133, 185.199.108.133, ...\n",
            "Connecting to raw.githubusercontent.com (raw.githubusercontent.com)|185.199.110.133|:443... connected.\n",
            "HTTP request sent, awaiting response... 200 OK\n",
            "Length: 7450 (7.3K) [text/plain]\n",
            "Saving to: ‘00828_SMVS1_21_R_SY Version 01.stml’\n",
            "\n",
            "00828_SMVS1_21_R_SY 100%[===================>]   7.28K  --.-KB/s    in 0s      \n",
            "\n",
            "2021-07-24 20:04:23 (68.8 MB/s) - ‘00828_SMVS1_21_R_SY Version 01.stml’ saved [7450/7450]\n",
            "\n",
            "/sipocz/MD5/main/sops/01117_SMV_21_R_CL%20Version%2001.stml\n",
            "fname: 01117_SMV_21_R_CL Version 01.stml\n",
            "--2021-07-24 20:04:24--  https://raw.githubusercontent.com/sipocz/MD5/main/sops/01117_SMV_21_R_CL%20Version%2001.stml\n",
            "Resolving raw.githubusercontent.com (raw.githubusercontent.com)... 185.199.110.133, 185.199.109.133, 185.199.108.133, ...\n",
            "Connecting to raw.githubusercontent.com (raw.githubusercontent.com)|185.199.110.133|:443... connected.\n",
            "HTTP request sent, awaiting response... 200 OK\n",
            "Length: 6765 (6.6K) [text/plain]\n",
            "Saving to: ‘01117_SMV_21_R_CL Version 01.stml’\n",
            "\n",
            "01117_SMV_21_R_CL V 100%[===================>]   6.61K  --.-KB/s    in 0s      \n",
            "\n",
            "2021-07-24 20:04:24 (61.8 MB/s) - ‘01117_SMV_21_R_CL Version 01.stml’ saved [6765/6765]\n",
            "\n",
            "/sipocz/MD5/main/sops/81402_SMV_21_R_CL%20Version%2001.stml\n",
            "fname: 81402_SMV_21_R_CL Version 01.stml\n",
            "--2021-07-24 20:04:24--  https://raw.githubusercontent.com/sipocz/MD5/main/sops/81402_SMV_21_R_CL%20Version%2001.stml\n",
            "Resolving raw.githubusercontent.com (raw.githubusercontent.com)... 185.199.110.133, 185.199.109.133, 185.199.108.133, ...\n",
            "Connecting to raw.githubusercontent.com (raw.githubusercontent.com)|185.199.110.133|:443... connected.\n",
            "HTTP request sent, awaiting response... 200 OK\n",
            "Length: 7270 (7.1K) [text/plain]\n",
            "Saving to: ‘81402_SMV_21_R_CL Version 01.stml’\n",
            "\n",
            "81402_SMV_21_R_CL V 100%[===================>]   7.10K  --.-KB/s    in 0s      \n",
            "\n",
            "2021-07-24 20:04:24 (61.4 MB/s) - ‘81402_SMV_21_R_CL Version 01.stml’ saved [7270/7270]\n",
            "\n",
            "/sipocz/MD5/main/sops/81402_SMV_21_R_CL225%20Version%2001.stml\n",
            "fname: 81402_SMV_21_R_CL225 Version 01.stml\n",
            "--2021-07-24 20:04:24--  https://raw.githubusercontent.com/sipocz/MD5/main/sops/81402_SMV_21_R_CL225%20Version%2001.stml\n",
            "Resolving raw.githubusercontent.com (raw.githubusercontent.com)... 185.199.110.133, 185.199.109.133, 185.199.108.133, ...\n",
            "Connecting to raw.githubusercontent.com (raw.githubusercontent.com)|185.199.110.133|:443... connected.\n",
            "HTTP request sent, awaiting response... 200 OK\n",
            "Length: 7272 (7.1K) [text/plain]\n",
            "Saving to: ‘81402_SMV_21_R_CL225 Version 01.stml’\n",
            "\n",
            "81402_SMV_21_R_CL22 100%[===================>]   7.10K  --.-KB/s    in 0s      \n",
            "\n",
            "2021-07-24 20:04:24 (66.1 MB/s) - ‘81402_SMV_21_R_CL225 Version 01.stml’ saved [7272/7272]\n",
            "\n",
            "/sipocz/MD5/main/sops/NK_FD_SMV_21_E_AL%20Version%2001.stml\n",
            "fname: NK_FD_SMV_21_E_AL Version 01.stml\n",
            "--2021-07-24 20:04:25--  https://raw.githubusercontent.com/sipocz/MD5/main/sops/NK_FD_SMV_21_E_AL%20Version%2001.stml\n",
            "Resolving raw.githubusercontent.com (raw.githubusercontent.com)... 185.199.110.133, 185.199.109.133, 185.199.108.133, ...\n",
            "Connecting to raw.githubusercontent.com (raw.githubusercontent.com)|185.199.110.133|:443... connected.\n",
            "HTTP request sent, awaiting response... 200 OK\n",
            "Length: 4337 (4.2K) [text/plain]\n",
            "Saving to: ‘NK_FD_SMV_21_E_AL Version 01.stml’\n",
            "\n",
            "NK_FD_SMV_21_E_AL V 100%[===================>]   4.24K  --.-KB/s    in 0s      \n",
            "\n",
            "2021-07-24 20:04:25 (52.0 MB/s) - ‘NK_FD_SMV_21_E_AL Version 01.stml’ saved [4337/4337]\n",
            "\n",
            "/sipocz/MD5/main/sops/NK_FK_SMV_21_E_AL%20Version%2001.stml\n",
            "fname: NK_FK_SMV_21_E_AL Version 01.stml\n",
            "--2021-07-24 20:04:25--  https://raw.githubusercontent.com/sipocz/MD5/main/sops/NK_FK_SMV_21_E_AL%20Version%2001.stml\n",
            "Resolving raw.githubusercontent.com (raw.githubusercontent.com)... 185.199.110.133, 185.199.109.133, 185.199.108.133, ...\n",
            "Connecting to raw.githubusercontent.com (raw.githubusercontent.com)|185.199.110.133|:443... connected.\n",
            "HTTP request sent, awaiting response... 200 OK\n",
            "Length: 3973 (3.9K) [text/plain]\n",
            "Saving to: ‘NK_FK_SMV_21_E_AL Version 01.stml’\n",
            "\n",
            "NK_FK_SMV_21_E_AL V 100%[===================>]   3.88K  --.-KB/s    in 0s      \n",
            "\n",
            "2021-07-24 20:04:25 (22.2 MB/s) - ‘NK_FK_SMV_21_E_AL Version 01.stml’ saved [3973/3973]\n",
            "\n",
            "/sipocz/MD5/main/sops/NK_SMV_21_E_AL%20Version%2003.stml\n",
            "fname: NK_SMV_21_E_AL Version 03.stml\n",
            "--2021-07-24 20:04:25--  https://raw.githubusercontent.com/sipocz/MD5/main/sops/NK_SMV_21_E_AL%20Version%2003.stml\n",
            "Resolving raw.githubusercontent.com (raw.githubusercontent.com)... 185.199.110.133, 185.199.109.133, 185.199.108.133, ...\n",
            "Connecting to raw.githubusercontent.com (raw.githubusercontent.com)|185.199.110.133|:443... connected.\n",
            "HTTP request sent, awaiting response... 200 OK\n",
            "Length: 4404 (4.3K) [text/plain]\n",
            "Saving to: ‘NK_SMV_21_E_AL Version 03.stml’\n",
            "\n",
            "NK_SMV_21_E_AL Vers 100%[===================>]   4.30K  --.-KB/s    in 0s      \n",
            "\n",
            "2021-07-24 20:04:25 (60.0 MB/s) - ‘NK_SMV_21_E_AL Version 03.stml’ saved [4404/4404]\n",
            "\n",
            "/sipocz/MD5/main/sops/NK_SMV_21_E_CL%20Version%2001.stml\n",
            "fname: NK_SMV_21_E_CL Version 01.stml\n",
            "--2021-07-24 20:04:26--  https://raw.githubusercontent.com/sipocz/MD5/main/sops/NK_SMV_21_E_CL%20Version%2001.stml\n",
            "Resolving raw.githubusercontent.com (raw.githubusercontent.com)... 185.199.111.133, 185.199.109.133, 185.199.108.133, ...\n",
            "Connecting to raw.githubusercontent.com (raw.githubusercontent.com)|185.199.111.133|:443... connected.\n",
            "HTTP request sent, awaiting response... 200 OK\n",
            "Length: 4198 (4.1K) [text/plain]\n",
            "Saving to: ‘NK_SMV_21_E_CL Version 01.stml’\n",
            "\n",
            "NK_SMV_21_E_CL Vers 100%[===================>]   4.10K  --.-KB/s    in 0s      \n",
            "\n",
            "2021-07-24 20:04:26 (45.8 MB/s) - ‘NK_SMV_21_E_CL Version 01.stml’ saved [4198/4198]\n",
            "\n"
          ],
          "name": "stdout"
        }
      ]
    },
    {
      "cell_type": "code",
      "metadata": {
        "colab": {
          "base_uri": "https://localhost:8080/"
        },
        "id": "g6mfNiW3A78N",
        "outputId": "6bb08c0f-32eb-49ac-b28f-0f52ee6e7af6"
      },
      "source": [
        "# Python 3 code to demonstrate the \n",
        "# working of MD5 (byte - byte)\n",
        "  \n",
        "import hashlib\n",
        "  \n",
        "# encoding GeeksforGeeks using md5 hash\n",
        "# function \n",
        "result = hashlib.md5('steritást'.encode())\n",
        "  \n",
        "# printing the equivalent byte value.\n",
        "print(\"The byte equivalent of hash is : \", end =\"\")\n",
        "print(result.digest())\n",
        "print(result.hexdigest())"
      ],
      "execution_count": 83,
      "outputs": [
        {
          "output_type": "stream",
          "text": [
            "The byte equivalent of hash is : b'SW\\xbb\\xfcZov\\x03\\x8a\\xe8\\xb9\\xd0d\\xc2F\\x0c'\n",
            "5357bbfc5a6f76038ae8b9d064c2460c\n"
          ],
          "name": "stdout"
        }
      ]
    },
    {
      "cell_type": "code",
      "metadata": {
        "colab": {
          "base_uri": "https://localhost:8080/"
        },
        "id": "r1E_Y88tEYiY",
        "outputId": "f85df440-8c62-407f-8697-177d6a393796"
      },
      "source": [
        "# working of MD5 (byte - byte)\n",
        "  \n",
        "import hashlib\n",
        "  \n",
        "# encoding GeeksforGeeks using md5 hash\n",
        "# function\n",
        "pwd=\"steritest\"\n",
        "print( pwd.encode()) \n",
        "result = hashlib.md5(pwd.encode())\n",
        "  \n",
        "# printing the equivalent byte value.\n",
        "print(\"The byte equivalent of hash is : \", end =\"\")\n",
        "print(result.digest())\n",
        "print(result.hexdigest())"
      ],
      "execution_count": 84,
      "outputs": [
        {
          "output_type": "stream",
          "text": [
            "b'steritest'\n",
            "The byte equivalent of hash is : b'\\xc3e\\x85\\x94d\\xad\\xfb\\xdf\\x00\\xbb\\n\\x1e\\x97\\x9e\\x9fk'\n",
            "c365859464adfbdf00bb0a1e979e9f6b\n"
          ],
          "name": "stdout"
        }
      ]
    },
    {
      "cell_type": "code",
      "metadata": {
        "id": "SctG5X1b-nof"
      },
      "source": [
        "code=\"7e8af2b643f04e9021428b8fa840cd8f\""
      ],
      "execution_count": 85,
      "outputs": []
    },
    {
      "cell_type": "code",
      "metadata": {
        "colab": {
          "base_uri": "https://localhost:8080/"
        },
        "id": "4iHIUtHfQpvx",
        "outputId": "1e39379b-6c11-4621-d59c-5f983224ab96"
      },
      "source": [
        "print(hashlib.md5(\"c365859464adfbdf00bb0a1e979e9f6b\".encode()).hexdigest())"
      ],
      "execution_count": 86,
      "outputs": [
        {
          "output_type": "stream",
          "text": [
            "bfa6e9ab4630bc1c6546d435b56bf42a\n"
          ],
          "name": "stdout"
        }
      ]
    },
    {
      "cell_type": "code",
      "metadata": {
        "colab": {
          "base_uri": "https://localhost:8080/"
        },
        "id": "GOXsxRXBfxLw",
        "outputId": "0df60f00-0958-4eaa-b066-410b962371ac"
      },
      "source": [
        "!pip install blowfish"
      ],
      "execution_count": 87,
      "outputs": [
        {
          "output_type": "stream",
          "text": [
            "Requirement already satisfied: blowfish in /usr/local/lib/python3.7/dist-packages (0.6.1)\n"
          ],
          "name": "stdout"
        }
      ]
    },
    {
      "cell_type": "code",
      "metadata": {
        "id": "xFsFNOZufvxH"
      },
      "source": [
        ""
      ],
      "execution_count": 87,
      "outputs": []
    },
    {
      "cell_type": "code",
      "metadata": {
        "id": "NBtFs_xff34R"
      },
      "source": [
        "fname=_DEV_directory+files[0]"
      ],
      "execution_count": 88,
      "outputs": []
    },
    {
      "cell_type": "code",
      "metadata": {
        "colab": {
          "base_uri": "https://localhost:8080/"
        },
        "id": "nLvdkDkbN5Lj",
        "outputId": "232c3dbe-2125-4683-8f7b-d9360037ad44"
      },
      "source": [
        "print(fname)"
      ],
      "execution_count": 89,
      "outputs": [
        {
          "output_type": "stream",
          "text": [
            "./DEV/00138_SMVS1_21_R_AL Version 01.stml\n"
          ],
          "name": "stdout"
        }
      ]
    },
    {
      "cell_type": "code",
      "metadata": {
        "id": "FqNdpAO4ug4Z"
      },
      "source": [
        "import xml.etree.ElementTree as ET"
      ],
      "execution_count": 90,
      "outputs": []
    },
    {
      "cell_type": "code",
      "metadata": {
        "id": "cdSpU4c7wkYu"
      },
      "source": [
        "with open(fname, 'r') as f:\n",
        "    data = f.read() "
      ],
      "execution_count": 91,
      "outputs": []
    },
    {
      "cell_type": "code",
      "metadata": {
        "colab": {
          "base_uri": "https://localhost:8080/"
        },
        "id": "IlVNKjfMwr8c",
        "outputId": "3001376b-a481-4c7d-c0e5-4ea506dadbb0"
      },
      "source": [
        "print(data)"
      ],
      "execution_count": 92,
      "outputs": [
        {
          "output_type": "stream",
          "text": [
            "﻿<?xml version=\"1.0\" encoding=\"utf-8\"?>\n",
            "<STERILITY_LIB>\n",
            "<FILENAME>\n",
            "</FILENAME>\n",
            "<HASH>E6AF07869464B0992CEB8A7157E24D67</HASH>\n",
            "<SOPS>\n",
            "<MDATE>2021:Jul:20</MDATE>\n",
            "<SOP>\n",
            "<UUID>929f0b22-c727-4cb5-a28b-e283c93052ed</UUID>\n",
            "<NUMBER>00138_SMVS1_21_R_AL</NUMBER>\n",
            "<NAME>Calcimusc injekció 5 ml OPC</NAME>\n",
            "<FULLNAME>Calcimusc injekció 5 ml OPC</FULLNAME>\n",
            "<STERITEST>TZHALA</STERITEST>\n",
            "<STERITEST_ACCESSORY>N/A</STERITEST_ACCESSORY>\n",
            "<COMMENT>\n",
            "</COMMENT>\n",
            "<REVISION>01</REVISION>\n",
            "<STATUS>Approved</STATUS>\n",
            "<SEQUENCE>\n",
            "<STEP>\n",
            "<TYPE>Information</TYPE>\n",
            "<SPEED>0</SPEED>\n",
            "<TIMER>0</TIMER>\n",
            "<COMMENT>TZHALA felszerelése, pumpa zárása</COMMENT>\n",
            "<REGULATION>True</REGULATION>\n",
            "<SYRINGE>False</SYRINGE>\n",
            "<SYRINGEDELAY>0</SYRINGEDELAY>\n",
            "</STEP>\n",
            "<STEP>\n",
            "<TYPE>Information</TYPE>\n",
            "<SPEED>0</SPEED>\n",
            "<TIMER>0</TIMER>\n",
            "<COMMENT>80 minta, FTM, SCB, Fluid-A fertőtlenítve, bekészítve</COMMENT>\n",
            "<REGULATION>True</REGULATION>\n",
            "<SYRINGE>False</SYRINGE>\n",
            "<SYRINGEDELAY>0</SYRINGEDELAY>\n",
            "</STEP>\n",
            "<STEP>\n",
            "<TYPE>Information</TYPE>\n",
            "<SPEED>0</SPEED>\n",
            "<TIMER>0</TIMER>\n",
            "<COMMENT>minden FTM, SCB, Fluid-A bontásakor műanyag kupak le, gumidugó fertőtlenítése</COMMENT>\n",
            "<REGULATION>True</REGULATION>\n",
            "<SYRINGE>False</SYRINGE>\n",
            "<SYRINGEDELAY>0</SYRINGEDELAY>\n",
            "</STEP>\n",
            "<STEP>\n",
            "<TYPE>Information</TYPE>\n",
            "<SPEED>0</SPEED>\n",
            "<TIMER>0</TIMER>\n",
            "<COMMENT>csövek nyitva, piros és sárga dugók nincsenek felrakva</COMMENT>\n",
            "<REGULATION>True</REGULATION>\n",
            "<SYRINGE>False</SYRINGE>\n",
            "<SYRINGEDELAY>0</SYRINGEDELAY>\n",
            "</STEP>\n",
            "<STEP>\n",
            "<TYPE>PreWetting</TYPE>\n",
            "<SPEED>50</SPEED>\n",
            "<TIMER>0</TIMER>\n",
            "<COMMENT>kaniszterenként 50 ml Fluid-A betöltése, piros dugók fel, szűrés, piros dugók le</COMMENT>\n",
            "<REGULATION>True</REGULATION>\n",
            "<SYRINGE>False</SYRINGE>\n",
            "<SYRINGEDELAY>0</SYRINGEDELAY>\n",
            "</STEP>\n",
            "<STEP>\n",
            "<TYPE>Filtration</TYPE>\n",
            "<SPEED>20</SPEED>\n",
            "<TIMER>0</TIMER>\n",
            "<COMMENT>20 ampulla nyitása, minta betöltése, majd piros dugó fel, szűrés, piros dugók le</COMMENT>\n",
            "<REGULATION>True</REGULATION>\n",
            "<SYRINGE>False</SYRINGE>\n",
            "<SYRINGEDELAY>0</SYRINGEDELAY>\n",
            "</STEP>\n",
            "<STEP>\n",
            "<TYPE>Rinsing</TYPE>\n",
            "<SPEED>75</SPEED>\n",
            "<TIMER>0</TIMER>\n",
            "<COMMENT>kaniszterenként 100 ml Fluid-A betöltése, piros dugók fel, szűrés, piros dugók le</COMMENT>\n",
            "<REGULATION>True</REGULATION>\n",
            "<SYRINGE>False</SYRINGE>\n",
            "<SYRINGEDELAY>0</SYRINGEDELAY>\n",
            "</STEP>\n",
            "<STEP>\n",
            "<TYPE>Information</TYPE>\n",
            "<SPEED>0</SPEED>\n",
            "<TIMER>0</TIMER>\n",
            "<COMMENT>piros csipesz lezárása a tű melletti csővég közelében</COMMENT>\n",
            "<REGULATION>True</REGULATION>\n",
            "<SYRINGE>False</SYRINGE>\n",
            "<SYRINGEDELAY>0</SYRINGEDELAY>\n",
            "</STEP>\n",
            "<STEP>\n",
            "<TYPE>Information</TYPE>\n",
            "<SPEED>0</SPEED>\n",
            "<TIMER>0</TIMER>\n",
            "<COMMENT>befertőzés: 100 ml Fluid-A befertőzése &lt;100 cfu/0,1 ml mo. szuszpenzióval</COMMENT>\n",
            "<REGULATION>True</REGULATION>\n",
            "<SYRINGE>False</SYRINGE>\n",
            "<SYRINGEDELAY>0</SYRINGEDELAY>\n",
            "</STEP>\n",
            "<STEP>\n",
            "<TYPE>Filtration</TYPE>\n",
            "<SPEED>75</SPEED>\n",
            "<TIMER>0</TIMER>\n",
            "<COMMENT>100 ml befertőzött Fluid-A betöltése , piros dugó fel, szűrés, piros dugó le</COMMENT>\n",
            "<REGULATION>True</REGULATION>\n",
            "<SYRINGE>False</SYRINGE>\n",
            "<SYRINGEDELAY>0</SYRINGEDELAY>\n",
            "</STEP>\n",
            "<STEP>\n",
            "<TYPE>Information</TYPE>\n",
            "<SPEED>0</SPEED>\n",
            "<TIMER>0</TIMER>\n",
            "<COMMENT>sárga dugó fel a nyitott csövű (fehér csipeszes) kaniszteren</COMMENT>\n",
            "<REGULATION>True</REGULATION>\n",
            "<SYRINGE>False</SYRINGE>\n",
            "<SYRINGEDELAY>0</SYRINGEDELAY>\n",
            "</STEP>\n",
            "<STEP>\n",
            "<TYPE>MediaTransfer</TYPE>\n",
            "<SPEED>60</SPEED>\n",
            "<TIMER>0</TIMER>\n",
            "<COMMENT>SCB betöltése: Bac. sp., / gombák (Asp. br.; Cand. alb.) szűrése után, vagy lásd. 13. lépést</COMMENT>\n",
            "<REGULATION>True</REGULATION>\n",
            "<SYRINGE>False</SYRINGE>\n",
            "<SYRINGEDELAY>0</SYRINGEDELAY>\n",
            "</STEP>\n",
            "<STEP>\n",
            "<TYPE>MediaTransfer</TYPE>\n",
            "<SPEED>30</SPEED>\n",
            "<TIMER>0</TIMER>\n",
            "<COMMENT>FTM betöltése: baktériumok (Staph. a.,; Ps. ae.; Bac. sp.; Clost. sp.) szűrése után</COMMENT>\n",
            "<REGULATION>True</REGULATION>\n",
            "<SYRINGE>False</SYRINGE>\n",
            "<SYRINGEDELAY>0</SYRINGEDELAY>\n",
            "</STEP>\n",
            "<STEP>\n",
            "<TYPE>Information</TYPE>\n",
            "<SPEED>0</SPEED>\n",
            "<TIMER>0</TIMER>\n",
            "<COMMENT>fehér csipesz lezárása a tű meletti csővég közelében, piros csipesz nyitása </COMMENT>\n",
            "<REGULATION>True</REGULATION>\n",
            "<SYRINGE>False</SYRINGE>\n",
            "<SYRINGEDELAY>0</SYRINGEDELAY>\n",
            "</STEP>\n",
            "<STEP>\n",
            "<TYPE>Information</TYPE>\n",
            "<SPEED>0</SPEED>\n",
            "<TIMER>0</TIMER>\n",
            "<COMMENT>befertőzés: 100 ml Fluid-A befertőzése &lt;100 cfu/0,1 ml mo. szuszpenzióval</COMMENT>\n",
            "<REGULATION>True</REGULATION>\n",
            "<SYRINGE>False</SYRINGE>\n",
            "<SYRINGEDELAY>0</SYRINGEDELAY>\n",
            "</STEP>\n",
            "<STEP>\n",
            "<TYPE>Filtration</TYPE>\n",
            "<SPEED>75</SPEED>\n",
            "<TIMER>0</TIMER>\n",
            "<COMMENT>100 ml befertőzött Fluid-A betöltése , piros dugó fel, szűrés, piros dugó le</COMMENT>\n",
            "<REGULATION>True</REGULATION>\n",
            "<SYRINGE>False</SYRINGE>\n",
            "<SYRINGEDELAY>0</SYRINGEDELAY>\n",
            "</STEP>\n",
            "<STEP>\n",
            "<TYPE>Information</TYPE>\n",
            "<SPEED>0</SPEED>\n",
            "<TIMER>0</TIMER>\n",
            "<COMMENT>sárga dugó fel a nyitott csövű (piros csipeszes) kaniszteren</COMMENT>\n",
            "<REGULATION>True</REGULATION>\n",
            "<SYRINGE>False</SYRINGE>\n",
            "<SYRINGEDELAY>0</SYRINGEDELAY>\n",
            "</STEP>\n",
            "<STEP>\n",
            "<TYPE>MediaTransfer</TYPE>\n",
            "<SPEED>60</SPEED>\n",
            "<TIMER>0</TIMER>\n",
            "<COMMENT>SCB betöltése: Bac. sp., / gombák (Asp. br.; Cand. alb.) szűrése után, vagy lásd. 19. lépést</COMMENT>\n",
            "<REGULATION>True</REGULATION>\n",
            "<SYRINGE>False</SYRINGE>\n",
            "<SYRINGEDELAY>0</SYRINGEDELAY>\n",
            "</STEP>\n",
            "<STEP>\n",
            "<TYPE>MediaTransfer</TYPE>\n",
            "<SPEED>30</SPEED>\n",
            "<TIMER>0</TIMER>\n",
            "<COMMENT>FTM betöltése: baktériumok (Staph. a.,; Ps. ae.; Bac. sp.; Clost. sp.) szűrése után</COMMENT>\n",
            "<REGULATION>True</REGULATION>\n",
            "<SYRINGE>False</SYRINGE>\n",
            "<SYRINGEDELAY>0</SYRINGEDELAY>\n",
            "</STEP>\n",
            "<STEP>\n",
            "<TYPE>Information</TYPE>\n",
            "<SPEED>0</SPEED>\n",
            "<TIMER>0</TIMER>\n",
            "<COMMENT>csipeszek lezárása a kanisztereknél, csövek levágása, kaniszterek lezárása, eltávolítása</COMMENT>\n",
            "<REGULATION>True</REGULATION>\n",
            "<SYRINGE>False</SYRINGE>\n",
            "<SYRINGEDELAY>0</SYRINGEDELAY>\n",
            "</STEP>\n",
            "<STEP>\n",
            "<TYPE>Information</TYPE>\n",
            "<SPEED>0</SPEED>\n",
            "<TIMER>0</TIMER>\n",
            "<COMMENT>1-20 lépés ismételve minden mikroorganizmus vonatkozásában</COMMENT>\n",
            "<REGULATION>True</REGULATION>\n",
            "<SYRINGE>False</SYRINGE>\n",
            "<SYRINGEDELAY>0</SYRINGEDELAY>\n",
            "</STEP>\n",
            "<STEP>\n",
            "<TYPE>CanisterClosing</TYPE>\n",
            "<SPEED>0</SPEED>\n",
            "<TIMER>0</TIMER>\n",
            "<COMMENT>pumpafej nyitása</COMMENT>\n",
            "<REGULATION>True</REGULATION>\n",
            "<SYRINGE>False</SYRINGE>\n",
            "<SYRINGEDELAY>0</SYRINGEDELAY>\n",
            "</STEP>\n",
            "</SEQUENCE>\n",
            "</SOP>\n",
            "</SOPS>\n",
            "</STERILITY_LIB>\n"
          ],
          "name": "stdout"
        }
      ]
    },
    {
      "cell_type": "code",
      "metadata": {
        "colab": {
          "base_uri": "https://localhost:8080/"
        },
        "id": "vV2bnP3qv71T",
        "outputId": "d5c420c7-157a-49ba-928c-2ef5bba29e07"
      },
      "source": [
        "from xml.dom import minidom\n",
        "\n",
        "# parse an xml file by name\n",
        "file = minidom.parse(fname)\n",
        "\n",
        "#use getElementsByTagName() to get tag\n",
        "models = file.getElementsByTagName('SOPS')\n",
        "\n",
        "# one specific item attribute\n",
        "print('model #2 attribute:')\n",
        "print(models[0])\n",
        "\n"
      ],
      "execution_count": 93,
      "outputs": [
        {
          "output_type": "stream",
          "text": [
            "model #2 attribute:\n",
            "<DOM Element: SOPS at 0x7f1ff90a62d0>\n"
          ],
          "name": "stdout"
        }
      ]
    },
    {
      "cell_type": "code",
      "metadata": {
        "colab": {
          "base_uri": "https://localhost:8080/"
        },
        "id": "u8u92ZObLjIa",
        "outputId": "da3e1499-60d2-4868-9240-269eb699f08a"
      },
      "source": [
        "for node in models[0].childNodes:\n",
        "    print(node)"
      ],
      "execution_count": 94,
      "outputs": [
        {
          "output_type": "stream",
          "text": [
            "<DOM Text node \"'\\n'\">\n",
            "<DOM Element: MDATE at 0x7f1ff90a6af0>\n",
            "<DOM Text node \"'\\n'\">\n",
            "<DOM Element: SOP at 0x7f1ff90a6730>\n",
            "<DOM Text node \"'\\n'\">\n"
          ],
          "name": "stdout"
        }
      ]
    },
    {
      "cell_type": "code",
      "metadata": {
        "colab": {
          "base_uri": "https://localhost:8080/"
        },
        "id": "RXGQ1-fsujLN",
        "outputId": "11705447-4480-4aa0-880b-b6f2cf6b8f79"
      },
      "source": [
        "for node in models:  # visit every node <bar />\n",
        "    print (node.toxml())\n",
        "    "
      ],
      "execution_count": 95,
      "outputs": [
        {
          "output_type": "stream",
          "text": [
            "<SOPS>\n",
            "<MDATE>2021:Jul:20</MDATE>\n",
            "<SOP>\n",
            "<UUID>929f0b22-c727-4cb5-a28b-e283c93052ed</UUID>\n",
            "<NUMBER>00138_SMVS1_21_R_AL</NUMBER>\n",
            "<NAME>Calcimusc injekció 5 ml OPC</NAME>\n",
            "<FULLNAME>Calcimusc injekció 5 ml OPC</FULLNAME>\n",
            "<STERITEST>TZHALA</STERITEST>\n",
            "<STERITEST_ACCESSORY>N/A</STERITEST_ACCESSORY>\n",
            "<COMMENT>\n",
            "</COMMENT>\n",
            "<REVISION>01</REVISION>\n",
            "<STATUS>Approved</STATUS>\n",
            "<SEQUENCE>\n",
            "<STEP>\n",
            "<TYPE>Information</TYPE>\n",
            "<SPEED>0</SPEED>\n",
            "<TIMER>0</TIMER>\n",
            "<COMMENT>TZHALA felszerelése, pumpa zárása</COMMENT>\n",
            "<REGULATION>True</REGULATION>\n",
            "<SYRINGE>False</SYRINGE>\n",
            "<SYRINGEDELAY>0</SYRINGEDELAY>\n",
            "</STEP>\n",
            "<STEP>\n",
            "<TYPE>Information</TYPE>\n",
            "<SPEED>0</SPEED>\n",
            "<TIMER>0</TIMER>\n",
            "<COMMENT>80 minta, FTM, SCB, Fluid-A fertőtlenítve, bekészítve</COMMENT>\n",
            "<REGULATION>True</REGULATION>\n",
            "<SYRINGE>False</SYRINGE>\n",
            "<SYRINGEDELAY>0</SYRINGEDELAY>\n",
            "</STEP>\n",
            "<STEP>\n",
            "<TYPE>Information</TYPE>\n",
            "<SPEED>0</SPEED>\n",
            "<TIMER>0</TIMER>\n",
            "<COMMENT>minden FTM, SCB, Fluid-A bontásakor műanyag kupak le, gumidugó fertőtlenítése</COMMENT>\n",
            "<REGULATION>True</REGULATION>\n",
            "<SYRINGE>False</SYRINGE>\n",
            "<SYRINGEDELAY>0</SYRINGEDELAY>\n",
            "</STEP>\n",
            "<STEP>\n",
            "<TYPE>Information</TYPE>\n",
            "<SPEED>0</SPEED>\n",
            "<TIMER>0</TIMER>\n",
            "<COMMENT>csövek nyitva, piros és sárga dugók nincsenek felrakva</COMMENT>\n",
            "<REGULATION>True</REGULATION>\n",
            "<SYRINGE>False</SYRINGE>\n",
            "<SYRINGEDELAY>0</SYRINGEDELAY>\n",
            "</STEP>\n",
            "<STEP>\n",
            "<TYPE>PreWetting</TYPE>\n",
            "<SPEED>50</SPEED>\n",
            "<TIMER>0</TIMER>\n",
            "<COMMENT>kaniszterenként 50 ml Fluid-A betöltése, piros dugók fel, szűrés, piros dugók le</COMMENT>\n",
            "<REGULATION>True</REGULATION>\n",
            "<SYRINGE>False</SYRINGE>\n",
            "<SYRINGEDELAY>0</SYRINGEDELAY>\n",
            "</STEP>\n",
            "<STEP>\n",
            "<TYPE>Filtration</TYPE>\n",
            "<SPEED>20</SPEED>\n",
            "<TIMER>0</TIMER>\n",
            "<COMMENT>20 ampulla nyitása, minta betöltése, majd piros dugó fel, szűrés, piros dugók le</COMMENT>\n",
            "<REGULATION>True</REGULATION>\n",
            "<SYRINGE>False</SYRINGE>\n",
            "<SYRINGEDELAY>0</SYRINGEDELAY>\n",
            "</STEP>\n",
            "<STEP>\n",
            "<TYPE>Rinsing</TYPE>\n",
            "<SPEED>75</SPEED>\n",
            "<TIMER>0</TIMER>\n",
            "<COMMENT>kaniszterenként 100 ml Fluid-A betöltése, piros dugók fel, szűrés, piros dugók le</COMMENT>\n",
            "<REGULATION>True</REGULATION>\n",
            "<SYRINGE>False</SYRINGE>\n",
            "<SYRINGEDELAY>0</SYRINGEDELAY>\n",
            "</STEP>\n",
            "<STEP>\n",
            "<TYPE>Information</TYPE>\n",
            "<SPEED>0</SPEED>\n",
            "<TIMER>0</TIMER>\n",
            "<COMMENT>piros csipesz lezárása a tű melletti csővég közelében</COMMENT>\n",
            "<REGULATION>True</REGULATION>\n",
            "<SYRINGE>False</SYRINGE>\n",
            "<SYRINGEDELAY>0</SYRINGEDELAY>\n",
            "</STEP>\n",
            "<STEP>\n",
            "<TYPE>Information</TYPE>\n",
            "<SPEED>0</SPEED>\n",
            "<TIMER>0</TIMER>\n",
            "<COMMENT>befertőzés: 100 ml Fluid-A befertőzése &lt;100 cfu/0,1 ml mo. szuszpenzióval</COMMENT>\n",
            "<REGULATION>True</REGULATION>\n",
            "<SYRINGE>False</SYRINGE>\n",
            "<SYRINGEDELAY>0</SYRINGEDELAY>\n",
            "</STEP>\n",
            "<STEP>\n",
            "<TYPE>Filtration</TYPE>\n",
            "<SPEED>75</SPEED>\n",
            "<TIMER>0</TIMER>\n",
            "<COMMENT>100 ml befertőzött Fluid-A betöltése , piros dugó fel, szűrés, piros dugó le</COMMENT>\n",
            "<REGULATION>True</REGULATION>\n",
            "<SYRINGE>False</SYRINGE>\n",
            "<SYRINGEDELAY>0</SYRINGEDELAY>\n",
            "</STEP>\n",
            "<STEP>\n",
            "<TYPE>Information</TYPE>\n",
            "<SPEED>0</SPEED>\n",
            "<TIMER>0</TIMER>\n",
            "<COMMENT>sárga dugó fel a nyitott csövű (fehér csipeszes) kaniszteren</COMMENT>\n",
            "<REGULATION>True</REGULATION>\n",
            "<SYRINGE>False</SYRINGE>\n",
            "<SYRINGEDELAY>0</SYRINGEDELAY>\n",
            "</STEP>\n",
            "<STEP>\n",
            "<TYPE>MediaTransfer</TYPE>\n",
            "<SPEED>60</SPEED>\n",
            "<TIMER>0</TIMER>\n",
            "<COMMENT>SCB betöltése: Bac. sp., / gombák (Asp. br.; Cand. alb.) szűrése után, vagy lásd. 13. lépést</COMMENT>\n",
            "<REGULATION>True</REGULATION>\n",
            "<SYRINGE>False</SYRINGE>\n",
            "<SYRINGEDELAY>0</SYRINGEDELAY>\n",
            "</STEP>\n",
            "<STEP>\n",
            "<TYPE>MediaTransfer</TYPE>\n",
            "<SPEED>30</SPEED>\n",
            "<TIMER>0</TIMER>\n",
            "<COMMENT>FTM betöltése: baktériumok (Staph. a.,; Ps. ae.; Bac. sp.; Clost. sp.) szűrése után</COMMENT>\n",
            "<REGULATION>True</REGULATION>\n",
            "<SYRINGE>False</SYRINGE>\n",
            "<SYRINGEDELAY>0</SYRINGEDELAY>\n",
            "</STEP>\n",
            "<STEP>\n",
            "<TYPE>Information</TYPE>\n",
            "<SPEED>0</SPEED>\n",
            "<TIMER>0</TIMER>\n",
            "<COMMENT>fehér csipesz lezárása a tű meletti csővég közelében, piros csipesz nyitása </COMMENT>\n",
            "<REGULATION>True</REGULATION>\n",
            "<SYRINGE>False</SYRINGE>\n",
            "<SYRINGEDELAY>0</SYRINGEDELAY>\n",
            "</STEP>\n",
            "<STEP>\n",
            "<TYPE>Information</TYPE>\n",
            "<SPEED>0</SPEED>\n",
            "<TIMER>0</TIMER>\n",
            "<COMMENT>befertőzés: 100 ml Fluid-A befertőzése &lt;100 cfu/0,1 ml mo. szuszpenzióval</COMMENT>\n",
            "<REGULATION>True</REGULATION>\n",
            "<SYRINGE>False</SYRINGE>\n",
            "<SYRINGEDELAY>0</SYRINGEDELAY>\n",
            "</STEP>\n",
            "<STEP>\n",
            "<TYPE>Filtration</TYPE>\n",
            "<SPEED>75</SPEED>\n",
            "<TIMER>0</TIMER>\n",
            "<COMMENT>100 ml befertőzött Fluid-A betöltése , piros dugó fel, szűrés, piros dugó le</COMMENT>\n",
            "<REGULATION>True</REGULATION>\n",
            "<SYRINGE>False</SYRINGE>\n",
            "<SYRINGEDELAY>0</SYRINGEDELAY>\n",
            "</STEP>\n",
            "<STEP>\n",
            "<TYPE>Information</TYPE>\n",
            "<SPEED>0</SPEED>\n",
            "<TIMER>0</TIMER>\n",
            "<COMMENT>sárga dugó fel a nyitott csövű (piros csipeszes) kaniszteren</COMMENT>\n",
            "<REGULATION>True</REGULATION>\n",
            "<SYRINGE>False</SYRINGE>\n",
            "<SYRINGEDELAY>0</SYRINGEDELAY>\n",
            "</STEP>\n",
            "<STEP>\n",
            "<TYPE>MediaTransfer</TYPE>\n",
            "<SPEED>60</SPEED>\n",
            "<TIMER>0</TIMER>\n",
            "<COMMENT>SCB betöltése: Bac. sp., / gombák (Asp. br.; Cand. alb.) szűrése után, vagy lásd. 19. lépést</COMMENT>\n",
            "<REGULATION>True</REGULATION>\n",
            "<SYRINGE>False</SYRINGE>\n",
            "<SYRINGEDELAY>0</SYRINGEDELAY>\n",
            "</STEP>\n",
            "<STEP>\n",
            "<TYPE>MediaTransfer</TYPE>\n",
            "<SPEED>30</SPEED>\n",
            "<TIMER>0</TIMER>\n",
            "<COMMENT>FTM betöltése: baktériumok (Staph. a.,; Ps. ae.; Bac. sp.; Clost. sp.) szűrése után</COMMENT>\n",
            "<REGULATION>True</REGULATION>\n",
            "<SYRINGE>False</SYRINGE>\n",
            "<SYRINGEDELAY>0</SYRINGEDELAY>\n",
            "</STEP>\n",
            "<STEP>\n",
            "<TYPE>Information</TYPE>\n",
            "<SPEED>0</SPEED>\n",
            "<TIMER>0</TIMER>\n",
            "<COMMENT>csipeszek lezárása a kanisztereknél, csövek levágása, kaniszterek lezárása, eltávolítása</COMMENT>\n",
            "<REGULATION>True</REGULATION>\n",
            "<SYRINGE>False</SYRINGE>\n",
            "<SYRINGEDELAY>0</SYRINGEDELAY>\n",
            "</STEP>\n",
            "<STEP>\n",
            "<TYPE>Information</TYPE>\n",
            "<SPEED>0</SPEED>\n",
            "<TIMER>0</TIMER>\n",
            "<COMMENT>1-20 lépés ismételve minden mikroorganizmus vonatkozásában</COMMENT>\n",
            "<REGULATION>True</REGULATION>\n",
            "<SYRINGE>False</SYRINGE>\n",
            "<SYRINGEDELAY>0</SYRINGEDELAY>\n",
            "</STEP>\n",
            "<STEP>\n",
            "<TYPE>CanisterClosing</TYPE>\n",
            "<SPEED>0</SPEED>\n",
            "<TIMER>0</TIMER>\n",
            "<COMMENT>pumpafej nyitása</COMMENT>\n",
            "<REGULATION>True</REGULATION>\n",
            "<SYRINGE>False</SYRINGE>\n",
            "<SYRINGEDELAY>0</SYRINGEDELAY>\n",
            "</STEP>\n",
            "</SEQUENCE>\n",
            "</SOP>\n",
            "</SOPS>\n"
          ],
          "name": "stdout"
        }
      ]
    },
    {
      "cell_type": "code",
      "metadata": {
        "id": "N-MeHNCB0drh"
      },
      "source": [
        "nodesops=file.getElementsByTagName('SOPS')"
      ],
      "execution_count": 96,
      "outputs": []
    },
    {
      "cell_type": "code",
      "metadata": {
        "id": "nemNZ6o5Vpvx"
      },
      "source": [
        "asop=file.getElementsByTagName('SOP')[0]"
      ],
      "execution_count": 97,
      "outputs": []
    },
    {
      "cell_type": "code",
      "metadata": {
        "id": "FV8J_hQ7UVSr"
      },
      "source": [
        "def getChildXML(elem):\n",
        "    '''\n",
        "    description: az adott element összes child elemének szöveges reprezentációját adja rekurzívan\n",
        "    elem: XML element \n",
        "\n",
        "    '''\n",
        "    out = \"\"\n",
        "    for c in elem.childNodes:\n",
        "        if c.nodeType == minidom.Node.TEXT_NODE:\n",
        "            if c.nodeValue!=\"\\n\":\n",
        "                out += c.nodeValue\n",
        "        else:\n",
        "            if c.nodeType == minidom.Node.ELEMENT_NODE:\n",
        "                if c.childNodes.length == 0:\n",
        "                    pass\n",
        "                    #out += \"<\" + c.nodeName + \"/>\"\n",
        "                else:\n",
        "                    #out += \"<\" + c.nodeName + \">\"\n",
        "                    cs = \"\"\n",
        "                    cs = getChildXML(c)\n",
        "                   \n",
        "                    out += cs\n",
        "                    #out += \"</\" + c.nodeName + \">\"\n",
        "    return out"
      ],
      "execution_count": 98,
      "outputs": []
    },
    {
      "cell_type": "code",
      "metadata": {
        "id": "YINjdTiu6Aww"
      },
      "source": [
        ""
      ],
      "execution_count": 98,
      "outputs": []
    },
    {
      "cell_type": "code",
      "metadata": {
        "id": "MUfKISw_UWgb"
      },
      "source": [
        "a=\"\"\n",
        "for nodesop in nodesops:\n",
        "    a=a+getChildXML(nodesop)"
      ],
      "execution_count": 99,
      "outputs": []
    },
    {
      "cell_type": "code",
      "metadata": {
        "id": "KuEcXDFYWZId"
      },
      "source": [
        "astr=a.split(\"\\n\")"
      ],
      "execution_count": 100,
      "outputs": []
    },
    {
      "cell_type": "code",
      "metadata": {
        "id": "KQ9aTxB8WvZV"
      },
      "source": [
        "o=\"\"\n",
        "for s in astr:\n",
        "    o=o+s\n"
      ],
      "execution_count": 101,
      "outputs": []
    },
    {
      "cell_type": "code",
      "metadata": {
        "colab": {
          "base_uri": "https://localhost:8080/",
          "height": 103
        },
        "id": "8QgRKD3_Wp_V",
        "outputId": "5ec1e4b7-a327-4079-8892-bd50ec7637c1"
      },
      "source": [
        "o"
      ],
      "execution_count": 102,
      "outputs": [
        {
          "output_type": "execute_result",
          "data": {
            "application/vnd.google.colaboratory.intrinsic+json": {
              "type": "string"
            },
            "text/plain": [
              "'2021:Jul:20929f0b22-c727-4cb5-a28b-e283c93052ed00138_SMVS1_21_R_ALCalcimusc injekció 5 ml OPCCalcimusc injekció 5 ml OPCTZHALAN/A01ApprovedInformation00TZHALA felszerelése, pumpa zárásaTrueFalse0Information0080 minta, FTM, SCB, Fluid-A fertőtlenítve, bekészítveTrueFalse0Information00minden FTM, SCB, Fluid-A bontásakor műanyag kupak le, gumidugó fertőtlenítéseTrueFalse0Information00csövek nyitva, piros és sárga dugók nincsenek felrakvaTrueFalse0PreWetting500kaniszterenként 50 ml Fluid-A betöltése, piros dugók fel, szűrés, piros dugók leTrueFalse0Filtration20020 ampulla nyitása, minta betöltése, majd piros dugó fel, szűrés, piros dugók leTrueFalse0Rinsing750kaniszterenként 100 ml Fluid-A betöltése, piros dugók fel, szűrés, piros dugók leTrueFalse0Information00piros csipesz lezárása a tű melletti csővég közelébenTrueFalse0Information00befertőzés: 100 ml Fluid-A befertőzése <100 cfu/0,1 ml mo. szuszpenzióvalTrueFalse0Filtration750100 ml befertőzött Fluid-A betöltése , piros dugó fel, szűrés, piros dugó leTrueFalse0Information00sárga dugó fel a nyitott csövű (fehér csipeszes) kaniszterenTrueFalse0MediaTransfer600SCB betöltése: Bac. sp., / gombák (Asp. br.; Cand. alb.) szűrése után, vagy lásd. 13. lépéstTrueFalse0MediaTransfer300FTM betöltése: baktériumok (Staph. a.,; Ps. ae.; Bac. sp.; Clost. sp.) szűrése utánTrueFalse0Information00fehér csipesz lezárása a tű meletti csővég közelében, piros csipesz nyitása TrueFalse0Information00befertőzés: 100 ml Fluid-A befertőzése <100 cfu/0,1 ml mo. szuszpenzióvalTrueFalse0Filtration750100 ml befertőzött Fluid-A betöltése , piros dugó fel, szűrés, piros dugó leTrueFalse0Information00sárga dugó fel a nyitott csövű (piros csipeszes) kaniszterenTrueFalse0MediaTransfer600SCB betöltése: Bac. sp., / gombák (Asp. br.; Cand. alb.) szűrése után, vagy lásd. 19. lépéstTrueFalse0MediaTransfer300FTM betöltése: baktériumok (Staph. a.,; Ps. ae.; Bac. sp.; Clost. sp.) szűrése utánTrueFalse0Information00csipeszek lezárása a kanisztereknél, csövek levágása, kaniszterek lezárása, eltávolításaTrueFalse0Information001-20 lépés ismételve minden mikroorganizmus vonatkozásábanTrueFalse0CanisterClosing00pumpafej nyitásaTrueFalse0'"
            ]
          },
          "metadata": {
            "tags": []
          },
          "execution_count": 102
        }
      ]
    },
    {
      "cell_type": "code",
      "metadata": {
        "id": "0c56Q4X1MNG8"
      },
      "source": [
        "o=getChildXML(nodesops[0]) # ez a megoldás  !!!!!!!!!!!!!!!!!!!!!!!"
      ],
      "execution_count": 103,
      "outputs": []
    },
    {
      "cell_type": "code",
      "metadata": {
        "colab": {
          "base_uri": "https://localhost:8080/"
        },
        "id": "73x3Nvfe6JYE",
        "outputId": "91143023-f0f5-465e-e93a-4654aede1103"
      },
      "source": [
        "import uuid\n",
        "\n",
        "myuuid = uuid.uuid4()\n",
        "\n",
        "print('Your UUID is: ' + str(myuuid))"
      ],
      "execution_count": 104,
      "outputs": [
        {
          "output_type": "stream",
          "text": [
            "Your UUID is: b3d96e16-671b-41da-bf29-4ae2d7cf4083\n"
          ],
          "name": "stdout"
        }
      ]
    },
    {
      "cell_type": "code",
      "metadata": {
        "id": "NKj0Jwsc__y0"
      },
      "source": [
        "st=\"2021:Jul:184f011561-8260-40ce-86d2-8c9574f3b771a1a1N/AN/A0PendingDilution10FalseFalse0\"\n"
      ],
      "execution_count": 105,
      "outputs": []
    },
    {
      "cell_type": "code",
      "metadata": {
        "colab": {
          "base_uri": "https://localhost:8080/"
        },
        "id": "A1o0HXEtAH9L",
        "outputId": "606b642c-1dbf-4a9f-ca2d-79687f7344ee"
      },
      "source": [
        "import hashlib\n",
        "  \n",
        "# encoding GeeksforGeeks using md5 hash\n",
        "# function\n",
        "pwd=o\n",
        "print( pwd.encode()) \n",
        "result = hashlib.md5(pwd.encode())"
      ],
      "execution_count": 106,
      "outputs": [
        {
          "output_type": "stream",
          "text": [
            "b'2021:Jul:20929f0b22-c727-4cb5-a28b-e283c93052ed00138_SMVS1_21_R_ALCalcimusc injekci\\xc3\\xb3 5 ml OPCCalcimusc injekci\\xc3\\xb3 5 ml OPCTZHALAN/A01ApprovedInformation00TZHALA felszerel\\xc3\\xa9se, pumpa z\\xc3\\xa1r\\xc3\\xa1saTrueFalse0Information0080 minta, FTM, SCB, Fluid-A fert\\xc5\\x91tlen\\xc3\\xadtve, bek\\xc3\\xa9sz\\xc3\\xadtveTrueFalse0Information00minden FTM, SCB, Fluid-A bont\\xc3\\xa1sakor m\\xc5\\xb1anyag kupak le, gumidug\\xc3\\xb3 fert\\xc5\\x91tlen\\xc3\\xadt\\xc3\\xa9seTrueFalse0Information00cs\\xc3\\xb6vek nyitva, piros \\xc3\\xa9s s\\xc3\\xa1rga dug\\xc3\\xb3k nincsenek felrakvaTrueFalse0PreWetting500kaniszterenk\\xc3\\xa9nt 50 ml Fluid-A bet\\xc3\\xb6lt\\xc3\\xa9se, piros dug\\xc3\\xb3k fel, sz\\xc5\\xb1r\\xc3\\xa9s, piros dug\\xc3\\xb3k leTrueFalse0Filtration20020 ampulla nyit\\xc3\\xa1sa, minta bet\\xc3\\xb6lt\\xc3\\xa9se, majd piros dug\\xc3\\xb3 fel, sz\\xc5\\xb1r\\xc3\\xa9s, piros dug\\xc3\\xb3k leTrueFalse0Rinsing750kaniszterenk\\xc3\\xa9nt 100 ml Fluid-A bet\\xc3\\xb6lt\\xc3\\xa9se, piros dug\\xc3\\xb3k fel, sz\\xc5\\xb1r\\xc3\\xa9s, piros dug\\xc3\\xb3k leTrueFalse0Information00piros csipesz lez\\xc3\\xa1r\\xc3\\xa1sa a t\\xc5\\xb1 melletti cs\\xc5\\x91v\\xc3\\xa9g k\\xc3\\xb6zel\\xc3\\xa9benTrueFalse0Information00befert\\xc5\\x91z\\xc3\\xa9s: 100 ml Fluid-A befert\\xc5\\x91z\\xc3\\xa9se <100 cfu/0,1 ml mo. szuszpenzi\\xc3\\xb3valTrueFalse0Filtration750100 ml befert\\xc5\\x91z\\xc3\\xb6tt Fluid-A bet\\xc3\\xb6lt\\xc3\\xa9se , piros dug\\xc3\\xb3 fel, sz\\xc5\\xb1r\\xc3\\xa9s, piros dug\\xc3\\xb3 leTrueFalse0Information00s\\xc3\\xa1rga dug\\xc3\\xb3 fel a nyitott cs\\xc3\\xb6v\\xc5\\xb1 (feh\\xc3\\xa9r csipeszes) kaniszterenTrueFalse0MediaTransfer600SCB bet\\xc3\\xb6lt\\xc3\\xa9se: Bac. sp., / gomb\\xc3\\xa1k (Asp. br.; Cand. alb.) sz\\xc5\\xb1r\\xc3\\xa9se ut\\xc3\\xa1n, vagy l\\xc3\\xa1sd. 13. l\\xc3\\xa9p\\xc3\\xa9stTrueFalse0MediaTransfer300FTM bet\\xc3\\xb6lt\\xc3\\xa9se: bakt\\xc3\\xa9riumok (Staph. a.,; Ps. ae.; Bac. sp.; Clost. sp.) sz\\xc5\\xb1r\\xc3\\xa9se ut\\xc3\\xa1nTrueFalse0Information00feh\\xc3\\xa9r csipesz lez\\xc3\\xa1r\\xc3\\xa1sa a t\\xc5\\xb1 meletti cs\\xc5\\x91v\\xc3\\xa9g k\\xc3\\xb6zel\\xc3\\xa9ben, piros csipesz nyit\\xc3\\xa1sa TrueFalse0Information00befert\\xc5\\x91z\\xc3\\xa9s: 100 ml Fluid-A befert\\xc5\\x91z\\xc3\\xa9se <100 cfu/0,1 ml mo. szuszpenzi\\xc3\\xb3valTrueFalse0Filtration750100 ml befert\\xc5\\x91z\\xc3\\xb6tt Fluid-A bet\\xc3\\xb6lt\\xc3\\xa9se , piros dug\\xc3\\xb3 fel, sz\\xc5\\xb1r\\xc3\\xa9s, piros dug\\xc3\\xb3 leTrueFalse0Information00s\\xc3\\xa1rga dug\\xc3\\xb3 fel a nyitott cs\\xc3\\xb6v\\xc5\\xb1 (piros csipeszes) kaniszterenTrueFalse0MediaTransfer600SCB bet\\xc3\\xb6lt\\xc3\\xa9se: Bac. sp., / gomb\\xc3\\xa1k (Asp. br.; Cand. alb.) sz\\xc5\\xb1r\\xc3\\xa9se ut\\xc3\\xa1n, vagy l\\xc3\\xa1sd. 19. l\\xc3\\xa9p\\xc3\\xa9stTrueFalse0MediaTransfer300FTM bet\\xc3\\xb6lt\\xc3\\xa9se: bakt\\xc3\\xa9riumok (Staph. a.,; Ps. ae.; Bac. sp.; Clost. sp.) sz\\xc5\\xb1r\\xc3\\xa9se ut\\xc3\\xa1nTrueFalse0Information00csipeszek lez\\xc3\\xa1r\\xc3\\xa1sa a kaniszterekn\\xc3\\xa9l, cs\\xc3\\xb6vek lev\\xc3\\xa1g\\xc3\\xa1sa, kaniszterek lez\\xc3\\xa1r\\xc3\\xa1sa, elt\\xc3\\xa1vol\\xc3\\xadt\\xc3\\xa1saTrueFalse0Information001-20 l\\xc3\\xa9p\\xc3\\xa9s ism\\xc3\\xa9telve minden mikroorganizmus vonatkoz\\xc3\\xa1s\\xc3\\xa1banTrueFalse0CanisterClosing00pumpafej nyit\\xc3\\xa1saTrueFalse0'\n"
          ],
          "name": "stdout"
        }
      ]
    },
    {
      "cell_type": "code",
      "metadata": {
        "colab": {
          "base_uri": "https://localhost:8080/"
        },
        "id": "NcXLBzjnARxO",
        "outputId": "2b9f2cad-e6bd-4266-ce70-517c3300ac43"
      },
      "source": [
        "print(result.digest())\n",
        "md5_code=result.hexdigest().upper()\n",
        "print(md5_code)"
      ],
      "execution_count": 107,
      "outputs": [
        {
          "output_type": "stream",
          "text": [
            "b'\\xe6\\xaf\\x07\\x86\\x94d\\xb0\\x99,\\xeb\\x8aqW\\xe2Mg'\n",
            "E6AF07869464B0992CEB8A7157E24D67\n"
          ],
          "name": "stdout"
        }
      ]
    },
    {
      "cell_type": "code",
      "metadata": {
        "id": "XjLMuFMAG-6S"
      },
      "source": [
        "models = file.getElementsByTagName('HASH')"
      ],
      "execution_count": 108,
      "outputs": []
    },
    {
      "cell_type": "code",
      "metadata": {
        "colab": {
          "base_uri": "https://localhost:8080/"
        },
        "id": "aQ-tXPO3HLWj",
        "outputId": "e426c322-3b38-4f76-c37c-6f573465b70e"
      },
      "source": [
        "print(models[0].childNodes[0].nodeValue)"
      ],
      "execution_count": 109,
      "outputs": [
        {
          "output_type": "stream",
          "text": [
            "E6AF07869464B0992CEB8A7157E24D67\n"
          ],
          "name": "stdout"
        }
      ]
    },
    {
      "cell_type": "code",
      "metadata": {
        "id": "D_z_TuMZIyrR"
      },
      "source": [
        "models[0].childNodes[0].nodeValue=\"blabla\"   # felülírjuk"
      ],
      "execution_count": 110,
      "outputs": []
    },
    {
      "cell_type": "code",
      "metadata": {
        "colab": {
          "base_uri": "https://localhost:8080/"
        },
        "id": "xtFuTQsgI6uT",
        "outputId": "712dc22a-c5c4-4d33-ba3d-82bd579814c3"
      },
      "source": [
        "models = file.getElementsByTagName('HASH')\n",
        "print(models[0].childNodes[0].nodeValue)      #és vissazolvassuk"
      ],
      "execution_count": 111,
      "outputs": [
        {
          "output_type": "stream",
          "text": [
            "blabla\n"
          ],
          "name": "stdout"
        }
      ]
    },
    {
      "cell_type": "code",
      "metadata": {
        "id": "9hZg3GxgJH7t"
      },
      "source": [
        "skeleton='''<?xml version=\"1.0\" encoding=\"utf-8\"?><STERILITY_LIB>\n",
        "<FILENAME>\n",
        "</FILENAME>\n",
        "<HASH>082D7227B4EFAB8D88841EF8A1E425A2</HASH>\n",
        "<SOPS>\n",
        "<MDATE>2021:Jul:18</MDATE>\n",
        "</SOPS>\n",
        "</STERILITY_LIB>'''"
      ],
      "execution_count": 112,
      "outputs": []
    },
    {
      "cell_type": "code",
      "metadata": {
        "colab": {
          "base_uri": "https://localhost:8080/"
        },
        "id": "LWMydoBdDI9R",
        "outputId": "b03e86da-2883-44b1-fd69-e46f52910d58"
      },
      "source": [
        "print(skeleton)"
      ],
      "execution_count": 113,
      "outputs": [
        {
          "output_type": "stream",
          "text": [
            "<?xml version=\"1.0\" encoding=\"utf-8\"?><STERILITY_LIB>\n",
            "<FILENAME>\n",
            "</FILENAME>\n",
            "<HASH>082D7227B4EFAB8D88841EF8A1E425A2</HASH>\n",
            "<SOPS>\n",
            "<MDATE>2021:Jul:18</MDATE>\n",
            "</SOPS>\n",
            "</STERILITY_LIB>\n"
          ],
          "name": "stdout"
        }
      ]
    },
    {
      "cell_type": "code",
      "metadata": {
        "colab": {
          "base_uri": "https://localhost:8080/"
        },
        "id": "cS9JVkvwANx8",
        "outputId": "f3618ad7-a5d4-4c68-d11c-32f75bcb43bb"
      },
      "source": [
        "newSOPS = minidom.parseString(skeleton)\n",
        "print(newSOPS.encoding)"
      ],
      "execution_count": 114,
      "outputs": [
        {
          "output_type": "stream",
          "text": [
            "utf-8\n"
          ],
          "name": "stdout"
        }
      ]
    },
    {
      "cell_type": "code",
      "metadata": {
        "id": "pKvhDodvBJPD"
      },
      "source": [
        "def getnode(xml,tag):\n",
        "    model=xml.getElementsByTagName(tag)\n",
        "    return (model[0].childNodes[0].nodeValue)"
      ],
      "execution_count": 115,
      "outputs": []
    },
    {
      "cell_type": "code",
      "metadata": {
        "id": "J_EYsxqhCn5C"
      },
      "source": [
        "def setnode(xml,tag,value):\n",
        "    model=xml.getElementsByTagName(tag)\n",
        "    model[0].childNodes[0].nodeValue=value\n",
        "    return (model[0].childNodes[0].nodeValue)"
      ],
      "execution_count": 116,
      "outputs": []
    },
    {
      "cell_type": "code",
      "metadata": {
        "colab": {
          "base_uri": "https://localhost:8080/",
          "height": 35
        },
        "id": "WbZgxR7cByVG",
        "outputId": "67ab0453-7653-4649-bb08-eeac185af0a3"
      },
      "source": [
        "getnode(newSOPS,\"HASH\")"
      ],
      "execution_count": 117,
      "outputs": [
        {
          "output_type": "execute_result",
          "data": {
            "application/vnd.google.colaboratory.intrinsic+json": {
              "type": "string"
            },
            "text/plain": [
              "'082D7227B4EFAB8D88841EF8A1E425A2'"
            ]
          },
          "metadata": {
            "tags": []
          },
          "execution_count": 117
        }
      ]
    },
    {
      "cell_type": "code",
      "metadata": {
        "colab": {
          "base_uri": "https://localhost:8080/",
          "height": 35
        },
        "id": "Tdoj8SZPCzaS",
        "outputId": "b20d1b96-55de-4522-afe2-351743559aa4"
      },
      "source": [
        "setnode(newSOPS,\"HASH\",\"valami\")"
      ],
      "execution_count": 118,
      "outputs": [
        {
          "output_type": "execute_result",
          "data": {
            "application/vnd.google.colaboratory.intrinsic+json": {
              "type": "string"
            },
            "text/plain": [
              "'valami'"
            ]
          },
          "metadata": {
            "tags": []
          },
          "execution_count": 118
        }
      ]
    },
    {
      "cell_type": "code",
      "metadata": {
        "colab": {
          "base_uri": "https://localhost:8080/"
        },
        "id": "zmpgBjX-C7vq",
        "outputId": "f45e80ca-f804-4260-e5ab-4bda64ddda3e"
      },
      "source": [
        "print(newSOPS.toprettyxml())"
      ],
      "execution_count": 119,
      "outputs": [
        {
          "output_type": "stream",
          "text": [
            "<?xml version=\"1.0\" ?>\n",
            "<STERILITY_LIB>\n",
            "\t\n",
            "\n",
            "\t<FILENAME>\n",
            "</FILENAME>\n",
            "\t\n",
            "\n",
            "\t<HASH>valami</HASH>\n",
            "\t\n",
            "\n",
            "\t<SOPS>\n",
            "\t\t\n",
            "\n",
            "\t\t<MDATE>2021:Jul:18</MDATE>\n",
            "\t\t\n",
            "\n",
            "\t</SOPS>\n",
            "\t\n",
            "\n",
            "</STERILITY_LIB>\n",
            "\n"
          ],
          "name": "stdout"
        }
      ]
    },
    {
      "cell_type": "code",
      "metadata": {
        "id": "VNThnkMBDnDy"
      },
      "source": [
        "sops=newSOPS.getElementsByTagName(\"SOPS\")"
      ],
      "execution_count": 120,
      "outputs": []
    },
    {
      "cell_type": "code",
      "metadata": {
        "id": "c8sBAprg4ZYn"
      },
      "source": [
        "def inser_a_sop(sops_in,sop_in):\n",
        "    soplist=sops_in.getElementsByTagName(\"SOPS\")\n",
        "    soplist[0].appendChild(sop_in)\n",
        "    return sops_in\n",
        "\n",
        "\n"
      ],
      "execution_count": 121,
      "outputs": []
    },
    {
      "cell_type": "code",
      "metadata": {
        "colab": {
          "base_uri": "https://localhost:8080/"
        },
        "id": "nxRemXF0DzoD",
        "outputId": "91cf2aec-6157-48fb-e2c6-7c4ef9dcdc2f"
      },
      "source": [
        "print(sops[0].childNodes[0].nodeName)"
      ],
      "execution_count": 122,
      "outputs": [
        {
          "output_type": "stream",
          "text": [
            "#text\n"
          ],
          "name": "stdout"
        }
      ]
    },
    {
      "cell_type": "code",
      "metadata": {
        "colab": {
          "base_uri": "https://localhost:8080/",
          "height": 35
        },
        "id": "iOZyjIsRL-3C",
        "outputId": "7c7f5959-e6a5-4f16-a318-038296621e17"
      },
      "source": [
        "sops[0].nodeName"
      ],
      "execution_count": 123,
      "outputs": [
        {
          "output_type": "execute_result",
          "data": {
            "application/vnd.google.colaboratory.intrinsic+json": {
              "type": "string"
            },
            "text/plain": [
              "'SOPS'"
            ]
          },
          "metadata": {
            "tags": []
          },
          "execution_count": 123
        }
      ]
    },
    {
      "cell_type": "code",
      "metadata": {
        "id": "g5rvA_VPQF-i"
      },
      "source": [
        "sopTag=minidom.Document.createElement(\"TAG\",\"SOP\")\n",
        "lma=minidom.Document.createTextNode(\"alma\",\"POS\")\n",
        "newSOPS.encoding=\"UTF-8\""
      ],
      "execution_count": 124,
      "outputs": []
    },
    {
      "cell_type": "code",
      "metadata": {
        "colab": {
          "base_uri": "https://localhost:8080/"
        },
        "id": "GqFi4PjNOo43",
        "outputId": "b9627864-499f-48cd-df19-bd475a7a1574"
      },
      "source": [
        "sops[0].appendChild(asop)\n",
        "\n"
      ],
      "execution_count": 125,
      "outputs": [
        {
          "output_type": "execute_result",
          "data": {
            "text/plain": [
              "<DOM Element: SOP at 0x7f1ff90a6730>"
            ]
          },
          "metadata": {
            "tags": []
          },
          "execution_count": 125
        }
      ]
    },
    {
      "cell_type": "code",
      "metadata": {
        "id": "gjSa_qljXJ4t"
      },
      "source": [
        "print(newSOPS.toxml())"
      ],
      "execution_count": null,
      "outputs": []
    },
    {
      "cell_type": "code",
      "metadata": {
        "colab": {
          "base_uri": "https://localhost:8080/"
        },
        "id": "OJg3bp_B577e",
        "outputId": "4df99515-d6c5-4704-8ee0-9dd87576df36"
      },
      "source": [
        "newSOPS.getElementsByTagName"
      ],
      "execution_count": 127,
      "outputs": [
        {
          "output_type": "execute_result",
          "data": {
            "text/plain": [
              "<bound method Document.getElementsByTagName of <xml.dom.minidom.Document object at 0x7f1ff881a3d0>>"
            ]
          },
          "metadata": {
            "tags": []
          },
          "execution_count": 127
        }
      ]
    },
    {
      "cell_type": "code",
      "metadata": {
        "id": "66LHUu6sQ-Sq"
      },
      "source": [
        "res=inser_a_sop(newSOPS,asop)"
      ],
      "execution_count": 128,
      "outputs": []
    },
    {
      "cell_type": "code",
      "metadata": {
        "id": "RiGZfRMV6jyD"
      },
      "source": [
        "res=inser_a_sop(res,asop)"
      ],
      "execution_count": 129,
      "outputs": []
    },
    {
      "cell_type": "code",
      "metadata": {
        "id": "ugIQnXeJ6JOa"
      },
      "source": [
        "#print(res.toprettyxml())"
      ],
      "execution_count": 130,
      "outputs": []
    },
    {
      "cell_type": "code",
      "metadata": {
        "colab": {
          "base_uri": "https://localhost:8080/"
        },
        "id": "OdyAA7wE8R1W",
        "outputId": "c85407ce-58de-41bb-d92b-85a6ab4c6d85"
      },
      "source": [
        "newlib = minidom.parseString(skeleton)\n",
        "print(newlib.toxml())"
      ],
      "execution_count": 131,
      "outputs": [
        {
          "output_type": "stream",
          "text": [
            "<?xml version=\"1.0\" ?><STERILITY_LIB>\n",
            "<FILENAME>\n",
            "</FILENAME>\n",
            "<HASH>082D7227B4EFAB8D88841EF8A1E425A2</HASH>\n",
            "<SOPS>\n",
            "<MDATE>2021:Jul:18</MDATE>\n",
            "</SOPS>\n",
            "</STERILITY_LIB>\n"
          ],
          "name": "stdout"
        }
      ]
    },
    {
      "cell_type": "code",
      "metadata": {
        "id": "GIey_bD7AUIW"
      },
      "source": [
        "print(newlib.toprettyxml())"
      ],
      "execution_count": null,
      "outputs": []
    },
    {
      "cell_type": "code",
      "metadata": {
        "id": "Zmo911ZtEc3o"
      },
      "source": [
        "# végigmegyünk a fájlokon \n",
        "# minden fájl 0. sopját hozzátesszük a SOPS taghez\n",
        "\n",
        "\n",
        "for afile in files:\n",
        "    fname=_DEV_directory+afile\n",
        "    \n",
        "    # parse an xml file by name\n",
        "    asop = minidom.parse(fname)\n",
        "    \n",
        "    #use getElementsByTagName() to get tag\n",
        "    asopXML = asop.getElementsByTagName('SOP')\n",
        "    print(asopXML[0].toprettyxml())\n",
        "    newlib=inser_a_sop(newlib,asopXML[0])"
      ],
      "execution_count": null,
      "outputs": []
    },
    {
      "cell_type": "code",
      "metadata": {
        "id": "WqiTO5LOG-2F"
      },
      "source": [
        "print(newlib.toprettyxml())"
      ],
      "execution_count": null,
      "outputs": []
    },
    {
      "cell_type": "code",
      "metadata": {
        "id": "Izxp59pKIPwA"
      },
      "source": [
        "fullsops=newlib.getElementsByTagName('SOPS')"
      ],
      "execution_count": 135,
      "outputs": []
    },
    {
      "cell_type": "code",
      "metadata": {
        "id": "aYEZ5QnyIPwM"
      },
      "source": [
        "o=getChildXML(fullsops[0]) # ez a megoldás  !!!!!!!!!!!!!!!!!!!!!!!"
      ],
      "execution_count": 136,
      "outputs": []
    },
    {
      "cell_type": "code",
      "metadata": {
        "colab": {
          "base_uri": "https://localhost:8080/"
        },
        "id": "Igpz2L2qIs4p",
        "outputId": "169d6fb1-5c09-4612-e8a0-a863a95cdf5f"
      },
      "source": [
        "print(o)"
      ],
      "execution_count": 137,
      "outputs": [
        {
          "output_type": "stream",
          "text": [
            "2021:Jul:18929f0b22-c727-4cb5-a28b-e283c93052ed00138_SMVS1_21_R_ALCalcimusc injekció 5 ml OPCCalcimusc injekció 5 ml OPCTZHALAN/A01ApprovedInformation00TZHALA felszerelése, pumpa zárásaTrueFalse0Information0080 minta, FTM, SCB, Fluid-A fertőtlenítve, bekészítveTrueFalse0Information00minden FTM, SCB, Fluid-A bontásakor műanyag kupak le, gumidugó fertőtlenítéseTrueFalse0Information00csövek nyitva, piros és sárga dugók nincsenek felrakvaTrueFalse0PreWetting500kaniszterenként 50 ml Fluid-A betöltése, piros dugók fel, szűrés, piros dugók leTrueFalse0Filtration20020 ampulla nyitása, minta betöltése, majd piros dugó fel, szűrés, piros dugók leTrueFalse0Rinsing750kaniszterenként 100 ml Fluid-A betöltése, piros dugók fel, szűrés, piros dugók leTrueFalse0Information00piros csipesz lezárása a tű melletti csővég közelébenTrueFalse0Information00befertőzés: 100 ml Fluid-A befertőzése <100 cfu/0,1 ml mo. szuszpenzióvalTrueFalse0Filtration750100 ml befertőzött Fluid-A betöltése , piros dugó fel, szűrés, piros dugó leTrueFalse0Information00sárga dugó fel a nyitott csövű (fehér csipeszes) kaniszterenTrueFalse0MediaTransfer600SCB betöltése: Bac. sp., / gombák (Asp. br.; Cand. alb.) szűrése után, vagy lásd. 13. lépéstTrueFalse0MediaTransfer300FTM betöltése: baktériumok (Staph. a.,; Ps. ae.; Bac. sp.; Clost. sp.) szűrése utánTrueFalse0Information00fehér csipesz lezárása a tű meletti csővég közelében, piros csipesz nyitása TrueFalse0Information00befertőzés: 100 ml Fluid-A befertőzése <100 cfu/0,1 ml mo. szuszpenzióvalTrueFalse0Filtration750100 ml befertőzött Fluid-A betöltése , piros dugó fel, szűrés, piros dugó leTrueFalse0Information00sárga dugó fel a nyitott csövű (piros csipeszes) kaniszterenTrueFalse0MediaTransfer600SCB betöltése: Bac. sp., / gombák (Asp. br.; Cand. alb.) szűrése után, vagy lásd. 19. lépéstTrueFalse0MediaTransfer300FTM betöltése: baktériumok (Staph. a.,; Ps. ae.; Bac. sp.; Clost. sp.) szűrése utánTrueFalse0Information00csipeszek lezárása a kanisztereknél, csövek levágása, kaniszterek lezárása, eltávolításaTrueFalse0Information001-20 lépés ismételve minden mikroorganizmus vonatkozásábanTrueFalse0CanisterClosing00pumpafej nyitásaTrueFalse0a0afa7f1-1eb4-436d-a0ae-b8beca7acc4100151_SMVS1_21_R_ALGordox 100000 NE injekció 10 ml V.Gordox 100000 NE injekció 10 ml V.TZHALAN/A01ApprovedInformation00TZHALA felszerelése, pumpa zárásaTrueFalse0Information0080 minta, FTM, SCB, Fluid-A fertőtlenítve, bekészítveTrueFalse0Information00minden FTM, SCB, Fluid-A bontásakor műanyag kupak le, gumidugó fertőtlenítéseTrueFalse0Information00csövek nyitva, piros és sárga dugók nincsenek felrakvaTrueFalse0PreWetting500kaniszterenként 50 ml Fluid-A betöltése, piros dugók fel, szűrés, piros dugók leTrueFalse0Filtration20020 ampulla nyitása, minta betöltése, majd piros dugó fel, szűrés, piros dugók leTrueFalse0Rinsing750kaniszterenként 100 ml Fluid-A betöltése, piros dugók fel, szűrés, piros dugók leTrueFalse0Information00piros csipesz lezárása a tű melletti csővég közelébenTrueFalse0Information00befertőzés: 100 ml Fluid-A befertőzése <100 cfu/0,1 ml mo. szuszpenzióvalTrueFalse0Filtration750100 ml befertőzött Fluid-A betöltése , piros dugó fel, szűrés, piros dugó leTrueFalse0Information00sárga dugó fel a nyitott csövű (fehér csipeszes) kaniszterenTrueFalse0MediaTransfer600SCB betöltése: Bac. sp., / gombák (Asp. br.; Cand. alb.) szűrése után, vagy lásd. 13. lépéstTrueFalse0MediaTransfer300FTM betöltése: baktériumok (Staph. a.,; Ps. ae.; Bac. sp.; Clost. sp.) szűrése utánTrueFalse0Information00fehér csipesz lezárása a tű meletti csővég közelében, piros csipesz nyitása TrueFalse0Information00befertőzés: 100 ml Fluid-A befertőzése <100 cfu/0,1 ml mo. szuszpenzióvalTrueFalse0Filtration750100 ml befertőzött Fluid-A betöltése , piros dugó fel, szűrés, piros dugó leTrueFalse0Information00sárga dugó fel a nyitott csövű (piros csipeszes) kaniszterenTrueFalse0MediaTransfer600SCB betöltése: Bac. sp., / gombák (Asp. br.; Cand. alb.) szűrése után, vagy lásd. 19. lépéstTrueFalse0MediaTransfer300FTM betöltése: baktériumok (Staph. a.,; Ps. ae.; Bac. sp.; Clost. sp.) szűrése utánTrueFalse0Information00csipeszek lezárása a kanisztereknél, csövek levágása, kaniszterek lezárása, eltávolításaTrueFalse0Information001-20 lépés ismételve minden mikroorganizmus vonatkozásábanTrueFalse0CanisterClosing00pumpafej nyitásaTrueFalse05bdcf898-e357-497d-b7ef-fc70d5b0f49600153_SMVS1_21_R_ALHaloperidol decanoat injekció 1mlHaloperidol decanoat injekció 1ml TZHALAN/A01ApprovedInformation00TZHALA felszerelése, pumpa zárásaTrueFalse0Information00140 minta, FTM, SCB, Fluid-D fertőtlenítve, bekészítveTrueFalse0Information00minden FTM, SCB, Fluid-D bontásakor műanyag kupak le, gumidugó fertőtlenítéseTrueFalse0Information00piros csipesz zárva, fehér csipesz nyitva, piros és sárga dugók nincsenek felrakvaTrueFalse0Filtration20020 ampulla nyitása, minta betöltése a fehér csipeszes kaniszterbeTrueFalse0Information00piros csipesz nyitása, fehér csipesz zárásaTrueFalse0Filtration20020 ampulla nyitása, minta betöltése, piros csipesz nyitásaTrueFalse0Filtration200membrán mintával való telítése után piros dugók fel, minta szűrése, piros dugók leTrueFalse0Rinsing750öblítés 1.: 2x100 ml Fluid-D betöltése, piros dugók fel, szűrés, piros dugók leTrueFalse0Dilution750öblítés 2.: 2x100 ml Fluid-D betöltése, piros dugók fel, szűrés, piros dugók leTrueFalse0Information00piros csipesz lezárása a tű melletti csővég közelébenTrueFalse0Information00befertőzés: 100 ml Fluid-D befertőzése <=100 cfu/0,1 ml mo. szuszpenzióvalTrueFalse0Filtration750100 ml befertőzött Fluid-D betöltése, piros dugó fel, szűrés, piros dugó leTrueFalse0Information00 sárga dugó fel a nyitott csövű (fehér csipeszes) kaniszterenTrueFalse0MediaTransfer600SCB betöltése: Bac. sp., / gombák (Asp. br.; Cand. alb.) szűrése után, vagy lásd a 16. lépéstTrueFalse0MediaTransfer300FTM betöltése: baktériumok (Staph. a.; Ps. ae.; Bac. sp.; Clost. sp.) szűrése után TrueFalse0Information00fehér csipesz lezárása a tű meletti csővég közelében, piros csipesz nyitása TrueFalse0Information00befertőzés: 100 ml Fluid-D befertőzése <=100 cfu/0,1 ml mo. szuszpenzióvalTrueFalse0Filtration750100 ml befertőzött Fluid-D betöltése, piros dugó fel, szűrés, piros dugó leTrueFalse0Information00sárga dugó fel a nyitott csövű (piros csipeszes) kaniszterenTrueFalse0MediaTransfer600SCB betöltése: Bac. sp. / gombák (Asp. br.; Cand. alb.) szűrése után, vagy lásd a 22. lépéstTrueFalse0MediaTransfer300FTM betöltése: baktériumok (Staph. a.; Ps. ae.; Bac. sp.; Clost. sp.) szűrése után TrueFalse0Information00csipeszek lezárása a kanisztereknél, csövek levágása, kaniszterek lezárása, eltávolításaTrueFalse0Information001.-23. lépés ismételve minden mikroorganizmus vonatkozásábanTrueFalse0CanisterClosing00pumpafej nyitásaTrueFalse074299047-2eca-4bc9-8068-03eb3db493ea00159_SMV_21_R_ALMydeton injekció 1ml OPCMydeton injekció 1ml OPCTZHALAN/A01ApprovedInformation00TZHALA felszerelése, pumpa zárásaTrueFalse0Information00140 minta, FTM, SCB, Fluid-D fertőtlenítve, bekészítveTrueFalse0Information00minden FTM, SCB, Fluid-D bontásakor műanyag kupak le, gumidugó fertőtlenítéseTrueFalse0Information00csövek nyitva, piros és sárga dugók nincsenek felrakvaTrueFalse0PreWetting500kaniszterenként 50 ml Fluid-D betöltése, piros dugók fel, szűrés, piros dugók leTrueFalse0Filtration200piros csipesz zárása, 20 ampulla nyitása, minta betöltése, piros csipesz nyitásaTrueFalse0Filtration200fehér csipesz zárása, 20 ampulla nyitása, minta betöltése, fehér csipesz nyitásaTrueFalse0Filtration200piros dugók fel, szűrés, piros dugók leTrueFalse0Rinsing750öblítés 1.: 2x100 ml Fluid-D betöltése, piros dugók fel, szűrés, piros dugók leTrueFalse0Dilution750öblítés 2.: 2x100 ml Fluid-D betöltése, piros dugók fel, szűrés, piros dugók leTrueFalse0Information00piros csipesz lezárása a tű melletti csővég közelébenTrueFalse0Information00befertőzés: 100 ml Fluid-D befertőzése <=100 cfu/0,1 ml mo. szuszpenzióvalTrueFalse0Filtration750100 ml befertőzött Fluid-D betöltése, piros dugó fel, szűrés, piros dugó leTrueFalse0Information00 sárga dugó fel a nyitott csövű (fehér csipeszes) kaniszterenTrueFalse0MediaTransfer600SCB betöltése: Bac. sp., / gombák (Asp. br.; Cand. alb.) szűrése után, vagy lásd a 16. lépéstTrueFalse0MediaTransfer300FTM betöltése: baktériumok (Staph. a.; Ps. ae.; Bac. sp.; Clost. sp.) szűrése után TrueFalse0Information00piros csipesz nyitása,  fehér csipesz zárása a tű meletti csővég közelébenTrueFalse0Information00befertőzés: 100 ml Fluid-D befertőzése <=100 cfu/0,1 ml mo. szuszpenzióvalTrueFalse0Filtration750100 ml befertőzött Fluid-D betöltése, piros dugó fel, szűrés, piros dugó leTrueFalse0Information00sárga dugó fel a nyitott csövű (piros csipeszes) kaniszterenTrueFalse0MediaTransfer600SCB betöltése: Bac. sp. / gombák (Asp. br.; Cand. alb.) szűrése után, vagy lásd a 22. lépéstTrueFalse0MediaTransfer300FTM betöltése: baktériumok (Staph. a.; Ps. ae.; Bac. sp.; Clost. sp.) szűrése után TrueFalse0Information00csipeszek zárása a kanisztereknél, csövek levágása, kaniszterek zárása, eltávolításaTrueFalse0Information001.-23. lépés ismételve minden mikroorganizmus vonatkozásábanTrueFalse0CanisterClosing00pumpafej nyitásaTrueFalse0549e6e28-96f6-4ff0-ab21-f0c2e0ae82fe00161_SMV_21_R_ALOxytocin 10 NE injekció 1 mlOxytocin 10 NE injekció 1 mlTZHALAN/A01ApprovedInformation00TZHALA felszerelése, pumpa zárásaTrueFalse0Information00140 minta, FTM, SCB, Fluid-A fertőtlenítve, bekészítveTrueFalse0Information00minden vizsgálandó mikroorganizmussal végezzük el a folyamatotTrueFalse0Information00minden FTM, SCB, Fluid-A bontásakor műanyag kupak le, gumidugó fertőtlenítéseTrueFalse0Information00csövek nyitva, piros és sárga dugók nincsenek felrakvaTrueFalse0PreWetting500kaniszterenként 50 ml Fluid-A betöltése, piros dugók fel, 25 ml szűrés, piros dugók leTrueFalse0Information00piros csipesz zárása a tű felöli vég közelébenTrueFalse0Filtration3020 ampulla nyitása, minta betöltése, pumpa ampulánként indítva és leállítvaTrueFalse0Information00piros csipesz nyitása, fehér csipesz zárásaTrueFalse0Filtration3020 ampulla nyitása, minta betöltése, pumpa ampulánként indítva és leállítvaTrueFalse0Filtration700fehér csipesz nyitása, piros dugók fel, szűrés, piros dugók leTrueFalse0Rinsing500kaniszterenként 100 ml Fluid-A betöltése, piros dugók fel, szűrés, piros dugók leTrueFalse0Information00piros csipesz zárása a tű melletti csővég közelébenTrueFalse0Information00befertőzés: 100 ml Fluid-A befertőzése <100 cfu/0,1 ml mo. szuszpenzióvalTrueFalse0Filtration500100 ml befertőzött Fluid-A betöltése , piros dugó fel, szűrés, piros dugó leTrueFalse0Information00sárga dugó fel a nyitott csövű (fehér csipeszes) kaniszterenTrueFalse0MediaTransfer600SCB betöltése: Bac. sp., / gombák (Asp. br.; Cand. alb.) szűrése után, vagy lásd. 18. lépéstTrueFalse0MediaTransfer300FTM betöltése: baktériumok (Staph. a.,; Ps. ae.; Bac. sp.; Clost. sp.) szűrése utánTrueFalse0Information00fehér csipesz zárása a tű meletti csővég közelében, piros csipesz nyitása TrueFalse0Information00befertőzés: 100 ml Fluid-A befertőzése <100 cfu/0,1 ml mo. szuszpenzióvalTrueFalse0Filtration500100 ml befertőzött Fluid-A betöltése , piros dugó fel, szűrés, piros dugó leTrueFalse0Information00sárga dugó fel a nyitott csövű (piros csipeszes) kaniszterenTrueFalse0MediaTransfer600SCB betöltése: Bac. sp., / gombák (Asp. br.; Cand. alb.) szűrése után, vagy lásd. 24. lépéstTrueFalse0MediaTransfer300FTM betöltése: baktériumok (Staph. a.,; Ps. ae.; Bac. sp.; Clost. sp.) szűrése utánTrueFalse0CanisterClosing00pumpafej nyitása, majd a csipesz zárása és a csövek levágása TrueFalse0df0413c0-6317-4203-b213-fe58d199033500162_SMVS1_21_R_ALPanangin injekció 10 mlPanangin injekció 10 mlTZHALAN/A01ApprovedInformation00TZHALA felszerelése, pumpa zárásaTrueFalse0Information0080 minta, FTM, SCB, Fluid-A fertőtlenítve, bekészítveTrueFalse0Information00minden vizsgálandó mikroorganizmussal végezzük el a folyamatotTrueFalse0Information00minden FTM, SCB, Fluid-A bontásakor műanyag kupak le, gumidugó fertőtlenítéseTrueFalse0Information00csövek nyitva, piros és sárga dugók nincsenek felrakvaTrueFalse0PreWetting500kaniszterenként 50 ml Fluid-A betöltése, piros dugók fel, 25 ml szűrés, piros dugók leTrueFalse0Filtration5020 ampulla nyitása, minta betöltése, pumpa ampulánként indítva és leállítvaTrueFalse0Filtration700piros dugók fel, szűrés, piros dugók leTrueFalse0Rinsing500kaniszterenként 100 ml Fluid-A betöltése, piros dugók fel, szűrés, piros dugók leTrueFalse0Information00piros csipesz zárása a tű melletti csővég közelébenTrueFalse0Information00befertőzés: 100 ml Fluid-A befertőzése <100 cfu/0,1 ml mo. szuszpenzióvalTrueFalse0Filtration500100 ml befertőzött Fluid-A betöltése , piros dugó fel, szűrés, piros dugó leTrueFalse0Information00sárga dugó fel a nyitott csövű (fehér csipeszes) kaniszterenTrueFalse0MediaTransfer600SCB betöltése: Bac. sp., / gombák (Asp. br.; Cand. alb.) szűrése után, vagy lásd. 15. lépéstTrueFalse0MediaTransfer300FTM betöltése: baktériumok (Staph. a.,; Ps. ae.; Bac. sp.; Clost. sp.) szűrése utánTrueFalse0Information00fehér csipesz zárása a tű meletti csővég közelében, piros csipesz nyitása TrueFalse0Information00befertőzés: 100 ml Fluid-A befertőzése <100 cfu/0,1 ml mo. szuszpenzióvalTrueFalse0Filtration500100 ml befertőzött Fluid-A betöltése , piros dugó fel, szűrés, piros dugó leTrueFalse0Information00sárga dugó fel a nyitott csövű (piros csipeszes) kaniszterenTrueFalse0MediaTransfer600SCB betöltése: Bac. sp., / gombák (Asp. br.; Cand. alb.) szűrése után, vagy lásd. 21. lépéstTrueFalse0MediaTransfer300FTM betöltése: baktériumok (Staph. a.,; Ps. ae.; Bac. sp.; Clost. sp.) szűrése utánTrueFalse0CanisterClosing00pumpafej nyitása, majd a csipesz zárása és a csövek levágása TrueFalse04bbdcaee-d3aa-4b48-8e13-166c49de4ff400162_SMV_21_R_ALPanangin injekció 10 mlPanangin injekció 10 mlTZHALAN/A01ApprovedInformation00TZHALA felszerelése, pumpa zárásaTrueFalse0Information0080 minta, FTM, SCB, Fluid-A fertőtlenítve, bekészítveTrueFalse0Information00minden FTM, SCB, Fluid-A bontásakor műanyag kupak le, gumidugó fertőtlenítéseTrueFalse0Information00csövek nyitva, piros és sárga dugók nincsenek felrakvaTrueFalse0PreWetting500kaniszterenként 50 ml Fluid-A betöltése, piros dugók fel, szűrés, piros dugók leTrueFalse0Filtration20020 ampulla nyitása, minta betöltése, majd piros dugó fel, szűrés, piros dugók leTrueFalse0Rinsing750kaniszterenként 100 ml Fluid-A betöltése, piros dugók fel, szűrés, piros dugók leTrueFalse0Information00piros csipesz lezárása a tű melletti csővég közelébenTrueFalse0Information00befertőzés: 100 ml Fluid-A befertőzése <100 cfu/0,1 ml mo. szuszpenzióvalTrueFalse0Filtration750100 ml befertőzött Fluid-A betöltése , piros dugó fel, szűrés, piros dugó leTrueFalse0Information00sárga dugó fel a nyitott csövű (fehér csipeszes) kaniszterenTrueFalse0MediaTransfer600SCB betöltése: Bac. sp., / gombák (Asp. br.; Cand. alb.) szűrése után, vagy lásd. 13. lépéstTrueFalse0MediaTransfer300FTM betöltése: baktériumok (Staph. a.,; Ps. ae.; Bac. sp.; Clost. sp.) szűrése utánTrueFalse0Information00fehér csipesz lezárása a tű meletti csővég közelében, piros csipesz nyitása TrueFalse0Information00befertőzés: 100 ml Fluid-A befertőzése <100 cfu/0,1 ml mo. szuszpenzióvalTrueFalse0Filtration750100 ml befertőzött Fluid-A betöltése , piros dugó fel, szűrés, piros dugó leTrueFalse0Information00sárga dugó fel a nyitott csövű (piros csipeszes) kaniszterenTrueFalse0MediaTransfer600SCB betöltése: Bac. sp., / gombák (Asp. br.; Cand. alb.) szűrése után, vagy lásd. 19. lépéstTrueFalse0MediaTransfer300FTM betöltése: baktériumok (Staph. a.,; Ps. ae.; Bac. sp.; Clost. sp.) szűrése utánTrueFalse0Information00csipeszek lezárása a kanisztereknél, csövek levágása, kaniszterek lezárása, eltávolításaTrueFalse0Information001-20 lépés ismételve minden mikroorganizmus vonatkozásábanTrueFalse0CanisterClosing00pumpafej nyitásaTrueFalse01df0a775-ebc8-445b-b38e-d25e70b5ccaf00271_SMV_21_R_ALSeduxen injekció 2 ml OPCSeduxen injekció 2 ml OPCTZHALAN/A01ApprovedInformation00TZHALA felszerelése, pumpa zárásaTrueFalse0Information0080 minta, FTM, SCB, Fluid-A fertőtlenítve, bekészítveTrueFalse0Information00minden vizsgálandó mikroorganizmussal végezzük el a folyamatotTrueFalse0Information00minden FTM, SCB, Fluid-A bontásakor műanyag kupak le, gumidugó fertőtlenítéseTrueFalse0Information00csövek nyitva, piros és sárga dugók nincsenek felrakvaTrueFalse0PreWetting500kaniszterenként 50 ml Fluid-A betöltése, piros dugók fel, 25 ml szűrés, piros dugók leTrueFalse0Filtration3020 ampulla nyitása, minta betöltése, pumpa ampulánként indítva és leállítvaTrueFalse0Filtration700piros dugók fel, szűrés, piros dugók leTrueFalse0Rinsing500kaniszterenként 100 ml Fluid-A betöltése, piros dugók fel, szűrés, piros dugók leTrueFalse0Information00piros csipesz zárása a tű melletti csővég közelébenTrueFalse0Information00befertőzés: 100 ml Fluid-A befertőzése <100 cfu/0,1 ml mo. szuszpenzióvalTrueFalse0Filtration500100 ml befertőzött Fluid-A betöltése , piros dugó fel, szűrés, piros dugó leTrueFalse0Information00sárga dugó fel a nyitott csövű (fehér csipeszes) kaniszterenTrueFalse0MediaTransfer600SCB betöltése: Bac. sp., / gombák (Asp. br.; Cand. alb.) szűrése után, vagy lásd. 15. lépéstTrueFalse0MediaTransfer300FTM betöltése: baktériumok (Staph. a.,; Ps. ae.; Bac. sp.; Clost. sp.) szűrése utánTrueFalse0Information00fehér csipesz zárása a tű meletti csővég közelében, piros csipesz nyitása TrueFalse0Information00befertőzés: 100 ml Fluid-A befertőzése <100 cfu/0,1 ml mo. szuszpenzióvalTrueFalse0Filtration500100 ml befertőzött Fluid-A betöltése , piros dugó fel, szűrés, piros dugó leTrueFalse0Information00sárga dugó fel a nyitott csövű (piros csipeszes) kaniszterenTrueFalse0MediaTransfer600SCB betöltése: Bac. sp., / gombák (Asp. br.; Cand. alb.) szűrése után, vagy lásd. 21. lépéstTrueFalse0MediaTransfer300FTM betöltése: baktériumok (Staph. a.,; Ps. ae.; Bac. sp.; Clost. sp.) szűrése utánTrueFalse0CanisterClosing00pumpafej nyitása, majd a csipesz zárása és a csövek levágása TrueFalse0caeb6328-9f38-459f-8aea-2e44c4cc027400754_SMVS1_21_R_ALCavinton injekció 5 mlCavinton injekció 5 mlTZHALAN/A01ApprovedInformation00TZHALA felszerelése, pumpa zárásaTrueFalse0Information0080 minta, FTM, SCB, Fluid-A fertőtlenítve, bekészítveTrueFalse0Information00minden FTM, SCB, Fluid-A bontásakor műanyag kupak le, gumidugó fertőtlenítéseTrueFalse0Information00csövek nyitva, piros és sárga dugók nincsenek felrakvaTrueFalse0PreWetting500kaniszterenként 50 ml Fluid-A betöltése, piros dugók fel, szűrés, piros dugók leTrueFalse0Filtration20020 ampulla nyitása, minta betöltése, majd piros dugó fel, minta szűrése, piros dugók leTrueFalse0Rinsing750kaniszterenként 100 ml Fluid-A betöltése, piros dugók fel, szűrés, piros dugók leTrueFalse0Information00piros csipesz lezárása a tű melletti csővég közelébenTrueFalse0Information00befertőzés: 100 ml Fluid-A befertőzése <100 cfu/0,1 ml mo. szuszpenzióvalTrueFalse0Filtration750100 ml befertőzött Fluid-A betöltése , piros dugó fel, szűrés, piros dugó leTrueFalse0Information00sárga dugó fel a nyitott csövű (fehér csipeszes) kaniszterenTrueFalse0MediaTransfer600SCB betöltése: Bac. sp., / gombák (Asp. br.; Cand. alb.) szűrése után, vagy lásd. 13. lépéstTrueFalse0MediaTransfer300FTM betöltése: baktériumok (Staph. a.,; Ps. ae.; Bac. sp.; Clost. sp.) szűrése utánTrueFalse0Information00fehér csipesz lezárása a tű meletti csővég közelében, piros csipesz nyitása TrueFalse0Information00befertőzés: 100 ml Fluid-A befertőzése <100 cfu/0,1 ml mo. szuszpenzióvalTrueFalse0Filtration750100 ml befertőzött Fluid-A betöltése , piros dugó fel, szűrés, piros dugó leTrueFalse0Information00sárga dugó fel a nyitott csövű (piros csipeszes) kaniszterenTrueFalse0MediaTransfer600SCB betöltése: Bac. sp., / gombák (Asp. br.; Cand. alb.) szűrése után, vagy lásd. 19. lépéstTrueFalse0MediaTransfer300FTM betöltése: baktériumok (Staph. a.,; Ps. ae.; Bac. sp.; Clost. sp.) szűrése utánTrueFalse0Information00csipeszek lezárása a kanisztereknél, csövek levágása, kaniszterek lezárása, eltávolításaTrueFalse0Information001-20 lépés ismételve minden mikroorganizmus vonatkozásábanTrueFalse0CanisterClosing00pumpafej nyitásaTrueFalse04b512e29-97f5-42ea-8f7b-22239f0f9dc000798_SMVS1_21_R_ALNatrium chloratum inj. 5 mlNatrium chloratum inj. 5 mlTZHALAN/A01ApprovedInformation00TZHALA felszerelése, pumpa zárásaTrueFalse0Information0080 minta, FTM, SCB, Fluid-A fertőtlenítve, bekészítveTrueFalse0Information00minden FTM, SCB, Fluid-A bontásakor műanyag kupak le, gumidugó fertőtlenítéseTrueFalse0Information00csövek nyitva, piros és sárga dugók nincsenek felrakvaTrueFalse0PreWetting500kaniszterenként 50 ml Fluid-A betöltése, piros dugók fel, szűrés, piros dugók leTrueFalse0Filtration20020 ampulla nyitása, minta betöltése, majd piros dugó fel, szűrés, piros dugók leTrueFalse0Rinsing750kaniszterenként 100 ml Fluid-A betöltése, piros dugók fel, szűrés, piros dugók leTrueFalse0Information00piros csipesz lezárása a tű melletti csővég közelébenTrueFalse0Information00befertőzés: 100 ml Fluid-A befertőzése <100 cfu/0,1 ml mo. szuszpenzióvalTrueFalse0Filtration750100 ml befertőzött Fluid-A betöltése , piros dugó fel, szűrés, piros dugó leTrueFalse0Information00sárga dugó fel a nyitott csövű (fehér csipeszes) kaniszterenTrueFalse0MediaTransfer600SCB betöltése: Bac. sp., / gombák (Asp. br.; Cand. alb.) szűrése után, vagy lásd. 13. lépéstTrueFalse0MediaTransfer300FTM betöltése: baktériumok (Staph. a.,; Ps. ae.; Bac. sp.; Clost. sp.) szűrése utánTrueFalse0Information00fehér csipesz lezárása a tű meletti csővég közelében, piros csipesz nyitása TrueFalse0Information00befertőzés: 100 ml Fluid-A befertőzése <100 cfu/0,1 ml mo. szuszpenzióvalTrueFalse0Filtration750100 ml befertőzött Fluid-A betöltése , piros dugó fel, szűrés, piros dugó leTrueFalse0Information00sárga dugó fel a nyitott csövű (piros csipeszes) kaniszterenTrueFalse0MediaTransfer600SCB betöltése: Bac. sp., / gombák (Asp. br.; Cand. alb.) szűrése után, vagy lásd. 19. lépéstTrueFalse0MediaTransfer300FTM betöltése: baktériumok (Staph. a.,; Ps. ae.; Bac. sp.; Clost. sp.) szűrése utánTrueFalse0Information00csipeszek lezárása a kanisztereknél, csövek levágása, kaniszterek lezárása, eltávolításaTrueFalse0Information001-20 lépés ismételve minden mikroorganizmus vonatkozásábanTrueFalse0CanisterClosing00pumpafej nyitásaTrueFalse0006d4eba-fccb-4031-8738-b8b38d55d36c00828_SMVS1_21_R_SYIbandronat 3 mg inj. 3 mlIbandronat 3 mg injekció 3 ml 5 ml-es fecskendőbenTZHASYN/A01ApprovedInformation00TZHASY felszerelése, pumpa zárásaFalseTrue3Information0080 minta, FTM, SCB, Fluid-A fertőtlenítve, bekészítveFalseTrue3Information00minden FTM, SCB, Fluid-A bontásakor műanyag kupak le, gumidugó fertőtlenítéseFalseTrue3Information00csövek nyitva, piros, sárga  dugók nincsenek felrakva, kék dugó az SS csatlakozójábanFalseTrue3Information00Fluid-A: műanyag kupak le, gumidugó fertőtlenítéseFalseTrue3PreWetting500kaniszterenként 50 ml Fluid-A betöltése, piros dugók fel, 25 ml szűrése, piros dugók leFalseTrue3Information00kék dugó ki, fecskendő be, kézzel lassan benyomni a mintát a csőbeFalseTrue3Information00ha a fecskendő kiürül,  fecskendőcsere az utolsó fecskendőigFalseTrue3Filtration200Fluid-A és 20 minta betöltése, utolsó fecskendő benn maradFalseTrue3Filtration200piros dugók fel, betöltött minta szűrése, piros dugók leFalseTrue3Rinsing1000kaniszterenként100 ml Fluid-A betöltése, piros dugó fel, szűrés, piros dugók leFalseTrue3Information00piros csipesz lezárása a tű melletti csővég közelébenFalseTrue3Information00befertőzés: 100 ml Fluid-A befertőzése <=100 cfu/0,1ml mo. szuszpenzióvalFalseTrue3Filtration1000100 ml befertőzött Fluid-A betöltése, piros dugó fel, szűrés, piros dugó leFalseTrue3Information00sárga dugó fel a nyitott csövű (fehér csipeszes) kaniszterenFalseTrue3MediaTransfer600SCB betöltése: Bac. sp. / gombák (Asp. br.; Cand. alb.) szűrése után, vagy lásd 17. lépéstFalseTrue3MediaTransfer300FTM betöltése: baktériumok (Staph. a.; Ps. ae.; Bac. sp.; Clost. sp.) szűrése utánFalseTrue3Information00fehér csipesz lezárása a tű melletti csővég közelében, piros csipesz nyitása FalseTrue3Information00100 ml Fluid-A befertőzése <=100 cfu/0,1ml egy még nem vizsgált mo. szuszpenzióvalFalseTrue3Rinsing1000100 ml befertőzött Fluid-A betöltése, piros dugó fel, szűrés, piros dugó leFalseTrue3Information00sárga dugó fel a nyitott csövű (piros csipeszes) kaniszterenFalseTrue3MediaTransfer600SCB betöltése: Bac. sp. / gombák (Asp. br.; Cand. alb.) szűrése után, vagy lásd 23. lépéstFalseTrue3MediaTransfer300FTM betöltése: baktériumok (Staph. a.; Ps. ae.; Bac. sp.; Clost. sp.) szűrése utánFalseTrue3Information00csipeszek lezárása a kanisztereknél, csövek levágása, kanioszterek lezárása, eltávolításaFalseTrue3Information001-24 lépés ismételve minden mikroorganizmus vonatkozásábanFalseTrue3CanisterClosing00pumpafej nyitásaFalseTrue3b2ebc8e6-850e-45e4-b2a2-889b46eb013e01117_SMV_21_R_CLTeriparatide 0,020mg/0,080ml o. inj.Teriparatide 0,020mg/0,080ml oldat injekcióhoz 3 ml-es cartridge-ban; kivehető térfogat: 2,3 mlN/AN/ASzerelék: TZHACA01ApprovedInformation00TZHACA felszerelése, pumpa zárásaTrueFalse0Information0080 minta, FTM, SCB, Fluid-A fertőtlenítve, bekészítveTrueFalse0Information00minden vizsgálandó mikroorganizmussal végezzük el a folyamatotTrueFalse0Information00minden FTM, SCB, Fluid-A bontásakor műanyag kupak le, gumidugó fertőtlenítéseTrueFalse0Information00csövek nyitva, piros és sárga dugók nincsenek felrakvaTrueFalse0PreWetting500kaniszterenként 50 ml Fluid-A betöltése, piros dugók fel, 25 ml szűrés, piros dugók leTrueFalse0Filtration3020 cartridgenyitása, minta betöltése, pumpa ampulánként indítva és leállítvaTrueFalse0Filtration700piros dugók fel, szűrés, piros dugók leTrueFalse0Rinsing5001. kaniszterenként 100 ml Fluid-A betöltése, piros dugók fel, szűrés, piros dugók leTrueFalse0Rinsing5002. kaniszterenként 100 ml Fluid-A betöltése, piros dugók fel, szűrés, piros dugók leTrueFalse0Information00piros csipesz zárása a tű melletti csővég közelébenTrueFalse0Information00befertőzés: 100 ml Fluid-A befertőzése <100 cfu/0,1 ml mo. szuszpenzióvalTrueFalse0Filtration500100 ml befertőzött Fluid-A betöltése , piros dugó fel, szűrés, piros dugó leTrueFalse0Information00sárga dugó fel a nyitott csövű (fehér csipeszes) kaniszterenTrueFalse0MediaTransfer600SCB betöltése: Bac. sp., / gombák (Asp. br.; Cand. alb.) szűrése után, vagy lásd. 16. lépéstTrueFalse0MediaTransfer300FTM betöltése: baktériumok (Staph. a.,; Ps. ae.; Bac. sp.; Clost. sp.) szűrése utánTrueFalse0Information00fehér csipesz zárása a tű meletti csővég közelében, piros csipesz nyitása TrueFalse0Information00befertőzés: 100 ml Fluid-A befertőzése <100 cfu/0,1 ml mo. szuszpenzióvalTrueFalse0Filtration500100 ml befertőzött Fluid-A betöltése , piros dugó fel, szűrés, piros dugó leTrueFalse0Information00sárga dugó fel a nyitott csövű (piros csipeszes) kaniszterenTrueFalse0MediaTransfer600SCB betöltése: Bac. sp., / gombák (Asp. br.; Cand. alb.) szűrése után, vagy lásd. 22. lépéstTrueFalse0MediaTransfer300FTM betöltése: baktériumok (Staph. a.,; Ps. ae.; Bac. sp.; Clost. sp.) szűrése utánTrueFalse0CanisterClosing00pumpafej nyitása, majd a csipesz zárása és a csövek levágása TrueFalse0c63c6ed1-d877-4192-a46b-f0224a4f56a081402_SMV_21_R_CLBemfola 450 IU / 0,75 ml injekció RGBemfola 75 IU/0,125150 IU/0,25 ml; 225 IU/0,375 ml; 300 IU/0,5 ml; 450 IU/0,75 ml; injekció RGN/AN/ASzerelék: TZHACA01ApprovedInformation00TZHACA felszerelése, pumpa zárásaTrueFalse0Information00140 minta, FTM, SCB, Fluid-A fertőtlenítve, bekészítveTrueFalse0Information00minden vizsgálandó mikroorganizmussal végezzük el a folyamatotTrueFalse0Information00minden FTM, SCB, Fluid-A bontásakor műanyag kupak le, gumidugó fertőtlenítéseTrueFalse0Information00csövek nyitva, piros és sárga dugók nincsenek felrakvaTrueFalse0PreWetting500kaniszterenként 50 ml Fluid-A betöltése, piros dugók fel, 25 ml szűrés, piros dugók leTrueFalse0Information00piros csipesz zárása a tű felöli vég közelébenTrueFalse0Filtration3020 cartridge nyitása, minta betöltése, pumpa cartridge-onként indítva és leállítvaTrueFalse0Information00piros csipesz nyitása, fehér csipesz zárásaTrueFalse0Filtration3020 cartridge nyitása, minta betöltése, pumpa cartridge-onként indítva és leállítvaTrueFalse0Filtration700fehér csipesz nyitása, piros dugók fel, szűrés, piros dugók leTrueFalse0Rinsing500kaniszterenként 100 ml Fluid-A betöltése, piros dugók fel, szűrés, piros dugók leTrueFalse0Information00piros csipesz zárása a tű melletti csővég közelébenTrueFalse0Information00befertőzés: 100 ml Fluid-A befertőzése <100 cfu/0,1 ml mo. szuszpenzióvalTrueFalse0Filtration500100 ml befertőzött Fluid-A betöltése , piros dugó fel, szűrés, piros dugó leTrueFalse0Information00sárga dugó fel a nyitott csövű (fehér csipeszes) kaniszterenTrueFalse0MediaTransfer600SCB betöltése: Bac. sp., / gombák (Asp. br.; Cand. alb.) szűrése után, vagy lásd. 18. lépéstTrueFalse0MediaTransfer300FTM betöltése: baktériumok (Staph. a.,; Ps. ae.; Bac. sp.; Clost. sp.) szűrése utánTrueFalse0Information00fehér csipesz zárása a tű meletti csővég közelében, piros csipesz nyitása TrueFalse0Information00befertőzés: 100 ml Fluid-A befertőzése <100 cfu/0,1 ml mo. szuszpenzióvalTrueFalse0Filtration500100 ml befertőzött Fluid-A betöltése , piros dugó fel, szűrés, piros dugó leTrueFalse0Information00sárga dugó fel a nyitott csövű (piros csipeszes) kaniszterenTrueFalse0MediaTransfer600SCB betöltése: Bac. sp., / gombák (Asp. br.; Cand. alb.) szűrése után, vagy lásd. 24. lépéstTrueFalse0MediaTransfer300FTM betöltése: baktériumok (Staph. a.,; Ps. ae.; Bac. sp.; Clost. sp.) szűrése utánTrueFalse0CanisterClosing00pumpafej nyitása, majd a csipesz zárása és a csövek levágása TrueFalse0a1fa97ab-9d8b-4927-a8bb-2779df93c7ff81402_SMV_21_R_CL225Bemfola 225 IU/0,375 ml injekció RGBemfola 75 IU/0,125150 IU/0,25 ml; 225 IU/0,375 ml; 300 IU/0,5 ml; 450 IU/0,75 ml; injekció RGN/AN/ASzerelék: TZHACA01ApprovedInformation00TZHACA felszerelése, pumpa zárásaTrueFalse0Information00280 minta, FTM, SCB, Fluid-A fertőtlenítve, bekészítveTrueFalse0Information00minden vizsgálandó mikroorganizmussal végezzük el a folyamatotTrueFalse0Information00minden FTM, SCB, Fluid-A bontásakor műanyag kupak le, gumidugó fertőtlenítéseTrueFalse0Information00csövek nyitva, piros és sárga dugók nincsenek felrakvaTrueFalse0PreWetting500kaniszterenként 50 ml Fluid-A betöltése, piros dugók fel, 25 ml szűrés, piros dugók leTrueFalse0Information00piros csipesz zárása a tű felöli vég közelébenTrueFalse0Filtration3040 cartridge nyitása, minta betöltése, pumpa cartridge-onként indítva és leállítvaTrueFalse0Information00piros csipesz nyitása, fehér csipesz zárásaTrueFalse0Filtration3040 cartridge nyitása, minta betöltése, pumpa cartridge-onként indítva és leállítvaTrueFalse0Filtration700fehér csipesz nyitása, piros dugók fel, szűrés, piros dugók leTrueFalse0Rinsing500kaniszterenként 100 ml Fluid-A betöltése, piros dugók fel, szűrés, piros dugók leTrueFalse0Information00piros csipesz zárása a tű melletti csővég közelébenTrueFalse0Information00befertőzés: 100 ml Fluid-A befertőzése <100 cfu/0,1 ml mo. szuszpenzióvalTrueFalse0Filtration500100 ml befertőzött Fluid-A betöltése , piros dugó fel, szűrés, piros dugó leTrueFalse0Information00sárga dugó fel a nyitott csövű (fehér csipeszes) kaniszterenTrueFalse0MediaTransfer600SCB betöltése: Bac. sp., / gombák (Asp. br.; Cand. alb.) szűrése után, vagy lásd. 18. lépéstTrueFalse0MediaTransfer300FTM betöltése: baktériumok (Staph. a.,; Ps. ae.; Bac. sp.; Clost. sp.) szűrése utánTrueFalse0Information00fehér csipesz zárása a tű meletti csővég közelében, piros csipesz nyitása TrueFalse0Information00befertőzés: 100 ml Fluid-A befertőzése <100 cfu/0,1 ml mo. szuszpenzióvalTrueFalse0Filtration500100 ml befertőzött Fluid-A betöltése , piros dugó fel, szűrés, piros dugó leTrueFalse0Information00sárga dugó fel a nyitott csövű (piros csipeszes) kaniszterenTrueFalse0MediaTransfer600SCB betöltése: Bac. sp., / gombák (Asp. br.; Cand. alb.) szűrése után, vagy lásd. 24. lépéstTrueFalse0MediaTransfer300FTM betöltése: baktériumok (Staph. a.,; Ps. ae.; Bac. sp.; Clost. sp.) szűrése utánTrueFalse0CanisterClosing00pumpafej nyitása, majd a csipesz zárása és a csövek levágása TrueFalse0a9ec9e05-460d-46b5-bfaf-e8885289ec71NK_FD_SMV_21_E_ALNegatív_kontroll_Fluid-D_AL1TZHALAN/A01ApprovedInformation00TZHALA szerelék felszerelése, pumpa zárásaTrueFalse0Information00100 ml FTM, 100 ml SCB, 2x300 ml Fluid-D fertőtlenítve, bekészítveTrueFalse0Information00minden FTM, SCB, Fluid-D bontásakor műanyag kupak le, gumidugó fertőtlenítéseTrueFalse0Information00piros csipesz zárása, fehér csipesz nyitása, piros és sárga dugók nincsen felrakvaTrueFalse0Rinsing500100 ml Fluid-D betöltése, piros dugók fel, szűrés, piros dugók leTrueFalse0Rinsing7502x(100 ml Fluid-D betöltése, piros dugók fel, szűrés, piros dugók le)TrueFalse0Information00sárga dugó fel a fehér csipeszes kaniszterreTrueFalse0MediaTransfer600100 ml SCB tápoldat betöltése a kaniszterbeTrueFalse0Information00piros csipesz nyitása, fehér csipesz zárása  tű melletti csővég közelébenTrueFalse0Rinsing500100 ml Fluid-D betöltése, piros dugók fel, szűrés, piros dugók leTrueFalse0Rinsing7502x(100 ml Fluid-D betöltése, piros dugók fel, szűrés, piros dugók le)TrueFalse0Information00sárga dugó fel a piros csipeszes kaniszterreTrueFalse0MediaTransfer300100 ml FTM tápoldat betöltése a kaniszterbeTrueFalse0Information00csipeszek zárása a kanisztereknél, csövek levágása, kaniszterek lezárása, eltávolításaTrueFalse0CanisterClosing00pumpafej nyitásaTrueFalse0a8b7ab97-98b3-4d7b-8571-772fcf96cf8eNK_FK_SMV_21_E_ALNegatív_kontroll_Fluid-K_ALTZHALAN/A01ApprovedInformation00TZHALA szerelék felszerelése, pumpa zárásaTrueFalse0Information00100 ml FTM, 100 ml SCB, 300 ml Fluid-K és 400 ml Fluid-A fertőtlenítve, bekészítveTrueFalse0Information00FTM, SCB, Fluid-K, Fluid-A bontásakor műanyag kupak le, gumidugó fertőtlenítéseTrueFalse0Information00csipeszek nyitva, piros és sárga dugók nincsen felrakvaTrueFalse0Rinsing5001. kaniszterenként 50 ml Fluid-K betöltése, piros dugók fel, szűrés, piros dugók leTrueFalse0Rinsing5002. kaniszterenként 100 ml Fluid-K betöltése, piros dugók fel, szűrés, piros dugók leTrueFalse0Rinsing5003. kaniszterenként 100 ml Fluid-A betöltése, piros dugók fel, szűrés, piros dugók leTrueFalse0Rinsing5004. kaniszterenként 100 ml Fluid-A betöltése, piros dugók fel, szűrés, piros dugók leTrueFalse0Information00sárga dugók fel, a piros csipesz zárása a tű melletti csővég közelébenTrueFalse0MediaTransfer600100 ml SCB tápoldat betöltése a kaniszterbeTrueFalse0Information00piros csipesz nyitása, fehér csipesz zárása  tű melletti csővég közelébenTrueFalse0MediaTransfer300100 ml FTM tápoldat betöltése a kaniszterbeTrueFalse0CanisterClosing00pumpafej nyitása, majd csipeszek zárása, csövek levágása, kaniszterek zárásaTrueFalse0f53cd589-befd-4a84-a96e-2d5ef0c767f4NK_SMV_21_E_ALNegatív kontrollAL3TZHALAN/A03ApprovedInformation00TZHALA szerelék felszerelése, pumpa zárásaTrueFalse0Information00FTM, TSB/SCB, Fluid-A fertőtlenítve, bekészítveTrueFalse0Information00 csövek nyitva, piros és sárga dugók nincsenek felrakvaTrueFalse0PreWetting500előnedvesítéshez gumidugó fertőtlenítése, kaniszterenként 50 ml Fluid-A betöltéseTrueFalse0PreWetting500előnedvesítés: piros dugók fel, 2x50 ml Fluid-A szűréseTrueFalse0Rinsing500öblítés1: piros dugók le, kaniszterenként100 ml Fluid-A betöltéseTrueFalse0Rinsing500öblítés1: piros dugók fel, kaniszterenként 100 ml Fluid-A szűréseTrueFalse0Rinsing500öblítés2: piros dugók le, kaniszterenként 100 ml Fluid-A betöltéseTrueFalse0Rinsing500öblítés2: piros dugók fel, kaniszterenként 100 ml Fluid-A szűréseTrueFalse0Information00piros dugók le, sárga dugók fel, piros csipesz lezárása a tű melletti csővég közelébenTrueFalse0MediaTransfer600100 ml TSB/SCB gumidugó fertőtlenítése, tápoldat betöltése a kaniszterbeTrueFalse0Information00fehér csipesz lezárása a tű melletti csővég közelében, piros csipesz nyitásaTrueFalse0MediaTransfer300100 ml FTM gumidugó fertőtlenítése, tápoldat betöltése a kaniszterbeTrueFalse0Information00csipeszek lezárása a kanisztereknél TrueFalse0CanisterClosing00pumpafej nyitása a csövek levágása, kaniszterek lezárása előttTrueFalse0a89cc979-544f-48cc-a99e-c47507d82460NK_SMV_21_E_CLNegatív kontroll CartridgeTZHALAN/ASzerelék: TZHACA01ApprovedInformation00TZHACA szerelék felszerelése, pumpa zárásaTrueFalse0Information00FTM, TSB/SCB, Fluid-A fertőtlenítve, bekészítveTrueFalse0Information00 csövek nyitva, piros és sárga dugók nincsenek felrakvaTrueFalse0PreWetting500előnedvesítéshez gumidugó fertőtlenítése, kaniszterenként 50 ml Fluid-A betöltéseTrueFalse0PreWetting500előnedvesítés: piros dugók fel, 2x50 ml Fluid-A szűréseTrueFalse0Rinsing500öblítés1: piros dugók le, kaniszterenként100 ml Fluid-A betöltéseTrueFalse0Rinsing500öblítés1: piros dugók fel, kaniszterenként 100 ml Fluid-A szűréseTrueFalse0Rinsing500öblítés2: piros dugók le, kaniszterenként 100 ml Fluid-A betöltéseTrueFalse0Rinsing500öblítés2: piros dugók fel, kaniszterenként 100 ml Fluid-A szűréseTrueFalse0Information00piros dugók le, sárga dugók fel, piros csipesz lezárása a tű melletti csővég közelébenTrueFalse0MediaTransfer600100 ml TSB/SCB gumidugó fertőtlenítése, tápoldat betöltése a kaniszterbeTrueFalse0Information00fehér csipesz lezárása a tű melletti csővég közelében, piros csipesz nyitásaTrueFalse0MediaTransfer300100 ml FTM gumidugó fertőtlenítése, tápoldat betöltése a kaniszterbeTrueFalse0CanisterClosing00pumpafej nyitása a csövek levágása, kaniszterek lezárása előttTrueFalse0\n"
          ],
          "name": "stdout"
        }
      ]
    },
    {
      "cell_type": "code",
      "metadata": {
        "id": "v6te47scmFz2"
      },
      "source": [
        "def dategenerator():\n",
        "    \"\"\"\n",
        "    string formában visszaadja az aktuális dátumot\n",
        "    \"\"\"\n",
        "    from datetime import date\n",
        "    m=[\"Zero\",\"Jan\",\"Feb\",\"Mar\",\"Apr\",\"May\",\"Jun\",\"Jul\",\"Aug\",\"Sep\",\"Oct\",\"Nov\",\"Dec\"]\n",
        "    currentdate=date.today()\n",
        "    return(str(currentdate.year)+\":\"+m[currentdate.month]+\":\"+str(currentdate.day))"
      ],
      "execution_count": 138,
      "outputs": []
    },
    {
      "cell_type": "code",
      "metadata": {
        "id": "47xmksg4RZbP"
      },
      "source": [
        "def filenamegenerator():\n",
        "    \"\"\"\n",
        "    string formában visszaadja az aktuális dátumot\n",
        "    \"\"\"\n",
        "    from datetime import date\n",
        "    m=[\"Zero\",\"Jan\",\"Feb\",\"Mar\",\"Apr\",\"May\",\"Jun\",\"Jul\",\"Aug\",\"Sep\",\"Oct\",\"Nov\",\"Dec\"]\n",
        "    currentdate=date.today()\n",
        "    return(\"ProdLib_\"+str(currentdate.year)+\"_\"+m[currentdate.month]+\"_\"+str(currentdate.day)+\".stml\")"
      ],
      "execution_count": 139,
      "outputs": []
    },
    {
      "cell_type": "code",
      "metadata": {
        "id": "YJhQMVE5ML-m"
      },
      "source": [
        "def hashgenerator(xmllib):\n",
        "    fullsops=xmllib.getElementsByTagName('SOPS')\n",
        "    o=getChildXML(fullsops[0]) # ez a megoldás  !!!!!!!!!!!!!!!!!!!!!!!\n",
        "    print(o)\n",
        "    import hashlib\n",
        "  \n",
        "    NewHash = hashlib.md5(o.encode())\n",
        "    md5_code=NewHash.hexdigest().upper()\n",
        "    return(md5_code)"
      ],
      "execution_count": 140,
      "outputs": []
    },
    {
      "cell_type": "code",
      "metadata": {
        "id": "8nRbM0E6JSPD",
        "colab": {
          "base_uri": "https://localhost:8080/"
        },
        "outputId": "1cc11aee-574a-48db-ab77-675afbcd1c5a"
      },
      "source": [
        "print(getnode(newlib,\"HASH\"))"
      ],
      "execution_count": 141,
      "outputs": [
        {
          "output_type": "stream",
          "text": [
            "082D7227B4EFAB8D88841EF8A1E425A2\n"
          ],
          "name": "stdout"
        }
      ]
    },
    {
      "cell_type": "code",
      "metadata": {
        "colab": {
          "base_uri": "https://localhost:8080/",
          "height": 35
        },
        "id": "34b-yz3dLMkT",
        "outputId": "d5c6a022-b986-48d9-ebc9-6196caa9ad18"
      },
      "source": [
        "setnode(newlib,\"MDATE\",dategenerator())"
      ],
      "execution_count": 142,
      "outputs": [
        {
          "output_type": "execute_result",
          "data": {
            "application/vnd.google.colaboratory.intrinsic+json": {
              "type": "string"
            },
            "text/plain": [
              "'2021:Jul:24'"
            ]
          },
          "metadata": {
            "tags": []
          },
          "execution_count": 142
        }
      ]
    },
    {
      "cell_type": "code",
      "metadata": {
        "id": "5LzbszqfJH3O",
        "colab": {
          "base_uri": "https://localhost:8080/",
          "height": 72
        },
        "outputId": "9c4521f3-194b-44fe-9ebf-30d653850866"
      },
      "source": [
        "setnode(newlib,\"HASH\",hashgenerator(newlib))\n",
        "libfilename=filenamegenerator()\n",
        "setnode(newlib,\"FILENAME\",libfilename)\n"
      ],
      "execution_count": 143,
      "outputs": [
        {
          "output_type": "stream",
          "text": [
            "2021:Jul:24929f0b22-c727-4cb5-a28b-e283c93052ed00138_SMVS1_21_R_ALCalcimusc injekció 5 ml OPCCalcimusc injekció 5 ml OPCTZHALAN/A01ApprovedInformation00TZHALA felszerelése, pumpa zárásaTrueFalse0Information0080 minta, FTM, SCB, Fluid-A fertőtlenítve, bekészítveTrueFalse0Information00minden FTM, SCB, Fluid-A bontásakor műanyag kupak le, gumidugó fertőtlenítéseTrueFalse0Information00csövek nyitva, piros és sárga dugók nincsenek felrakvaTrueFalse0PreWetting500kaniszterenként 50 ml Fluid-A betöltése, piros dugók fel, szűrés, piros dugók leTrueFalse0Filtration20020 ampulla nyitása, minta betöltése, majd piros dugó fel, szűrés, piros dugók leTrueFalse0Rinsing750kaniszterenként 100 ml Fluid-A betöltése, piros dugók fel, szűrés, piros dugók leTrueFalse0Information00piros csipesz lezárása a tű melletti csővég közelébenTrueFalse0Information00befertőzés: 100 ml Fluid-A befertőzése <100 cfu/0,1 ml mo. szuszpenzióvalTrueFalse0Filtration750100 ml befertőzött Fluid-A betöltése , piros dugó fel, szűrés, piros dugó leTrueFalse0Information00sárga dugó fel a nyitott csövű (fehér csipeszes) kaniszterenTrueFalse0MediaTransfer600SCB betöltése: Bac. sp., / gombák (Asp. br.; Cand. alb.) szűrése után, vagy lásd. 13. lépéstTrueFalse0MediaTransfer300FTM betöltése: baktériumok (Staph. a.,; Ps. ae.; Bac. sp.; Clost. sp.) szűrése utánTrueFalse0Information00fehér csipesz lezárása a tű meletti csővég közelében, piros csipesz nyitása TrueFalse0Information00befertőzés: 100 ml Fluid-A befertőzése <100 cfu/0,1 ml mo. szuszpenzióvalTrueFalse0Filtration750100 ml befertőzött Fluid-A betöltése , piros dugó fel, szűrés, piros dugó leTrueFalse0Information00sárga dugó fel a nyitott csövű (piros csipeszes) kaniszterenTrueFalse0MediaTransfer600SCB betöltése: Bac. sp., / gombák (Asp. br.; Cand. alb.) szűrése után, vagy lásd. 19. lépéstTrueFalse0MediaTransfer300FTM betöltése: baktériumok (Staph. a.,; Ps. ae.; Bac. sp.; Clost. sp.) szűrése utánTrueFalse0Information00csipeszek lezárása a kanisztereknél, csövek levágása, kaniszterek lezárása, eltávolításaTrueFalse0Information001-20 lépés ismételve minden mikroorganizmus vonatkozásábanTrueFalse0CanisterClosing00pumpafej nyitásaTrueFalse0a0afa7f1-1eb4-436d-a0ae-b8beca7acc4100151_SMVS1_21_R_ALGordox 100000 NE injekció 10 ml V.Gordox 100000 NE injekció 10 ml V.TZHALAN/A01ApprovedInformation00TZHALA felszerelése, pumpa zárásaTrueFalse0Information0080 minta, FTM, SCB, Fluid-A fertőtlenítve, bekészítveTrueFalse0Information00minden FTM, SCB, Fluid-A bontásakor műanyag kupak le, gumidugó fertőtlenítéseTrueFalse0Information00csövek nyitva, piros és sárga dugók nincsenek felrakvaTrueFalse0PreWetting500kaniszterenként 50 ml Fluid-A betöltése, piros dugók fel, szűrés, piros dugók leTrueFalse0Filtration20020 ampulla nyitása, minta betöltése, majd piros dugó fel, szűrés, piros dugók leTrueFalse0Rinsing750kaniszterenként 100 ml Fluid-A betöltése, piros dugók fel, szűrés, piros dugók leTrueFalse0Information00piros csipesz lezárása a tű melletti csővég közelébenTrueFalse0Information00befertőzés: 100 ml Fluid-A befertőzése <100 cfu/0,1 ml mo. szuszpenzióvalTrueFalse0Filtration750100 ml befertőzött Fluid-A betöltése , piros dugó fel, szűrés, piros dugó leTrueFalse0Information00sárga dugó fel a nyitott csövű (fehér csipeszes) kaniszterenTrueFalse0MediaTransfer600SCB betöltése: Bac. sp., / gombák (Asp. br.; Cand. alb.) szűrése után, vagy lásd. 13. lépéstTrueFalse0MediaTransfer300FTM betöltése: baktériumok (Staph. a.,; Ps. ae.; Bac. sp.; Clost. sp.) szűrése utánTrueFalse0Information00fehér csipesz lezárása a tű meletti csővég közelében, piros csipesz nyitása TrueFalse0Information00befertőzés: 100 ml Fluid-A befertőzése <100 cfu/0,1 ml mo. szuszpenzióvalTrueFalse0Filtration750100 ml befertőzött Fluid-A betöltése , piros dugó fel, szűrés, piros dugó leTrueFalse0Information00sárga dugó fel a nyitott csövű (piros csipeszes) kaniszterenTrueFalse0MediaTransfer600SCB betöltése: Bac. sp., / gombák (Asp. br.; Cand. alb.) szűrése után, vagy lásd. 19. lépéstTrueFalse0MediaTransfer300FTM betöltése: baktériumok (Staph. a.,; Ps. ae.; Bac. sp.; Clost. sp.) szűrése utánTrueFalse0Information00csipeszek lezárása a kanisztereknél, csövek levágása, kaniszterek lezárása, eltávolításaTrueFalse0Information001-20 lépés ismételve minden mikroorganizmus vonatkozásábanTrueFalse0CanisterClosing00pumpafej nyitásaTrueFalse05bdcf898-e357-497d-b7ef-fc70d5b0f49600153_SMVS1_21_R_ALHaloperidol decanoat injekció 1mlHaloperidol decanoat injekció 1ml TZHALAN/A01ApprovedInformation00TZHALA felszerelése, pumpa zárásaTrueFalse0Information00140 minta, FTM, SCB, Fluid-D fertőtlenítve, bekészítveTrueFalse0Information00minden FTM, SCB, Fluid-D bontásakor műanyag kupak le, gumidugó fertőtlenítéseTrueFalse0Information00piros csipesz zárva, fehér csipesz nyitva, piros és sárga dugók nincsenek felrakvaTrueFalse0Filtration20020 ampulla nyitása, minta betöltése a fehér csipeszes kaniszterbeTrueFalse0Information00piros csipesz nyitása, fehér csipesz zárásaTrueFalse0Filtration20020 ampulla nyitása, minta betöltése, piros csipesz nyitásaTrueFalse0Filtration200membrán mintával való telítése után piros dugók fel, minta szűrése, piros dugók leTrueFalse0Rinsing750öblítés 1.: 2x100 ml Fluid-D betöltése, piros dugók fel, szűrés, piros dugók leTrueFalse0Dilution750öblítés 2.: 2x100 ml Fluid-D betöltése, piros dugók fel, szűrés, piros dugók leTrueFalse0Information00piros csipesz lezárása a tű melletti csővég közelébenTrueFalse0Information00befertőzés: 100 ml Fluid-D befertőzése <=100 cfu/0,1 ml mo. szuszpenzióvalTrueFalse0Filtration750100 ml befertőzött Fluid-D betöltése, piros dugó fel, szűrés, piros dugó leTrueFalse0Information00 sárga dugó fel a nyitott csövű (fehér csipeszes) kaniszterenTrueFalse0MediaTransfer600SCB betöltése: Bac. sp., / gombák (Asp. br.; Cand. alb.) szűrése után, vagy lásd a 16. lépéstTrueFalse0MediaTransfer300FTM betöltése: baktériumok (Staph. a.; Ps. ae.; Bac. sp.; Clost. sp.) szűrése után TrueFalse0Information00fehér csipesz lezárása a tű meletti csővég közelében, piros csipesz nyitása TrueFalse0Information00befertőzés: 100 ml Fluid-D befertőzése <=100 cfu/0,1 ml mo. szuszpenzióvalTrueFalse0Filtration750100 ml befertőzött Fluid-D betöltése, piros dugó fel, szűrés, piros dugó leTrueFalse0Information00sárga dugó fel a nyitott csövű (piros csipeszes) kaniszterenTrueFalse0MediaTransfer600SCB betöltése: Bac. sp. / gombák (Asp. br.; Cand. alb.) szűrése után, vagy lásd a 22. lépéstTrueFalse0MediaTransfer300FTM betöltése: baktériumok (Staph. a.; Ps. ae.; Bac. sp.; Clost. sp.) szűrése után TrueFalse0Information00csipeszek lezárása a kanisztereknél, csövek levágása, kaniszterek lezárása, eltávolításaTrueFalse0Information001.-23. lépés ismételve minden mikroorganizmus vonatkozásábanTrueFalse0CanisterClosing00pumpafej nyitásaTrueFalse074299047-2eca-4bc9-8068-03eb3db493ea00159_SMV_21_R_ALMydeton injekció 1ml OPCMydeton injekció 1ml OPCTZHALAN/A01ApprovedInformation00TZHALA felszerelése, pumpa zárásaTrueFalse0Information00140 minta, FTM, SCB, Fluid-D fertőtlenítve, bekészítveTrueFalse0Information00minden FTM, SCB, Fluid-D bontásakor műanyag kupak le, gumidugó fertőtlenítéseTrueFalse0Information00csövek nyitva, piros és sárga dugók nincsenek felrakvaTrueFalse0PreWetting500kaniszterenként 50 ml Fluid-D betöltése, piros dugók fel, szűrés, piros dugók leTrueFalse0Filtration200piros csipesz zárása, 20 ampulla nyitása, minta betöltése, piros csipesz nyitásaTrueFalse0Filtration200fehér csipesz zárása, 20 ampulla nyitása, minta betöltése, fehér csipesz nyitásaTrueFalse0Filtration200piros dugók fel, szűrés, piros dugók leTrueFalse0Rinsing750öblítés 1.: 2x100 ml Fluid-D betöltése, piros dugók fel, szűrés, piros dugók leTrueFalse0Dilution750öblítés 2.: 2x100 ml Fluid-D betöltése, piros dugók fel, szűrés, piros dugók leTrueFalse0Information00piros csipesz lezárása a tű melletti csővég közelébenTrueFalse0Information00befertőzés: 100 ml Fluid-D befertőzése <=100 cfu/0,1 ml mo. szuszpenzióvalTrueFalse0Filtration750100 ml befertőzött Fluid-D betöltése, piros dugó fel, szűrés, piros dugó leTrueFalse0Information00 sárga dugó fel a nyitott csövű (fehér csipeszes) kaniszterenTrueFalse0MediaTransfer600SCB betöltése: Bac. sp., / gombák (Asp. br.; Cand. alb.) szűrése után, vagy lásd a 16. lépéstTrueFalse0MediaTransfer300FTM betöltése: baktériumok (Staph. a.; Ps. ae.; Bac. sp.; Clost. sp.) szűrése után TrueFalse0Information00piros csipesz nyitása,  fehér csipesz zárása a tű meletti csővég közelébenTrueFalse0Information00befertőzés: 100 ml Fluid-D befertőzése <=100 cfu/0,1 ml mo. szuszpenzióvalTrueFalse0Filtration750100 ml befertőzött Fluid-D betöltése, piros dugó fel, szűrés, piros dugó leTrueFalse0Information00sárga dugó fel a nyitott csövű (piros csipeszes) kaniszterenTrueFalse0MediaTransfer600SCB betöltése: Bac. sp. / gombák (Asp. br.; Cand. alb.) szűrése után, vagy lásd a 22. lépéstTrueFalse0MediaTransfer300FTM betöltése: baktériumok (Staph. a.; Ps. ae.; Bac. sp.; Clost. sp.) szűrése után TrueFalse0Information00csipeszek zárása a kanisztereknél, csövek levágása, kaniszterek zárása, eltávolításaTrueFalse0Information001.-23. lépés ismételve minden mikroorganizmus vonatkozásábanTrueFalse0CanisterClosing00pumpafej nyitásaTrueFalse0549e6e28-96f6-4ff0-ab21-f0c2e0ae82fe00161_SMV_21_R_ALOxytocin 10 NE injekció 1 mlOxytocin 10 NE injekció 1 mlTZHALAN/A01ApprovedInformation00TZHALA felszerelése, pumpa zárásaTrueFalse0Information00140 minta, FTM, SCB, Fluid-A fertőtlenítve, bekészítveTrueFalse0Information00minden vizsgálandó mikroorganizmussal végezzük el a folyamatotTrueFalse0Information00minden FTM, SCB, Fluid-A bontásakor műanyag kupak le, gumidugó fertőtlenítéseTrueFalse0Information00csövek nyitva, piros és sárga dugók nincsenek felrakvaTrueFalse0PreWetting500kaniszterenként 50 ml Fluid-A betöltése, piros dugók fel, 25 ml szűrés, piros dugók leTrueFalse0Information00piros csipesz zárása a tű felöli vég közelébenTrueFalse0Filtration3020 ampulla nyitása, minta betöltése, pumpa ampulánként indítva és leállítvaTrueFalse0Information00piros csipesz nyitása, fehér csipesz zárásaTrueFalse0Filtration3020 ampulla nyitása, minta betöltése, pumpa ampulánként indítva és leállítvaTrueFalse0Filtration700fehér csipesz nyitása, piros dugók fel, szűrés, piros dugók leTrueFalse0Rinsing500kaniszterenként 100 ml Fluid-A betöltése, piros dugók fel, szűrés, piros dugók leTrueFalse0Information00piros csipesz zárása a tű melletti csővég közelébenTrueFalse0Information00befertőzés: 100 ml Fluid-A befertőzése <100 cfu/0,1 ml mo. szuszpenzióvalTrueFalse0Filtration500100 ml befertőzött Fluid-A betöltése , piros dugó fel, szűrés, piros dugó leTrueFalse0Information00sárga dugó fel a nyitott csövű (fehér csipeszes) kaniszterenTrueFalse0MediaTransfer600SCB betöltése: Bac. sp., / gombák (Asp. br.; Cand. alb.) szűrése után, vagy lásd. 18. lépéstTrueFalse0MediaTransfer300FTM betöltése: baktériumok (Staph. a.,; Ps. ae.; Bac. sp.; Clost. sp.) szűrése utánTrueFalse0Information00fehér csipesz zárása a tű meletti csővég közelében, piros csipesz nyitása TrueFalse0Information00befertőzés: 100 ml Fluid-A befertőzése <100 cfu/0,1 ml mo. szuszpenzióvalTrueFalse0Filtration500100 ml befertőzött Fluid-A betöltése , piros dugó fel, szűrés, piros dugó leTrueFalse0Information00sárga dugó fel a nyitott csövű (piros csipeszes) kaniszterenTrueFalse0MediaTransfer600SCB betöltése: Bac. sp., / gombák (Asp. br.; Cand. alb.) szűrése után, vagy lásd. 24. lépéstTrueFalse0MediaTransfer300FTM betöltése: baktériumok (Staph. a.,; Ps. ae.; Bac. sp.; Clost. sp.) szűrése utánTrueFalse0CanisterClosing00pumpafej nyitása, majd a csipesz zárása és a csövek levágása TrueFalse0df0413c0-6317-4203-b213-fe58d199033500162_SMVS1_21_R_ALPanangin injekció 10 mlPanangin injekció 10 mlTZHALAN/A01ApprovedInformation00TZHALA felszerelése, pumpa zárásaTrueFalse0Information0080 minta, FTM, SCB, Fluid-A fertőtlenítve, bekészítveTrueFalse0Information00minden vizsgálandó mikroorganizmussal végezzük el a folyamatotTrueFalse0Information00minden FTM, SCB, Fluid-A bontásakor műanyag kupak le, gumidugó fertőtlenítéseTrueFalse0Information00csövek nyitva, piros és sárga dugók nincsenek felrakvaTrueFalse0PreWetting500kaniszterenként 50 ml Fluid-A betöltése, piros dugók fel, 25 ml szűrés, piros dugók leTrueFalse0Filtration5020 ampulla nyitása, minta betöltése, pumpa ampulánként indítva és leállítvaTrueFalse0Filtration700piros dugók fel, szűrés, piros dugók leTrueFalse0Rinsing500kaniszterenként 100 ml Fluid-A betöltése, piros dugók fel, szűrés, piros dugók leTrueFalse0Information00piros csipesz zárása a tű melletti csővég közelébenTrueFalse0Information00befertőzés: 100 ml Fluid-A befertőzése <100 cfu/0,1 ml mo. szuszpenzióvalTrueFalse0Filtration500100 ml befertőzött Fluid-A betöltése , piros dugó fel, szűrés, piros dugó leTrueFalse0Information00sárga dugó fel a nyitott csövű (fehér csipeszes) kaniszterenTrueFalse0MediaTransfer600SCB betöltése: Bac. sp., / gombák (Asp. br.; Cand. alb.) szűrése után, vagy lásd. 15. lépéstTrueFalse0MediaTransfer300FTM betöltése: baktériumok (Staph. a.,; Ps. ae.; Bac. sp.; Clost. sp.) szűrése utánTrueFalse0Information00fehér csipesz zárása a tű meletti csővég közelében, piros csipesz nyitása TrueFalse0Information00befertőzés: 100 ml Fluid-A befertőzése <100 cfu/0,1 ml mo. szuszpenzióvalTrueFalse0Filtration500100 ml befertőzött Fluid-A betöltése , piros dugó fel, szűrés, piros dugó leTrueFalse0Information00sárga dugó fel a nyitott csövű (piros csipeszes) kaniszterenTrueFalse0MediaTransfer600SCB betöltése: Bac. sp., / gombák (Asp. br.; Cand. alb.) szűrése után, vagy lásd. 21. lépéstTrueFalse0MediaTransfer300FTM betöltése: baktériumok (Staph. a.,; Ps. ae.; Bac. sp.; Clost. sp.) szűrése utánTrueFalse0CanisterClosing00pumpafej nyitása, majd a csipesz zárása és a csövek levágása TrueFalse04bbdcaee-d3aa-4b48-8e13-166c49de4ff400162_SMV_21_R_ALPanangin injekció 10 mlPanangin injekció 10 mlTZHALAN/A01ApprovedInformation00TZHALA felszerelése, pumpa zárásaTrueFalse0Information0080 minta, FTM, SCB, Fluid-A fertőtlenítve, bekészítveTrueFalse0Information00minden FTM, SCB, Fluid-A bontásakor műanyag kupak le, gumidugó fertőtlenítéseTrueFalse0Information00csövek nyitva, piros és sárga dugók nincsenek felrakvaTrueFalse0PreWetting500kaniszterenként 50 ml Fluid-A betöltése, piros dugók fel, szűrés, piros dugók leTrueFalse0Filtration20020 ampulla nyitása, minta betöltése, majd piros dugó fel, szűrés, piros dugók leTrueFalse0Rinsing750kaniszterenként 100 ml Fluid-A betöltése, piros dugók fel, szűrés, piros dugók leTrueFalse0Information00piros csipesz lezárása a tű melletti csővég közelébenTrueFalse0Information00befertőzés: 100 ml Fluid-A befertőzése <100 cfu/0,1 ml mo. szuszpenzióvalTrueFalse0Filtration750100 ml befertőzött Fluid-A betöltése , piros dugó fel, szűrés, piros dugó leTrueFalse0Information00sárga dugó fel a nyitott csövű (fehér csipeszes) kaniszterenTrueFalse0MediaTransfer600SCB betöltése: Bac. sp., / gombák (Asp. br.; Cand. alb.) szűrése után, vagy lásd. 13. lépéstTrueFalse0MediaTransfer300FTM betöltése: baktériumok (Staph. a.,; Ps. ae.; Bac. sp.; Clost. sp.) szűrése utánTrueFalse0Information00fehér csipesz lezárása a tű meletti csővég közelében, piros csipesz nyitása TrueFalse0Information00befertőzés: 100 ml Fluid-A befertőzése <100 cfu/0,1 ml mo. szuszpenzióvalTrueFalse0Filtration750100 ml befertőzött Fluid-A betöltése , piros dugó fel, szűrés, piros dugó leTrueFalse0Information00sárga dugó fel a nyitott csövű (piros csipeszes) kaniszterenTrueFalse0MediaTransfer600SCB betöltése: Bac. sp., / gombák (Asp. br.; Cand. alb.) szűrése után, vagy lásd. 19. lépéstTrueFalse0MediaTransfer300FTM betöltése: baktériumok (Staph. a.,; Ps. ae.; Bac. sp.; Clost. sp.) szűrése utánTrueFalse0Information00csipeszek lezárása a kanisztereknél, csövek levágása, kaniszterek lezárása, eltávolításaTrueFalse0Information001-20 lépés ismételve minden mikroorganizmus vonatkozásábanTrueFalse0CanisterClosing00pumpafej nyitásaTrueFalse01df0a775-ebc8-445b-b38e-d25e70b5ccaf00271_SMV_21_R_ALSeduxen injekció 2 ml OPCSeduxen injekció 2 ml OPCTZHALAN/A01ApprovedInformation00TZHALA felszerelése, pumpa zárásaTrueFalse0Information0080 minta, FTM, SCB, Fluid-A fertőtlenítve, bekészítveTrueFalse0Information00minden vizsgálandó mikroorganizmussal végezzük el a folyamatotTrueFalse0Information00minden FTM, SCB, Fluid-A bontásakor műanyag kupak le, gumidugó fertőtlenítéseTrueFalse0Information00csövek nyitva, piros és sárga dugók nincsenek felrakvaTrueFalse0PreWetting500kaniszterenként 50 ml Fluid-A betöltése, piros dugók fel, 25 ml szűrés, piros dugók leTrueFalse0Filtration3020 ampulla nyitása, minta betöltése, pumpa ampulánként indítva és leállítvaTrueFalse0Filtration700piros dugók fel, szűrés, piros dugók leTrueFalse0Rinsing500kaniszterenként 100 ml Fluid-A betöltése, piros dugók fel, szűrés, piros dugók leTrueFalse0Information00piros csipesz zárása a tű melletti csővég közelébenTrueFalse0Information00befertőzés: 100 ml Fluid-A befertőzése <100 cfu/0,1 ml mo. szuszpenzióvalTrueFalse0Filtration500100 ml befertőzött Fluid-A betöltése , piros dugó fel, szűrés, piros dugó leTrueFalse0Information00sárga dugó fel a nyitott csövű (fehér csipeszes) kaniszterenTrueFalse0MediaTransfer600SCB betöltése: Bac. sp., / gombák (Asp. br.; Cand. alb.) szűrése után, vagy lásd. 15. lépéstTrueFalse0MediaTransfer300FTM betöltése: baktériumok (Staph. a.,; Ps. ae.; Bac. sp.; Clost. sp.) szűrése utánTrueFalse0Information00fehér csipesz zárása a tű meletti csővég közelében, piros csipesz nyitása TrueFalse0Information00befertőzés: 100 ml Fluid-A befertőzése <100 cfu/0,1 ml mo. szuszpenzióvalTrueFalse0Filtration500100 ml befertőzött Fluid-A betöltése , piros dugó fel, szűrés, piros dugó leTrueFalse0Information00sárga dugó fel a nyitott csövű (piros csipeszes) kaniszterenTrueFalse0MediaTransfer600SCB betöltése: Bac. sp., / gombák (Asp. br.; Cand. alb.) szűrése után, vagy lásd. 21. lépéstTrueFalse0MediaTransfer300FTM betöltése: baktériumok (Staph. a.,; Ps. ae.; Bac. sp.; Clost. sp.) szűrése utánTrueFalse0CanisterClosing00pumpafej nyitása, majd a csipesz zárása és a csövek levágása TrueFalse0caeb6328-9f38-459f-8aea-2e44c4cc027400754_SMVS1_21_R_ALCavinton injekció 5 mlCavinton injekció 5 mlTZHALAN/A01ApprovedInformation00TZHALA felszerelése, pumpa zárásaTrueFalse0Information0080 minta, FTM, SCB, Fluid-A fertőtlenítve, bekészítveTrueFalse0Information00minden FTM, SCB, Fluid-A bontásakor műanyag kupak le, gumidugó fertőtlenítéseTrueFalse0Information00csövek nyitva, piros és sárga dugók nincsenek felrakvaTrueFalse0PreWetting500kaniszterenként 50 ml Fluid-A betöltése, piros dugók fel, szűrés, piros dugók leTrueFalse0Filtration20020 ampulla nyitása, minta betöltése, majd piros dugó fel, minta szűrése, piros dugók leTrueFalse0Rinsing750kaniszterenként 100 ml Fluid-A betöltése, piros dugók fel, szűrés, piros dugók leTrueFalse0Information00piros csipesz lezárása a tű melletti csővég közelébenTrueFalse0Information00befertőzés: 100 ml Fluid-A befertőzése <100 cfu/0,1 ml mo. szuszpenzióvalTrueFalse0Filtration750100 ml befertőzött Fluid-A betöltése , piros dugó fel, szűrés, piros dugó leTrueFalse0Information00sárga dugó fel a nyitott csövű (fehér csipeszes) kaniszterenTrueFalse0MediaTransfer600SCB betöltése: Bac. sp., / gombák (Asp. br.; Cand. alb.) szűrése után, vagy lásd. 13. lépéstTrueFalse0MediaTransfer300FTM betöltése: baktériumok (Staph. a.,; Ps. ae.; Bac. sp.; Clost. sp.) szűrése utánTrueFalse0Information00fehér csipesz lezárása a tű meletti csővég közelében, piros csipesz nyitása TrueFalse0Information00befertőzés: 100 ml Fluid-A befertőzése <100 cfu/0,1 ml mo. szuszpenzióvalTrueFalse0Filtration750100 ml befertőzött Fluid-A betöltése , piros dugó fel, szűrés, piros dugó leTrueFalse0Information00sárga dugó fel a nyitott csövű (piros csipeszes) kaniszterenTrueFalse0MediaTransfer600SCB betöltése: Bac. sp., / gombák (Asp. br.; Cand. alb.) szűrése után, vagy lásd. 19. lépéstTrueFalse0MediaTransfer300FTM betöltése: baktériumok (Staph. a.,; Ps. ae.; Bac. sp.; Clost. sp.) szűrése utánTrueFalse0Information00csipeszek lezárása a kanisztereknél, csövek levágása, kaniszterek lezárása, eltávolításaTrueFalse0Information001-20 lépés ismételve minden mikroorganizmus vonatkozásábanTrueFalse0CanisterClosing00pumpafej nyitásaTrueFalse04b512e29-97f5-42ea-8f7b-22239f0f9dc000798_SMVS1_21_R_ALNatrium chloratum inj. 5 mlNatrium chloratum inj. 5 mlTZHALAN/A01ApprovedInformation00TZHALA felszerelése, pumpa zárásaTrueFalse0Information0080 minta, FTM, SCB, Fluid-A fertőtlenítve, bekészítveTrueFalse0Information00minden FTM, SCB, Fluid-A bontásakor műanyag kupak le, gumidugó fertőtlenítéseTrueFalse0Information00csövek nyitva, piros és sárga dugók nincsenek felrakvaTrueFalse0PreWetting500kaniszterenként 50 ml Fluid-A betöltése, piros dugók fel, szűrés, piros dugók leTrueFalse0Filtration20020 ampulla nyitása, minta betöltése, majd piros dugó fel, szűrés, piros dugók leTrueFalse0Rinsing750kaniszterenként 100 ml Fluid-A betöltése, piros dugók fel, szűrés, piros dugók leTrueFalse0Information00piros csipesz lezárása a tű melletti csővég közelébenTrueFalse0Information00befertőzés: 100 ml Fluid-A befertőzése <100 cfu/0,1 ml mo. szuszpenzióvalTrueFalse0Filtration750100 ml befertőzött Fluid-A betöltése , piros dugó fel, szűrés, piros dugó leTrueFalse0Information00sárga dugó fel a nyitott csövű (fehér csipeszes) kaniszterenTrueFalse0MediaTransfer600SCB betöltése: Bac. sp., / gombák (Asp. br.; Cand. alb.) szűrése után, vagy lásd. 13. lépéstTrueFalse0MediaTransfer300FTM betöltése: baktériumok (Staph. a.,; Ps. ae.; Bac. sp.; Clost. sp.) szűrése utánTrueFalse0Information00fehér csipesz lezárása a tű meletti csővég közelében, piros csipesz nyitása TrueFalse0Information00befertőzés: 100 ml Fluid-A befertőzése <100 cfu/0,1 ml mo. szuszpenzióvalTrueFalse0Filtration750100 ml befertőzött Fluid-A betöltése , piros dugó fel, szűrés, piros dugó leTrueFalse0Information00sárga dugó fel a nyitott csövű (piros csipeszes) kaniszterenTrueFalse0MediaTransfer600SCB betöltése: Bac. sp., / gombák (Asp. br.; Cand. alb.) szűrése után, vagy lásd. 19. lépéstTrueFalse0MediaTransfer300FTM betöltése: baktériumok (Staph. a.,; Ps. ae.; Bac. sp.; Clost. sp.) szűrése utánTrueFalse0Information00csipeszek lezárása a kanisztereknél, csövek levágása, kaniszterek lezárása, eltávolításaTrueFalse0Information001-20 lépés ismételve minden mikroorganizmus vonatkozásábanTrueFalse0CanisterClosing00pumpafej nyitásaTrueFalse0006d4eba-fccb-4031-8738-b8b38d55d36c00828_SMVS1_21_R_SYIbandronat 3 mg inj. 3 mlIbandronat 3 mg injekció 3 ml 5 ml-es fecskendőbenTZHASYN/A01ApprovedInformation00TZHASY felszerelése, pumpa zárásaFalseTrue3Information0080 minta, FTM, SCB, Fluid-A fertőtlenítve, bekészítveFalseTrue3Information00minden FTM, SCB, Fluid-A bontásakor műanyag kupak le, gumidugó fertőtlenítéseFalseTrue3Information00csövek nyitva, piros, sárga  dugók nincsenek felrakva, kék dugó az SS csatlakozójábanFalseTrue3Information00Fluid-A: műanyag kupak le, gumidugó fertőtlenítéseFalseTrue3PreWetting500kaniszterenként 50 ml Fluid-A betöltése, piros dugók fel, 25 ml szűrése, piros dugók leFalseTrue3Information00kék dugó ki, fecskendő be, kézzel lassan benyomni a mintát a csőbeFalseTrue3Information00ha a fecskendő kiürül,  fecskendőcsere az utolsó fecskendőigFalseTrue3Filtration200Fluid-A és 20 minta betöltése, utolsó fecskendő benn maradFalseTrue3Filtration200piros dugók fel, betöltött minta szűrése, piros dugók leFalseTrue3Rinsing1000kaniszterenként100 ml Fluid-A betöltése, piros dugó fel, szűrés, piros dugók leFalseTrue3Information00piros csipesz lezárása a tű melletti csővég közelébenFalseTrue3Information00befertőzés: 100 ml Fluid-A befertőzése <=100 cfu/0,1ml mo. szuszpenzióvalFalseTrue3Filtration1000100 ml befertőzött Fluid-A betöltése, piros dugó fel, szűrés, piros dugó leFalseTrue3Information00sárga dugó fel a nyitott csövű (fehér csipeszes) kaniszterenFalseTrue3MediaTransfer600SCB betöltése: Bac. sp. / gombák (Asp. br.; Cand. alb.) szűrése után, vagy lásd 17. lépéstFalseTrue3MediaTransfer300FTM betöltése: baktériumok (Staph. a.; Ps. ae.; Bac. sp.; Clost. sp.) szűrése utánFalseTrue3Information00fehér csipesz lezárása a tű melletti csővég közelében, piros csipesz nyitása FalseTrue3Information00100 ml Fluid-A befertőzése <=100 cfu/0,1ml egy még nem vizsgált mo. szuszpenzióvalFalseTrue3Rinsing1000100 ml befertőzött Fluid-A betöltése, piros dugó fel, szűrés, piros dugó leFalseTrue3Information00sárga dugó fel a nyitott csövű (piros csipeszes) kaniszterenFalseTrue3MediaTransfer600SCB betöltése: Bac. sp. / gombák (Asp. br.; Cand. alb.) szűrése után, vagy lásd 23. lépéstFalseTrue3MediaTransfer300FTM betöltése: baktériumok (Staph. a.; Ps. ae.; Bac. sp.; Clost. sp.) szűrése utánFalseTrue3Information00csipeszek lezárása a kanisztereknél, csövek levágása, kanioszterek lezárása, eltávolításaFalseTrue3Information001-24 lépés ismételve minden mikroorganizmus vonatkozásábanFalseTrue3CanisterClosing00pumpafej nyitásaFalseTrue3b2ebc8e6-850e-45e4-b2a2-889b46eb013e01117_SMV_21_R_CLTeriparatide 0,020mg/0,080ml o. inj.Teriparatide 0,020mg/0,080ml oldat injekcióhoz 3 ml-es cartridge-ban; kivehető térfogat: 2,3 mlN/AN/ASzerelék: TZHACA01ApprovedInformation00TZHACA felszerelése, pumpa zárásaTrueFalse0Information0080 minta, FTM, SCB, Fluid-A fertőtlenítve, bekészítveTrueFalse0Information00minden vizsgálandó mikroorganizmussal végezzük el a folyamatotTrueFalse0Information00minden FTM, SCB, Fluid-A bontásakor műanyag kupak le, gumidugó fertőtlenítéseTrueFalse0Information00csövek nyitva, piros és sárga dugók nincsenek felrakvaTrueFalse0PreWetting500kaniszterenként 50 ml Fluid-A betöltése, piros dugók fel, 25 ml szűrés, piros dugók leTrueFalse0Filtration3020 cartridgenyitása, minta betöltése, pumpa ampulánként indítva és leállítvaTrueFalse0Filtration700piros dugók fel, szűrés, piros dugók leTrueFalse0Rinsing5001. kaniszterenként 100 ml Fluid-A betöltése, piros dugók fel, szűrés, piros dugók leTrueFalse0Rinsing5002. kaniszterenként 100 ml Fluid-A betöltése, piros dugók fel, szűrés, piros dugók leTrueFalse0Information00piros csipesz zárása a tű melletti csővég közelébenTrueFalse0Information00befertőzés: 100 ml Fluid-A befertőzése <100 cfu/0,1 ml mo. szuszpenzióvalTrueFalse0Filtration500100 ml befertőzött Fluid-A betöltése , piros dugó fel, szűrés, piros dugó leTrueFalse0Information00sárga dugó fel a nyitott csövű (fehér csipeszes) kaniszterenTrueFalse0MediaTransfer600SCB betöltése: Bac. sp., / gombák (Asp. br.; Cand. alb.) szűrése után, vagy lásd. 16. lépéstTrueFalse0MediaTransfer300FTM betöltése: baktériumok (Staph. a.,; Ps. ae.; Bac. sp.; Clost. sp.) szűrése utánTrueFalse0Information00fehér csipesz zárása a tű meletti csővég közelében, piros csipesz nyitása TrueFalse0Information00befertőzés: 100 ml Fluid-A befertőzése <100 cfu/0,1 ml mo. szuszpenzióvalTrueFalse0Filtration500100 ml befertőzött Fluid-A betöltése , piros dugó fel, szűrés, piros dugó leTrueFalse0Information00sárga dugó fel a nyitott csövű (piros csipeszes) kaniszterenTrueFalse0MediaTransfer600SCB betöltése: Bac. sp., / gombák (Asp. br.; Cand. alb.) szűrése után, vagy lásd. 22. lépéstTrueFalse0MediaTransfer300FTM betöltése: baktériumok (Staph. a.,; Ps. ae.; Bac. sp.; Clost. sp.) szűrése utánTrueFalse0CanisterClosing00pumpafej nyitása, majd a csipesz zárása és a csövek levágása TrueFalse0c63c6ed1-d877-4192-a46b-f0224a4f56a081402_SMV_21_R_CLBemfola 450 IU / 0,75 ml injekció RGBemfola 75 IU/0,125150 IU/0,25 ml; 225 IU/0,375 ml; 300 IU/0,5 ml; 450 IU/0,75 ml; injekció RGN/AN/ASzerelék: TZHACA01ApprovedInformation00TZHACA felszerelése, pumpa zárásaTrueFalse0Information00140 minta, FTM, SCB, Fluid-A fertőtlenítve, bekészítveTrueFalse0Information00minden vizsgálandó mikroorganizmussal végezzük el a folyamatotTrueFalse0Information00minden FTM, SCB, Fluid-A bontásakor műanyag kupak le, gumidugó fertőtlenítéseTrueFalse0Information00csövek nyitva, piros és sárga dugók nincsenek felrakvaTrueFalse0PreWetting500kaniszterenként 50 ml Fluid-A betöltése, piros dugók fel, 25 ml szűrés, piros dugók leTrueFalse0Information00piros csipesz zárása a tű felöli vég közelébenTrueFalse0Filtration3020 cartridge nyitása, minta betöltése, pumpa cartridge-onként indítva és leállítvaTrueFalse0Information00piros csipesz nyitása, fehér csipesz zárásaTrueFalse0Filtration3020 cartridge nyitása, minta betöltése, pumpa cartridge-onként indítva és leállítvaTrueFalse0Filtration700fehér csipesz nyitása, piros dugók fel, szűrés, piros dugók leTrueFalse0Rinsing500kaniszterenként 100 ml Fluid-A betöltése, piros dugók fel, szűrés, piros dugók leTrueFalse0Information00piros csipesz zárása a tű melletti csővég közelébenTrueFalse0Information00befertőzés: 100 ml Fluid-A befertőzése <100 cfu/0,1 ml mo. szuszpenzióvalTrueFalse0Filtration500100 ml befertőzött Fluid-A betöltése , piros dugó fel, szűrés, piros dugó leTrueFalse0Information00sárga dugó fel a nyitott csövű (fehér csipeszes) kaniszterenTrueFalse0MediaTransfer600SCB betöltése: Bac. sp., / gombák (Asp. br.; Cand. alb.) szűrése után, vagy lásd. 18. lépéstTrueFalse0MediaTransfer300FTM betöltése: baktériumok (Staph. a.,; Ps. ae.; Bac. sp.; Clost. sp.) szűrése utánTrueFalse0Information00fehér csipesz zárása a tű meletti csővég közelében, piros csipesz nyitása TrueFalse0Information00befertőzés: 100 ml Fluid-A befertőzése <100 cfu/0,1 ml mo. szuszpenzióvalTrueFalse0Filtration500100 ml befertőzött Fluid-A betöltése , piros dugó fel, szűrés, piros dugó leTrueFalse0Information00sárga dugó fel a nyitott csövű (piros csipeszes) kaniszterenTrueFalse0MediaTransfer600SCB betöltése: Bac. sp., / gombák (Asp. br.; Cand. alb.) szűrése után, vagy lásd. 24. lépéstTrueFalse0MediaTransfer300FTM betöltése: baktériumok (Staph. a.,; Ps. ae.; Bac. sp.; Clost. sp.) szűrése utánTrueFalse0CanisterClosing00pumpafej nyitása, majd a csipesz zárása és a csövek levágása TrueFalse0a1fa97ab-9d8b-4927-a8bb-2779df93c7ff81402_SMV_21_R_CL225Bemfola 225 IU/0,375 ml injekció RGBemfola 75 IU/0,125150 IU/0,25 ml; 225 IU/0,375 ml; 300 IU/0,5 ml; 450 IU/0,75 ml; injekció RGN/AN/ASzerelék: TZHACA01ApprovedInformation00TZHACA felszerelése, pumpa zárásaTrueFalse0Information00280 minta, FTM, SCB, Fluid-A fertőtlenítve, bekészítveTrueFalse0Information00minden vizsgálandó mikroorganizmussal végezzük el a folyamatotTrueFalse0Information00minden FTM, SCB, Fluid-A bontásakor műanyag kupak le, gumidugó fertőtlenítéseTrueFalse0Information00csövek nyitva, piros és sárga dugók nincsenek felrakvaTrueFalse0PreWetting500kaniszterenként 50 ml Fluid-A betöltése, piros dugók fel, 25 ml szűrés, piros dugók leTrueFalse0Information00piros csipesz zárása a tű felöli vég közelébenTrueFalse0Filtration3040 cartridge nyitása, minta betöltése, pumpa cartridge-onként indítva és leállítvaTrueFalse0Information00piros csipesz nyitása, fehér csipesz zárásaTrueFalse0Filtration3040 cartridge nyitása, minta betöltése, pumpa cartridge-onként indítva és leállítvaTrueFalse0Filtration700fehér csipesz nyitása, piros dugók fel, szűrés, piros dugók leTrueFalse0Rinsing500kaniszterenként 100 ml Fluid-A betöltése, piros dugók fel, szűrés, piros dugók leTrueFalse0Information00piros csipesz zárása a tű melletti csővég közelébenTrueFalse0Information00befertőzés: 100 ml Fluid-A befertőzése <100 cfu/0,1 ml mo. szuszpenzióvalTrueFalse0Filtration500100 ml befertőzött Fluid-A betöltése , piros dugó fel, szűrés, piros dugó leTrueFalse0Information00sárga dugó fel a nyitott csövű (fehér csipeszes) kaniszterenTrueFalse0MediaTransfer600SCB betöltése: Bac. sp., / gombák (Asp. br.; Cand. alb.) szűrése után, vagy lásd. 18. lépéstTrueFalse0MediaTransfer300FTM betöltése: baktériumok (Staph. a.,; Ps. ae.; Bac. sp.; Clost. sp.) szűrése utánTrueFalse0Information00fehér csipesz zárása a tű meletti csővég közelében, piros csipesz nyitása TrueFalse0Information00befertőzés: 100 ml Fluid-A befertőzése <100 cfu/0,1 ml mo. szuszpenzióvalTrueFalse0Filtration500100 ml befertőzött Fluid-A betöltése , piros dugó fel, szűrés, piros dugó leTrueFalse0Information00sárga dugó fel a nyitott csövű (piros csipeszes) kaniszterenTrueFalse0MediaTransfer600SCB betöltése: Bac. sp., / gombák (Asp. br.; Cand. alb.) szűrése után, vagy lásd. 24. lépéstTrueFalse0MediaTransfer300FTM betöltése: baktériumok (Staph. a.,; Ps. ae.; Bac. sp.; Clost. sp.) szűrése utánTrueFalse0CanisterClosing00pumpafej nyitása, majd a csipesz zárása és a csövek levágása TrueFalse0a9ec9e05-460d-46b5-bfaf-e8885289ec71NK_FD_SMV_21_E_ALNegatív_kontroll_Fluid-D_AL1TZHALAN/A01ApprovedInformation00TZHALA szerelék felszerelése, pumpa zárásaTrueFalse0Information00100 ml FTM, 100 ml SCB, 2x300 ml Fluid-D fertőtlenítve, bekészítveTrueFalse0Information00minden FTM, SCB, Fluid-D bontásakor műanyag kupak le, gumidugó fertőtlenítéseTrueFalse0Information00piros csipesz zárása, fehér csipesz nyitása, piros és sárga dugók nincsen felrakvaTrueFalse0Rinsing500100 ml Fluid-D betöltése, piros dugók fel, szűrés, piros dugók leTrueFalse0Rinsing7502x(100 ml Fluid-D betöltése, piros dugók fel, szűrés, piros dugók le)TrueFalse0Information00sárga dugó fel a fehér csipeszes kaniszterreTrueFalse0MediaTransfer600100 ml SCB tápoldat betöltése a kaniszterbeTrueFalse0Information00piros csipesz nyitása, fehér csipesz zárása  tű melletti csővég közelébenTrueFalse0Rinsing500100 ml Fluid-D betöltése, piros dugók fel, szűrés, piros dugók leTrueFalse0Rinsing7502x(100 ml Fluid-D betöltése, piros dugók fel, szűrés, piros dugók le)TrueFalse0Information00sárga dugó fel a piros csipeszes kaniszterreTrueFalse0MediaTransfer300100 ml FTM tápoldat betöltése a kaniszterbeTrueFalse0Information00csipeszek zárása a kanisztereknél, csövek levágása, kaniszterek lezárása, eltávolításaTrueFalse0CanisterClosing00pumpafej nyitásaTrueFalse0a8b7ab97-98b3-4d7b-8571-772fcf96cf8eNK_FK_SMV_21_E_ALNegatív_kontroll_Fluid-K_ALTZHALAN/A01ApprovedInformation00TZHALA szerelék felszerelése, pumpa zárásaTrueFalse0Information00100 ml FTM, 100 ml SCB, 300 ml Fluid-K és 400 ml Fluid-A fertőtlenítve, bekészítveTrueFalse0Information00FTM, SCB, Fluid-K, Fluid-A bontásakor műanyag kupak le, gumidugó fertőtlenítéseTrueFalse0Information00csipeszek nyitva, piros és sárga dugók nincsen felrakvaTrueFalse0Rinsing5001. kaniszterenként 50 ml Fluid-K betöltése, piros dugók fel, szűrés, piros dugók leTrueFalse0Rinsing5002. kaniszterenként 100 ml Fluid-K betöltése, piros dugók fel, szűrés, piros dugók leTrueFalse0Rinsing5003. kaniszterenként 100 ml Fluid-A betöltése, piros dugók fel, szűrés, piros dugók leTrueFalse0Rinsing5004. kaniszterenként 100 ml Fluid-A betöltése, piros dugók fel, szűrés, piros dugók leTrueFalse0Information00sárga dugók fel, a piros csipesz zárása a tű melletti csővég közelébenTrueFalse0MediaTransfer600100 ml SCB tápoldat betöltése a kaniszterbeTrueFalse0Information00piros csipesz nyitása, fehér csipesz zárása  tű melletti csővég közelébenTrueFalse0MediaTransfer300100 ml FTM tápoldat betöltése a kaniszterbeTrueFalse0CanisterClosing00pumpafej nyitása, majd csipeszek zárása, csövek levágása, kaniszterek zárásaTrueFalse0f53cd589-befd-4a84-a96e-2d5ef0c767f4NK_SMV_21_E_ALNegatív kontrollAL3TZHALAN/A03ApprovedInformation00TZHALA szerelék felszerelése, pumpa zárásaTrueFalse0Information00FTM, TSB/SCB, Fluid-A fertőtlenítve, bekészítveTrueFalse0Information00 csövek nyitva, piros és sárga dugók nincsenek felrakvaTrueFalse0PreWetting500előnedvesítéshez gumidugó fertőtlenítése, kaniszterenként 50 ml Fluid-A betöltéseTrueFalse0PreWetting500előnedvesítés: piros dugók fel, 2x50 ml Fluid-A szűréseTrueFalse0Rinsing500öblítés1: piros dugók le, kaniszterenként100 ml Fluid-A betöltéseTrueFalse0Rinsing500öblítés1: piros dugók fel, kaniszterenként 100 ml Fluid-A szűréseTrueFalse0Rinsing500öblítés2: piros dugók le, kaniszterenként 100 ml Fluid-A betöltéseTrueFalse0Rinsing500öblítés2: piros dugók fel, kaniszterenként 100 ml Fluid-A szűréseTrueFalse0Information00piros dugók le, sárga dugók fel, piros csipesz lezárása a tű melletti csővég közelébenTrueFalse0MediaTransfer600100 ml TSB/SCB gumidugó fertőtlenítése, tápoldat betöltése a kaniszterbeTrueFalse0Information00fehér csipesz lezárása a tű melletti csővég közelében, piros csipesz nyitásaTrueFalse0MediaTransfer300100 ml FTM gumidugó fertőtlenítése, tápoldat betöltése a kaniszterbeTrueFalse0Information00csipeszek lezárása a kanisztereknél TrueFalse0CanisterClosing00pumpafej nyitása a csövek levágása, kaniszterek lezárása előttTrueFalse0a89cc979-544f-48cc-a99e-c47507d82460NK_SMV_21_E_CLNegatív kontroll CartridgeTZHALAN/ASzerelék: TZHACA01ApprovedInformation00TZHACA szerelék felszerelése, pumpa zárásaTrueFalse0Information00FTM, TSB/SCB, Fluid-A fertőtlenítve, bekészítveTrueFalse0Information00 csövek nyitva, piros és sárga dugók nincsenek felrakvaTrueFalse0PreWetting500előnedvesítéshez gumidugó fertőtlenítése, kaniszterenként 50 ml Fluid-A betöltéseTrueFalse0PreWetting500előnedvesítés: piros dugók fel, 2x50 ml Fluid-A szűréseTrueFalse0Rinsing500öblítés1: piros dugók le, kaniszterenként100 ml Fluid-A betöltéseTrueFalse0Rinsing500öblítés1: piros dugók fel, kaniszterenként 100 ml Fluid-A szűréseTrueFalse0Rinsing500öblítés2: piros dugók le, kaniszterenként 100 ml Fluid-A betöltéseTrueFalse0Rinsing500öblítés2: piros dugók fel, kaniszterenként 100 ml Fluid-A szűréseTrueFalse0Information00piros dugók le, sárga dugók fel, piros csipesz lezárása a tű melletti csővég közelébenTrueFalse0MediaTransfer600100 ml TSB/SCB gumidugó fertőtlenítése, tápoldat betöltése a kaniszterbeTrueFalse0Information00fehér csipesz lezárása a tű melletti csővég közelében, piros csipesz nyitásaTrueFalse0MediaTransfer300100 ml FTM gumidugó fertőtlenítése, tápoldat betöltése a kaniszterbeTrueFalse0CanisterClosing00pumpafej nyitása a csövek levágása, kaniszterek lezárása előttTrueFalse0\n"
          ],
          "name": "stdout"
        },
        {
          "output_type": "execute_result",
          "data": {
            "application/vnd.google.colaboratory.intrinsic+json": {
              "type": "string"
            },
            "text/plain": [
              "'ProdLib_2021_Jul_24.stml'"
            ]
          },
          "metadata": {
            "tags": []
          },
          "execution_count": 143
        }
      ]
    },
    {
      "cell_type": "code",
      "metadata": {
        "id": "S3EyALcDJvT7",
        "colab": {
          "base_uri": "https://localhost:8080/"
        },
        "outputId": "33a07df8-cb66-49f0-c434-5cbf410e1861"
      },
      "source": [
        "print(\"HASH:\",getnode(newlib,\"HASH\"))\n",
        "print(\"MDATE:\",getnode(newlib,\"MDATE\"))\n",
        "print(\"Filename:\",getnode(newlib,\"FILENAME\"))\n",
        "\n",
        "\n",
        "\n"
      ],
      "execution_count": 144,
      "outputs": [
        {
          "output_type": "stream",
          "text": [
            "HASH: C20F2871941A59B8F0FE97D1C18638E8\n",
            "MDATE: 2021:Jul:24\n",
            "Filename: ProdLib_2021_Jul_24.stml\n"
          ],
          "name": "stdout"
        }
      ]
    },
    {
      "cell_type": "code",
      "metadata": {
        "colab": {
          "base_uri": "https://localhost:8080/",
          "height": 35
        },
        "id": "sDAVKk4DnnNz",
        "outputId": "3d98a73a-0165-4f5d-ab73-e40e154f840d"
      },
      "source": [
        "dategenerator()"
      ],
      "execution_count": 145,
      "outputs": [
        {
          "output_type": "execute_result",
          "data": {
            "application/vnd.google.colaboratory.intrinsic+json": {
              "type": "string"
            },
            "text/plain": [
              "'2021:Jul:24'"
            ]
          },
          "metadata": {
            "tags": []
          },
          "execution_count": 145
        }
      ]
    },
    {
      "cell_type": "code",
      "metadata": {
        "id": "ca5joYgSpkUY"
      },
      "source": [
        "def stml_files_list(extension='.stml', folder='C:\\\\'):\n",
        "    \"\"\"\n",
        "    ***************************\n",
        "    Listát készít egy adott könyvtárban lévő megadott kiterjesztésű fájlokból rekurzívan.\n",
        "    A listát eltárolja a outFileName -ban megadott helyre\n",
        "    Csak azokat a fájlokat veszi figyelembe, amelyek kora kisebb mint a megadott idő [sec]\n",
        "    ***************************\n",
        "    :param extension:       ezeket a fájlokat keresi\n",
        "    :param folder:          ebben a könyvtárban keres\n",
        "    :return: a fájlok listája\n",
        "    \"\"\"\n",
        "   \n",
        "    outlist=[]\n",
        "    \n",
        "    # print (currentDateTimeStamp)\n",
        "   \n",
        "    for r, d, f in os.walk(folder):\n",
        "        for file in f:\n",
        "            if file.endswith(extension):\n",
        "                # print(r+file)\n",
        "                fname = r + \"/\" + file\n",
        "                fileTimeStamp = os.path.getctime(fname)\n",
        "                # print(fileTimeStamp)\n",
        "                   \n",
        "                outlist.append(fname)\n",
        "    return(outlist)"
      ],
      "execution_count": 146,
      "outputs": []
    },
    {
      "cell_type": "code",
      "metadata": {
        "colab": {
          "base_uri": "https://localhost:8080/"
        },
        "id": "QP1taH7dt3JY",
        "outputId": "7695ed97-3b42-41ae-dad4-045fca6d40e0"
      },
      "source": [
        "filelista=stml_files_list(folder=\"./DEV\")\n",
        "print(filelista)"
      ],
      "execution_count": 147,
      "outputs": [
        {
          "output_type": "stream",
          "text": [
            "['./DEV/00798_SMVS1_21_R_AL Version 01.stml', './DEV/NK_SMV_21_E_CL Version 01.stml', './DEV/00162_SMV_21_R_AL Version 01.stml', './DEV/00754_SMVS1_21_R_AL Version 01.stml', './DEV/00153_SMVS1_21_R_AL Version 01.stml', './DEV/NK_SMV_21_E_AL Version 03.stml', './DEV/00138_SMVS1_21_R_AL Version 01.stml', './DEV/00161_SMV_21_R_AL Version 01.stml', './DEV/NK_FD_SMV_21_E_AL Version 01.stml', './DEV/00162_SMVS1_21_R_AL Version 01.stml', './DEV/00151_SMVS1_21_R_AL Version 01.stml', './DEV/00271_SMV_21_R_AL Version 01.stml', './DEV/81402_SMV_21_R_CL Version 01.stml', './DEV/NK_FK_SMV_21_E_AL Version 01.stml', './DEV/00828_SMVS1_21_R_SY Version 01.stml', './DEV/00159_SMV_21_R_AL Version 01.stml', './DEV/81402_SMV_21_R_CL225 Version 01.stml', './DEV/01117_SMV_21_R_CL Version 01.stml']\n"
          ],
          "name": "stdout"
        }
      ]
    },
    {
      "cell_type": "code",
      "metadata": {
        "id": "YPt9cxRNKPTX"
      },
      "source": [
        "file_handle = open(libfilename,\"w\")\n",
        "newlib.writexml(file_handle)\n",
        "file_handle.close()"
      ],
      "execution_count": 148,
      "outputs": []
    }
  ]
}
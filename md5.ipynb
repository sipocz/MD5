{
  "nbformat": 4,
  "nbformat_minor": 0,
  "metadata": {
    "colab": {
      "name": "md5.ipynb",
      "provenance": [],
      "authorship_tag": "ABX9TyMG6dMwdXRsQT5hD09n4lnv",
      "include_colab_link": true
    },
    "kernelspec": {
      "name": "python3",
      "display_name": "Python 3"
    },
    "language_info": {
      "name": "python"
    }
  },
  "cells": [
    {
      "cell_type": "markdown",
      "metadata": {
        "id": "view-in-github",
        "colab_type": "text"
      },
      "source": [
        "<a href=\"https://colab.research.google.com/github/sipocz/MD5/blob/main/md5.ipynb\" target=\"_parent\"><img src=\"https://colab.research.google.com/assets/colab-badge.svg\" alt=\"Open In Colab\"/></a>"
      ]
    },
    {
      "cell_type": "code",
      "metadata": {
        "colab": {
          "base_uri": "https://localhost:8080/"
        },
        "id": "g6mfNiW3A78N",
        "outputId": "97ff71d6-7c2d-4e14-d831-6c453e228275"
      },
      "source": [
        "# Python 3 code to demonstrate the \n",
        "# working of MD5 (byte - byte)\n",
        "  \n",
        "import hashlib\n",
        "  \n",
        "# encoding GeeksforGeeks using md5 hash\n",
        "# function \n",
        "result = hashlib.md5('steritást'.encode())\n",
        "  \n",
        "# printing the equivalent byte value.\n",
        "print(\"The byte equivalent of hash is : \", end =\"\")\n",
        "print(result.digest())\n",
        "print(result.hexdigest())"
      ],
      "execution_count": 16,
      "outputs": [
        {
          "output_type": "stream",
          "text": [
            "The byte equivalent of hash is : b'SW\\xbb\\xfcZov\\x03\\x8a\\xe8\\xb9\\xd0d\\xc2F\\x0c'\n",
            "5357bbfc5a6f76038ae8b9d064c2460c\n"
          ],
          "name": "stdout"
        }
      ]
    },
    {
      "cell_type": "code",
      "metadata": {
        "colab": {
          "base_uri": "https://localhost:8080/"
        },
        "id": "r1E_Y88tEYiY",
        "outputId": "9c8faa69-f462-4e7e-918c-6ab1b654a623"
      },
      "source": [
        "# working of MD5 (byte - byte)\n",
        "  \n",
        "import hashlib\n",
        "  \n",
        "# encoding GeeksforGeeks using md5 hash\n",
        "# function\n",
        "pwd=\"steritest\"\n",
        "print( pwd.encode()) \n",
        "result = hashlib.md5(pwd.encode())\n",
        "  \n",
        "# printing the equivalent byte value.\n",
        "print(\"The byte equivalent of hash is : \", end =\"\")\n",
        "print(result.digest())\n",
        "print(result.hexdigest())"
      ],
      "execution_count": 24,
      "outputs": [
        {
          "output_type": "stream",
          "text": [
            "b'steritest'\n",
            "The byte equivalent of hash is : b'\\xc3e\\x85\\x94d\\xad\\xfb\\xdf\\x00\\xbb\\n\\x1e\\x97\\x9e\\x9fk'\n",
            "c365859464adfbdf00bb0a1e979e9f6b\n"
          ],
          "name": "stdout"
        }
      ]
    },
    {
      "cell_type": "code",
      "metadata": {
        "id": "SctG5X1b-nof"
      },
      "source": [
        "code=\"7e8af2b643f04e9021428b8fa840cd8f\""
      ],
      "execution_count": 5,
      "outputs": []
    },
    {
      "cell_type": "code",
      "metadata": {
        "colab": {
          "base_uri": "https://localhost:8080/"
        },
        "id": "4iHIUtHfQpvx",
        "outputId": "6ec7e269-e1d3-4cb5-845b-77c4daf07701"
      },
      "source": [
        "print(hashlib.md5(\"c365859464adfbdf00bb0a1e979e9f6b\".encode()).hexdigest())"
      ],
      "execution_count": 27,
      "outputs": [
        {
          "output_type": "stream",
          "text": [
            "bfa6e9ab4630bc1c6546d435b56bf42a\n"
          ],
          "name": "stdout"
        }
      ]
    },
    {
      "cell_type": "code",
      "metadata": {
        "colab": {
          "base_uri": "https://localhost:8080/"
        },
        "id": "GOXsxRXBfxLw",
        "outputId": "484b2755-5ad7-488b-8fc5-50989e3cd16c"
      },
      "source": [
        "!pip install blowfish"
      ],
      "execution_count": 29,
      "outputs": [
        {
          "output_type": "stream",
          "text": [
            "Collecting blowfish\n",
            "  Downloading https://files.pythonhosted.org/packages/ca/06/6008f79f3df714da4eeb6d7daf5e417e072c69923d22ede09171e74d69f8/blowfish-0.6.1.tar.bz2\n",
            "Building wheels for collected packages: blowfish\n",
            "  Building wheel for blowfish (setup.py) ... \u001b[?25l\u001b[?25hdone\n",
            "  Created wheel for blowfish: filename=blowfish-0.6.1-cp37-none-any.whl size=28170 sha256=2bab820db33a608b75b32f1cf985054b6c9d7df066b7e40bcdb1fb223fa915e1\n",
            "  Stored in directory: /root/.cache/pip/wheels/cb/21/4c/058b8cd6d3ece07df6dcf724cdeaff56a062f2641ef15db41e\n",
            "Successfully built blowfish\n",
            "Installing collected packages: blowfish\n",
            "Successfully installed blowfish-0.6.1\n"
          ],
          "name": "stdout"
        }
      ]
    },
    {
      "cell_type": "code",
      "metadata": {
        "id": "xFsFNOZufvxH"
      },
      "source": [
        "import blowfish\n",
        "\n",
        "cipher = blowfish.Cipher(b\"Key must be between 4 and 56 bytes long.\")"
      ],
      "execution_count": 30,
      "outputs": []
    },
    {
      "cell_type": "code",
      "metadata": {
        "colab": {
          "base_uri": "https://localhost:8080/"
        },
        "id": "NBtFs_xff34R",
        "outputId": "02afdc2e-12ac-469b-d1ed-3006a2131404"
      },
      "source": [
        "print(cipher.)"
      ],
      "execution_count": 31,
      "outputs": [
        {
          "output_type": "stream",
          "text": [
            "<blowfish.Cipher object at 0x7fa21f473a90>\n"
          ],
          "name": "stdout"
        }
      ]
    },
    {
      "cell_type": "code",
      "metadata": {
        "id": "FqNdpAO4ug4Z"
      },
      "source": [
        "import xml.etree.ElementTree as ET"
      ],
      "execution_count": 98,
      "outputs": []
    },
    {
      "cell_type": "code",
      "metadata": {
        "id": "cdSpU4c7wkYu"
      },
      "source": [
        "with open('a1.stml', 'r') as f:\n",
        "    data = f.read() "
      ],
      "execution_count": 99,
      "outputs": []
    },
    {
      "cell_type": "code",
      "metadata": {
        "colab": {
          "base_uri": "https://localhost:8080/"
        },
        "id": "IlVNKjfMwr8c",
        "outputId": "ccc3dce5-36ab-45b2-e969-b16d1e9a0f99"
      },
      "source": [
        "print(data)"
      ],
      "execution_count": 100,
      "outputs": [
        {
          "output_type": "stream",
          "text": [
            "﻿<?xml version=\"1.0\" encoding=\"utf-8\"?>\n",
            "<STERILITY_LIB>\n",
            "<FILENAME>\n",
            "</FILENAME>\n",
            "<HASH>7907DE56B76E1C1DCA755C9F5CEF34D9</HASH>\n",
            "<SOPS>\n",
            "<MDATE>2021:Jul:18</MDATE>\n",
            "<SOP>\n",
            "<UUID>4f011561-8260-40ce-86d2-8c9574f3b771</UUID>\n",
            "<NUMBER>a1</NUMBER>\n",
            "<NAME>a1</NAME>\n",
            "<FULLNAME>\n",
            "</FULLNAME>\n",
            "<STERITEST>N/A</STERITEST>\n",
            "<STERITEST_ACCESSORY>N/A</STERITEST_ACCESSORY>\n",
            "<COMMENT>\n",
            "</COMMENT>\n",
            "<REVISION>0</REVISION>\n",
            "<STATUS>Pending</STATUS>\n",
            "<SEQUENCE>\n",
            "<STEP>\n",
            "<TYPE>Dilution</TYPE>\n",
            "<SPEED>1</SPEED>\n",
            "<TIMER>0</TIMER>\n",
            "<COMMENT>\n",
            "</COMMENT>\n",
            "<REGULATION>False</REGULATION>\n",
            "<SYRINGE>False</SYRINGE>\n",
            "<SYRINGEDELAY>0</SYRINGEDELAY>\n",
            "</STEP>\n",
            "</SEQUENCE>\n",
            "</SOP>\n",
            "</SOPS>\n",
            "</STERILITY_LIB>\n"
          ],
          "name": "stdout"
        }
      ]
    },
    {
      "cell_type": "code",
      "metadata": {
        "colab": {
          "base_uri": "https://localhost:8080/"
        },
        "id": "vV2bnP3qv71T",
        "outputId": "5b03b079-15ba-4775-e6fa-2a6f22d8a68c"
      },
      "source": [
        "from xml.dom import minidom\n",
        "\n",
        "# parse an xml file by name\n",
        "file = minidom.parse('a1.stml')\n",
        "\n",
        "#use getElementsByTagName() to get tag\n",
        "models = file.getElementsByTagName('SOPS')\n",
        "\n",
        "# one specific item attribute\n",
        "print('model #2 attribute:')\n",
        "print(models[0])\n",
        "\n"
      ],
      "execution_count": 104,
      "outputs": [
        {
          "output_type": "stream",
          "text": [
            "model #2 attribute:\n",
            "<DOM Element: SOPS at 0x7fa21ab03cd0>\n"
          ],
          "name": "stdout"
        }
      ]
    },
    {
      "cell_type": "code",
      "metadata": {
        "colab": {
          "base_uri": "https://localhost:8080/",
          "height": 666
        },
        "id": "RXGQ1-fsujLN",
        "outputId": "42c7e9c9-79b0-4238-fefa-5466919881db"
      },
      "source": [
        "for node in models:  # visit every node <bar />\n",
        "    print (node.toxml())\n",
        "    "
      ],
      "execution_count": 107,
      "outputs": [
        {
          "output_type": "stream",
          "text": [
            "<SOPS>\n",
            "<MDATE>2021:Jul:18</MDATE>\n",
            "<SOP>\n",
            "<UUID>4f011561-8260-40ce-86d2-8c9574f3b771</UUID>\n",
            "<NUMBER>a1</NUMBER>\n",
            "<NAME>a1</NAME>\n",
            "<FULLNAME>\n",
            "</FULLNAME>\n",
            "<STERITEST>N/A</STERITEST>\n",
            "<STERITEST_ACCESSORY>N/A</STERITEST_ACCESSORY>\n",
            "<COMMENT>\n",
            "</COMMENT>\n",
            "<REVISION>0</REVISION>\n",
            "<STATUS>Pending</STATUS>\n",
            "<SEQUENCE>\n",
            "<STEP>\n",
            "<TYPE>Dilution</TYPE>\n",
            "<SPEED>1</SPEED>\n",
            "<TIMER>0</TIMER>\n",
            "<COMMENT>\n",
            "</COMMENT>\n",
            "<REGULATION>False</REGULATION>\n",
            "<SYRINGE>False</SYRINGE>\n",
            "<SYRINGEDELAY>0</SYRINGEDELAY>\n",
            "</STEP>\n",
            "</SEQUENCE>\n",
            "</SOP>\n",
            "</SOPS>\n"
          ],
          "name": "stdout"
        },
        {
          "output_type": "error",
          "ename": "AttributeError",
          "evalue": "ignored",
          "traceback": [
            "\u001b[0;31m---------------------------------------------------------------------------\u001b[0m",
            "\u001b[0;31mAttributeError\u001b[0m                            Traceback (most recent call last)",
            "\u001b[0;32m<ipython-input-107-99db6c0961f5>\u001b[0m in \u001b[0;36m<module>\u001b[0;34m()\u001b[0m\n\u001b[1;32m      1\u001b[0m \u001b[0;32mfor\u001b[0m \u001b[0mnode\u001b[0m \u001b[0;32min\u001b[0m \u001b[0mmodels\u001b[0m\u001b[0;34m:\u001b[0m  \u001b[0;31m# visit every node <bar />\u001b[0m\u001b[0;34m\u001b[0m\u001b[0;34m\u001b[0m\u001b[0m\n\u001b[1;32m      2\u001b[0m     \u001b[0mprint\u001b[0m \u001b[0;34m(\u001b[0m\u001b[0mnode\u001b[0m\u001b[0;34m.\u001b[0m\u001b[0mtoxml\u001b[0m\u001b[0;34m(\u001b[0m\u001b[0;34m)\u001b[0m\u001b[0;34m)\u001b[0m\u001b[0;34m\u001b[0m\u001b[0;34m\u001b[0m\u001b[0m\n\u001b[0;32m----> 3\u001b[0;31m     \u001b[0mprint\u001b[0m\u001b[0;34m(\u001b[0m\u001b[0mnode\u001b[0m\u001b[0;34m.\u001b[0m\u001b[0mSOP\u001b[0m\u001b[0;34m.\u001b[0m\u001b[0mtoxml\u001b[0m\u001b[0;34m(\u001b[0m\u001b[0;34m)\u001b[0m\u001b[0;34m)\u001b[0m\u001b[0;34m\u001b[0m\u001b[0;34m\u001b[0m\u001b[0m\n\u001b[0m",
            "\u001b[0;31mAttributeError\u001b[0m: 'Element' object has no attribute 'SOP'"
          ]
        }
      ]
    },
    {
      "cell_type": "code",
      "metadata": {
        "id": "N-MeHNCB0drh"
      },
      "source": [
        "nodesop=file.getElementsByTagName('SOP')[0]"
      ],
      "execution_count": 92,
      "outputs": []
    },
    {
      "cell_type": "code",
      "metadata": {
        "colab": {
          "base_uri": "https://localhost:8080/"
        },
        "id": "KXuOG2Bg2bwp",
        "outputId": "a95dbefb-3731-4481-9dc0-e05e3017113b"
      },
      "source": [
        "print(nodesop.toxml())"
      ],
      "execution_count": 93,
      "outputs": [
        {
          "output_type": "stream",
          "text": [
            "<SOP>\n",
            "<UUID>4f011561-8260-40ce-86d2-8c9574f3b771</UUID>\n",
            "<NUMBER>a1</NUMBER>\n",
            "<NAME>a1</NAME>\n",
            "<FULLNAME>\n",
            "</FULLNAME>\n",
            "<STERITEST>N/A</STERITEST>\n",
            "<STERITEST_ACCESSORY>N/A</STERITEST_ACCESSORY>\n",
            "<COMMENT>\n",
            "</COMMENT>\n",
            "<REVISION>0</REVISION>\n",
            "<STATUS>Pending</STATUS>\n",
            "<SEQUENCE>\n",
            "<STEP>\n",
            "<TYPE>Dilution</TYPE>\n",
            "<SPEED>1</SPEED>\n",
            "<TIMER>0</TIMER>\n",
            "<COMMENT>\n",
            "</COMMENT>\n",
            "<REGULATION>False</REGULATION>\n",
            "<SYRINGE>False</SYRINGE>\n",
            "<SYRINGEDELAY>0</SYRINGEDELAY>\n",
            "</STEP>\n",
            "</SEQUENCE>\n",
            "</SOP>\n"
          ],
          "name": "stdout"
        }
      ]
    },
    {
      "cell_type": "code",
      "metadata": {
        "colab": {
          "base_uri": "https://localhost:8080/",
          "height": 178
        },
        "id": "Yv_JF1Ca0n4D",
        "outputId": "d52bd6cf-726c-4a0f-f10c-aa8d02e7df4b"
      },
      "source": [
        "for ch in nodesop:\n",
        "    print (ch)"
      ],
      "execution_count": 96,
      "outputs": [
        {
          "output_type": "error",
          "ename": "TypeError",
          "evalue": "ignored",
          "traceback": [
            "\u001b[0;31m---------------------------------------------------------------------------\u001b[0m",
            "\u001b[0;31mTypeError\u001b[0m                                 Traceback (most recent call last)",
            "\u001b[0;32m<ipython-input-96-9972a7b65af8>\u001b[0m in \u001b[0;36m<module>\u001b[0;34m()\u001b[0m\n\u001b[0;32m----> 1\u001b[0;31m \u001b[0;32mfor\u001b[0m \u001b[0mch\u001b[0m \u001b[0;32min\u001b[0m \u001b[0mnodesop\u001b[0m\u001b[0;34m:\u001b[0m\u001b[0;34m\u001b[0m\u001b[0;34m\u001b[0m\u001b[0m\n\u001b[0m\u001b[1;32m      2\u001b[0m     \u001b[0mprint\u001b[0m \u001b[0;34m(\u001b[0m\u001b[0mch\u001b[0m\u001b[0;34m)\u001b[0m\u001b[0;34m\u001b[0m\u001b[0;34m\u001b[0m\u001b[0m\n",
            "\u001b[0;31mTypeError\u001b[0m: 'Element' object is not iterable"
          ]
        }
      ]
    },
    {
      "cell_type": "code",
      "metadata": {
        "colab": {
          "base_uri": "https://localhost:8080/"
        },
        "id": "73x3Nvfe6JYE",
        "outputId": "f6fdf1bc-5f27-47d8-e72d-1cb8de34ebed"
      },
      "source": [
        "import uuid\n",
        "\n",
        "myuuid = uuid.uuid4()\n",
        "\n",
        "print('Your UUID is: ' + str(myuuid))"
      ],
      "execution_count": 88,
      "outputs": [
        {
          "output_type": "stream",
          "text": [
            "Your UUID is: 2b0f1c4b-a036-4e14-bacb-c98f99563413\n"
          ],
          "name": "stdout"
        }
      ]
    },
    {
      "cell_type": "code",
      "metadata": {
        "id": "NKj0Jwsc__y0"
      },
      "source": [
        "st=\"2021:Jul:184f011561-8260-40ce-86d2-8c9574f3b771a1a1N/AN/A0PendingDilution10FalseFalse0\"\n"
      ],
      "execution_count": 109,
      "outputs": []
    },
    {
      "cell_type": "code",
      "metadata": {
        "colab": {
          "base_uri": "https://localhost:8080/"
        },
        "id": "A1o0HXEtAH9L",
        "outputId": "5c2117d0-8d14-4c31-9de3-7b4310a47773"
      },
      "source": [
        "import hashlib\n",
        "  \n",
        "# encoding GeeksforGeeks using md5 hash\n",
        "# function\n",
        "pwd=st\n",
        "print( pwd.encode()) \n",
        "result = hashlib.md5(pwd.encode())"
      ],
      "execution_count": 110,
      "outputs": [
        {
          "output_type": "stream",
          "text": [
            "b'2021:Jul:184f011561-8260-40ce-86d2-8c9574f3b771a1a1N/AN/A0PendingDilution10FalseFalse0'\n"
          ],
          "name": "stdout"
        }
      ]
    },
    {
      "cell_type": "code",
      "metadata": {
        "colab": {
          "base_uri": "https://localhost:8080/"
        },
        "id": "NcXLBzjnARxO",
        "outputId": "0d81c49b-f6a7-4eec-ae6e-62687b33e305"
      },
      "source": [
        "print(result.digest())\n",
        "print(result.hexdigest())"
      ],
      "execution_count": 111,
      "outputs": [
        {
          "output_type": "stream",
          "text": [
            "b'y\\x07\\xdeV\\xb7n\\x1c\\x1d\\xcau\\\\\\x9f\\\\\\xef4\\xd9'\n",
            "7907de56b76e1c1dca755c9f5cef34d9\n"
          ],
          "name": "stdout"
        }
      ]
    }
  ]
}
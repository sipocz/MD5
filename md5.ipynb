{
  "nbformat": 4,
  "nbformat_minor": 0,
  "metadata": {
    "colab": {
      "name": "md5.ipynb",
      "provenance": [],
      "authorship_tag": "ABX9TyNoq6RMr31adYX+LhKDgtFG",
      "include_colab_link": true
    },
    "kernelspec": {
      "name": "python3",
      "display_name": "Python 3"
    },
    "language_info": {
      "name": "python"
    }
  },
  "cells": [
    {
      "cell_type": "markdown",
      "metadata": {
        "id": "view-in-github",
        "colab_type": "text"
      },
      "source": [
        "<a href=\"https://colab.research.google.com/github/sipocz/MD5/blob/main/md5.ipynb\" target=\"_parent\"><img src=\"https://colab.research.google.com/assets/colab-badge.svg\" alt=\"Open In Colab\"/></a>"
      ]
    },
    {
      "cell_type": "code",
      "metadata": {
        "id": "YYxI_h_lIRyU"
      },
      "source": [
        "import os\n",
        "from urllib.parse import urlparse"
      ],
      "execution_count": 54,
      "outputs": []
    },
    {
      "cell_type": "code",
      "metadata": {
        "id": "kLf1_klLMMZd"
      },
      "source": [
        "files=[\n",
        "\"00138_SMVS1_21_R_AL Version 01.stml\",\n",
        "\"00151_SMVS1_21_R_AL Version 01.stml\",\n",
        "\"00153_SMVS1_21_R_AL Version 01.stml\",\n",
        "\"00159_SMV_21_R_AL Version 01.stml\",\n",
        "\"00161_SMV_21_R_AL Version 01.stml\",\n",
        "\"00162_SMVS1_21_R_AL Version 01.stml\",\n",
        "\"00162_SMV_21_R_AL Version 01.stml\",\n",
        "\"00271_SMV_21_R_AL Version 01.stml\",\n",
        "\"00754_SMVS1_21_R_AL Version 01.stml\",\n",
        "\"00798_SMVS1_21_R_AL Version 01.stml\",\n",
        "\"00828_SMVS1_21_R_SY Version 01.stml\",\n",
        "\"01117_SMV_21_R_CL Version 01.stml\",\n",
        "\"81402_SMV_21_R_CL Version 01.stml\",\n",
        "\"81402_SMV_21_R_CL225 Version 01.stml\",\n",
        "\"NK_FD_SMV_21_E_AL Version 01.stml\",\n",
        "\"NK_FK_SMV_21_E_AL Version 01.stml\",\n",
        "\"NK_SMV_21_E_AL Version 03.stml\",\n",
        "\"NK_SMV_21_E_CL Version 01.stml\",\n",
        "]"
      ],
      "execution_count": 55,
      "outputs": []
    },
    {
      "cell_type": "code",
      "metadata": {
        "id": "UsiANJtiMo6J"
      },
      "source": [
        "urlprefix=\"https://raw.githubusercontent.com/sipocz/MD5/main/sops/\"\n",
        "urls=[]\n",
        "for afile in files:\n",
        "    urls.append(urlprefix+afile.replace(\" \",\"%20\"))\n"
      ],
      "execution_count": 56,
      "outputs": []
    },
    {
      "cell_type": "code",
      "metadata": {
        "colab": {
          "base_uri": "https://localhost:8080/"
        },
        "id": "U762zy6rNEh4",
        "outputId": "da3e6538-21f0-4c36-8384-f5eee32de7d6"
      },
      "source": [
        "urls"
      ],
      "execution_count": 57,
      "outputs": [
        {
          "output_type": "execute_result",
          "data": {
            "text/plain": [
              "['https://raw.githubusercontent.com/sipocz/MD5/main/sops/00138_SMVS1_21_R_AL%20Version%2001.stml',\n",
              " 'https://raw.githubusercontent.com/sipocz/MD5/main/sops/00151_SMVS1_21_R_AL%20Version%2001.stml',\n",
              " 'https://raw.githubusercontent.com/sipocz/MD5/main/sops/00153_SMVS1_21_R_AL%20Version%2001.stml',\n",
              " 'https://raw.githubusercontent.com/sipocz/MD5/main/sops/00159_SMV_21_R_AL%20Version%2001.stml',\n",
              " 'https://raw.githubusercontent.com/sipocz/MD5/main/sops/00161_SMV_21_R_AL%20Version%2001.stml',\n",
              " 'https://raw.githubusercontent.com/sipocz/MD5/main/sops/00162_SMVS1_21_R_AL%20Version%2001.stml',\n",
              " 'https://raw.githubusercontent.com/sipocz/MD5/main/sops/00162_SMV_21_R_AL%20Version%2001.stml',\n",
              " 'https://raw.githubusercontent.com/sipocz/MD5/main/sops/00271_SMV_21_R_AL%20Version%2001.stml',\n",
              " 'https://raw.githubusercontent.com/sipocz/MD5/main/sops/00754_SMVS1_21_R_AL%20Version%2001.stml',\n",
              " 'https://raw.githubusercontent.com/sipocz/MD5/main/sops/00798_SMVS1_21_R_AL%20Version%2001.stml',\n",
              " 'https://raw.githubusercontent.com/sipocz/MD5/main/sops/00828_SMVS1_21_R_SY%20Version%2001.stml',\n",
              " 'https://raw.githubusercontent.com/sipocz/MD5/main/sops/01117_SMV_21_R_CL%20Version%2001.stml',\n",
              " 'https://raw.githubusercontent.com/sipocz/MD5/main/sops/81402_SMV_21_R_CL%20Version%2001.stml',\n",
              " 'https://raw.githubusercontent.com/sipocz/MD5/main/sops/81402_SMV_21_R_CL225%20Version%2001.stml',\n",
              " 'https://raw.githubusercontent.com/sipocz/MD5/main/sops/NK_FD_SMV_21_E_AL%20Version%2001.stml',\n",
              " 'https://raw.githubusercontent.com/sipocz/MD5/main/sops/NK_FK_SMV_21_E_AL%20Version%2001.stml',\n",
              " 'https://raw.githubusercontent.com/sipocz/MD5/main/sops/NK_SMV_21_E_AL%20Version%2003.stml',\n",
              " 'https://raw.githubusercontent.com/sipocz/MD5/main/sops/NK_SMV_21_E_CL%20Version%2001.stml']"
            ]
          },
          "metadata": {
            "tags": []
          },
          "execution_count": 57
        }
      ]
    },
    {
      "cell_type": "code",
      "metadata": {
        "id": "eTUe6rNIHjXE"
      },
      "source": [
        "_DEV_directory=\"./DEV/\""
      ],
      "execution_count": 58,
      "outputs": []
    },
    {
      "cell_type": "code",
      "metadata": {
        "colab": {
          "base_uri": "https://localhost:8080/"
        },
        "id": "MBsbpNesEzG9",
        "outputId": "04c0eb55-b553-41e3-b3d1-83c6790c53fb"
      },
      "source": [
        "# file struktúra kialakítása\n",
        "\n",
        "!cd /content\n",
        "!mkdir DEV\n",
        "!cd DEV\n",
        "for url in urls:\n",
        "    a = urlparse(url)\n",
        "    print(a.path)                    # Output: /kyle/09-09-201315-47-571378756077.jpg\n",
        "    fname=os.path.basename(a.path).replace(\"%20\",\" \")\n",
        "    print(\"fname:\", fname )\n",
        "    !wget $url\n",
        "    !mv \"$fname\" ./DEV/ "
      ],
      "execution_count": 59,
      "outputs": [
        {
          "output_type": "stream",
          "text": [
            "mkdir: cannot create directory ‘DEV’: File exists\n",
            "/sipocz/MD5/main/sops/00138_SMVS1_21_R_AL%20Version%2001.stml\n",
            "fname: 00138_SMVS1_21_R_AL Version 01.stml\n",
            "--2021-07-22 07:58:06--  https://raw.githubusercontent.com/sipocz/MD5/main/sops/00138_SMVS1_21_R_AL%20Version%2001.stml\n",
            "Resolving raw.githubusercontent.com (raw.githubusercontent.com)... 185.199.108.133, 185.199.109.133, 185.199.110.133, ...\n",
            "Connecting to raw.githubusercontent.com (raw.githubusercontent.com)|185.199.108.133|:443... connected.\n",
            "HTTP request sent, awaiting response... 200 OK\n",
            "Length: 6400 (6.2K) [text/plain]\n",
            "Saving to: ‘00138_SMVS1_21_R_AL Version 01.stml’\n",
            "\n",
            "00138_SMVS1_21_R_AL 100%[===================>]   6.25K  --.-KB/s    in 0s      \n",
            "\n",
            "2021-07-22 07:58:06 (41.1 MB/s) - ‘00138_SMVS1_21_R_AL Version 01.stml’ saved [6400/6400]\n",
            "\n",
            "/sipocz/MD5/main/sops/00151_SMVS1_21_R_AL%20Version%2001.stml\n",
            "fname: 00151_SMVS1_21_R_AL Version 01.stml\n",
            "--2021-07-22 07:58:07--  https://raw.githubusercontent.com/sipocz/MD5/main/sops/00151_SMVS1_21_R_AL%20Version%2001.stml\n",
            "Resolving raw.githubusercontent.com (raw.githubusercontent.com)... 185.199.110.133, 185.199.108.133, 185.199.109.133, ...\n",
            "Connecting to raw.githubusercontent.com (raw.githubusercontent.com)|185.199.110.133|:443... connected.\n",
            "HTTP request sent, awaiting response... 200 OK\n",
            "Length: 6414 (6.3K) [text/plain]\n",
            "Saving to: ‘00151_SMVS1_21_R_AL Version 01.stml’\n",
            "\n",
            "00151_SMVS1_21_R_AL 100%[===================>]   6.26K  --.-KB/s    in 0s      \n",
            "\n",
            "2021-07-22 07:58:07 (49.7 MB/s) - ‘00151_SMVS1_21_R_AL Version 01.stml’ saved [6414/6414]\n",
            "\n",
            "/sipocz/MD5/main/sops/00153_SMVS1_21_R_AL%20Version%2001.stml\n",
            "fname: 00153_SMVS1_21_R_AL Version 01.stml\n",
            "--2021-07-22 07:58:07--  https://raw.githubusercontent.com/sipocz/MD5/main/sops/00153_SMVS1_21_R_AL%20Version%2001.stml\n",
            "Resolving raw.githubusercontent.com (raw.githubusercontent.com)... 185.199.108.133, 185.199.109.133, 185.199.110.133, ...\n",
            "Connecting to raw.githubusercontent.com (raw.githubusercontent.com)|185.199.108.133|:443... connected.\n",
            "HTTP request sent, awaiting response... 200 OK\n",
            "Length: 7196 (7.0K) [text/plain]\n",
            "Saving to: ‘00153_SMVS1_21_R_AL Version 01.stml’\n",
            "\n",
            "00153_SMVS1_21_R_AL 100%[===================>]   7.03K  --.-KB/s    in 0s      \n",
            "\n",
            "2021-07-22 07:58:07 (28.8 MB/s) - ‘00153_SMVS1_21_R_AL Version 01.stml’ saved [7196/7196]\n",
            "\n",
            "/sipocz/MD5/main/sops/00159_SMV_21_R_AL%20Version%2001.stml\n",
            "fname: 00159_SMV_21_R_AL Version 01.stml\n",
            "--2021-07-22 07:58:07--  https://raw.githubusercontent.com/sipocz/MD5/main/sops/00159_SMV_21_R_AL%20Version%2001.stml\n",
            "Resolving raw.githubusercontent.com (raw.githubusercontent.com)... 185.199.109.133, 185.199.108.133, 185.199.111.133, ...\n",
            "Connecting to raw.githubusercontent.com (raw.githubusercontent.com)|185.199.109.133|:443... connected.\n",
            "HTTP request sent, awaiting response... 200 OK\n",
            "Length: 7174 (7.0K) [text/plain]\n",
            "Saving to: ‘00159_SMV_21_R_AL Version 01.stml’\n",
            "\n",
            "00159_SMV_21_R_AL V 100%[===================>]   7.01K  --.-KB/s    in 0s      \n",
            "\n",
            "2021-07-22 07:58:07 (57.3 MB/s) - ‘00159_SMV_21_R_AL Version 01.stml’ saved [7174/7174]\n",
            "\n",
            "/sipocz/MD5/main/sops/00161_SMV_21_R_AL%20Version%2001.stml\n",
            "fname: 00161_SMV_21_R_AL Version 01.stml\n",
            "--2021-07-22 07:58:07--  https://raw.githubusercontent.com/sipocz/MD5/main/sops/00161_SMV_21_R_AL%20Version%2001.stml\n",
            "Resolving raw.githubusercontent.com (raw.githubusercontent.com)... 185.199.111.133, 185.199.108.133, 185.199.109.133, ...\n",
            "Connecting to raw.githubusercontent.com (raw.githubusercontent.com)|185.199.111.133|:443... connected.\n",
            "HTTP request sent, awaiting response... 200 OK\n",
            "Length: 7172 (7.0K) [text/plain]\n",
            "Saving to: ‘00161_SMV_21_R_AL Version 01.stml’\n",
            "\n",
            "00161_SMV_21_R_AL V 100%[===================>]   7.00K  --.-KB/s    in 0s      \n",
            "\n",
            "2021-07-22 07:58:07 (23.3 MB/s) - ‘00161_SMV_21_R_AL Version 01.stml’ saved [7172/7172]\n",
            "\n",
            "/sipocz/MD5/main/sops/00162_SMVS1_21_R_AL%20Version%2001.stml\n",
            "fname: 00162_SMVS1_21_R_AL Version 01.stml\n",
            "--2021-07-22 07:58:07--  https://raw.githubusercontent.com/sipocz/MD5/main/sops/00162_SMVS1_21_R_AL%20Version%2001.stml\n",
            "Resolving raw.githubusercontent.com (raw.githubusercontent.com)... 185.199.110.133, 185.199.108.133, 185.199.109.133, ...\n",
            "Connecting to raw.githubusercontent.com (raw.githubusercontent.com)|185.199.110.133|:443... connected.\n",
            "HTTP request sent, awaiting response... 200 OK\n",
            "Length: 6388 (6.2K) [text/plain]\n",
            "Saving to: ‘00162_SMVS1_21_R_AL Version 01.stml’\n",
            "\n",
            "00162_SMVS1_21_R_AL 100%[===================>]   6.24K  --.-KB/s    in 0s      \n",
            "\n",
            "2021-07-22 07:58:08 (45.6 MB/s) - ‘00162_SMVS1_21_R_AL Version 01.stml’ saved [6388/6388]\n",
            "\n",
            "/sipocz/MD5/main/sops/00162_SMV_21_R_AL%20Version%2001.stml\n",
            "fname: 00162_SMV_21_R_AL Version 01.stml\n",
            "--2021-07-22 07:58:08--  https://raw.githubusercontent.com/sipocz/MD5/main/sops/00162_SMV_21_R_AL%20Version%2001.stml\n",
            "Resolving raw.githubusercontent.com (raw.githubusercontent.com)... 185.199.109.133, 185.199.108.133, 185.199.110.133, ...\n",
            "Connecting to raw.githubusercontent.com (raw.githubusercontent.com)|185.199.109.133|:443... connected.\n",
            "HTTP request sent, awaiting response... 200 OK\n",
            "Length: 6390 (6.2K) [text/plain]\n",
            "Saving to: ‘00162_SMV_21_R_AL Version 01.stml’\n",
            "\n",
            "00162_SMV_21_R_AL V 100%[===================>]   6.24K  --.-KB/s    in 0s      \n",
            "\n",
            "2021-07-22 07:58:08 (42.3 MB/s) - ‘00162_SMV_21_R_AL Version 01.stml’ saved [6390/6390]\n",
            "\n",
            "/sipocz/MD5/main/sops/00271_SMV_21_R_AL%20Version%2001.stml\n",
            "fname: 00271_SMV_21_R_AL Version 01.stml\n",
            "--2021-07-22 07:58:08--  https://raw.githubusercontent.com/sipocz/MD5/main/sops/00271_SMV_21_R_AL%20Version%2001.stml\n",
            "Resolving raw.githubusercontent.com (raw.githubusercontent.com)... 185.199.108.133, 185.199.109.133, 185.199.110.133, ...\n",
            "Connecting to raw.githubusercontent.com (raw.githubusercontent.com)|185.199.108.133|:443... connected.\n",
            "HTTP request sent, awaiting response... 200 OK\n",
            "Length: 6390 (6.2K) [text/plain]\n",
            "Saving to: ‘00271_SMV_21_R_AL Version 01.stml’\n",
            "\n",
            "00271_SMV_21_R_AL V 100%[===================>]   6.24K  --.-KB/s    in 0s      \n",
            "\n",
            "2021-07-22 07:58:08 (56.3 MB/s) - ‘00271_SMV_21_R_AL Version 01.stml’ saved [6390/6390]\n",
            "\n",
            "/sipocz/MD5/main/sops/00754_SMVS1_21_R_AL%20Version%2001.stml\n",
            "fname: 00754_SMVS1_21_R_AL Version 01.stml\n",
            "--2021-07-22 07:58:08--  https://raw.githubusercontent.com/sipocz/MD5/main/sops/00754_SMVS1_21_R_AL%20Version%2001.stml\n",
            "Resolving raw.githubusercontent.com (raw.githubusercontent.com)... 185.199.111.133, 185.199.109.133, 185.199.110.133, ...\n",
            "Connecting to raw.githubusercontent.com (raw.githubusercontent.com)|185.199.111.133|:443... connected.\n",
            "HTTP request sent, awaiting response... 200 OK\n",
            "Length: 6397 (6.2K) [text/plain]\n",
            "Saving to: ‘00754_SMVS1_21_R_AL Version 01.stml’\n",
            "\n",
            "00754_SMVS1_21_R_AL 100%[===================>]   6.25K  --.-KB/s    in 0s      \n",
            "\n",
            "2021-07-22 07:58:08 (66.1 MB/s) - ‘00754_SMVS1_21_R_AL Version 01.stml’ saved [6397/6397]\n",
            "\n",
            "/sipocz/MD5/main/sops/00798_SMVS1_21_R_AL%20Version%2001.stml\n",
            "fname: 00798_SMVS1_21_R_AL Version 01.stml\n",
            "--2021-07-22 07:58:08--  https://raw.githubusercontent.com/sipocz/MD5/main/sops/00798_SMVS1_21_R_AL%20Version%2001.stml\n",
            "Resolving raw.githubusercontent.com (raw.githubusercontent.com)... 185.199.108.133, 185.199.109.133, 185.199.110.133, ...\n",
            "Connecting to raw.githubusercontent.com (raw.githubusercontent.com)|185.199.108.133|:443... connected.\n",
            "HTTP request sent, awaiting response... 200 OK\n",
            "Length: 6398 (6.2K) [text/plain]\n",
            "Saving to: ‘00798_SMVS1_21_R_AL Version 01.stml’\n",
            "\n",
            "00798_SMVS1_21_R_AL 100%[===================>]   6.25K  --.-KB/s    in 0s      \n",
            "\n",
            "2021-07-22 07:58:08 (55.0 MB/s) - ‘00798_SMVS1_21_R_AL Version 01.stml’ saved [6398/6398]\n",
            "\n",
            "/sipocz/MD5/main/sops/00828_SMVS1_21_R_SY%20Version%2001.stml\n",
            "fname: 00828_SMVS1_21_R_SY Version 01.stml\n",
            "--2021-07-22 07:58:09--  https://raw.githubusercontent.com/sipocz/MD5/main/sops/00828_SMVS1_21_R_SY%20Version%2001.stml\n",
            "Resolving raw.githubusercontent.com (raw.githubusercontent.com)... 185.199.109.133, 185.199.108.133, 185.199.111.133, ...\n",
            "Connecting to raw.githubusercontent.com (raw.githubusercontent.com)|185.199.109.133|:443... connected.\n",
            "HTTP request sent, awaiting response... 200 OK\n",
            "Length: 7450 (7.3K) [text/plain]\n",
            "Saving to: ‘00828_SMVS1_21_R_SY Version 01.stml’\n",
            "\n",
            "00828_SMVS1_21_R_SY 100%[===================>]   7.28K  --.-KB/s    in 0s      \n",
            "\n",
            "2021-07-22 07:58:09 (49.8 MB/s) - ‘00828_SMVS1_21_R_SY Version 01.stml’ saved [7450/7450]\n",
            "\n",
            "/sipocz/MD5/main/sops/01117_SMV_21_R_CL%20Version%2001.stml\n",
            "fname: 01117_SMV_21_R_CL Version 01.stml\n",
            "--2021-07-22 07:58:09--  https://raw.githubusercontent.com/sipocz/MD5/main/sops/01117_SMV_21_R_CL%20Version%2001.stml\n",
            "Resolving raw.githubusercontent.com (raw.githubusercontent.com)... 185.199.109.133, 185.199.108.133, 185.199.111.133, ...\n",
            "Connecting to raw.githubusercontent.com (raw.githubusercontent.com)|185.199.109.133|:443... connected.\n",
            "HTTP request sent, awaiting response... 200 OK\n",
            "Length: 6765 (6.6K) [text/plain]\n",
            "Saving to: ‘01117_SMV_21_R_CL Version 01.stml’\n",
            "\n",
            "01117_SMV_21_R_CL V 100%[===================>]   6.61K  --.-KB/s    in 0s      \n",
            "\n",
            "2021-07-22 07:58:09 (81.9 MB/s) - ‘01117_SMV_21_R_CL Version 01.stml’ saved [6765/6765]\n",
            "\n",
            "/sipocz/MD5/main/sops/81402_SMV_21_R_CL%20Version%2001.stml\n",
            "fname: 81402_SMV_21_R_CL Version 01.stml\n",
            "--2021-07-22 07:58:09--  https://raw.githubusercontent.com/sipocz/MD5/main/sops/81402_SMV_21_R_CL%20Version%2001.stml\n",
            "Resolving raw.githubusercontent.com (raw.githubusercontent.com)... 185.199.109.133, 185.199.108.133, 185.199.111.133, ...\n",
            "Connecting to raw.githubusercontent.com (raw.githubusercontent.com)|185.199.109.133|:443... connected.\n",
            "HTTP request sent, awaiting response... 200 OK\n",
            "Length: 7270 (7.1K) [text/plain]\n",
            "Saving to: ‘81402_SMV_21_R_CL Version 01.stml’\n",
            "\n",
            "81402_SMV_21_R_CL V 100%[===================>]   7.10K  --.-KB/s    in 0s      \n",
            "\n",
            "2021-07-22 07:58:09 (58.1 MB/s) - ‘81402_SMV_21_R_CL Version 01.stml’ saved [7270/7270]\n",
            "\n",
            "/sipocz/MD5/main/sops/81402_SMV_21_R_CL225%20Version%2001.stml\n",
            "fname: 81402_SMV_21_R_CL225 Version 01.stml\n",
            "--2021-07-22 07:58:09--  https://raw.githubusercontent.com/sipocz/MD5/main/sops/81402_SMV_21_R_CL225%20Version%2001.stml\n",
            "Resolving raw.githubusercontent.com (raw.githubusercontent.com)... 185.199.109.133, 185.199.108.133, 185.199.111.133, ...\n",
            "Connecting to raw.githubusercontent.com (raw.githubusercontent.com)|185.199.109.133|:443... connected.\n",
            "HTTP request sent, awaiting response... 200 OK\n",
            "Length: 7272 (7.1K) [text/plain]\n",
            "Saving to: ‘81402_SMV_21_R_CL225 Version 01.stml’\n",
            "\n",
            "81402_SMV_21_R_CL22 100%[===================>]   7.10K  --.-KB/s    in 0s      \n",
            "\n",
            "2021-07-22 07:58:09 (47.3 MB/s) - ‘81402_SMV_21_R_CL225 Version 01.stml’ saved [7272/7272]\n",
            "\n",
            "/sipocz/MD5/main/sops/NK_FD_SMV_21_E_AL%20Version%2001.stml\n",
            "fname: NK_FD_SMV_21_E_AL Version 01.stml\n",
            "--2021-07-22 07:58:10--  https://raw.githubusercontent.com/sipocz/MD5/main/sops/NK_FD_SMV_21_E_AL%20Version%2001.stml\n",
            "Resolving raw.githubusercontent.com (raw.githubusercontent.com)... 185.199.109.133, 185.199.108.133, 185.199.111.133, ...\n",
            "Connecting to raw.githubusercontent.com (raw.githubusercontent.com)|185.199.109.133|:443... connected.\n",
            "HTTP request sent, awaiting response... 200 OK\n",
            "Length: 4337 (4.2K) [text/plain]\n",
            "Saving to: ‘NK_FD_SMV_21_E_AL Version 01.stml’\n",
            "\n",
            "NK_FD_SMV_21_E_AL V 100%[===================>]   4.24K  --.-KB/s    in 0s      \n",
            "\n",
            "2021-07-22 07:58:10 (50.3 MB/s) - ‘NK_FD_SMV_21_E_AL Version 01.stml’ saved [4337/4337]\n",
            "\n",
            "/sipocz/MD5/main/sops/NK_FK_SMV_21_E_AL%20Version%2001.stml\n",
            "fname: NK_FK_SMV_21_E_AL Version 01.stml\n",
            "--2021-07-22 07:58:10--  https://raw.githubusercontent.com/sipocz/MD5/main/sops/NK_FK_SMV_21_E_AL%20Version%2001.stml\n",
            "Resolving raw.githubusercontent.com (raw.githubusercontent.com)... 185.199.109.133, 185.199.108.133, 185.199.111.133, ...\n",
            "Connecting to raw.githubusercontent.com (raw.githubusercontent.com)|185.199.109.133|:443... connected.\n",
            "HTTP request sent, awaiting response... 200 OK\n",
            "Length: 3973 (3.9K) [text/plain]\n",
            "Saving to: ‘NK_FK_SMV_21_E_AL Version 01.stml’\n",
            "\n",
            "NK_FK_SMV_21_E_AL V 100%[===================>]   3.88K  --.-KB/s    in 0s      \n",
            "\n",
            "2021-07-22 07:58:10 (44.2 MB/s) - ‘NK_FK_SMV_21_E_AL Version 01.stml’ saved [3973/3973]\n",
            "\n",
            "/sipocz/MD5/main/sops/NK_SMV_21_E_AL%20Version%2003.stml\n",
            "fname: NK_SMV_21_E_AL Version 03.stml\n",
            "--2021-07-22 07:58:10--  https://raw.githubusercontent.com/sipocz/MD5/main/sops/NK_SMV_21_E_AL%20Version%2003.stml\n",
            "Resolving raw.githubusercontent.com (raw.githubusercontent.com)... 185.199.109.133, 185.199.108.133, 185.199.111.133, ...\n",
            "Connecting to raw.githubusercontent.com (raw.githubusercontent.com)|185.199.109.133|:443... connected.\n",
            "HTTP request sent, awaiting response... 200 OK\n",
            "Length: 4404 (4.3K) [text/plain]\n",
            "Saving to: ‘NK_SMV_21_E_AL Version 03.stml’\n",
            "\n",
            "NK_SMV_21_E_AL Vers 100%[===================>]   4.30K  --.-KB/s    in 0s      \n",
            "\n",
            "2021-07-22 07:58:10 (33.5 MB/s) - ‘NK_SMV_21_E_AL Version 03.stml’ saved [4404/4404]\n",
            "\n",
            "/sipocz/MD5/main/sops/NK_SMV_21_E_CL%20Version%2001.stml\n",
            "fname: NK_SMV_21_E_CL Version 01.stml\n",
            "--2021-07-22 07:58:10--  https://raw.githubusercontent.com/sipocz/MD5/main/sops/NK_SMV_21_E_CL%20Version%2001.stml\n",
            "Resolving raw.githubusercontent.com (raw.githubusercontent.com)... 185.199.109.133, 185.199.108.133, 185.199.111.133, ...\n",
            "Connecting to raw.githubusercontent.com (raw.githubusercontent.com)|185.199.109.133|:443... connected.\n",
            "HTTP request sent, awaiting response... 200 OK\n",
            "Length: 4198 (4.1K) [text/plain]\n",
            "Saving to: ‘NK_SMV_21_E_CL Version 01.stml’\n",
            "\n",
            "NK_SMV_21_E_CL Vers 100%[===================>]   4.10K  --.-KB/s    in 0s      \n",
            "\n",
            "2021-07-22 07:58:10 (48.6 MB/s) - ‘NK_SMV_21_E_CL Version 01.stml’ saved [4198/4198]\n",
            "\n"
          ],
          "name": "stdout"
        }
      ]
    },
    {
      "cell_type": "code",
      "metadata": {
        "colab": {
          "base_uri": "https://localhost:8080/"
        },
        "id": "g6mfNiW3A78N",
        "outputId": "b8009681-a2fa-4c56-c91a-bbd4eb4ab59c"
      },
      "source": [
        "# Python 3 code to demonstrate the \n",
        "# working of MD5 (byte - byte)\n",
        "  \n",
        "import hashlib\n",
        "  \n",
        "# encoding GeeksforGeeks using md5 hash\n",
        "# function \n",
        "result = hashlib.md5('steritást'.encode())\n",
        "  \n",
        "# printing the equivalent byte value.\n",
        "print(\"The byte equivalent of hash is : \", end =\"\")\n",
        "print(result.digest())\n",
        "print(result.hexdigest())"
      ],
      "execution_count": 60,
      "outputs": [
        {
          "output_type": "stream",
          "text": [
            "The byte equivalent of hash is : b'SW\\xbb\\xfcZov\\x03\\x8a\\xe8\\xb9\\xd0d\\xc2F\\x0c'\n",
            "5357bbfc5a6f76038ae8b9d064c2460c\n"
          ],
          "name": "stdout"
        }
      ]
    },
    {
      "cell_type": "code",
      "metadata": {
        "colab": {
          "base_uri": "https://localhost:8080/"
        },
        "id": "r1E_Y88tEYiY",
        "outputId": "609a2b4d-2b19-4836-f2f8-ee52b40b64f1"
      },
      "source": [
        "# working of MD5 (byte - byte)\n",
        "  \n",
        "import hashlib\n",
        "  \n",
        "# encoding GeeksforGeeks using md5 hash\n",
        "# function\n",
        "pwd=\"steritest\"\n",
        "print( pwd.encode()) \n",
        "result = hashlib.md5(pwd.encode())\n",
        "  \n",
        "# printing the equivalent byte value.\n",
        "print(\"The byte equivalent of hash is : \", end =\"\")\n",
        "print(result.digest())\n",
        "print(result.hexdigest())"
      ],
      "execution_count": 61,
      "outputs": [
        {
          "output_type": "stream",
          "text": [
            "b'steritest'\n",
            "The byte equivalent of hash is : b'\\xc3e\\x85\\x94d\\xad\\xfb\\xdf\\x00\\xbb\\n\\x1e\\x97\\x9e\\x9fk'\n",
            "c365859464adfbdf00bb0a1e979e9f6b\n"
          ],
          "name": "stdout"
        }
      ]
    },
    {
      "cell_type": "code",
      "metadata": {
        "id": "SctG5X1b-nof"
      },
      "source": [
        "code=\"7e8af2b643f04e9021428b8fa840cd8f\""
      ],
      "execution_count": 62,
      "outputs": []
    },
    {
      "cell_type": "code",
      "metadata": {
        "colab": {
          "base_uri": "https://localhost:8080/"
        },
        "id": "4iHIUtHfQpvx",
        "outputId": "c20e9b87-034e-4bf0-fe13-0f2b4bb8b788"
      },
      "source": [
        "print(hashlib.md5(\"c365859464adfbdf00bb0a1e979e9f6b\".encode()).hexdigest())"
      ],
      "execution_count": 63,
      "outputs": [
        {
          "output_type": "stream",
          "text": [
            "bfa6e9ab4630bc1c6546d435b56bf42a\n"
          ],
          "name": "stdout"
        }
      ]
    },
    {
      "cell_type": "code",
      "metadata": {
        "colab": {
          "base_uri": "https://localhost:8080/"
        },
        "id": "GOXsxRXBfxLw",
        "outputId": "08baef1b-8227-4b40-ee6b-382658f91484"
      },
      "source": [
        "!pip install blowfish"
      ],
      "execution_count": 64,
      "outputs": [
        {
          "output_type": "stream",
          "text": [
            "Requirement already satisfied: blowfish in /usr/local/lib/python3.7/dist-packages (0.6.1)\n"
          ],
          "name": "stdout"
        }
      ]
    },
    {
      "cell_type": "code",
      "metadata": {
        "id": "xFsFNOZufvxH"
      },
      "source": [
        ""
      ],
      "execution_count": 64,
      "outputs": []
    },
    {
      "cell_type": "code",
      "metadata": {
        "id": "NBtFs_xff34R"
      },
      "source": [
        "fname=_DEV_directory+files[0]"
      ],
      "execution_count": 65,
      "outputs": []
    },
    {
      "cell_type": "code",
      "metadata": {
        "colab": {
          "base_uri": "https://localhost:8080/"
        },
        "id": "nLvdkDkbN5Lj",
        "outputId": "25ac36da-e5eb-45fa-deeb-e41556bbe5b1"
      },
      "source": [
        "print(fname)"
      ],
      "execution_count": 66,
      "outputs": [
        {
          "output_type": "stream",
          "text": [
            "./DEV/00138_SMVS1_21_R_AL Version 01.stml\n"
          ],
          "name": "stdout"
        }
      ]
    },
    {
      "cell_type": "code",
      "metadata": {
        "id": "FqNdpAO4ug4Z"
      },
      "source": [
        "import xml.etree.ElementTree as ET"
      ],
      "execution_count": 67,
      "outputs": []
    },
    {
      "cell_type": "code",
      "metadata": {
        "id": "cdSpU4c7wkYu"
      },
      "source": [
        "with open(fname, 'r') as f:\n",
        "    data = f.read() "
      ],
      "execution_count": 68,
      "outputs": []
    },
    {
      "cell_type": "code",
      "metadata": {
        "colab": {
          "base_uri": "https://localhost:8080/"
        },
        "id": "IlVNKjfMwr8c",
        "outputId": "e39e8e5d-0e0a-4967-a8b4-bb31cfc5a6bd"
      },
      "source": [
        "print(data)"
      ],
      "execution_count": 69,
      "outputs": [
        {
          "output_type": "stream",
          "text": [
            "﻿<?xml version=\"1.0\" encoding=\"utf-8\"?>\n",
            "<STERILITY_LIB>\n",
            "<FILENAME>\n",
            "</FILENAME>\n",
            "<HASH>E6AF07869464B0992CEB8A7157E24D67</HASH>\n",
            "<SOPS>\n",
            "<MDATE>2021:Jul:20</MDATE>\n",
            "<SOP>\n",
            "<UUID>929f0b22-c727-4cb5-a28b-e283c93052ed</UUID>\n",
            "<NUMBER>00138_SMVS1_21_R_AL</NUMBER>\n",
            "<NAME>Calcimusc injekció 5 ml OPC</NAME>\n",
            "<FULLNAME>Calcimusc injekció 5 ml OPC</FULLNAME>\n",
            "<STERITEST>TZHALA</STERITEST>\n",
            "<STERITEST_ACCESSORY>N/A</STERITEST_ACCESSORY>\n",
            "<COMMENT>\n",
            "</COMMENT>\n",
            "<REVISION>01</REVISION>\n",
            "<STATUS>Approved</STATUS>\n",
            "<SEQUENCE>\n",
            "<STEP>\n",
            "<TYPE>Information</TYPE>\n",
            "<SPEED>0</SPEED>\n",
            "<TIMER>0</TIMER>\n",
            "<COMMENT>TZHALA felszerelése, pumpa zárása</COMMENT>\n",
            "<REGULATION>True</REGULATION>\n",
            "<SYRINGE>False</SYRINGE>\n",
            "<SYRINGEDELAY>0</SYRINGEDELAY>\n",
            "</STEP>\n",
            "<STEP>\n",
            "<TYPE>Information</TYPE>\n",
            "<SPEED>0</SPEED>\n",
            "<TIMER>0</TIMER>\n",
            "<COMMENT>80 minta, FTM, SCB, Fluid-A fertőtlenítve, bekészítve</COMMENT>\n",
            "<REGULATION>True</REGULATION>\n",
            "<SYRINGE>False</SYRINGE>\n",
            "<SYRINGEDELAY>0</SYRINGEDELAY>\n",
            "</STEP>\n",
            "<STEP>\n",
            "<TYPE>Information</TYPE>\n",
            "<SPEED>0</SPEED>\n",
            "<TIMER>0</TIMER>\n",
            "<COMMENT>minden FTM, SCB, Fluid-A bontásakor műanyag kupak le, gumidugó fertőtlenítése</COMMENT>\n",
            "<REGULATION>True</REGULATION>\n",
            "<SYRINGE>False</SYRINGE>\n",
            "<SYRINGEDELAY>0</SYRINGEDELAY>\n",
            "</STEP>\n",
            "<STEP>\n",
            "<TYPE>Information</TYPE>\n",
            "<SPEED>0</SPEED>\n",
            "<TIMER>0</TIMER>\n",
            "<COMMENT>csövek nyitva, piros és sárga dugók nincsenek felrakva</COMMENT>\n",
            "<REGULATION>True</REGULATION>\n",
            "<SYRINGE>False</SYRINGE>\n",
            "<SYRINGEDELAY>0</SYRINGEDELAY>\n",
            "</STEP>\n",
            "<STEP>\n",
            "<TYPE>PreWetting</TYPE>\n",
            "<SPEED>50</SPEED>\n",
            "<TIMER>0</TIMER>\n",
            "<COMMENT>kaniszterenként 50 ml Fluid-A betöltése, piros dugók fel, szűrés, piros dugók le</COMMENT>\n",
            "<REGULATION>True</REGULATION>\n",
            "<SYRINGE>False</SYRINGE>\n",
            "<SYRINGEDELAY>0</SYRINGEDELAY>\n",
            "</STEP>\n",
            "<STEP>\n",
            "<TYPE>Filtration</TYPE>\n",
            "<SPEED>20</SPEED>\n",
            "<TIMER>0</TIMER>\n",
            "<COMMENT>20 ampulla nyitása, minta betöltése, majd piros dugó fel, szűrés, piros dugók le</COMMENT>\n",
            "<REGULATION>True</REGULATION>\n",
            "<SYRINGE>False</SYRINGE>\n",
            "<SYRINGEDELAY>0</SYRINGEDELAY>\n",
            "</STEP>\n",
            "<STEP>\n",
            "<TYPE>Rinsing</TYPE>\n",
            "<SPEED>75</SPEED>\n",
            "<TIMER>0</TIMER>\n",
            "<COMMENT>kaniszterenként 100 ml Fluid-A betöltése, piros dugók fel, szűrés, piros dugók le</COMMENT>\n",
            "<REGULATION>True</REGULATION>\n",
            "<SYRINGE>False</SYRINGE>\n",
            "<SYRINGEDELAY>0</SYRINGEDELAY>\n",
            "</STEP>\n",
            "<STEP>\n",
            "<TYPE>Information</TYPE>\n",
            "<SPEED>0</SPEED>\n",
            "<TIMER>0</TIMER>\n",
            "<COMMENT>piros csipesz lezárása a tű melletti csővég közelében</COMMENT>\n",
            "<REGULATION>True</REGULATION>\n",
            "<SYRINGE>False</SYRINGE>\n",
            "<SYRINGEDELAY>0</SYRINGEDELAY>\n",
            "</STEP>\n",
            "<STEP>\n",
            "<TYPE>Information</TYPE>\n",
            "<SPEED>0</SPEED>\n",
            "<TIMER>0</TIMER>\n",
            "<COMMENT>befertőzés: 100 ml Fluid-A befertőzése &lt;100 cfu/0,1 ml mo. szuszpenzióval</COMMENT>\n",
            "<REGULATION>True</REGULATION>\n",
            "<SYRINGE>False</SYRINGE>\n",
            "<SYRINGEDELAY>0</SYRINGEDELAY>\n",
            "</STEP>\n",
            "<STEP>\n",
            "<TYPE>Filtration</TYPE>\n",
            "<SPEED>75</SPEED>\n",
            "<TIMER>0</TIMER>\n",
            "<COMMENT>100 ml befertőzött Fluid-A betöltése , piros dugó fel, szűrés, piros dugó le</COMMENT>\n",
            "<REGULATION>True</REGULATION>\n",
            "<SYRINGE>False</SYRINGE>\n",
            "<SYRINGEDELAY>0</SYRINGEDELAY>\n",
            "</STEP>\n",
            "<STEP>\n",
            "<TYPE>Information</TYPE>\n",
            "<SPEED>0</SPEED>\n",
            "<TIMER>0</TIMER>\n",
            "<COMMENT>sárga dugó fel a nyitott csövű (fehér csipeszes) kaniszteren</COMMENT>\n",
            "<REGULATION>True</REGULATION>\n",
            "<SYRINGE>False</SYRINGE>\n",
            "<SYRINGEDELAY>0</SYRINGEDELAY>\n",
            "</STEP>\n",
            "<STEP>\n",
            "<TYPE>MediaTransfer</TYPE>\n",
            "<SPEED>60</SPEED>\n",
            "<TIMER>0</TIMER>\n",
            "<COMMENT>SCB betöltése: Bac. sp., / gombák (Asp. br.; Cand. alb.) szűrése után, vagy lásd. 13. lépést</COMMENT>\n",
            "<REGULATION>True</REGULATION>\n",
            "<SYRINGE>False</SYRINGE>\n",
            "<SYRINGEDELAY>0</SYRINGEDELAY>\n",
            "</STEP>\n",
            "<STEP>\n",
            "<TYPE>MediaTransfer</TYPE>\n",
            "<SPEED>30</SPEED>\n",
            "<TIMER>0</TIMER>\n",
            "<COMMENT>FTM betöltése: baktériumok (Staph. a.,; Ps. ae.; Bac. sp.; Clost. sp.) szűrése után</COMMENT>\n",
            "<REGULATION>True</REGULATION>\n",
            "<SYRINGE>False</SYRINGE>\n",
            "<SYRINGEDELAY>0</SYRINGEDELAY>\n",
            "</STEP>\n",
            "<STEP>\n",
            "<TYPE>Information</TYPE>\n",
            "<SPEED>0</SPEED>\n",
            "<TIMER>0</TIMER>\n",
            "<COMMENT>fehér csipesz lezárása a tű meletti csővég közelében, piros csipesz nyitása </COMMENT>\n",
            "<REGULATION>True</REGULATION>\n",
            "<SYRINGE>False</SYRINGE>\n",
            "<SYRINGEDELAY>0</SYRINGEDELAY>\n",
            "</STEP>\n",
            "<STEP>\n",
            "<TYPE>Information</TYPE>\n",
            "<SPEED>0</SPEED>\n",
            "<TIMER>0</TIMER>\n",
            "<COMMENT>befertőzés: 100 ml Fluid-A befertőzése &lt;100 cfu/0,1 ml mo. szuszpenzióval</COMMENT>\n",
            "<REGULATION>True</REGULATION>\n",
            "<SYRINGE>False</SYRINGE>\n",
            "<SYRINGEDELAY>0</SYRINGEDELAY>\n",
            "</STEP>\n",
            "<STEP>\n",
            "<TYPE>Filtration</TYPE>\n",
            "<SPEED>75</SPEED>\n",
            "<TIMER>0</TIMER>\n",
            "<COMMENT>100 ml befertőzött Fluid-A betöltése , piros dugó fel, szűrés, piros dugó le</COMMENT>\n",
            "<REGULATION>True</REGULATION>\n",
            "<SYRINGE>False</SYRINGE>\n",
            "<SYRINGEDELAY>0</SYRINGEDELAY>\n",
            "</STEP>\n",
            "<STEP>\n",
            "<TYPE>Information</TYPE>\n",
            "<SPEED>0</SPEED>\n",
            "<TIMER>0</TIMER>\n",
            "<COMMENT>sárga dugó fel a nyitott csövű (piros csipeszes) kaniszteren</COMMENT>\n",
            "<REGULATION>True</REGULATION>\n",
            "<SYRINGE>False</SYRINGE>\n",
            "<SYRINGEDELAY>0</SYRINGEDELAY>\n",
            "</STEP>\n",
            "<STEP>\n",
            "<TYPE>MediaTransfer</TYPE>\n",
            "<SPEED>60</SPEED>\n",
            "<TIMER>0</TIMER>\n",
            "<COMMENT>SCB betöltése: Bac. sp., / gombák (Asp. br.; Cand. alb.) szűrése után, vagy lásd. 19. lépést</COMMENT>\n",
            "<REGULATION>True</REGULATION>\n",
            "<SYRINGE>False</SYRINGE>\n",
            "<SYRINGEDELAY>0</SYRINGEDELAY>\n",
            "</STEP>\n",
            "<STEP>\n",
            "<TYPE>MediaTransfer</TYPE>\n",
            "<SPEED>30</SPEED>\n",
            "<TIMER>0</TIMER>\n",
            "<COMMENT>FTM betöltése: baktériumok (Staph. a.,; Ps. ae.; Bac. sp.; Clost. sp.) szűrése után</COMMENT>\n",
            "<REGULATION>True</REGULATION>\n",
            "<SYRINGE>False</SYRINGE>\n",
            "<SYRINGEDELAY>0</SYRINGEDELAY>\n",
            "</STEP>\n",
            "<STEP>\n",
            "<TYPE>Information</TYPE>\n",
            "<SPEED>0</SPEED>\n",
            "<TIMER>0</TIMER>\n",
            "<COMMENT>csipeszek lezárása a kanisztereknél, csövek levágása, kaniszterek lezárása, eltávolítása</COMMENT>\n",
            "<REGULATION>True</REGULATION>\n",
            "<SYRINGE>False</SYRINGE>\n",
            "<SYRINGEDELAY>0</SYRINGEDELAY>\n",
            "</STEP>\n",
            "<STEP>\n",
            "<TYPE>Information</TYPE>\n",
            "<SPEED>0</SPEED>\n",
            "<TIMER>0</TIMER>\n",
            "<COMMENT>1-20 lépés ismételve minden mikroorganizmus vonatkozásában</COMMENT>\n",
            "<REGULATION>True</REGULATION>\n",
            "<SYRINGE>False</SYRINGE>\n",
            "<SYRINGEDELAY>0</SYRINGEDELAY>\n",
            "</STEP>\n",
            "<STEP>\n",
            "<TYPE>CanisterClosing</TYPE>\n",
            "<SPEED>0</SPEED>\n",
            "<TIMER>0</TIMER>\n",
            "<COMMENT>pumpafej nyitása</COMMENT>\n",
            "<REGULATION>True</REGULATION>\n",
            "<SYRINGE>False</SYRINGE>\n",
            "<SYRINGEDELAY>0</SYRINGEDELAY>\n",
            "</STEP>\n",
            "</SEQUENCE>\n",
            "</SOP>\n",
            "</SOPS>\n",
            "</STERILITY_LIB>\n"
          ],
          "name": "stdout"
        }
      ]
    },
    {
      "cell_type": "code",
      "metadata": {
        "colab": {
          "base_uri": "https://localhost:8080/"
        },
        "id": "vV2bnP3qv71T",
        "outputId": "91c163c5-a77c-433e-d6ff-2d2a3c166471"
      },
      "source": [
        "from xml.dom import minidom\n",
        "\n",
        "# parse an xml file by name\n",
        "file = minidom.parse(fname)\n",
        "\n",
        "#use getElementsByTagName() to get tag\n",
        "models = file.getElementsByTagName('SOPS')\n",
        "\n",
        "# one specific item attribute\n",
        "print('model #2 attribute:')\n",
        "print(models[0])\n",
        "\n"
      ],
      "execution_count": 70,
      "outputs": [
        {
          "output_type": "stream",
          "text": [
            "model #2 attribute:\n",
            "<DOM Element: SOPS at 0x7f0fc49f1410>\n"
          ],
          "name": "stdout"
        }
      ]
    },
    {
      "cell_type": "code",
      "metadata": {
        "colab": {
          "base_uri": "https://localhost:8080/"
        },
        "id": "u8u92ZObLjIa",
        "outputId": "7d880d5a-5760-4374-a32f-e0c4468c866a"
      },
      "source": [
        "for node in models[0].childNodes:\n",
        "    print(node)"
      ],
      "execution_count": 71,
      "outputs": [
        {
          "output_type": "stream",
          "text": [
            "<DOM Text node \"'\\n'\">\n",
            "<DOM Element: MDATE at 0x7f0fc49f1190>\n",
            "<DOM Text node \"'\\n'\">\n",
            "<DOM Element: SOP at 0x7f0fc49f1230>\n",
            "<DOM Text node \"'\\n'\">\n"
          ],
          "name": "stdout"
        }
      ]
    },
    {
      "cell_type": "code",
      "metadata": {
        "colab": {
          "base_uri": "https://localhost:8080/"
        },
        "id": "RXGQ1-fsujLN",
        "outputId": "c3e0bdc8-508f-445e-edbe-ab02e6e97480"
      },
      "source": [
        "for node in models:  # visit every node <bar />\n",
        "    print (node.toxml())\n",
        "    "
      ],
      "execution_count": 72,
      "outputs": [
        {
          "output_type": "stream",
          "text": [
            "<SOPS>\n",
            "<MDATE>2021:Jul:20</MDATE>\n",
            "<SOP>\n",
            "<UUID>929f0b22-c727-4cb5-a28b-e283c93052ed</UUID>\n",
            "<NUMBER>00138_SMVS1_21_R_AL</NUMBER>\n",
            "<NAME>Calcimusc injekció 5 ml OPC</NAME>\n",
            "<FULLNAME>Calcimusc injekció 5 ml OPC</FULLNAME>\n",
            "<STERITEST>TZHALA</STERITEST>\n",
            "<STERITEST_ACCESSORY>N/A</STERITEST_ACCESSORY>\n",
            "<COMMENT>\n",
            "</COMMENT>\n",
            "<REVISION>01</REVISION>\n",
            "<STATUS>Approved</STATUS>\n",
            "<SEQUENCE>\n",
            "<STEP>\n",
            "<TYPE>Information</TYPE>\n",
            "<SPEED>0</SPEED>\n",
            "<TIMER>0</TIMER>\n",
            "<COMMENT>TZHALA felszerelése, pumpa zárása</COMMENT>\n",
            "<REGULATION>True</REGULATION>\n",
            "<SYRINGE>False</SYRINGE>\n",
            "<SYRINGEDELAY>0</SYRINGEDELAY>\n",
            "</STEP>\n",
            "<STEP>\n",
            "<TYPE>Information</TYPE>\n",
            "<SPEED>0</SPEED>\n",
            "<TIMER>0</TIMER>\n",
            "<COMMENT>80 minta, FTM, SCB, Fluid-A fertőtlenítve, bekészítve</COMMENT>\n",
            "<REGULATION>True</REGULATION>\n",
            "<SYRINGE>False</SYRINGE>\n",
            "<SYRINGEDELAY>0</SYRINGEDELAY>\n",
            "</STEP>\n",
            "<STEP>\n",
            "<TYPE>Information</TYPE>\n",
            "<SPEED>0</SPEED>\n",
            "<TIMER>0</TIMER>\n",
            "<COMMENT>minden FTM, SCB, Fluid-A bontásakor műanyag kupak le, gumidugó fertőtlenítése</COMMENT>\n",
            "<REGULATION>True</REGULATION>\n",
            "<SYRINGE>False</SYRINGE>\n",
            "<SYRINGEDELAY>0</SYRINGEDELAY>\n",
            "</STEP>\n",
            "<STEP>\n",
            "<TYPE>Information</TYPE>\n",
            "<SPEED>0</SPEED>\n",
            "<TIMER>0</TIMER>\n",
            "<COMMENT>csövek nyitva, piros és sárga dugók nincsenek felrakva</COMMENT>\n",
            "<REGULATION>True</REGULATION>\n",
            "<SYRINGE>False</SYRINGE>\n",
            "<SYRINGEDELAY>0</SYRINGEDELAY>\n",
            "</STEP>\n",
            "<STEP>\n",
            "<TYPE>PreWetting</TYPE>\n",
            "<SPEED>50</SPEED>\n",
            "<TIMER>0</TIMER>\n",
            "<COMMENT>kaniszterenként 50 ml Fluid-A betöltése, piros dugók fel, szűrés, piros dugók le</COMMENT>\n",
            "<REGULATION>True</REGULATION>\n",
            "<SYRINGE>False</SYRINGE>\n",
            "<SYRINGEDELAY>0</SYRINGEDELAY>\n",
            "</STEP>\n",
            "<STEP>\n",
            "<TYPE>Filtration</TYPE>\n",
            "<SPEED>20</SPEED>\n",
            "<TIMER>0</TIMER>\n",
            "<COMMENT>20 ampulla nyitása, minta betöltése, majd piros dugó fel, szűrés, piros dugók le</COMMENT>\n",
            "<REGULATION>True</REGULATION>\n",
            "<SYRINGE>False</SYRINGE>\n",
            "<SYRINGEDELAY>0</SYRINGEDELAY>\n",
            "</STEP>\n",
            "<STEP>\n",
            "<TYPE>Rinsing</TYPE>\n",
            "<SPEED>75</SPEED>\n",
            "<TIMER>0</TIMER>\n",
            "<COMMENT>kaniszterenként 100 ml Fluid-A betöltése, piros dugók fel, szűrés, piros dugók le</COMMENT>\n",
            "<REGULATION>True</REGULATION>\n",
            "<SYRINGE>False</SYRINGE>\n",
            "<SYRINGEDELAY>0</SYRINGEDELAY>\n",
            "</STEP>\n",
            "<STEP>\n",
            "<TYPE>Information</TYPE>\n",
            "<SPEED>0</SPEED>\n",
            "<TIMER>0</TIMER>\n",
            "<COMMENT>piros csipesz lezárása a tű melletti csővég közelében</COMMENT>\n",
            "<REGULATION>True</REGULATION>\n",
            "<SYRINGE>False</SYRINGE>\n",
            "<SYRINGEDELAY>0</SYRINGEDELAY>\n",
            "</STEP>\n",
            "<STEP>\n",
            "<TYPE>Information</TYPE>\n",
            "<SPEED>0</SPEED>\n",
            "<TIMER>0</TIMER>\n",
            "<COMMENT>befertőzés: 100 ml Fluid-A befertőzése &lt;100 cfu/0,1 ml mo. szuszpenzióval</COMMENT>\n",
            "<REGULATION>True</REGULATION>\n",
            "<SYRINGE>False</SYRINGE>\n",
            "<SYRINGEDELAY>0</SYRINGEDELAY>\n",
            "</STEP>\n",
            "<STEP>\n",
            "<TYPE>Filtration</TYPE>\n",
            "<SPEED>75</SPEED>\n",
            "<TIMER>0</TIMER>\n",
            "<COMMENT>100 ml befertőzött Fluid-A betöltése , piros dugó fel, szűrés, piros dugó le</COMMENT>\n",
            "<REGULATION>True</REGULATION>\n",
            "<SYRINGE>False</SYRINGE>\n",
            "<SYRINGEDELAY>0</SYRINGEDELAY>\n",
            "</STEP>\n",
            "<STEP>\n",
            "<TYPE>Information</TYPE>\n",
            "<SPEED>0</SPEED>\n",
            "<TIMER>0</TIMER>\n",
            "<COMMENT>sárga dugó fel a nyitott csövű (fehér csipeszes) kaniszteren</COMMENT>\n",
            "<REGULATION>True</REGULATION>\n",
            "<SYRINGE>False</SYRINGE>\n",
            "<SYRINGEDELAY>0</SYRINGEDELAY>\n",
            "</STEP>\n",
            "<STEP>\n",
            "<TYPE>MediaTransfer</TYPE>\n",
            "<SPEED>60</SPEED>\n",
            "<TIMER>0</TIMER>\n",
            "<COMMENT>SCB betöltése: Bac. sp., / gombák (Asp. br.; Cand. alb.) szűrése után, vagy lásd. 13. lépést</COMMENT>\n",
            "<REGULATION>True</REGULATION>\n",
            "<SYRINGE>False</SYRINGE>\n",
            "<SYRINGEDELAY>0</SYRINGEDELAY>\n",
            "</STEP>\n",
            "<STEP>\n",
            "<TYPE>MediaTransfer</TYPE>\n",
            "<SPEED>30</SPEED>\n",
            "<TIMER>0</TIMER>\n",
            "<COMMENT>FTM betöltése: baktériumok (Staph. a.,; Ps. ae.; Bac. sp.; Clost. sp.) szűrése után</COMMENT>\n",
            "<REGULATION>True</REGULATION>\n",
            "<SYRINGE>False</SYRINGE>\n",
            "<SYRINGEDELAY>0</SYRINGEDELAY>\n",
            "</STEP>\n",
            "<STEP>\n",
            "<TYPE>Information</TYPE>\n",
            "<SPEED>0</SPEED>\n",
            "<TIMER>0</TIMER>\n",
            "<COMMENT>fehér csipesz lezárása a tű meletti csővég közelében, piros csipesz nyitása </COMMENT>\n",
            "<REGULATION>True</REGULATION>\n",
            "<SYRINGE>False</SYRINGE>\n",
            "<SYRINGEDELAY>0</SYRINGEDELAY>\n",
            "</STEP>\n",
            "<STEP>\n",
            "<TYPE>Information</TYPE>\n",
            "<SPEED>0</SPEED>\n",
            "<TIMER>0</TIMER>\n",
            "<COMMENT>befertőzés: 100 ml Fluid-A befertőzése &lt;100 cfu/0,1 ml mo. szuszpenzióval</COMMENT>\n",
            "<REGULATION>True</REGULATION>\n",
            "<SYRINGE>False</SYRINGE>\n",
            "<SYRINGEDELAY>0</SYRINGEDELAY>\n",
            "</STEP>\n",
            "<STEP>\n",
            "<TYPE>Filtration</TYPE>\n",
            "<SPEED>75</SPEED>\n",
            "<TIMER>0</TIMER>\n",
            "<COMMENT>100 ml befertőzött Fluid-A betöltése , piros dugó fel, szűrés, piros dugó le</COMMENT>\n",
            "<REGULATION>True</REGULATION>\n",
            "<SYRINGE>False</SYRINGE>\n",
            "<SYRINGEDELAY>0</SYRINGEDELAY>\n",
            "</STEP>\n",
            "<STEP>\n",
            "<TYPE>Information</TYPE>\n",
            "<SPEED>0</SPEED>\n",
            "<TIMER>0</TIMER>\n",
            "<COMMENT>sárga dugó fel a nyitott csövű (piros csipeszes) kaniszteren</COMMENT>\n",
            "<REGULATION>True</REGULATION>\n",
            "<SYRINGE>False</SYRINGE>\n",
            "<SYRINGEDELAY>0</SYRINGEDELAY>\n",
            "</STEP>\n",
            "<STEP>\n",
            "<TYPE>MediaTransfer</TYPE>\n",
            "<SPEED>60</SPEED>\n",
            "<TIMER>0</TIMER>\n",
            "<COMMENT>SCB betöltése: Bac. sp., / gombák (Asp. br.; Cand. alb.) szűrése után, vagy lásd. 19. lépést</COMMENT>\n",
            "<REGULATION>True</REGULATION>\n",
            "<SYRINGE>False</SYRINGE>\n",
            "<SYRINGEDELAY>0</SYRINGEDELAY>\n",
            "</STEP>\n",
            "<STEP>\n",
            "<TYPE>MediaTransfer</TYPE>\n",
            "<SPEED>30</SPEED>\n",
            "<TIMER>0</TIMER>\n",
            "<COMMENT>FTM betöltése: baktériumok (Staph. a.,; Ps. ae.; Bac. sp.; Clost. sp.) szűrése után</COMMENT>\n",
            "<REGULATION>True</REGULATION>\n",
            "<SYRINGE>False</SYRINGE>\n",
            "<SYRINGEDELAY>0</SYRINGEDELAY>\n",
            "</STEP>\n",
            "<STEP>\n",
            "<TYPE>Information</TYPE>\n",
            "<SPEED>0</SPEED>\n",
            "<TIMER>0</TIMER>\n",
            "<COMMENT>csipeszek lezárása a kanisztereknél, csövek levágása, kaniszterek lezárása, eltávolítása</COMMENT>\n",
            "<REGULATION>True</REGULATION>\n",
            "<SYRINGE>False</SYRINGE>\n",
            "<SYRINGEDELAY>0</SYRINGEDELAY>\n",
            "</STEP>\n",
            "<STEP>\n",
            "<TYPE>Information</TYPE>\n",
            "<SPEED>0</SPEED>\n",
            "<TIMER>0</TIMER>\n",
            "<COMMENT>1-20 lépés ismételve minden mikroorganizmus vonatkozásában</COMMENT>\n",
            "<REGULATION>True</REGULATION>\n",
            "<SYRINGE>False</SYRINGE>\n",
            "<SYRINGEDELAY>0</SYRINGEDELAY>\n",
            "</STEP>\n",
            "<STEP>\n",
            "<TYPE>CanisterClosing</TYPE>\n",
            "<SPEED>0</SPEED>\n",
            "<TIMER>0</TIMER>\n",
            "<COMMENT>pumpafej nyitása</COMMENT>\n",
            "<REGULATION>True</REGULATION>\n",
            "<SYRINGE>False</SYRINGE>\n",
            "<SYRINGEDELAY>0</SYRINGEDELAY>\n",
            "</STEP>\n",
            "</SEQUENCE>\n",
            "</SOP>\n",
            "</SOPS>\n"
          ],
          "name": "stdout"
        }
      ]
    },
    {
      "cell_type": "code",
      "metadata": {
        "id": "N-MeHNCB0drh"
      },
      "source": [
        "nodesops=file.getElementsByTagName('SOPS')"
      ],
      "execution_count": 73,
      "outputs": []
    },
    {
      "cell_type": "code",
      "metadata": {
        "id": "nemNZ6o5Vpvx"
      },
      "source": [
        "asop=file.getElementsByTagName('SOP')[0]"
      ],
      "execution_count": 74,
      "outputs": []
    },
    {
      "cell_type": "code",
      "metadata": {
        "id": "FV8J_hQ7UVSr"
      },
      "source": [
        "def getChildXML(elem):\n",
        "    '''\n",
        "    description: az adott element összes child elemének szöveges reprezentációját adja rekurzívan\n",
        "    elem: XML element \n",
        "\n",
        "    '''\n",
        "    out = \"\"\n",
        "    for c in elem.childNodes:\n",
        "        if c.nodeType == minidom.Node.TEXT_NODE:\n",
        "            if c.nodeValue!=\"\\n\":\n",
        "                out += c.nodeValue\n",
        "        else:\n",
        "            if c.nodeType == minidom.Node.ELEMENT_NODE:\n",
        "                if c.childNodes.length == 0:\n",
        "                    pass\n",
        "                    #out += \"<\" + c.nodeName + \"/>\"\n",
        "                else:\n",
        "                    #out += \"<\" + c.nodeName + \">\"\n",
        "                    cs = \"\"\n",
        "                    cs = getChildXML(c)\n",
        "                   \n",
        "                    out += cs\n",
        "                    #out += \"</\" + c.nodeName + \">\"\n",
        "    return out"
      ],
      "execution_count": 75,
      "outputs": []
    },
    {
      "cell_type": "code",
      "metadata": {
        "id": "YINjdTiu6Aww"
      },
      "source": [
        ""
      ],
      "execution_count": 75,
      "outputs": []
    },
    {
      "cell_type": "code",
      "metadata": {
        "id": "MUfKISw_UWgb"
      },
      "source": [
        "a=\"\"\n",
        "for nodesop in nodesops:\n",
        "    a=a+getChildXML(nodesop)"
      ],
      "execution_count": 76,
      "outputs": []
    },
    {
      "cell_type": "code",
      "metadata": {
        "id": "KuEcXDFYWZId"
      },
      "source": [
        "astr=a.split(\"\\n\")"
      ],
      "execution_count": 77,
      "outputs": []
    },
    {
      "cell_type": "code",
      "metadata": {
        "id": "KQ9aTxB8WvZV"
      },
      "source": [
        "o=\"\"\n",
        "for s in astr:\n",
        "    o=o+s\n"
      ],
      "execution_count": 78,
      "outputs": []
    },
    {
      "cell_type": "code",
      "metadata": {
        "colab": {
          "base_uri": "https://localhost:8080/",
          "height": 120
        },
        "id": "8QgRKD3_Wp_V",
        "outputId": "c765cf91-f5b4-463c-b3c2-d60020671044"
      },
      "source": [
        "o"
      ],
      "execution_count": 79,
      "outputs": [
        {
          "output_type": "execute_result",
          "data": {
            "application/vnd.google.colaboratory.intrinsic+json": {
              "type": "string"
            },
            "text/plain": [
              "'2021:Jul:20929f0b22-c727-4cb5-a28b-e283c93052ed00138_SMVS1_21_R_ALCalcimusc injekció 5 ml OPCCalcimusc injekció 5 ml OPCTZHALAN/A01ApprovedInformation00TZHALA felszerelése, pumpa zárásaTrueFalse0Information0080 minta, FTM, SCB, Fluid-A fertőtlenítve, bekészítveTrueFalse0Information00minden FTM, SCB, Fluid-A bontásakor műanyag kupak le, gumidugó fertőtlenítéseTrueFalse0Information00csövek nyitva, piros és sárga dugók nincsenek felrakvaTrueFalse0PreWetting500kaniszterenként 50 ml Fluid-A betöltése, piros dugók fel, szűrés, piros dugók leTrueFalse0Filtration20020 ampulla nyitása, minta betöltése, majd piros dugó fel, szűrés, piros dugók leTrueFalse0Rinsing750kaniszterenként 100 ml Fluid-A betöltése, piros dugók fel, szűrés, piros dugók leTrueFalse0Information00piros csipesz lezárása a tű melletti csővég közelébenTrueFalse0Information00befertőzés: 100 ml Fluid-A befertőzése <100 cfu/0,1 ml mo. szuszpenzióvalTrueFalse0Filtration750100 ml befertőzött Fluid-A betöltése , piros dugó fel, szűrés, piros dugó leTrueFalse0Information00sárga dugó fel a nyitott csövű (fehér csipeszes) kaniszterenTrueFalse0MediaTransfer600SCB betöltése: Bac. sp., / gombák (Asp. br.; Cand. alb.) szűrése után, vagy lásd. 13. lépéstTrueFalse0MediaTransfer300FTM betöltése: baktériumok (Staph. a.,; Ps. ae.; Bac. sp.; Clost. sp.) szűrése utánTrueFalse0Information00fehér csipesz lezárása a tű meletti csővég közelében, piros csipesz nyitása TrueFalse0Information00befertőzés: 100 ml Fluid-A befertőzése <100 cfu/0,1 ml mo. szuszpenzióvalTrueFalse0Filtration750100 ml befertőzött Fluid-A betöltése , piros dugó fel, szűrés, piros dugó leTrueFalse0Information00sárga dugó fel a nyitott csövű (piros csipeszes) kaniszterenTrueFalse0MediaTransfer600SCB betöltése: Bac. sp., / gombák (Asp. br.; Cand. alb.) szűrése után, vagy lásd. 19. lépéstTrueFalse0MediaTransfer300FTM betöltése: baktériumok (Staph. a.,; Ps. ae.; Bac. sp.; Clost. sp.) szűrése utánTrueFalse0Information00csipeszek lezárása a kanisztereknél, csövek levágása, kaniszterek lezárása, eltávolításaTrueFalse0Information001-20 lépés ismételve minden mikroorganizmus vonatkozásábanTrueFalse0CanisterClosing00pumpafej nyitásaTrueFalse0'"
            ]
          },
          "metadata": {
            "tags": []
          },
          "execution_count": 79
        }
      ]
    },
    {
      "cell_type": "code",
      "metadata": {
        "id": "0c56Q4X1MNG8"
      },
      "source": [
        "o=getChildXML(nodesops[0]) # ez a megoldás  !!!!!!!!!!!!!!!!!!!!!!!"
      ],
      "execution_count": 80,
      "outputs": []
    },
    {
      "cell_type": "code",
      "metadata": {
        "colab": {
          "base_uri": "https://localhost:8080/"
        },
        "id": "73x3Nvfe6JYE",
        "outputId": "1320a656-afc7-45f8-9596-983aaf2e090a"
      },
      "source": [
        "import uuid\n",
        "\n",
        "myuuid = uuid.uuid4()\n",
        "\n",
        "print('Your UUID is: ' + str(myuuid))"
      ],
      "execution_count": 81,
      "outputs": [
        {
          "output_type": "stream",
          "text": [
            "Your UUID is: a3d6d1a1-c8b5-4756-bad6-2e080c49c6d4\n"
          ],
          "name": "stdout"
        }
      ]
    },
    {
      "cell_type": "code",
      "metadata": {
        "id": "NKj0Jwsc__y0"
      },
      "source": [
        "st=\"2021:Jul:184f011561-8260-40ce-86d2-8c9574f3b771a1a1N/AN/A0PendingDilution10FalseFalse0\"\n"
      ],
      "execution_count": 82,
      "outputs": []
    },
    {
      "cell_type": "code",
      "metadata": {
        "colab": {
          "base_uri": "https://localhost:8080/"
        },
        "id": "A1o0HXEtAH9L",
        "outputId": "ffab5d29-50ba-4623-9f4b-d4e930603514"
      },
      "source": [
        "import hashlib\n",
        "  \n",
        "# encoding GeeksforGeeks using md5 hash\n",
        "# function\n",
        "pwd=o\n",
        "print( pwd.encode()) \n",
        "result = hashlib.md5(pwd.encode())"
      ],
      "execution_count": 83,
      "outputs": [
        {
          "output_type": "stream",
          "text": [
            "b'2021:Jul:20929f0b22-c727-4cb5-a28b-e283c93052ed00138_SMVS1_21_R_ALCalcimusc injekci\\xc3\\xb3 5 ml OPCCalcimusc injekci\\xc3\\xb3 5 ml OPCTZHALAN/A01ApprovedInformation00TZHALA felszerel\\xc3\\xa9se, pumpa z\\xc3\\xa1r\\xc3\\xa1saTrueFalse0Information0080 minta, FTM, SCB, Fluid-A fert\\xc5\\x91tlen\\xc3\\xadtve, bek\\xc3\\xa9sz\\xc3\\xadtveTrueFalse0Information00minden FTM, SCB, Fluid-A bont\\xc3\\xa1sakor m\\xc5\\xb1anyag kupak le, gumidug\\xc3\\xb3 fert\\xc5\\x91tlen\\xc3\\xadt\\xc3\\xa9seTrueFalse0Information00cs\\xc3\\xb6vek nyitva, piros \\xc3\\xa9s s\\xc3\\xa1rga dug\\xc3\\xb3k nincsenek felrakvaTrueFalse0PreWetting500kaniszterenk\\xc3\\xa9nt 50 ml Fluid-A bet\\xc3\\xb6lt\\xc3\\xa9se, piros dug\\xc3\\xb3k fel, sz\\xc5\\xb1r\\xc3\\xa9s, piros dug\\xc3\\xb3k leTrueFalse0Filtration20020 ampulla nyit\\xc3\\xa1sa, minta bet\\xc3\\xb6lt\\xc3\\xa9se, majd piros dug\\xc3\\xb3 fel, sz\\xc5\\xb1r\\xc3\\xa9s, piros dug\\xc3\\xb3k leTrueFalse0Rinsing750kaniszterenk\\xc3\\xa9nt 100 ml Fluid-A bet\\xc3\\xb6lt\\xc3\\xa9se, piros dug\\xc3\\xb3k fel, sz\\xc5\\xb1r\\xc3\\xa9s, piros dug\\xc3\\xb3k leTrueFalse0Information00piros csipesz lez\\xc3\\xa1r\\xc3\\xa1sa a t\\xc5\\xb1 melletti cs\\xc5\\x91v\\xc3\\xa9g k\\xc3\\xb6zel\\xc3\\xa9benTrueFalse0Information00befert\\xc5\\x91z\\xc3\\xa9s: 100 ml Fluid-A befert\\xc5\\x91z\\xc3\\xa9se <100 cfu/0,1 ml mo. szuszpenzi\\xc3\\xb3valTrueFalse0Filtration750100 ml befert\\xc5\\x91z\\xc3\\xb6tt Fluid-A bet\\xc3\\xb6lt\\xc3\\xa9se , piros dug\\xc3\\xb3 fel, sz\\xc5\\xb1r\\xc3\\xa9s, piros dug\\xc3\\xb3 leTrueFalse0Information00s\\xc3\\xa1rga dug\\xc3\\xb3 fel a nyitott cs\\xc3\\xb6v\\xc5\\xb1 (feh\\xc3\\xa9r csipeszes) kaniszterenTrueFalse0MediaTransfer600SCB bet\\xc3\\xb6lt\\xc3\\xa9se: Bac. sp., / gomb\\xc3\\xa1k (Asp. br.; Cand. alb.) sz\\xc5\\xb1r\\xc3\\xa9se ut\\xc3\\xa1n, vagy l\\xc3\\xa1sd. 13. l\\xc3\\xa9p\\xc3\\xa9stTrueFalse0MediaTransfer300FTM bet\\xc3\\xb6lt\\xc3\\xa9se: bakt\\xc3\\xa9riumok (Staph. a.,; Ps. ae.; Bac. sp.; Clost. sp.) sz\\xc5\\xb1r\\xc3\\xa9se ut\\xc3\\xa1nTrueFalse0Information00feh\\xc3\\xa9r csipesz lez\\xc3\\xa1r\\xc3\\xa1sa a t\\xc5\\xb1 meletti cs\\xc5\\x91v\\xc3\\xa9g k\\xc3\\xb6zel\\xc3\\xa9ben, piros csipesz nyit\\xc3\\xa1sa TrueFalse0Information00befert\\xc5\\x91z\\xc3\\xa9s: 100 ml Fluid-A befert\\xc5\\x91z\\xc3\\xa9se <100 cfu/0,1 ml mo. szuszpenzi\\xc3\\xb3valTrueFalse0Filtration750100 ml befert\\xc5\\x91z\\xc3\\xb6tt Fluid-A bet\\xc3\\xb6lt\\xc3\\xa9se , piros dug\\xc3\\xb3 fel, sz\\xc5\\xb1r\\xc3\\xa9s, piros dug\\xc3\\xb3 leTrueFalse0Information00s\\xc3\\xa1rga dug\\xc3\\xb3 fel a nyitott cs\\xc3\\xb6v\\xc5\\xb1 (piros csipeszes) kaniszterenTrueFalse0MediaTransfer600SCB bet\\xc3\\xb6lt\\xc3\\xa9se: Bac. sp., / gomb\\xc3\\xa1k (Asp. br.; Cand. alb.) sz\\xc5\\xb1r\\xc3\\xa9se ut\\xc3\\xa1n, vagy l\\xc3\\xa1sd. 19. l\\xc3\\xa9p\\xc3\\xa9stTrueFalse0MediaTransfer300FTM bet\\xc3\\xb6lt\\xc3\\xa9se: bakt\\xc3\\xa9riumok (Staph. a.,; Ps. ae.; Bac. sp.; Clost. sp.) sz\\xc5\\xb1r\\xc3\\xa9se ut\\xc3\\xa1nTrueFalse0Information00csipeszek lez\\xc3\\xa1r\\xc3\\xa1sa a kaniszterekn\\xc3\\xa9l, cs\\xc3\\xb6vek lev\\xc3\\xa1g\\xc3\\xa1sa, kaniszterek lez\\xc3\\xa1r\\xc3\\xa1sa, elt\\xc3\\xa1vol\\xc3\\xadt\\xc3\\xa1saTrueFalse0Information001-20 l\\xc3\\xa9p\\xc3\\xa9s ism\\xc3\\xa9telve minden mikroorganizmus vonatkoz\\xc3\\xa1s\\xc3\\xa1banTrueFalse0CanisterClosing00pumpafej nyit\\xc3\\xa1saTrueFalse0'\n"
          ],
          "name": "stdout"
        }
      ]
    },
    {
      "cell_type": "code",
      "metadata": {
        "colab": {
          "base_uri": "https://localhost:8080/"
        },
        "id": "NcXLBzjnARxO",
        "outputId": "9b033197-540e-43ea-a719-efb703290584"
      },
      "source": [
        "print(result.digest())\n",
        "md5_code=result.hexdigest().upper()\n",
        "print(md5_code)"
      ],
      "execution_count": 84,
      "outputs": [
        {
          "output_type": "stream",
          "text": [
            "b'\\xe6\\xaf\\x07\\x86\\x94d\\xb0\\x99,\\xeb\\x8aqW\\xe2Mg'\n",
            "E6AF07869464B0992CEB8A7157E24D67\n"
          ],
          "name": "stdout"
        }
      ]
    },
    {
      "cell_type": "code",
      "metadata": {
        "id": "XjLMuFMAG-6S"
      },
      "source": [
        "models = file.getElementsByTagName('HASH')"
      ],
      "execution_count": 85,
      "outputs": []
    },
    {
      "cell_type": "code",
      "metadata": {
        "colab": {
          "base_uri": "https://localhost:8080/"
        },
        "id": "aQ-tXPO3HLWj",
        "outputId": "3c79e9ca-fc46-4def-94a5-0eff8258c805"
      },
      "source": [
        "print(models[0].childNodes[0].nodeValue)"
      ],
      "execution_count": 86,
      "outputs": [
        {
          "output_type": "stream",
          "text": [
            "E6AF07869464B0992CEB8A7157E24D67\n"
          ],
          "name": "stdout"
        }
      ]
    },
    {
      "cell_type": "code",
      "metadata": {
        "id": "D_z_TuMZIyrR"
      },
      "source": [
        "models[0].childNodes[0].nodeValue=\"blabla\"   # felülírjuk"
      ],
      "execution_count": 87,
      "outputs": []
    },
    {
      "cell_type": "code",
      "metadata": {
        "colab": {
          "base_uri": "https://localhost:8080/"
        },
        "id": "xtFuTQsgI6uT",
        "outputId": "c9456295-8935-434e-b9b0-b3a415d99e2a"
      },
      "source": [
        "models = file.getElementsByTagName('HASH')\n",
        "print(models[0].childNodes[0].nodeValue)      #és vissazolvassuk"
      ],
      "execution_count": 88,
      "outputs": [
        {
          "output_type": "stream",
          "text": [
            "blabla\n"
          ],
          "name": "stdout"
        }
      ]
    },
    {
      "cell_type": "code",
      "metadata": {
        "id": "9hZg3GxgJH7t"
      },
      "source": [
        "skeleton='''<?xml version=\"1.0\" encoding=\"utf-8\"?>\n",
        "<STERILITY_LIB>\n",
        "<FILENAME>\n",
        "</FILENAME>\n",
        "<HASH>082D7227B4EFAB8D88841EF8A1E425A2</HASH>\n",
        "<SOPS>\n",
        "<MDATE>2021:Jul:18</MDATE>\n",
        "</SOPS>\n",
        "</STERILITY_LIB>'''"
      ],
      "execution_count": 89,
      "outputs": []
    },
    {
      "cell_type": "code",
      "metadata": {
        "colab": {
          "base_uri": "https://localhost:8080/"
        },
        "id": "LWMydoBdDI9R",
        "outputId": "9ffb79b2-e676-4484-c1c7-3923969d2558"
      },
      "source": [
        "print(skeleton)"
      ],
      "execution_count": 90,
      "outputs": [
        {
          "output_type": "stream",
          "text": [
            "<?xml version=\"1.0\" encoding=\"utf-8\"?>\n",
            "<STERILITY_LIB>\n",
            "<FILENAME>\n",
            "</FILENAME>\n",
            "<HASH>082D7227B4EFAB8D88841EF8A1E425A2</HASH>\n",
            "<SOPS>\n",
            "<MDATE>2021:Jul:18</MDATE>\n",
            "</SOPS>\n",
            "</STERILITY_LIB>\n"
          ],
          "name": "stdout"
        }
      ]
    },
    {
      "cell_type": "code",
      "metadata": {
        "colab": {
          "base_uri": "https://localhost:8080/"
        },
        "id": "cS9JVkvwANx8",
        "outputId": "417da4c5-b0b7-4344-979c-5073b3fddc4f"
      },
      "source": [
        "newSOPS = minidom.parseString(skeleton)\n",
        "print(newSOPS.toxml())"
      ],
      "execution_count": 91,
      "outputs": [
        {
          "output_type": "stream",
          "text": [
            "<?xml version=\"1.0\" ?><STERILITY_LIB>\n",
            "<FILENAME>\n",
            "</FILENAME>\n",
            "<HASH>082D7227B4EFAB8D88841EF8A1E425A2</HASH>\n",
            "<SOPS>\n",
            "<MDATE>2021:Jul:18</MDATE>\n",
            "</SOPS>\n",
            "</STERILITY_LIB>\n"
          ],
          "name": "stdout"
        }
      ]
    },
    {
      "cell_type": "code",
      "metadata": {
        "id": "pKvhDodvBJPD"
      },
      "source": [
        "def getnode(xml,tag):\n",
        "    model=xml.getElementsByTagName(tag)\n",
        "    return (model[0].childNodes[0].nodeValue)"
      ],
      "execution_count": 92,
      "outputs": []
    },
    {
      "cell_type": "code",
      "metadata": {
        "id": "J_EYsxqhCn5C"
      },
      "source": [
        "def setnode(xml,tag,value):\n",
        "    model=xml.getElementsByTagName(tag)\n",
        "    model[0].childNodes[0].nodeValue=value\n",
        "    return (model[0].childNodes[0].nodeValue)"
      ],
      "execution_count": 93,
      "outputs": []
    },
    {
      "cell_type": "code",
      "metadata": {
        "colab": {
          "base_uri": "https://localhost:8080/",
          "height": 35
        },
        "id": "WbZgxR7cByVG",
        "outputId": "3d967d5a-a9a4-4646-e8e1-238558abaa99"
      },
      "source": [
        "getnode(newSOPS,\"HASH\")"
      ],
      "execution_count": 94,
      "outputs": [
        {
          "output_type": "execute_result",
          "data": {
            "application/vnd.google.colaboratory.intrinsic+json": {
              "type": "string"
            },
            "text/plain": [
              "'082D7227B4EFAB8D88841EF8A1E425A2'"
            ]
          },
          "metadata": {
            "tags": []
          },
          "execution_count": 94
        }
      ]
    },
    {
      "cell_type": "code",
      "metadata": {
        "colab": {
          "base_uri": "https://localhost:8080/",
          "height": 35
        },
        "id": "Tdoj8SZPCzaS",
        "outputId": "bffaed87-a470-41ed-efb2-b2117a6fc0ae"
      },
      "source": [
        "setnode(newSOPS,\"HASH\",\"valami\")"
      ],
      "execution_count": 95,
      "outputs": [
        {
          "output_type": "execute_result",
          "data": {
            "application/vnd.google.colaboratory.intrinsic+json": {
              "type": "string"
            },
            "text/plain": [
              "'valami'"
            ]
          },
          "metadata": {
            "tags": []
          },
          "execution_count": 95
        }
      ]
    },
    {
      "cell_type": "code",
      "metadata": {
        "colab": {
          "base_uri": "https://localhost:8080/"
        },
        "id": "zmpgBjX-C7vq",
        "outputId": "983f3478-248e-4831-bc82-937fb34e53dd"
      },
      "source": [
        "print(newSOPS.toprettyxml())"
      ],
      "execution_count": 96,
      "outputs": [
        {
          "output_type": "stream",
          "text": [
            "<?xml version=\"1.0\" ?>\n",
            "<STERILITY_LIB>\n",
            "\t\n",
            "\n",
            "\t<FILENAME>\n",
            "</FILENAME>\n",
            "\t\n",
            "\n",
            "\t<HASH>valami</HASH>\n",
            "\t\n",
            "\n",
            "\t<SOPS>\n",
            "\t\t\n",
            "\n",
            "\t\t<MDATE>2021:Jul:18</MDATE>\n",
            "\t\t\n",
            "\n",
            "\t</SOPS>\n",
            "\t\n",
            "\n",
            "</STERILITY_LIB>\n",
            "\n"
          ],
          "name": "stdout"
        }
      ]
    },
    {
      "cell_type": "code",
      "metadata": {
        "id": "VNThnkMBDnDy"
      },
      "source": [
        "sops=newSOPS.getElementsByTagName(\"SOPS\")"
      ],
      "execution_count": 97,
      "outputs": []
    },
    {
      "cell_type": "code",
      "metadata": {
        "colab": {
          "base_uri": "https://localhost:8080/"
        },
        "id": "nxRemXF0DzoD",
        "outputId": "3e5265d4-0b5e-410c-a024-4e226f549b79"
      },
      "source": [
        "print(sops[0].childNodes[0].nodeName)"
      ],
      "execution_count": 101,
      "outputs": [
        {
          "output_type": "stream",
          "text": [
            "#text\n"
          ],
          "name": "stdout"
        }
      ]
    },
    {
      "cell_type": "code",
      "metadata": {
        "colab": {
          "base_uri": "https://localhost:8080/",
          "height": 35
        },
        "id": "iOZyjIsRL-3C",
        "outputId": "4083c327-884d-49e5-f271-d6c4ff4203f1"
      },
      "source": [
        "sops[0].nodeName"
      ],
      "execution_count": 99,
      "outputs": [
        {
          "output_type": "execute_result",
          "data": {
            "application/vnd.google.colaboratory.intrinsic+json": {
              "type": "string"
            },
            "text/plain": [
              "'SOPS'"
            ]
          },
          "metadata": {
            "tags": []
          },
          "execution_count": 99
        }
      ]
    },
    {
      "cell_type": "code",
      "metadata": {
        "id": "g5rvA_VPQF-i"
      },
      "source": [
        "sopTag=minidom.Document.createElement(\"TAG\",\"SOP\")\n",
        "lma=minidom.Document.createTextNode(\"alma\",\"POS\")\n",
        "newSOPS.encoding=\"UTF-8\""
      ],
      "execution_count": 102,
      "outputs": []
    },
    {
      "cell_type": "code",
      "metadata": {
        "colab": {
          "base_uri": "https://localhost:8080/"
        },
        "id": "GqFi4PjNOo43",
        "outputId": "1589eaa0-68cf-4ddd-940e-2f744d502ae7"
      },
      "source": [
        "sops[0].appendChild(asop)\n",
        "\n"
      ],
      "execution_count": 103,
      "outputs": [
        {
          "output_type": "execute_result",
          "data": {
            "text/plain": [
              "<DOM Element: SOP at 0x7f0fc49f1230>"
            ]
          },
          "metadata": {
            "tags": []
          },
          "execution_count": 103
        }
      ]
    },
    {
      "cell_type": "code",
      "metadata": {
        "colab": {
          "base_uri": "https://localhost:8080/"
        },
        "id": "gjSa_qljXJ4t",
        "outputId": "da174af8-0ca5-4690-a534-203c24afdeb8"
      },
      "source": [
        "print(newSOPS.toxml())"
      ],
      "execution_count": 104,
      "outputs": [
        {
          "output_type": "stream",
          "text": [
            "<?xml version=\"1.0\" ?><STERILITY_LIB>\n",
            "<FILENAME>\n",
            "</FILENAME>\n",
            "<HASH>valami</HASH>\n",
            "<SOPS>\n",
            "<MDATE>2021:Jul:18</MDATE>\n",
            "<SOP>\n",
            "<UUID>929f0b22-c727-4cb5-a28b-e283c93052ed</UUID>\n",
            "<NUMBER>00138_SMVS1_21_R_AL</NUMBER>\n",
            "<NAME>Calcimusc injekció 5 ml OPC</NAME>\n",
            "<FULLNAME>Calcimusc injekció 5 ml OPC</FULLNAME>\n",
            "<STERITEST>TZHALA</STERITEST>\n",
            "<STERITEST_ACCESSORY>N/A</STERITEST_ACCESSORY>\n",
            "<COMMENT>\n",
            "</COMMENT>\n",
            "<REVISION>01</REVISION>\n",
            "<STATUS>Approved</STATUS>\n",
            "<SEQUENCE>\n",
            "<STEP>\n",
            "<TYPE>Information</TYPE>\n",
            "<SPEED>0</SPEED>\n",
            "<TIMER>0</TIMER>\n",
            "<COMMENT>TZHALA felszerelése, pumpa zárása</COMMENT>\n",
            "<REGULATION>True</REGULATION>\n",
            "<SYRINGE>False</SYRINGE>\n",
            "<SYRINGEDELAY>0</SYRINGEDELAY>\n",
            "</STEP>\n",
            "<STEP>\n",
            "<TYPE>Information</TYPE>\n",
            "<SPEED>0</SPEED>\n",
            "<TIMER>0</TIMER>\n",
            "<COMMENT>80 minta, FTM, SCB, Fluid-A fertőtlenítve, bekészítve</COMMENT>\n",
            "<REGULATION>True</REGULATION>\n",
            "<SYRINGE>False</SYRINGE>\n",
            "<SYRINGEDELAY>0</SYRINGEDELAY>\n",
            "</STEP>\n",
            "<STEP>\n",
            "<TYPE>Information</TYPE>\n",
            "<SPEED>0</SPEED>\n",
            "<TIMER>0</TIMER>\n",
            "<COMMENT>minden FTM, SCB, Fluid-A bontásakor műanyag kupak le, gumidugó fertőtlenítése</COMMENT>\n",
            "<REGULATION>True</REGULATION>\n",
            "<SYRINGE>False</SYRINGE>\n",
            "<SYRINGEDELAY>0</SYRINGEDELAY>\n",
            "</STEP>\n",
            "<STEP>\n",
            "<TYPE>Information</TYPE>\n",
            "<SPEED>0</SPEED>\n",
            "<TIMER>0</TIMER>\n",
            "<COMMENT>csövek nyitva, piros és sárga dugók nincsenek felrakva</COMMENT>\n",
            "<REGULATION>True</REGULATION>\n",
            "<SYRINGE>False</SYRINGE>\n",
            "<SYRINGEDELAY>0</SYRINGEDELAY>\n",
            "</STEP>\n",
            "<STEP>\n",
            "<TYPE>PreWetting</TYPE>\n",
            "<SPEED>50</SPEED>\n",
            "<TIMER>0</TIMER>\n",
            "<COMMENT>kaniszterenként 50 ml Fluid-A betöltése, piros dugók fel, szűrés, piros dugók le</COMMENT>\n",
            "<REGULATION>True</REGULATION>\n",
            "<SYRINGE>False</SYRINGE>\n",
            "<SYRINGEDELAY>0</SYRINGEDELAY>\n",
            "</STEP>\n",
            "<STEP>\n",
            "<TYPE>Filtration</TYPE>\n",
            "<SPEED>20</SPEED>\n",
            "<TIMER>0</TIMER>\n",
            "<COMMENT>20 ampulla nyitása, minta betöltése, majd piros dugó fel, szűrés, piros dugók le</COMMENT>\n",
            "<REGULATION>True</REGULATION>\n",
            "<SYRINGE>False</SYRINGE>\n",
            "<SYRINGEDELAY>0</SYRINGEDELAY>\n",
            "</STEP>\n",
            "<STEP>\n",
            "<TYPE>Rinsing</TYPE>\n",
            "<SPEED>75</SPEED>\n",
            "<TIMER>0</TIMER>\n",
            "<COMMENT>kaniszterenként 100 ml Fluid-A betöltése, piros dugók fel, szűrés, piros dugók le</COMMENT>\n",
            "<REGULATION>True</REGULATION>\n",
            "<SYRINGE>False</SYRINGE>\n",
            "<SYRINGEDELAY>0</SYRINGEDELAY>\n",
            "</STEP>\n",
            "<STEP>\n",
            "<TYPE>Information</TYPE>\n",
            "<SPEED>0</SPEED>\n",
            "<TIMER>0</TIMER>\n",
            "<COMMENT>piros csipesz lezárása a tű melletti csővég közelében</COMMENT>\n",
            "<REGULATION>True</REGULATION>\n",
            "<SYRINGE>False</SYRINGE>\n",
            "<SYRINGEDELAY>0</SYRINGEDELAY>\n",
            "</STEP>\n",
            "<STEP>\n",
            "<TYPE>Information</TYPE>\n",
            "<SPEED>0</SPEED>\n",
            "<TIMER>0</TIMER>\n",
            "<COMMENT>befertőzés: 100 ml Fluid-A befertőzése &lt;100 cfu/0,1 ml mo. szuszpenzióval</COMMENT>\n",
            "<REGULATION>True</REGULATION>\n",
            "<SYRINGE>False</SYRINGE>\n",
            "<SYRINGEDELAY>0</SYRINGEDELAY>\n",
            "</STEP>\n",
            "<STEP>\n",
            "<TYPE>Filtration</TYPE>\n",
            "<SPEED>75</SPEED>\n",
            "<TIMER>0</TIMER>\n",
            "<COMMENT>100 ml befertőzött Fluid-A betöltése , piros dugó fel, szűrés, piros dugó le</COMMENT>\n",
            "<REGULATION>True</REGULATION>\n",
            "<SYRINGE>False</SYRINGE>\n",
            "<SYRINGEDELAY>0</SYRINGEDELAY>\n",
            "</STEP>\n",
            "<STEP>\n",
            "<TYPE>Information</TYPE>\n",
            "<SPEED>0</SPEED>\n",
            "<TIMER>0</TIMER>\n",
            "<COMMENT>sárga dugó fel a nyitott csövű (fehér csipeszes) kaniszteren</COMMENT>\n",
            "<REGULATION>True</REGULATION>\n",
            "<SYRINGE>False</SYRINGE>\n",
            "<SYRINGEDELAY>0</SYRINGEDELAY>\n",
            "</STEP>\n",
            "<STEP>\n",
            "<TYPE>MediaTransfer</TYPE>\n",
            "<SPEED>60</SPEED>\n",
            "<TIMER>0</TIMER>\n",
            "<COMMENT>SCB betöltése: Bac. sp., / gombák (Asp. br.; Cand. alb.) szűrése után, vagy lásd. 13. lépést</COMMENT>\n",
            "<REGULATION>True</REGULATION>\n",
            "<SYRINGE>False</SYRINGE>\n",
            "<SYRINGEDELAY>0</SYRINGEDELAY>\n",
            "</STEP>\n",
            "<STEP>\n",
            "<TYPE>MediaTransfer</TYPE>\n",
            "<SPEED>30</SPEED>\n",
            "<TIMER>0</TIMER>\n",
            "<COMMENT>FTM betöltése: baktériumok (Staph. a.,; Ps. ae.; Bac. sp.; Clost. sp.) szűrése után</COMMENT>\n",
            "<REGULATION>True</REGULATION>\n",
            "<SYRINGE>False</SYRINGE>\n",
            "<SYRINGEDELAY>0</SYRINGEDELAY>\n",
            "</STEP>\n",
            "<STEP>\n",
            "<TYPE>Information</TYPE>\n",
            "<SPEED>0</SPEED>\n",
            "<TIMER>0</TIMER>\n",
            "<COMMENT>fehér csipesz lezárása a tű meletti csővég közelében, piros csipesz nyitása </COMMENT>\n",
            "<REGULATION>True</REGULATION>\n",
            "<SYRINGE>False</SYRINGE>\n",
            "<SYRINGEDELAY>0</SYRINGEDELAY>\n",
            "</STEP>\n",
            "<STEP>\n",
            "<TYPE>Information</TYPE>\n",
            "<SPEED>0</SPEED>\n",
            "<TIMER>0</TIMER>\n",
            "<COMMENT>befertőzés: 100 ml Fluid-A befertőzése &lt;100 cfu/0,1 ml mo. szuszpenzióval</COMMENT>\n",
            "<REGULATION>True</REGULATION>\n",
            "<SYRINGE>False</SYRINGE>\n",
            "<SYRINGEDELAY>0</SYRINGEDELAY>\n",
            "</STEP>\n",
            "<STEP>\n",
            "<TYPE>Filtration</TYPE>\n",
            "<SPEED>75</SPEED>\n",
            "<TIMER>0</TIMER>\n",
            "<COMMENT>100 ml befertőzött Fluid-A betöltése , piros dugó fel, szűrés, piros dugó le</COMMENT>\n",
            "<REGULATION>True</REGULATION>\n",
            "<SYRINGE>False</SYRINGE>\n",
            "<SYRINGEDELAY>0</SYRINGEDELAY>\n",
            "</STEP>\n",
            "<STEP>\n",
            "<TYPE>Information</TYPE>\n",
            "<SPEED>0</SPEED>\n",
            "<TIMER>0</TIMER>\n",
            "<COMMENT>sárga dugó fel a nyitott csövű (piros csipeszes) kaniszteren</COMMENT>\n",
            "<REGULATION>True</REGULATION>\n",
            "<SYRINGE>False</SYRINGE>\n",
            "<SYRINGEDELAY>0</SYRINGEDELAY>\n",
            "</STEP>\n",
            "<STEP>\n",
            "<TYPE>MediaTransfer</TYPE>\n",
            "<SPEED>60</SPEED>\n",
            "<TIMER>0</TIMER>\n",
            "<COMMENT>SCB betöltése: Bac. sp., / gombák (Asp. br.; Cand. alb.) szűrése után, vagy lásd. 19. lépést</COMMENT>\n",
            "<REGULATION>True</REGULATION>\n",
            "<SYRINGE>False</SYRINGE>\n",
            "<SYRINGEDELAY>0</SYRINGEDELAY>\n",
            "</STEP>\n",
            "<STEP>\n",
            "<TYPE>MediaTransfer</TYPE>\n",
            "<SPEED>30</SPEED>\n",
            "<TIMER>0</TIMER>\n",
            "<COMMENT>FTM betöltése: baktériumok (Staph. a.,; Ps. ae.; Bac. sp.; Clost. sp.) szűrése után</COMMENT>\n",
            "<REGULATION>True</REGULATION>\n",
            "<SYRINGE>False</SYRINGE>\n",
            "<SYRINGEDELAY>0</SYRINGEDELAY>\n",
            "</STEP>\n",
            "<STEP>\n",
            "<TYPE>Information</TYPE>\n",
            "<SPEED>0</SPEED>\n",
            "<TIMER>0</TIMER>\n",
            "<COMMENT>csipeszek lezárása a kanisztereknél, csövek levágása, kaniszterek lezárása, eltávolítása</COMMENT>\n",
            "<REGULATION>True</REGULATION>\n",
            "<SYRINGE>False</SYRINGE>\n",
            "<SYRINGEDELAY>0</SYRINGEDELAY>\n",
            "</STEP>\n",
            "<STEP>\n",
            "<TYPE>Information</TYPE>\n",
            "<SPEED>0</SPEED>\n",
            "<TIMER>0</TIMER>\n",
            "<COMMENT>1-20 lépés ismételve minden mikroorganizmus vonatkozásában</COMMENT>\n",
            "<REGULATION>True</REGULATION>\n",
            "<SYRINGE>False</SYRINGE>\n",
            "<SYRINGEDELAY>0</SYRINGEDELAY>\n",
            "</STEP>\n",
            "<STEP>\n",
            "<TYPE>CanisterClosing</TYPE>\n",
            "<SPEED>0</SPEED>\n",
            "<TIMER>0</TIMER>\n",
            "<COMMENT>pumpafej nyitása</COMMENT>\n",
            "<REGULATION>True</REGULATION>\n",
            "<SYRINGE>False</SYRINGE>\n",
            "<SYRINGEDELAY>0</SYRINGEDELAY>\n",
            "</STEP>\n",
            "</SEQUENCE>\n",
            "</SOP></SOPS>\n",
            "</STERILITY_LIB>\n"
          ],
          "name": "stdout"
        }
      ]
    },
    {
      "cell_type": "code",
      "metadata": {
        "id": "66LHUu6sQ-Sq"
      },
      "source": [
        ""
      ],
      "execution_count": null,
      "outputs": []
    }
  ]
}
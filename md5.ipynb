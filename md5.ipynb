{
  "nbformat": 4,
  "nbformat_minor": 0,
  "metadata": {
    "colab": {
      "name": "md5.ipynb",
      "provenance": [],
      "authorship_tag": "ABX9TyNokOSVKWd5YmpHdGCN4NCn",
      "include_colab_link": true
    },
    "kernelspec": {
      "name": "python3",
      "display_name": "Python 3"
    },
    "language_info": {
      "name": "python"
    }
  },
  "cells": [
    {
      "cell_type": "markdown",
      "metadata": {
        "id": "view-in-github",
        "colab_type": "text"
      },
      "source": [
        "<a href=\"https://colab.research.google.com/github/sipocz/MD5/blob/main/md5.ipynb\" target=\"_parent\"><img src=\"https://colab.research.google.com/assets/colab-badge.svg\" alt=\"Open In Colab\"/></a>"
      ]
    },
    {
      "cell_type": "code",
      "metadata": {
        "colab": {
          "base_uri": "https://localhost:8080/"
        },
        "id": "g6mfNiW3A78N",
        "outputId": "3b1d6d5c-cefd-4c0e-b52e-238c4856756d"
      },
      "source": [
        "# Python 3 code to demonstrate the \n",
        "# working of MD5 (byte - byte)\n",
        "  \n",
        "import hashlib\n",
        "  \n",
        "# encoding GeeksforGeeks using md5 hash\n",
        "# function \n",
        "result = hashlib.md5('steritást'.encode())\n",
        "  \n",
        "# printing the equivalent byte value.\n",
        "print(\"The byte equivalent of hash is : \", end =\"\")\n",
        "print(result.digest())\n",
        "print(result.hexdigest())"
      ],
      "execution_count": 362,
      "outputs": [
        {
          "output_type": "stream",
          "text": [
            "The byte equivalent of hash is : b'SW\\xbb\\xfcZov\\x03\\x8a\\xe8\\xb9\\xd0d\\xc2F\\x0c'\n",
            "5357bbfc5a6f76038ae8b9d064c2460c\n"
          ],
          "name": "stdout"
        }
      ]
    },
    {
      "cell_type": "code",
      "metadata": {
        "colab": {
          "base_uri": "https://localhost:8080/"
        },
        "id": "r1E_Y88tEYiY",
        "outputId": "4be956e4-6981-409c-a9b7-a2334fcfe8b5"
      },
      "source": [
        "# working of MD5 (byte - byte)\n",
        "  \n",
        "import hashlib\n",
        "  \n",
        "# encoding GeeksforGeeks using md5 hash\n",
        "# function\n",
        "pwd=\"steritest\"\n",
        "print( pwd.encode()) \n",
        "result = hashlib.md5(pwd.encode())\n",
        "  \n",
        "# printing the equivalent byte value.\n",
        "print(\"The byte equivalent of hash is : \", end =\"\")\n",
        "print(result.digest())\n",
        "print(result.hexdigest())"
      ],
      "execution_count": 363,
      "outputs": [
        {
          "output_type": "stream",
          "text": [
            "b'steritest'\n",
            "The byte equivalent of hash is : b'\\xc3e\\x85\\x94d\\xad\\xfb\\xdf\\x00\\xbb\\n\\x1e\\x97\\x9e\\x9fk'\n",
            "c365859464adfbdf00bb0a1e979e9f6b\n"
          ],
          "name": "stdout"
        }
      ]
    },
    {
      "cell_type": "code",
      "metadata": {
        "id": "SctG5X1b-nof"
      },
      "source": [
        "code=\"7e8af2b643f04e9021428b8fa840cd8f\""
      ],
      "execution_count": 364,
      "outputs": []
    },
    {
      "cell_type": "code",
      "metadata": {
        "colab": {
          "base_uri": "https://localhost:8080/"
        },
        "id": "4iHIUtHfQpvx",
        "outputId": "fd118cd8-3422-4dc5-fde1-a075223579ef"
      },
      "source": [
        "print(hashlib.md5(\"c365859464adfbdf00bb0a1e979e9f6b\".encode()).hexdigest())"
      ],
      "execution_count": 365,
      "outputs": [
        {
          "output_type": "stream",
          "text": [
            "bfa6e9ab4630bc1c6546d435b56bf42a\n"
          ],
          "name": "stdout"
        }
      ]
    },
    {
      "cell_type": "code",
      "metadata": {
        "colab": {
          "base_uri": "https://localhost:8080/"
        },
        "id": "GOXsxRXBfxLw",
        "outputId": "0578aa2e-a085-48b8-d7e4-69e1d60cc7c9"
      },
      "source": [
        "!pip install blowfish"
      ],
      "execution_count": 366,
      "outputs": [
        {
          "output_type": "stream",
          "text": [
            "Requirement already satisfied: blowfish in /usr/local/lib/python3.7/dist-packages (0.6.1)\n"
          ],
          "name": "stdout"
        }
      ]
    },
    {
      "cell_type": "code",
      "metadata": {
        "id": "xFsFNOZufvxH"
      },
      "source": [
        "import blowfish\n",
        "\n",
        "cipher = blowfish.Cipher(b\"Key must be between 4 and 56 bytes long.\")"
      ],
      "execution_count": 367,
      "outputs": []
    },
    {
      "cell_type": "code",
      "metadata": {
        "id": "NBtFs_xff34R"
      },
      "source": [
        ""
      ],
      "execution_count": 367,
      "outputs": []
    },
    {
      "cell_type": "code",
      "metadata": {
        "id": "FqNdpAO4ug4Z"
      },
      "source": [
        "import xml.etree.ElementTree as ET"
      ],
      "execution_count": 368,
      "outputs": []
    },
    {
      "cell_type": "code",
      "metadata": {
        "id": "cdSpU4c7wkYu"
      },
      "source": [
        "with open('sop2.stml', 'r') as f:\n",
        "    data = f.read() "
      ],
      "execution_count": 369,
      "outputs": []
    },
    {
      "cell_type": "code",
      "metadata": {
        "colab": {
          "base_uri": "https://localhost:8080/"
        },
        "id": "IlVNKjfMwr8c",
        "outputId": "39938138-777a-4370-f804-092a05267dd9"
      },
      "source": [
        "print(data)"
      ],
      "execution_count": 370,
      "outputs": [
        {
          "output_type": "stream",
          "text": [
            "﻿<?xml version=\"1.0\" encoding=\"utf-8\"?>\n",
            "<STERILITY_LIB>\n",
            "<FILENAME>\n",
            "</FILENAME>\n",
            "<HASH>082D7227B4EFAB8D88841EF8A1E425A2</HASH>\n",
            "<SOPS>\n",
            "<MDATE>2021:Jul:18</MDATE>\n",
            "<SOP>\n",
            "<UUID>4f011561-8260-40ce-86d2-8c9574f3b771</UUID>\n",
            "<NUMBER>a1</NUMBER>\n",
            "<NAME>a1</NAME>\n",
            "<FULLNAME>\n",
            "</FULLNAME>\n",
            "<STERITEST>N/A</STERITEST>\n",
            "<STERITEST_ACCESSORY>N/A</STERITEST_ACCESSORY>\n",
            "<COMMENT>\n",
            "</COMMENT>\n",
            "<REVISION>0</REVISION>\n",
            "<STATUS>Pending</STATUS>\n",
            "<SEQUENCE>\n",
            "<STEP>\n",
            "<TYPE>Dilution</TYPE>\n",
            "<SPEED>1</SPEED>\n",
            "<TIMER>0</TIMER>\n",
            "<COMMENT>\n",
            "</COMMENT>\n",
            "<REGULATION>False</REGULATION>\n",
            "<SYRINGE>False</SYRINGE>\n",
            "<SYRINGEDELAY>0</SYRINGEDELAY>\n",
            "</STEP>\n",
            "</SEQUENCE>\n",
            "</SOP>\n",
            "<SOP>\n",
            "<UUID>7f6e3ba2-9eb7-4e3d-829a-2d3eab4d3225</UUID>\n",
            "<NUMBER>a2</NUMBER>\n",
            "<NAME>aa</NAME>\n",
            "<FULLNAME>\n",
            "</FULLNAME>\n",
            "<STERITEST>N/A</STERITEST>\n",
            "<STERITEST_ACCESSORY>N/A</STERITEST_ACCESSORY>\n",
            "<COMMENT>\n",
            "</COMMENT>\n",
            "<REVISION>0</REVISION>\n",
            "<STATUS>Pending</STATUS>\n",
            "<SEQUENCE>\n",
            "<STEP>\n",
            "<TYPE>Dilution</TYPE>\n",
            "<SPEED>1</SPEED>\n",
            "<TIMER>0</TIMER>\n",
            "<COMMENT>\n",
            "</COMMENT>\n",
            "<REGULATION>False</REGULATION>\n",
            "<SYRINGE>False</SYRINGE>\n",
            "<SYRINGEDELAY>0</SYRINGEDELAY>\n",
            "</STEP>\n",
            "</SEQUENCE>\n",
            "</SOP>\n",
            "</SOPS>\n",
            "</STERILITY_LIB>\n"
          ],
          "name": "stdout"
        }
      ]
    },
    {
      "cell_type": "code",
      "metadata": {
        "colab": {
          "base_uri": "https://localhost:8080/"
        },
        "id": "vV2bnP3qv71T",
        "outputId": "9047e1ea-f087-4d6a-c313-5de373321eba"
      },
      "source": [
        "from xml.dom import minidom\n",
        "\n",
        "# parse an xml file by name\n",
        "file = minidom.parse('sop2.stml')\n",
        "\n",
        "#use getElementsByTagName() to get tag\n",
        "models = file.getElementsByTagName('SOPS')\n",
        "\n",
        "# one specific item attribute\n",
        "print('model #2 attribute:')\n",
        "print(models[0])\n",
        "\n"
      ],
      "execution_count": 371,
      "outputs": [
        {
          "output_type": "stream",
          "text": [
            "model #2 attribute:\n",
            "<DOM Element: SOPS at 0x7fa21a9a30f0>\n"
          ],
          "name": "stdout"
        }
      ]
    },
    {
      "cell_type": "code",
      "metadata": {
        "colab": {
          "base_uri": "https://localhost:8080/"
        },
        "id": "u8u92ZObLjIa",
        "outputId": "d3683b79-f50c-4e74-c808-c1e0b642028c"
      },
      "source": [
        "for node in models[0].childNodes:\n",
        "    print(node)"
      ],
      "execution_count": 372,
      "outputs": [
        {
          "output_type": "stream",
          "text": [
            "<DOM Text node \"'\\n'\">\n",
            "<DOM Element: MDATE at 0x7fa21a9a3230>\n",
            "<DOM Text node \"'\\n'\">\n",
            "<DOM Element: SOP at 0x7fa21a9a35f0>\n",
            "<DOM Text node \"'\\n'\">\n",
            "<DOM Element: SOP at 0x7fa21ab9fcd0>\n",
            "<DOM Text node \"'\\n'\">\n"
          ],
          "name": "stdout"
        }
      ]
    },
    {
      "cell_type": "code",
      "metadata": {
        "colab": {
          "base_uri": "https://localhost:8080/"
        },
        "id": "RXGQ1-fsujLN",
        "outputId": "1ed37484-95d7-4165-d89e-21d74e1620b1"
      },
      "source": [
        "for node in models:  # visit every node <bar />\n",
        "    print (node.toxml())\n",
        "    "
      ],
      "execution_count": 373,
      "outputs": [
        {
          "output_type": "stream",
          "text": [
            "<SOPS>\n",
            "<MDATE>2021:Jul:18</MDATE>\n",
            "<SOP>\n",
            "<UUID>4f011561-8260-40ce-86d2-8c9574f3b771</UUID>\n",
            "<NUMBER>a1</NUMBER>\n",
            "<NAME>a1</NAME>\n",
            "<FULLNAME>\n",
            "</FULLNAME>\n",
            "<STERITEST>N/A</STERITEST>\n",
            "<STERITEST_ACCESSORY>N/A</STERITEST_ACCESSORY>\n",
            "<COMMENT>\n",
            "</COMMENT>\n",
            "<REVISION>0</REVISION>\n",
            "<STATUS>Pending</STATUS>\n",
            "<SEQUENCE>\n",
            "<STEP>\n",
            "<TYPE>Dilution</TYPE>\n",
            "<SPEED>1</SPEED>\n",
            "<TIMER>0</TIMER>\n",
            "<COMMENT>\n",
            "</COMMENT>\n",
            "<REGULATION>False</REGULATION>\n",
            "<SYRINGE>False</SYRINGE>\n",
            "<SYRINGEDELAY>0</SYRINGEDELAY>\n",
            "</STEP>\n",
            "</SEQUENCE>\n",
            "</SOP>\n",
            "<SOP>\n",
            "<UUID>7f6e3ba2-9eb7-4e3d-829a-2d3eab4d3225</UUID>\n",
            "<NUMBER>a2</NUMBER>\n",
            "<NAME>aa</NAME>\n",
            "<FULLNAME>\n",
            "</FULLNAME>\n",
            "<STERITEST>N/A</STERITEST>\n",
            "<STERITEST_ACCESSORY>N/A</STERITEST_ACCESSORY>\n",
            "<COMMENT>\n",
            "</COMMENT>\n",
            "<REVISION>0</REVISION>\n",
            "<STATUS>Pending</STATUS>\n",
            "<SEQUENCE>\n",
            "<STEP>\n",
            "<TYPE>Dilution</TYPE>\n",
            "<SPEED>1</SPEED>\n",
            "<TIMER>0</TIMER>\n",
            "<COMMENT>\n",
            "</COMMENT>\n",
            "<REGULATION>False</REGULATION>\n",
            "<SYRINGE>False</SYRINGE>\n",
            "<SYRINGEDELAY>0</SYRINGEDELAY>\n",
            "</STEP>\n",
            "</SEQUENCE>\n",
            "</SOP>\n",
            "</SOPS>\n"
          ],
          "name": "stdout"
        }
      ]
    },
    {
      "cell_type": "code",
      "metadata": {
        "id": "N-MeHNCB0drh"
      },
      "source": [
        "nodesops=file.getElementsByTagName('SOPS')"
      ],
      "execution_count": 374,
      "outputs": []
    },
    {
      "cell_type": "code",
      "metadata": {
        "id": "nemNZ6o5Vpvx"
      },
      "source": [
        ""
      ],
      "execution_count": 374,
      "outputs": []
    },
    {
      "cell_type": "code",
      "metadata": {
        "id": "FV8J_hQ7UVSr"
      },
      "source": [
        "def getChildXML(elem):\n",
        "    out = \"\"\n",
        "    for c in elem.childNodes:\n",
        "        if c.nodeType == minidom.Node.TEXT_NODE:\n",
        "            out += c.nodeValue\n",
        "        else:\n",
        "            if c.nodeType == minidom.Node.ELEMENT_NODE:\n",
        "                if c.childNodes.length == 0:\n",
        "                    pass\n",
        "                    #out += \"<\" + c.nodeName + \"/>\"\n",
        "                else:\n",
        "                    #out += \"<\" + c.nodeName + \">\"\n",
        "                    cs = \"\"\n",
        "                    cs = getChildXML(c)\n",
        "                    out += cs\n",
        "                    #out += \"</\" + c.nodeName + \">\"\n",
        "    return out"
      ],
      "execution_count": 375,
      "outputs": []
    },
    {
      "cell_type": "code",
      "metadata": {
        "id": "MUfKISw_UWgb"
      },
      "source": [
        "a=\"\"\n",
        "for nodesop in nodesops:\n",
        "    a=a+getChildXML(nodesop)"
      ],
      "execution_count": 376,
      "outputs": []
    },
    {
      "cell_type": "code",
      "metadata": {
        "id": "KuEcXDFYWZId"
      },
      "source": [
        "astr=a.split(\"\\n\")"
      ],
      "execution_count": 377,
      "outputs": []
    },
    {
      "cell_type": "code",
      "metadata": {
        "id": "KQ9aTxB8WvZV"
      },
      "source": [
        "o=\"\"\n",
        "for s in astr:\n",
        "    o=o+s\n"
      ],
      "execution_count": 378,
      "outputs": []
    },
    {
      "cell_type": "code",
      "metadata": {
        "colab": {
          "base_uri": "https://localhost:8080/",
          "height": 35
        },
        "id": "8QgRKD3_Wp_V",
        "outputId": "4b7ff094-2208-4032-fca4-cf63972ed77a"
      },
      "source": [
        "o"
      ],
      "execution_count": 379,
      "outputs": [
        {
          "output_type": "execute_result",
          "data": {
            "application/vnd.google.colaboratory.intrinsic+json": {
              "type": "string"
            },
            "text/plain": [
              "'2021:Jul:184f011561-8260-40ce-86d2-8c9574f3b771a1a1N/AN/A0PendingDilution10FalseFalse07f6e3ba2-9eb7-4e3d-829a-2d3eab4d3225a2aaN/AN/A0PendingDilution10FalseFalse0'"
            ]
          },
          "metadata": {
            "tags": []
          },
          "execution_count": 379
        }
      ]
    },
    {
      "cell_type": "code",
      "metadata": {
        "id": "0c56Q4X1MNG8"
      },
      "source": [
        ""
      ],
      "execution_count": 379,
      "outputs": []
    },
    {
      "cell_type": "code",
      "metadata": {
        "id": "VVcr0KXqKim7"
      },
      "source": [
        ""
      ],
      "execution_count": 379,
      "outputs": []
    },
    {
      "cell_type": "code",
      "metadata": {
        "id": "KXuOG2Bg2bwp"
      },
      "source": [
        ""
      ],
      "execution_count": 379,
      "outputs": []
    },
    {
      "cell_type": "code",
      "metadata": {
        "id": "G_ewmculLCMe"
      },
      "source": [
        ""
      ],
      "execution_count": 379,
      "outputs": []
    },
    {
      "cell_type": "code",
      "metadata": {
        "id": "Yv_JF1Ca0n4D"
      },
      "source": [
        ""
      ],
      "execution_count": 379,
      "outputs": []
    },
    {
      "cell_type": "code",
      "metadata": {
        "colab": {
          "base_uri": "https://localhost:8080/"
        },
        "id": "73x3Nvfe6JYE",
        "outputId": "8d1e80c9-1e3f-4846-bcd4-98a6294caa10"
      },
      "source": [
        "import uuid\n",
        "\n",
        "myuuid = uuid.uuid4()\n",
        "\n",
        "print('Your UUID is: ' + str(myuuid))"
      ],
      "execution_count": 380,
      "outputs": [
        {
          "output_type": "stream",
          "text": [
            "Your UUID is: 5607a36e-2db3-4f00-b7a0-3bfd1cd30157\n"
          ],
          "name": "stdout"
        }
      ]
    },
    {
      "cell_type": "code",
      "metadata": {
        "id": "NKj0Jwsc__y0"
      },
      "source": [
        "st=\"2021:Jul:184f011561-8260-40ce-86d2-8c9574f3b771a1a1N/AN/A0PendingDilution10FalseFalse0\"\n"
      ],
      "execution_count": 381,
      "outputs": []
    },
    {
      "cell_type": "code",
      "metadata": {
        "colab": {
          "base_uri": "https://localhost:8080/"
        },
        "id": "A1o0HXEtAH9L",
        "outputId": "701a8dab-43e8-443f-915f-49937ac17eb1"
      },
      "source": [
        "import hashlib\n",
        "  \n",
        "# encoding GeeksforGeeks using md5 hash\n",
        "# function\n",
        "pwd=o\n",
        "print( pwd.encode()) \n",
        "result = hashlib.md5(pwd.encode())"
      ],
      "execution_count": 382,
      "outputs": [
        {
          "output_type": "stream",
          "text": [
            "b'2021:Jul:184f011561-8260-40ce-86d2-8c9574f3b771a1a1N/AN/A0PendingDilution10FalseFalse07f6e3ba2-9eb7-4e3d-829a-2d3eab4d3225a2aaN/AN/A0PendingDilution10FalseFalse0'\n"
          ],
          "name": "stdout"
        }
      ]
    },
    {
      "cell_type": "code",
      "metadata": {
        "colab": {
          "base_uri": "https://localhost:8080/"
        },
        "id": "NcXLBzjnARxO",
        "outputId": "7356c548-14e1-478b-b2a2-246a623ae4f1"
      },
      "source": [
        "print(result.digest())\n",
        "print(result.hexdigest())"
      ],
      "execution_count": 383,
      "outputs": [
        {
          "output_type": "stream",
          "text": [
            "b\"\\x08-r'\\xb4\\xef\\xab\\x8d\\x88\\x84\\x1e\\xf8\\xa1\\xe4%\\xa2\"\n",
            "082d7227b4efab8d88841ef8a1e425a2\n"
          ],
          "name": "stdout"
        }
      ]
    }
  ]
}
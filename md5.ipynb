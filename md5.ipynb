{
  "nbformat": 4,
  "nbformat_minor": 0,
  "metadata": {
    "colab": {
      "name": "md5.ipynb",
      "provenance": [],
      "authorship_tag": "ABX9TyMDgad849f6OSN30AWp8LhN",
      "include_colab_link": true
    },
    "kernelspec": {
      "name": "python3",
      "display_name": "Python 3"
    },
    "language_info": {
      "name": "python"
    }
  },
  "cells": [
    {
      "cell_type": "markdown",
      "metadata": {
        "id": "view-in-github",
        "colab_type": "text"
      },
      "source": [
        "<a href=\"https://colab.research.google.com/github/sipocz/MD5/blob/main/md5.ipynb\" target=\"_parent\"><img src=\"https://colab.research.google.com/assets/colab-badge.svg\" alt=\"Open In Colab\"/></a>"
      ]
    },
    {
      "cell_type": "code",
      "metadata": {
        "colab": {
          "base_uri": "https://localhost:8080/"
        },
        "id": "g6mfNiW3A78N",
        "outputId": "1f717adb-5d49-4c1d-f70a-d65cebc97234"
      },
      "source": [
        "# Python 3 code to demonstrate the \n",
        "# working of MD5 (byte - byte)\n",
        "  \n",
        "import hashlib\n",
        "  \n",
        "# encoding GeeksforGeeks using md5 hash\n",
        "# function \n",
        "result = hashlib.md5('almafa'.encode())\n",
        "  \n",
        "# printing the equivalent byte value.\n",
        "print(\"The byte equivalent of hash is : \", end =\"\")\n",
        "print(result.digest())\n",
        "print(result.hexdigest())"
      ],
      "execution_count": 10,
      "outputs": [
        {
          "output_type": "stream",
          "text": [
            "The byte equivalent of hash is : b'_\\x0f\\xa8\\xb7\\xa79z<\\x1a^tex\\xbd>Y'\n",
            "5f0fa8b7a7397a3c1a5e746578bd3e59\n"
          ],
          "name": "stdout"
        }
      ]
    }
  ]
}
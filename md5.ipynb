{
  "nbformat": 4,
  "nbformat_minor": 0,
  "metadata": {
    "colab": {
      "name": "md5.ipynb",
      "provenance": [],
      "authorship_tag": "ABX9TyPO79nA3SI7BAX7MPvrzYkj",
      "include_colab_link": true
    },
    "kernelspec": {
      "name": "python3",
      "display_name": "Python 3"
    },
    "language_info": {
      "name": "python"
    }
  },
  "cells": [
    {
      "cell_type": "markdown",
      "metadata": {
        "id": "view-in-github",
        "colab_type": "text"
      },
      "source": [
        "<a href=\"https://colab.research.google.com/github/sipocz/MD5/blob/main/md5.ipynb\" target=\"_parent\"><img src=\"https://colab.research.google.com/assets/colab-badge.svg\" alt=\"Open In Colab\"/></a>"
      ]
    },
    {
      "cell_type": "code",
      "metadata": {
        "colab": {
          "base_uri": "https://localhost:8080/"
        },
        "id": "g6mfNiW3A78N",
        "outputId": "19f66ad3-1245-460d-8926-226b7bb341b1"
      },
      "source": [
        "# Python 3 code to demonstrate the \n",
        "# working of MD5 (byte - byte)\n",
        "  \n",
        "import hashlib\n",
        "  \n",
        "# encoding GeeksforGeeks using md5 hash\n",
        "# function \n",
        "result = hashlib.md5('steritást'.encode())\n",
        "  \n",
        "# printing the equivalent byte value.\n",
        "print(\"The byte equivalent of hash is : \", end =\"\")\n",
        "print(result.digest())\n",
        "print(result.hexdigest())"
      ],
      "execution_count": 287,
      "outputs": [
        {
          "output_type": "stream",
          "text": [
            "The byte equivalent of hash is : b'SW\\xbb\\xfcZov\\x03\\x8a\\xe8\\xb9\\xd0d\\xc2F\\x0c'\n",
            "5357bbfc5a6f76038ae8b9d064c2460c\n"
          ],
          "name": "stdout"
        }
      ]
    },
    {
      "cell_type": "code",
      "metadata": {
        "colab": {
          "base_uri": "https://localhost:8080/"
        },
        "id": "r1E_Y88tEYiY",
        "outputId": "677bff32-47ee-42ac-e556-be4e8c9f8ed8"
      },
      "source": [
        "# working of MD5 (byte - byte)\n",
        "  \n",
        "import hashlib\n",
        "  \n",
        "# encoding GeeksforGeeks using md5 hash\n",
        "# function\n",
        "pwd=\"steritest\"\n",
        "print( pwd.encode()) \n",
        "result = hashlib.md5(pwd.encode())\n",
        "  \n",
        "# printing the equivalent byte value.\n",
        "print(\"The byte equivalent of hash is : \", end =\"\")\n",
        "print(result.digest())\n",
        "print(result.hexdigest())"
      ],
      "execution_count": 288,
      "outputs": [
        {
          "output_type": "stream",
          "text": [
            "b'steritest'\n",
            "The byte equivalent of hash is : b'\\xc3e\\x85\\x94d\\xad\\xfb\\xdf\\x00\\xbb\\n\\x1e\\x97\\x9e\\x9fk'\n",
            "c365859464adfbdf00bb0a1e979e9f6b\n"
          ],
          "name": "stdout"
        }
      ]
    },
    {
      "cell_type": "code",
      "metadata": {
        "id": "SctG5X1b-nof"
      },
      "source": [
        "code=\"7e8af2b643f04e9021428b8fa840cd8f\""
      ],
      "execution_count": 289,
      "outputs": []
    },
    {
      "cell_type": "code",
      "metadata": {
        "colab": {
          "base_uri": "https://localhost:8080/"
        },
        "id": "4iHIUtHfQpvx",
        "outputId": "56fbe6ca-d0bd-4382-8447-60ea48498ae9"
      },
      "source": [
        "print(hashlib.md5(\"c365859464adfbdf00bb0a1e979e9f6b\".encode()).hexdigest())"
      ],
      "execution_count": 290,
      "outputs": [
        {
          "output_type": "stream",
          "text": [
            "bfa6e9ab4630bc1c6546d435b56bf42a\n"
          ],
          "name": "stdout"
        }
      ]
    },
    {
      "cell_type": "code",
      "metadata": {
        "colab": {
          "base_uri": "https://localhost:8080/"
        },
        "id": "GOXsxRXBfxLw",
        "outputId": "79209744-69fe-4e54-d679-569f37d9fca6"
      },
      "source": [
        "!pip install blowfish"
      ],
      "execution_count": 291,
      "outputs": [
        {
          "output_type": "stream",
          "text": [
            "Requirement already satisfied: blowfish in /usr/local/lib/python3.7/dist-packages (0.6.1)\n"
          ],
          "name": "stdout"
        }
      ]
    },
    {
      "cell_type": "code",
      "metadata": {
        "id": "xFsFNOZufvxH"
      },
      "source": [
        ""
      ],
      "execution_count": 291,
      "outputs": []
    },
    {
      "cell_type": "code",
      "metadata": {
        "id": "NBtFs_xff34R"
      },
      "source": [
        "fname=\"sop2.stml\""
      ],
      "execution_count": 292,
      "outputs": []
    },
    {
      "cell_type": "code",
      "metadata": {
        "id": "FqNdpAO4ug4Z"
      },
      "source": [
        "import xml.etree.ElementTree as ET"
      ],
      "execution_count": 293,
      "outputs": []
    },
    {
      "cell_type": "code",
      "metadata": {
        "id": "cdSpU4c7wkYu"
      },
      "source": [
        "with open(fname, 'r') as f:\n",
        "    data = f.read() "
      ],
      "execution_count": 294,
      "outputs": []
    },
    {
      "cell_type": "code",
      "metadata": {
        "colab": {
          "base_uri": "https://localhost:8080/"
        },
        "id": "IlVNKjfMwr8c",
        "outputId": "8f4832e1-b40a-4e1f-e6ee-0b454f71a014"
      },
      "source": [
        "print(data)"
      ],
      "execution_count": 295,
      "outputs": [
        {
          "output_type": "stream",
          "text": [
            "﻿<?xml version=\"1.0\" encoding=\"utf-8\"?>\n",
            "<STERILITY_LIB>\n",
            "<FILENAME>\n",
            "</FILENAME>\n",
            "<HASH>082D7227B4EFAB8D88841EF8A1E425A2</HASH>\n",
            "<SOPS>\n",
            "<MDATE>2021:Jul:18</MDATE>\n",
            "<SOP>\n",
            "<UUID>4f011561-8260-40ce-86d2-8c9574f3b771</UUID>\n",
            "<NUMBER>a1</NUMBER>\n",
            "<NAME>a1</NAME>\n",
            "<FULLNAME>\n",
            "</FULLNAME>\n",
            "<STERITEST>N/A</STERITEST>\n",
            "<STERITEST_ACCESSORY>N/A</STERITEST_ACCESSORY>\n",
            "<COMMENT>\n",
            "</COMMENT>\n",
            "<REVISION>0</REVISION>\n",
            "<STATUS>Pending</STATUS>\n",
            "<SEQUENCE>\n",
            "<STEP>\n",
            "<TYPE>Dilution</TYPE>\n",
            "<SPEED>1</SPEED>\n",
            "<TIMER>0</TIMER>\n",
            "<COMMENT>\n",
            "</COMMENT>\n",
            "<REGULATION>False</REGULATION>\n",
            "<SYRINGE>False</SYRINGE>\n",
            "<SYRINGEDELAY>0</SYRINGEDELAY>\n",
            "</STEP>\n",
            "</SEQUENCE>\n",
            "</SOP>\n",
            "<SOP>\n",
            "<UUID>7f6e3ba2-9eb7-4e3d-829a-2d3eab4d3225</UUID>\n",
            "<NUMBER>a2</NUMBER>\n",
            "<NAME>aa</NAME>\n",
            "<FULLNAME>\n",
            "</FULLNAME>\n",
            "<STERITEST>N/A</STERITEST>\n",
            "<STERITEST_ACCESSORY>N/A</STERITEST_ACCESSORY>\n",
            "<COMMENT>\n",
            "</COMMENT>\n",
            "<REVISION>0</REVISION>\n",
            "<STATUS>Pending</STATUS>\n",
            "<SEQUENCE>\n",
            "<STEP>\n",
            "<TYPE>Dilution</TYPE>\n",
            "<SPEED>1</SPEED>\n",
            "<TIMER>0</TIMER>\n",
            "<COMMENT>\n",
            "</COMMENT>\n",
            "<REGULATION>False</REGULATION>\n",
            "<SYRINGE>False</SYRINGE>\n",
            "<SYRINGEDELAY>0</SYRINGEDELAY>\n",
            "</STEP>\n",
            "</SEQUENCE>\n",
            "</SOP>\n",
            "</SOPS>\n",
            "</STERILITY_LIB>\n"
          ],
          "name": "stdout"
        }
      ]
    },
    {
      "cell_type": "code",
      "metadata": {
        "colab": {
          "base_uri": "https://localhost:8080/"
        },
        "id": "vV2bnP3qv71T",
        "outputId": "264ddb1a-2317-4cba-9f51-bb0eb27d0e6c"
      },
      "source": [
        "from xml.dom import minidom\n",
        "\n",
        "# parse an xml file by name\n",
        "file = minidom.parse(fname)\n",
        "\n",
        "#use getElementsByTagName() to get tag\n",
        "models = file.getElementsByTagName('SOPS')\n",
        "\n",
        "# one specific item attribute\n",
        "print('model #2 attribute:')\n",
        "print(models[0])\n",
        "\n"
      ],
      "execution_count": 296,
      "outputs": [
        {
          "output_type": "stream",
          "text": [
            "model #2 attribute:\n",
            "<DOM Element: SOPS at 0x7f8258941410>\n"
          ],
          "name": "stdout"
        }
      ]
    },
    {
      "cell_type": "code",
      "metadata": {
        "colab": {
          "base_uri": "https://localhost:8080/"
        },
        "id": "u8u92ZObLjIa",
        "outputId": "9dc48de8-f24e-400c-9924-41966fe42a7e"
      },
      "source": [
        "for node in models[0].childNodes:\n",
        "    print(node)"
      ],
      "execution_count": 297,
      "outputs": [
        {
          "output_type": "stream",
          "text": [
            "<DOM Text node \"'\\n'\">\n",
            "<DOM Element: MDATE at 0x7f8258941190>\n",
            "<DOM Text node \"'\\n'\">\n",
            "<DOM Element: SOP at 0x7f8258941230>\n",
            "<DOM Text node \"'\\n'\">\n",
            "<DOM Element: SOP at 0x7f8258941e10>\n",
            "<DOM Text node \"'\\n'\">\n"
          ],
          "name": "stdout"
        }
      ]
    },
    {
      "cell_type": "code",
      "metadata": {
        "colab": {
          "base_uri": "https://localhost:8080/"
        },
        "id": "RXGQ1-fsujLN",
        "outputId": "59a4fa10-9cb6-4853-e6ae-3130fa338f8a"
      },
      "source": [
        "for node in models:  # visit every node <bar />\n",
        "    print (node.toxml())\n",
        "    "
      ],
      "execution_count": 298,
      "outputs": [
        {
          "output_type": "stream",
          "text": [
            "<SOPS>\n",
            "<MDATE>2021:Jul:18</MDATE>\n",
            "<SOP>\n",
            "<UUID>4f011561-8260-40ce-86d2-8c9574f3b771</UUID>\n",
            "<NUMBER>a1</NUMBER>\n",
            "<NAME>a1</NAME>\n",
            "<FULLNAME>\n",
            "</FULLNAME>\n",
            "<STERITEST>N/A</STERITEST>\n",
            "<STERITEST_ACCESSORY>N/A</STERITEST_ACCESSORY>\n",
            "<COMMENT>\n",
            "</COMMENT>\n",
            "<REVISION>0</REVISION>\n",
            "<STATUS>Pending</STATUS>\n",
            "<SEQUENCE>\n",
            "<STEP>\n",
            "<TYPE>Dilution</TYPE>\n",
            "<SPEED>1</SPEED>\n",
            "<TIMER>0</TIMER>\n",
            "<COMMENT>\n",
            "</COMMENT>\n",
            "<REGULATION>False</REGULATION>\n",
            "<SYRINGE>False</SYRINGE>\n",
            "<SYRINGEDELAY>0</SYRINGEDELAY>\n",
            "</STEP>\n",
            "</SEQUENCE>\n",
            "</SOP>\n",
            "<SOP>\n",
            "<UUID>7f6e3ba2-9eb7-4e3d-829a-2d3eab4d3225</UUID>\n",
            "<NUMBER>a2</NUMBER>\n",
            "<NAME>aa</NAME>\n",
            "<FULLNAME>\n",
            "</FULLNAME>\n",
            "<STERITEST>N/A</STERITEST>\n",
            "<STERITEST_ACCESSORY>N/A</STERITEST_ACCESSORY>\n",
            "<COMMENT>\n",
            "</COMMENT>\n",
            "<REVISION>0</REVISION>\n",
            "<STATUS>Pending</STATUS>\n",
            "<SEQUENCE>\n",
            "<STEP>\n",
            "<TYPE>Dilution</TYPE>\n",
            "<SPEED>1</SPEED>\n",
            "<TIMER>0</TIMER>\n",
            "<COMMENT>\n",
            "</COMMENT>\n",
            "<REGULATION>False</REGULATION>\n",
            "<SYRINGE>False</SYRINGE>\n",
            "<SYRINGEDELAY>0</SYRINGEDELAY>\n",
            "</STEP>\n",
            "</SEQUENCE>\n",
            "</SOP>\n",
            "</SOPS>\n"
          ],
          "name": "stdout"
        }
      ]
    },
    {
      "cell_type": "code",
      "metadata": {
        "id": "N-MeHNCB0drh"
      },
      "source": [
        "nodesops=file.getElementsByTagName('SOPS')"
      ],
      "execution_count": 299,
      "outputs": []
    },
    {
      "cell_type": "code",
      "metadata": {
        "id": "nemNZ6o5Vpvx"
      },
      "source": [
        ""
      ],
      "execution_count": 299,
      "outputs": []
    },
    {
      "cell_type": "code",
      "metadata": {
        "id": "FV8J_hQ7UVSr"
      },
      "source": [
        "def getChildXML(elem):\n",
        "    '''\n",
        "    description: az adott element összes child elemének szöveges reprezentációját adja rekurzívan\n",
        "    elem: XML element \n",
        "\n",
        "    '''\n",
        "    out = \"\"\n",
        "    for c in elem.childNodes:\n",
        "        if c.nodeType == minidom.Node.TEXT_NODE:\n",
        "            if c.nodeValue!=\"\\n\":\n",
        "                out += c.nodeValue\n",
        "        else:\n",
        "            if c.nodeType == minidom.Node.ELEMENT_NODE:\n",
        "                if c.childNodes.length == 0:\n",
        "                    pass\n",
        "                    #out += \"<\" + c.nodeName + \"/>\"\n",
        "                else:\n",
        "                    #out += \"<\" + c.nodeName + \">\"\n",
        "                    cs = \"\"\n",
        "                    cs = getChildXML(c)\n",
        "                   \n",
        "                    out += cs\n",
        "                    #out += \"</\" + c.nodeName + \">\"\n",
        "    return out"
      ],
      "execution_count": 300,
      "outputs": []
    },
    {
      "cell_type": "code",
      "metadata": {
        "id": "YINjdTiu6Aww"
      },
      "source": [
        ""
      ],
      "execution_count": 300,
      "outputs": []
    },
    {
      "cell_type": "code",
      "metadata": {
        "id": "MUfKISw_UWgb"
      },
      "source": [
        "a=\"\"\n",
        "for nodesop in nodesops:\n",
        "    a=a+getChildXML(nodesop)"
      ],
      "execution_count": 301,
      "outputs": []
    },
    {
      "cell_type": "code",
      "metadata": {
        "id": "KuEcXDFYWZId"
      },
      "source": [
        "astr=a.split(\"\\n\")"
      ],
      "execution_count": 302,
      "outputs": []
    },
    {
      "cell_type": "code",
      "metadata": {
        "id": "KQ9aTxB8WvZV"
      },
      "source": [
        "o=\"\"\n",
        "for s in astr:\n",
        "    o=o+s\n"
      ],
      "execution_count": 303,
      "outputs": []
    },
    {
      "cell_type": "code",
      "metadata": {
        "colab": {
          "base_uri": "https://localhost:8080/",
          "height": 52
        },
        "id": "8QgRKD3_Wp_V",
        "outputId": "21dc893f-ebcd-43e4-bd86-1aa5e0dfcee3"
      },
      "source": [
        "o"
      ],
      "execution_count": 304,
      "outputs": [
        {
          "output_type": "execute_result",
          "data": {
            "application/vnd.google.colaboratory.intrinsic+json": {
              "type": "string"
            },
            "text/plain": [
              "'2021:Jul:184f011561-8260-40ce-86d2-8c9574f3b771a1a1N/AN/A0PendingDilution10FalseFalse07f6e3ba2-9eb7-4e3d-829a-2d3eab4d3225a2aaN/AN/A0PendingDilution10FalseFalse0'"
            ]
          },
          "metadata": {
            "tags": []
          },
          "execution_count": 304
        }
      ]
    },
    {
      "cell_type": "code",
      "metadata": {
        "id": "0c56Q4X1MNG8"
      },
      "source": [
        "o=getChildXML(nodesops[0]) # ez a megoldás  !!!!!!!!!!!!!!!!!!!!!!!"
      ],
      "execution_count": 305,
      "outputs": []
    },
    {
      "cell_type": "code",
      "metadata": {
        "colab": {
          "base_uri": "https://localhost:8080/"
        },
        "id": "73x3Nvfe6JYE",
        "outputId": "ab3d506e-fd39-44e1-8b09-06369c996ad6"
      },
      "source": [
        "import uuid\n",
        "\n",
        "myuuid = uuid.uuid4()\n",
        "\n",
        "print('Your UUID is: ' + str(myuuid))"
      ],
      "execution_count": 306,
      "outputs": [
        {
          "output_type": "stream",
          "text": [
            "Your UUID is: c5228620-cd1d-4456-8f8a-219afa894ba9\n"
          ],
          "name": "stdout"
        }
      ]
    },
    {
      "cell_type": "code",
      "metadata": {
        "id": "NKj0Jwsc__y0"
      },
      "source": [
        "st=\"2021:Jul:184f011561-8260-40ce-86d2-8c9574f3b771a1a1N/AN/A0PendingDilution10FalseFalse0\"\n"
      ],
      "execution_count": 307,
      "outputs": []
    },
    {
      "cell_type": "code",
      "metadata": {
        "colab": {
          "base_uri": "https://localhost:8080/"
        },
        "id": "A1o0HXEtAH9L",
        "outputId": "bba80bdd-936c-4f86-d1ea-7b06d7b50880"
      },
      "source": [
        "import hashlib\n",
        "  \n",
        "# encoding GeeksforGeeks using md5 hash\n",
        "# function\n",
        "pwd=o\n",
        "print( pwd.encode()) \n",
        "result = hashlib.md5(pwd.encode())"
      ],
      "execution_count": 308,
      "outputs": [
        {
          "output_type": "stream",
          "text": [
            "b'2021:Jul:184f011561-8260-40ce-86d2-8c9574f3b771a1a1N/AN/A0PendingDilution10FalseFalse07f6e3ba2-9eb7-4e3d-829a-2d3eab4d3225a2aaN/AN/A0PendingDilution10FalseFalse0'\n"
          ],
          "name": "stdout"
        }
      ]
    },
    {
      "cell_type": "code",
      "metadata": {
        "colab": {
          "base_uri": "https://localhost:8080/"
        },
        "id": "NcXLBzjnARxO",
        "outputId": "2c794457-bba6-4d1a-c396-e7fb72d2be0b"
      },
      "source": [
        "print(result.digest())\n",
        "md5_code=result.hexdigest().upper()\n",
        "print(md5_code)"
      ],
      "execution_count": 309,
      "outputs": [
        {
          "output_type": "stream",
          "text": [
            "b\"\\x08-r'\\xb4\\xef\\xab\\x8d\\x88\\x84\\x1e\\xf8\\xa1\\xe4%\\xa2\"\n",
            "082D7227B4EFAB8D88841EF8A1E425A2\n"
          ],
          "name": "stdout"
        }
      ]
    },
    {
      "cell_type": "code",
      "metadata": {
        "id": "XjLMuFMAG-6S"
      },
      "source": [
        "models = file.getElementsByTagName('HASH')"
      ],
      "execution_count": 310,
      "outputs": []
    },
    {
      "cell_type": "code",
      "metadata": {
        "colab": {
          "base_uri": "https://localhost:8080/"
        },
        "id": "aQ-tXPO3HLWj",
        "outputId": "84195c74-6536-4952-996c-da85c0d0434b"
      },
      "source": [
        "print(models[0].childNodes[0].nodeValue)"
      ],
      "execution_count": 311,
      "outputs": [
        {
          "output_type": "stream",
          "text": [
            "082D7227B4EFAB8D88841EF8A1E425A2\n"
          ],
          "name": "stdout"
        }
      ]
    },
    {
      "cell_type": "code",
      "metadata": {
        "id": "D_z_TuMZIyrR"
      },
      "source": [
        "models[0].childNodes[0].nodeValue=\"blabla\"   # felülírjuk"
      ],
      "execution_count": 312,
      "outputs": []
    },
    {
      "cell_type": "code",
      "metadata": {
        "colab": {
          "base_uri": "https://localhost:8080/"
        },
        "id": "xtFuTQsgI6uT",
        "outputId": "d345034f-18dd-41f2-9766-7e097dd221f4"
      },
      "source": [
        "models = file.getElementsByTagName('HASH')\n",
        "print(models[0].childNodes[0].nodeValue)      #és vissazolvassuk"
      ],
      "execution_count": 313,
      "outputs": [
        {
          "output_type": "stream",
          "text": [
            "blabla\n"
          ],
          "name": "stdout"
        }
      ]
    },
    {
      "cell_type": "code",
      "metadata": {
        "id": "9hZg3GxgJH7t"
      },
      "source": [
        "skeleton='<?xml version=\"1.0\" encoding=\"utf-8\"?><STERILITY_LIB><FILENAME></FILENAME><HASH>082D7227B4EFAB8D88841EF8A1E425A2</HASH><SOPS><MDATE>2021:Jul:18</MDATE></SOPS></STERILITY_LIB>'"
      ],
      "execution_count": 314,
      "outputs": []
    },
    {
      "cell_type": "code",
      "metadata": {
        "colab": {
          "base_uri": "https://localhost:8080/"
        },
        "id": "LWMydoBdDI9R",
        "outputId": "c7cc4972-664d-4993-af85-add6a07d1c96"
      },
      "source": [
        "print(skeleton)"
      ],
      "execution_count": 315,
      "outputs": [
        {
          "output_type": "stream",
          "text": [
            "<?xml version=\"1.0\" encoding=\"utf-8\"?><STERILITY_LIB><FILENAME></FILENAME><HASH>082D7227B4EFAB8D88841EF8A1E425A2</HASH><SOPS><MDATE>2021:Jul:18</MDATE></SOPS></STERILITY_LIB>\n"
          ],
          "name": "stdout"
        }
      ]
    },
    {
      "cell_type": "code",
      "metadata": {
        "colab": {
          "base_uri": "https://localhost:8080/"
        },
        "id": "cS9JVkvwANx8",
        "outputId": "72e70b07-d95d-42e5-a6e4-20fc9ca1cf51"
      },
      "source": [
        "newSOPS = minidom.parseString(skeleton)\n",
        "print(newSOPS.toprettyxml())"
      ],
      "execution_count": 316,
      "outputs": [
        {
          "output_type": "stream",
          "text": [
            "<?xml version=\"1.0\" ?>\n",
            "<STERILITY_LIB>\n",
            "\t<FILENAME/>\n",
            "\t<HASH>082D7227B4EFAB8D88841EF8A1E425A2</HASH>\n",
            "\t<SOPS>\n",
            "\t\t<MDATE>2021:Jul:18</MDATE>\n",
            "\t</SOPS>\n",
            "</STERILITY_LIB>\n",
            "\n"
          ],
          "name": "stdout"
        }
      ]
    },
    {
      "cell_type": "code",
      "metadata": {
        "id": "pKvhDodvBJPD"
      },
      "source": [
        "def getnode(xml,tag):\n",
        "    model=xml.getElementsByTagName(tag)\n",
        "    return (model[0].childNodes[0].nodeValue)"
      ],
      "execution_count": 317,
      "outputs": []
    },
    {
      "cell_type": "code",
      "metadata": {
        "id": "J_EYsxqhCn5C"
      },
      "source": [
        "def setnode(xml,tag,value):\n",
        "    model=xml.getElementsByTagName(tag)\n",
        "    model[0].childNodes[0].nodeValue=value\n",
        "    return (model[0].childNodes[0].nodeValue)"
      ],
      "execution_count": 318,
      "outputs": []
    },
    {
      "cell_type": "code",
      "metadata": {
        "colab": {
          "base_uri": "https://localhost:8080/",
          "height": 35
        },
        "id": "WbZgxR7cByVG",
        "outputId": "e1c7d2e3-4ab6-4e22-e50d-d89d61167e1a"
      },
      "source": [
        "getnode(newSOPS,\"HASH\")"
      ],
      "execution_count": 319,
      "outputs": [
        {
          "output_type": "execute_result",
          "data": {
            "application/vnd.google.colaboratory.intrinsic+json": {
              "type": "string"
            },
            "text/plain": [
              "'082D7227B4EFAB8D88841EF8A1E425A2'"
            ]
          },
          "metadata": {
            "tags": []
          },
          "execution_count": 319
        }
      ]
    },
    {
      "cell_type": "code",
      "metadata": {
        "colab": {
          "base_uri": "https://localhost:8080/",
          "height": 35
        },
        "id": "Tdoj8SZPCzaS",
        "outputId": "52e2e508-9095-4667-f797-0b69740f86c3"
      },
      "source": [
        "setnode(newSOPS,\"HASH\",\"valami\")"
      ],
      "execution_count": 320,
      "outputs": [
        {
          "output_type": "execute_result",
          "data": {
            "application/vnd.google.colaboratory.intrinsic+json": {
              "type": "string"
            },
            "text/plain": [
              "'valami'"
            ]
          },
          "metadata": {
            "tags": []
          },
          "execution_count": 320
        }
      ]
    },
    {
      "cell_type": "code",
      "metadata": {
        "colab": {
          "base_uri": "https://localhost:8080/"
        },
        "id": "zmpgBjX-C7vq",
        "outputId": "20bcb583-6a95-4c99-97dd-8a50cd3d581a"
      },
      "source": [
        "print(newSOPS.toprettyxml())"
      ],
      "execution_count": 321,
      "outputs": [
        {
          "output_type": "stream",
          "text": [
            "<?xml version=\"1.0\" ?>\n",
            "<STERILITY_LIB>\n",
            "\t<FILENAME/>\n",
            "\t<HASH>valami</HASH>\n",
            "\t<SOPS>\n",
            "\t\t<MDATE>2021:Jul:18</MDATE>\n",
            "\t</SOPS>\n",
            "</STERILITY_LIB>\n",
            "\n"
          ],
          "name": "stdout"
        }
      ]
    },
    {
      "cell_type": "code",
      "metadata": {
        "id": "VNThnkMBDnDy"
      },
      "source": [
        "sops=newSOPS.getElementsByTagName(\"SOPS\")"
      ],
      "execution_count": 322,
      "outputs": []
    },
    {
      "cell_type": "code",
      "metadata": {
        "colab": {
          "base_uri": "https://localhost:8080/"
        },
        "id": "nxRemXF0DzoD",
        "outputId": "2dea17ec-f35e-4a49-a5db-a4a612d429d1"
      },
      "source": [
        "print(sops[0].childNodes[0].childNodes[0].nodeValue)"
      ],
      "execution_count": 323,
      "outputs": [
        {
          "output_type": "stream",
          "text": [
            "2021:Jul:18\n"
          ],
          "name": "stdout"
        }
      ]
    },
    {
      "cell_type": "code",
      "metadata": {
        "colab": {
          "base_uri": "https://localhost:8080/",
          "height": 35
        },
        "id": "iOZyjIsRL-3C",
        "outputId": "e6e9400a-13a0-4294-fcf0-75fe45a0c1d0"
      },
      "source": [
        "sops[0].nodeName"
      ],
      "execution_count": 324,
      "outputs": [
        {
          "output_type": "execute_result",
          "data": {
            "application/vnd.google.colaboratory.intrinsic+json": {
              "type": "string"
            },
            "text/plain": [
              "'SOPS'"
            ]
          },
          "metadata": {
            "tags": []
          },
          "execution_count": 324
        }
      ]
    },
    {
      "cell_type": "code",
      "metadata": {
        "id": "g5rvA_VPQF-i"
      },
      "source": [
        "sopTag=minidom.Document.createElement(\"SOP\",\"SOP\")\n",
        "lma=minidom.Document.createTextNode(\"alma\",\"POS\")\n",
        "newSOPS.encoding=\"UTF-8\""
      ],
      "execution_count": 325,
      "outputs": []
    },
    {
      "cell_type": "code",
      "metadata": {
        "colab": {
          "base_uri": "https://localhost:8080/"
        },
        "id": "GqFi4PjNOo43",
        "outputId": "0b7123d5-e30a-4170-9283-ad45b81b0c40"
      },
      "source": [
        "sops[0].appendChild(sopTag)\n",
        "sops[0].appendChild(sopTag)\n"
      ],
      "execution_count": 326,
      "outputs": [
        {
          "output_type": "execute_result",
          "data": {
            "text/plain": [
              "<DOM Element: SOP at 0x7f8258939b90>"
            ]
          },
          "metadata": {
            "tags": []
          },
          "execution_count": 326
        }
      ]
    },
    {
      "cell_type": "code",
      "metadata": {
        "colab": {
          "base_uri": "https://localhost:8080/"
        },
        "id": "gjSa_qljXJ4t",
        "outputId": "161ee6ca-5d3e-457b-9404-7e9c86e252fc"
      },
      "source": [
        "print(newSOPS.toprettyxml())"
      ],
      "execution_count": 327,
      "outputs": [
        {
          "output_type": "stream",
          "text": [
            "<?xml version=\"1.0\" ?>\n",
            "<STERILITY_LIB>\n",
            "\t<FILENAME/>\n",
            "\t<HASH>valami</HASH>\n",
            "\t<SOPS>\n",
            "\t\t<MDATE>2021:Jul:18</MDATE>\n",
            "\t\t<SOP/>\n",
            "\t</SOPS>\n",
            "</STERILITY_LIB>\n",
            "\n"
          ],
          "name": "stdout"
        }
      ]
    }
  ]
}
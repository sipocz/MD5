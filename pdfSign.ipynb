{
  "nbformat": 4,
  "nbformat_minor": 0,
  "metadata": {
    "colab": {
      "name": "pdfSign.ipynb",
      "provenance": [],
      "authorship_tag": "ABX9TyO8uvGH1oY14nxGcBbSW7AQ",
      "include_colab_link": true
    },
    "kernelspec": {
      "name": "python3",
      "display_name": "Python 3"
    },
    "language_info": {
      "name": "python"
    }
  },
  "cells": [
    {
      "cell_type": "markdown",
      "metadata": {
        "id": "view-in-github",
        "colab_type": "text"
      },
      "source": [
        "<a href=\"https://colab.research.google.com/github/sipocz/MD5/blob/main/pdfSign.ipynb\" target=\"_parent\"><img src=\"https://colab.research.google.com/assets/colab-badge.svg\" alt=\"Open In Colab\"/></a>"
      ]
    },
    {
      "cell_type": "code",
      "metadata": {
        "colab": {
          "base_uri": "https://localhost:8080/"
        },
        "id": "gWfbBwyotvqw",
        "outputId": "8e495a5c-0c56-4b36-b943-7cdf4beb93c3"
      },
      "source": [
        "!pip install pyHanko"
      ],
      "execution_count": 1,
      "outputs": [
        {
          "output_type": "stream",
          "text": [
            "Requirement already satisfied: pyHanko in /usr/local/lib/python3.7/dist-packages (0.7.0)\n",
            "Requirement already satisfied: asn1crypto>=1.4.0 in /usr/local/lib/python3.7/dist-packages (from pyHanko) (1.4.0)\n",
            "Requirement already satisfied: pyhanko-certvalidator~=0.15.3 in /usr/local/lib/python3.7/dist-packages (from pyHanko) (0.15.3)\n",
            "Requirement already satisfied: pytz>=2020.1 in /usr/local/lib/python3.7/dist-packages (from pyHanko) (2021.1)\n",
            "Requirement already satisfied: cryptography>=3.3.1 in /usr/local/lib/python3.7/dist-packages (from pyHanko) (3.4.7)\n",
            "Requirement already satisfied: click>=7.1.2 in /usr/local/lib/python3.7/dist-packages (from pyHanko) (7.1.2)\n",
            "Requirement already satisfied: qrcode>=6.1 in /usr/local/lib/python3.7/dist-packages (from pyHanko) (7.2)\n",
            "Requirement already satisfied: pyyaml>=5.3.1 in /usr/local/lib/python3.7/dist-packages (from pyHanko) (5.4.1)\n",
            "Requirement already satisfied: tzlocal>=2.1 in /usr/local/lib/python3.7/dist-packages (from pyHanko) (2.1)\n",
            "Requirement already satisfied: requests>=2.24.0 in /usr/local/lib/python3.7/dist-packages (from pyHanko) (2.26.0)\n",
            "Requirement already satisfied: cffi>=1.12 in /usr/local/lib/python3.7/dist-packages (from cryptography>=3.3.1->pyHanko) (1.14.6)\n",
            "Requirement already satisfied: pycparser in /usr/local/lib/python3.7/dist-packages (from cffi>=1.12->cryptography>=3.3.1->pyHanko) (2.20)\n",
            "Requirement already satisfied: oscrypto>=1.1.0 in /usr/local/lib/python3.7/dist-packages (from pyhanko-certvalidator~=0.15.3->pyHanko) (1.2.1)\n",
            "Requirement already satisfied: uritools>=3.0.1 in /usr/local/lib/python3.7/dist-packages (from pyhanko-certvalidator~=0.15.3->pyHanko) (3.0.2)\n",
            "Requirement already satisfied: urllib3<1.27,>=1.21.1 in /usr/local/lib/python3.7/dist-packages (from requests>=2.24.0->pyHanko) (1.24.3)\n",
            "Requirement already satisfied: charset-normalizer~=2.0.0 in /usr/local/lib/python3.7/dist-packages (from requests>=2.24.0->pyHanko) (2.0.2)\n",
            "Requirement already satisfied: certifi>=2017.4.17 in /usr/local/lib/python3.7/dist-packages (from requests>=2.24.0->pyHanko) (2021.5.30)\n",
            "Requirement already satisfied: idna<4,>=2.5 in /usr/local/lib/python3.7/dist-packages (from requests>=2.24.0->pyHanko) (2.10)\n"
          ],
          "name": "stdout"
        }
      ]
    },
    {
      "cell_type": "code",
      "metadata": {
        "colab": {
          "base_uri": "https://localhost:8080/"
        },
        "id": "9-9Ch0NNxGms",
        "outputId": "0b3127f4-ea14-478c-a247-cc6b1a0e0cf1"
      },
      "source": [
        "!pip install PyPDF2\n"
      ],
      "execution_count": 3,
      "outputs": [
        {
          "output_type": "stream",
          "text": [
            "Collecting PyPDF2\n",
            "  Downloading PyPDF2-1.26.0.tar.gz (77 kB)\n",
            "\u001b[?25l\r\u001b[K     |████▎                           | 10 kB 25.0 MB/s eta 0:00:01\r\u001b[K     |████████▌                       | 20 kB 30.4 MB/s eta 0:00:01\r\u001b[K     |████████████▊                   | 30 kB 33.3 MB/s eta 0:00:01\r\u001b[K     |█████████████████               | 40 kB 34.8 MB/s eta 0:00:01\r\u001b[K     |█████████████████████▏          | 51 kB 34.8 MB/s eta 0:00:01\r\u001b[K     |█████████████████████████▍      | 61 kB 36.1 MB/s eta 0:00:01\r\u001b[K     |█████████████████████████████▋  | 71 kB 32.0 MB/s eta 0:00:01\r\u001b[K     |████████████████████████████████| 77 kB 5.6 MB/s \n",
            "\u001b[?25hBuilding wheels for collected packages: PyPDF2\n",
            "  Building wheel for PyPDF2 (setup.py) ... \u001b[?25l\u001b[?25hdone\n",
            "  Created wheel for PyPDF2: filename=PyPDF2-1.26.0-py3-none-any.whl size=61100 sha256=8a3d54465578436a69d631eb9b01a6f8129735452ff0d0d8af226b39daecdad1\n",
            "  Stored in directory: /root/.cache/pip/wheels/80/1a/24/648467ade3a77ed20f35cfd2badd32134e96dd25ca811e64b3\n",
            "Successfully built PyPDF2\n",
            "Installing collected packages: PyPDF2\n",
            "Successfully installed PyPDF2-1.26.0\n"
          ],
          "name": "stdout"
        }
      ]
    },
    {
      "cell_type": "code",
      "metadata": {
        "id": "hf9kAhBAuTSj",
        "colab": {
          "base_uri": "https://localhost:8080/",
          "height": 229
        },
        "outputId": "a031cce2-196e-4f6d-ead5-0178ccefbc65"
      },
      "source": [
        "#!/usr/bin/env vpython3\n",
        "# *-* coding: utf-8 *-*\n",
        "import sys\n",
        "from PyPDF2 import PdfFileReader, PdfFileWriter\n",
        "\n",
        "fname = \"SKANFOG_SPECTRA_ISOL_PROD_20210305-160949.pdf\"\n",
        "with open(fname, \"rb\") as in_file:\n",
        "    input_pdf = PdfFileReader(in_file)\n",
        "\n",
        "    output_pdf = PdfFileWriter()\n",
        "    output_pdf.appendPagesFromReader(input_pdf)\n",
        "    output_pdf.encrypt(\"1234\", \"1234\",)\n",
        "    \n",
        "\n",
        "    fname = fname.replace('.pdf', '-encrypted.pdf')\n",
        "    with open(fname, \"wb\") as out_file:\n",
        "        output_pdf.write(out_file)"
      ],
      "execution_count": 5,
      "outputs": [
        {
          "output_type": "error",
          "ename": "FileNotFoundError",
          "evalue": "ignored",
          "traceback": [
            "\u001b[0;31m---------------------------------------------------------------------------\u001b[0m",
            "\u001b[0;31mFileNotFoundError\u001b[0m                         Traceback (most recent call last)",
            "\u001b[0;32m<ipython-input-5-96ca94a7bb31>\u001b[0m in \u001b[0;36m<module>\u001b[0;34m()\u001b[0m\n\u001b[1;32m      5\u001b[0m \u001b[0;34m\u001b[0m\u001b[0m\n\u001b[1;32m      6\u001b[0m \u001b[0mfname\u001b[0m \u001b[0;34m=\u001b[0m \u001b[0;34m\"SKANFOG_SPECTRA_ISOL_PROD_20210305-160949.pdf\"\u001b[0m\u001b[0;34m\u001b[0m\u001b[0;34m\u001b[0m\u001b[0m\n\u001b[0;32m----> 7\u001b[0;31m \u001b[0;32mwith\u001b[0m \u001b[0mopen\u001b[0m\u001b[0;34m(\u001b[0m\u001b[0mfname\u001b[0m\u001b[0;34m,\u001b[0m \u001b[0;34m\"rb\"\u001b[0m\u001b[0;34m)\u001b[0m \u001b[0;32mas\u001b[0m \u001b[0min_file\u001b[0m\u001b[0;34m:\u001b[0m\u001b[0;34m\u001b[0m\u001b[0;34m\u001b[0m\u001b[0m\n\u001b[0m\u001b[1;32m      8\u001b[0m     \u001b[0minput_pdf\u001b[0m \u001b[0;34m=\u001b[0m \u001b[0mPdfFileReader\u001b[0m\u001b[0;34m(\u001b[0m\u001b[0min_file\u001b[0m\u001b[0;34m)\u001b[0m\u001b[0;34m\u001b[0m\u001b[0;34m\u001b[0m\u001b[0m\n\u001b[1;32m      9\u001b[0m \u001b[0;34m\u001b[0m\u001b[0m\n",
            "\u001b[0;31mFileNotFoundError\u001b[0m: [Errno 2] No such file or directory: 'SKANFOG_SPECTRA_ISOL_PROD_20210305-160949.pdf'"
          ]
        }
      ]
    }
  ]
}